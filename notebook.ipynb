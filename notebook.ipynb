{
 "cells": [
  {
   "cell_type": "code",
   "execution_count": 1,
   "id": "9187df18",
   "metadata": {},
   "outputs": [],
   "source": [
    "import pandas as pd\n",
    "import numpy as np\n",
    "import matplotlib.pyplot as plt\n",
    "import seaborn as sns\n",
    "import plotly.express as px\n",
    "import plotly.graph_objects as go\n",
    "from plotly.subplots import make_subplots\n",
    "import missingno as msno\n",
    "from sklearn.preprocessing import StandardScaler, RobustScaler, LabelEncoder, OneHotEncoder\n",
    "from sklearn.impute import KNNImputer\n",
    "from sklearn.ensemble import IsolationForest\n",
    "from scipy import stats\n",
    "import os\n",
    "import kaleido\n",
    "import warnings\n",
    "warnings.filterwarnings('ignore')"
   ]
  },
  {
   "cell_type": "code",
   "execution_count": 2,
   "id": "3b3e08ca",
   "metadata": {},
   "outputs": [],
   "source": [
    "plt.style.use('seaborn-v0_8-whitegrid')\n",
    "sns.set(style=\"whitegrid\")\n",
    "sns.set_palette(\"Blues_r\")"
   ]
  },
  {
   "cell_type": "code",
   "execution_count": null,
   "id": "ab8b728a",
   "metadata": {},
   "outputs": [],
   "source": [
    "if not os.path.exists('visualisasi'):\n",
    "    os.makedirs('visualisasi')"
   ]
  },
  {
   "cell_type": "code",
   "execution_count": 3,
   "id": "a658644b",
   "metadata": {},
   "outputs": [],
   "source": [
    "def save_plotly(fig, filename):\n",
    "    fig.write_image(f\"visualisasi/{filename}.png\")\n",
    "    return fig"
   ]
  },
  {
   "cell_type": "code",
   "execution_count": 4,
   "id": "c6a33728",
   "metadata": {},
   "outputs": [],
   "source": [
    "def styling_ax(ax, title, xlabel=None, ylabel=None):\n",
    "    ax.set_title(title, fontsize=14, fontweight='bold', pad=20)\n",
    "    if xlabel:\n",
    "        ax.set_xlabel(xlabel, fontsize=12)\n",
    "    if ylabel:\n",
    "        ax.set_ylabel(ylabel, fontsize=12)\n",
    "    ax.tick_params(labelsize=10)\n",
    "    ax.spines['top'].set_visible(False)\n",
    "    ax.spines['right'].set_visible(False)\n",
    "    return ax"
   ]
  },
  {
   "cell_type": "markdown",
   "id": "d2367bba",
   "metadata": {},
   "source": [
    "# Load Dataset"
   ]
  },
  {
   "cell_type": "code",
   "execution_count": 5,
   "id": "09d6b302",
   "metadata": {},
   "outputs": [],
   "source": [
    "df = pd.read_csv('./data/employee_data.csv')"
   ]
  },
  {
   "cell_type": "code",
   "execution_count": 6,
   "id": "563e46f6",
   "metadata": {},
   "outputs": [
    {
     "name": "stdout",
     "output_type": "stream",
     "text": [
      "Jumlah baris data: 1470\n",
      "Jumlah kolom: 35\n"
     ]
    },
    {
     "data": {
      "application/vnd.microsoft.datawrangler.viewer.v0+json": {
       "columns": [
        {
         "name": "index",
         "rawType": "int64",
         "type": "integer"
        },
        {
         "name": "EmployeeId",
         "rawType": "int64",
         "type": "integer"
        },
        {
         "name": "Age",
         "rawType": "int64",
         "type": "integer"
        },
        {
         "name": "Attrition",
         "rawType": "float64",
         "type": "float"
        },
        {
         "name": "BusinessTravel",
         "rawType": "object",
         "type": "string"
        },
        {
         "name": "DailyRate",
         "rawType": "int64",
         "type": "integer"
        },
        {
         "name": "Department",
         "rawType": "object",
         "type": "string"
        },
        {
         "name": "DistanceFromHome",
         "rawType": "int64",
         "type": "integer"
        },
        {
         "name": "Education",
         "rawType": "int64",
         "type": "integer"
        },
        {
         "name": "EducationField",
         "rawType": "object",
         "type": "string"
        },
        {
         "name": "EmployeeCount",
         "rawType": "int64",
         "type": "integer"
        },
        {
         "name": "EnvironmentSatisfaction",
         "rawType": "int64",
         "type": "integer"
        },
        {
         "name": "Gender",
         "rawType": "object",
         "type": "string"
        },
        {
         "name": "HourlyRate",
         "rawType": "int64",
         "type": "integer"
        },
        {
         "name": "JobInvolvement",
         "rawType": "int64",
         "type": "integer"
        },
        {
         "name": "JobLevel",
         "rawType": "int64",
         "type": "integer"
        },
        {
         "name": "JobRole",
         "rawType": "object",
         "type": "string"
        },
        {
         "name": "JobSatisfaction",
         "rawType": "int64",
         "type": "integer"
        },
        {
         "name": "MaritalStatus",
         "rawType": "object",
         "type": "string"
        },
        {
         "name": "MonthlyIncome",
         "rawType": "int64",
         "type": "integer"
        },
        {
         "name": "MonthlyRate",
         "rawType": "int64",
         "type": "integer"
        },
        {
         "name": "NumCompaniesWorked",
         "rawType": "int64",
         "type": "integer"
        },
        {
         "name": "Over18",
         "rawType": "object",
         "type": "string"
        },
        {
         "name": "OverTime",
         "rawType": "object",
         "type": "string"
        },
        {
         "name": "PercentSalaryHike",
         "rawType": "int64",
         "type": "integer"
        },
        {
         "name": "PerformanceRating",
         "rawType": "int64",
         "type": "integer"
        },
        {
         "name": "RelationshipSatisfaction",
         "rawType": "int64",
         "type": "integer"
        },
        {
         "name": "StandardHours",
         "rawType": "int64",
         "type": "integer"
        },
        {
         "name": "StockOptionLevel",
         "rawType": "int64",
         "type": "integer"
        },
        {
         "name": "TotalWorkingYears",
         "rawType": "int64",
         "type": "integer"
        },
        {
         "name": "TrainingTimesLastYear",
         "rawType": "int64",
         "type": "integer"
        },
        {
         "name": "WorkLifeBalance",
         "rawType": "int64",
         "type": "integer"
        },
        {
         "name": "YearsAtCompany",
         "rawType": "int64",
         "type": "integer"
        },
        {
         "name": "YearsInCurrentRole",
         "rawType": "int64",
         "type": "integer"
        },
        {
         "name": "YearsSinceLastPromotion",
         "rawType": "int64",
         "type": "integer"
        },
        {
         "name": "YearsWithCurrManager",
         "rawType": "int64",
         "type": "integer"
        }
       ],
       "conversionMethod": "pd.DataFrame",
       "ref": "c5286b7d-a017-4dd4-b8d8-344209ef9332",
       "rows": [
        [
         "0",
         "1",
         "38",
         null,
         "Travel_Frequently",
         "1444",
         "Human Resources",
         "1",
         "4",
         "Other",
         "1",
         "4",
         "Male",
         "88",
         "3",
         "1",
         "Human Resources",
         "2",
         "Married",
         "2991",
         "5224",
         "0",
         "Y",
         "Yes",
         "11",
         "3",
         "2",
         "80",
         "1",
         "7",
         "2",
         "3",
         "6",
         "2",
         "1",
         "2"
        ],
        [
         "1",
         "2",
         "37",
         "1.0",
         "Travel_Rarely",
         "1141",
         "Research & Development",
         "11",
         "2",
         "Medical",
         "1",
         "1",
         "Female",
         "61",
         "1",
         "2",
         "Healthcare Representative",
         "2",
         "Married",
         "4777",
         "14382",
         "5",
         "Y",
         "No",
         "15",
         "3",
         "1",
         "80",
         "0",
         "15",
         "2",
         "1",
         "1",
         "0",
         "0",
         "0"
        ],
        [
         "2",
         "3",
         "51",
         "1.0",
         "Travel_Rarely",
         "1323",
         "Research & Development",
         "4",
         "4",
         "Life Sciences",
         "1",
         "1",
         "Male",
         "34",
         "3",
         "1",
         "Research Scientist",
         "3",
         "Married",
         "2461",
         "10332",
         "9",
         "Y",
         "Yes",
         "12",
         "3",
         "3",
         "80",
         "3",
         "18",
         "2",
         "4",
         "10",
         "0",
         "2",
         "7"
        ],
        [
         "3",
         "4",
         "42",
         "0.0",
         "Travel_Frequently",
         "555",
         "Sales",
         "26",
         "3",
         "Marketing",
         "1",
         "3",
         "Female",
         "77",
         "3",
         "4",
         "Sales Executive",
         "2",
         "Married",
         "13525",
         "14864",
         "5",
         "Y",
         "No",
         "14",
         "3",
         "4",
         "80",
         "1",
         "23",
         "2",
         "4",
         "20",
         "4",
         "4",
         "8"
        ],
        [
         "4",
         "5",
         "40",
         null,
         "Travel_Rarely",
         "1194",
         "Research & Development",
         "2",
         "4",
         "Medical",
         "1",
         "3",
         "Female",
         "98",
         "3",
         "1",
         "Research Scientist",
         "3",
         "Married",
         "2001",
         "12549",
         "2",
         "Y",
         "No",
         "14",
         "3",
         "2",
         "80",
         "3",
         "20",
         "2",
         "3",
         "5",
         "3",
         "0",
         "2"
        ]
       ],
       "shape": {
        "columns": 35,
        "rows": 5
       }
      },
      "text/html": [
       "<div>\n",
       "<style scoped>\n",
       "    .dataframe tbody tr th:only-of-type {\n",
       "        vertical-align: middle;\n",
       "    }\n",
       "\n",
       "    .dataframe tbody tr th {\n",
       "        vertical-align: top;\n",
       "    }\n",
       "\n",
       "    .dataframe thead th {\n",
       "        text-align: right;\n",
       "    }\n",
       "</style>\n",
       "<table border=\"1\" class=\"dataframe\">\n",
       "  <thead>\n",
       "    <tr style=\"text-align: right;\">\n",
       "      <th></th>\n",
       "      <th>EmployeeId</th>\n",
       "      <th>Age</th>\n",
       "      <th>Attrition</th>\n",
       "      <th>BusinessTravel</th>\n",
       "      <th>DailyRate</th>\n",
       "      <th>Department</th>\n",
       "      <th>DistanceFromHome</th>\n",
       "      <th>Education</th>\n",
       "      <th>EducationField</th>\n",
       "      <th>EmployeeCount</th>\n",
       "      <th>...</th>\n",
       "      <th>RelationshipSatisfaction</th>\n",
       "      <th>StandardHours</th>\n",
       "      <th>StockOptionLevel</th>\n",
       "      <th>TotalWorkingYears</th>\n",
       "      <th>TrainingTimesLastYear</th>\n",
       "      <th>WorkLifeBalance</th>\n",
       "      <th>YearsAtCompany</th>\n",
       "      <th>YearsInCurrentRole</th>\n",
       "      <th>YearsSinceLastPromotion</th>\n",
       "      <th>YearsWithCurrManager</th>\n",
       "    </tr>\n",
       "  </thead>\n",
       "  <tbody>\n",
       "    <tr>\n",
       "      <th>0</th>\n",
       "      <td>1</td>\n",
       "      <td>38</td>\n",
       "      <td>NaN</td>\n",
       "      <td>Travel_Frequently</td>\n",
       "      <td>1444</td>\n",
       "      <td>Human Resources</td>\n",
       "      <td>1</td>\n",
       "      <td>4</td>\n",
       "      <td>Other</td>\n",
       "      <td>1</td>\n",
       "      <td>...</td>\n",
       "      <td>2</td>\n",
       "      <td>80</td>\n",
       "      <td>1</td>\n",
       "      <td>7</td>\n",
       "      <td>2</td>\n",
       "      <td>3</td>\n",
       "      <td>6</td>\n",
       "      <td>2</td>\n",
       "      <td>1</td>\n",
       "      <td>2</td>\n",
       "    </tr>\n",
       "    <tr>\n",
       "      <th>1</th>\n",
       "      <td>2</td>\n",
       "      <td>37</td>\n",
       "      <td>1.0</td>\n",
       "      <td>Travel_Rarely</td>\n",
       "      <td>1141</td>\n",
       "      <td>Research &amp; Development</td>\n",
       "      <td>11</td>\n",
       "      <td>2</td>\n",
       "      <td>Medical</td>\n",
       "      <td>1</td>\n",
       "      <td>...</td>\n",
       "      <td>1</td>\n",
       "      <td>80</td>\n",
       "      <td>0</td>\n",
       "      <td>15</td>\n",
       "      <td>2</td>\n",
       "      <td>1</td>\n",
       "      <td>1</td>\n",
       "      <td>0</td>\n",
       "      <td>0</td>\n",
       "      <td>0</td>\n",
       "    </tr>\n",
       "    <tr>\n",
       "      <th>2</th>\n",
       "      <td>3</td>\n",
       "      <td>51</td>\n",
       "      <td>1.0</td>\n",
       "      <td>Travel_Rarely</td>\n",
       "      <td>1323</td>\n",
       "      <td>Research &amp; Development</td>\n",
       "      <td>4</td>\n",
       "      <td>4</td>\n",
       "      <td>Life Sciences</td>\n",
       "      <td>1</td>\n",
       "      <td>...</td>\n",
       "      <td>3</td>\n",
       "      <td>80</td>\n",
       "      <td>3</td>\n",
       "      <td>18</td>\n",
       "      <td>2</td>\n",
       "      <td>4</td>\n",
       "      <td>10</td>\n",
       "      <td>0</td>\n",
       "      <td>2</td>\n",
       "      <td>7</td>\n",
       "    </tr>\n",
       "    <tr>\n",
       "      <th>3</th>\n",
       "      <td>4</td>\n",
       "      <td>42</td>\n",
       "      <td>0.0</td>\n",
       "      <td>Travel_Frequently</td>\n",
       "      <td>555</td>\n",
       "      <td>Sales</td>\n",
       "      <td>26</td>\n",
       "      <td>3</td>\n",
       "      <td>Marketing</td>\n",
       "      <td>1</td>\n",
       "      <td>...</td>\n",
       "      <td>4</td>\n",
       "      <td>80</td>\n",
       "      <td>1</td>\n",
       "      <td>23</td>\n",
       "      <td>2</td>\n",
       "      <td>4</td>\n",
       "      <td>20</td>\n",
       "      <td>4</td>\n",
       "      <td>4</td>\n",
       "      <td>8</td>\n",
       "    </tr>\n",
       "    <tr>\n",
       "      <th>4</th>\n",
       "      <td>5</td>\n",
       "      <td>40</td>\n",
       "      <td>NaN</td>\n",
       "      <td>Travel_Rarely</td>\n",
       "      <td>1194</td>\n",
       "      <td>Research &amp; Development</td>\n",
       "      <td>2</td>\n",
       "      <td>4</td>\n",
       "      <td>Medical</td>\n",
       "      <td>1</td>\n",
       "      <td>...</td>\n",
       "      <td>2</td>\n",
       "      <td>80</td>\n",
       "      <td>3</td>\n",
       "      <td>20</td>\n",
       "      <td>2</td>\n",
       "      <td>3</td>\n",
       "      <td>5</td>\n",
       "      <td>3</td>\n",
       "      <td>0</td>\n",
       "      <td>2</td>\n",
       "    </tr>\n",
       "  </tbody>\n",
       "</table>\n",
       "<p>5 rows × 35 columns</p>\n",
       "</div>"
      ],
      "text/plain": [
       "   EmployeeId  Age  Attrition     BusinessTravel  DailyRate  \\\n",
       "0           1   38        NaN  Travel_Frequently       1444   \n",
       "1           2   37        1.0      Travel_Rarely       1141   \n",
       "2           3   51        1.0      Travel_Rarely       1323   \n",
       "3           4   42        0.0  Travel_Frequently        555   \n",
       "4           5   40        NaN      Travel_Rarely       1194   \n",
       "\n",
       "               Department  DistanceFromHome  Education EducationField  \\\n",
       "0         Human Resources                 1          4          Other   \n",
       "1  Research & Development                11          2        Medical   \n",
       "2  Research & Development                 4          4  Life Sciences   \n",
       "3                   Sales                26          3      Marketing   \n",
       "4  Research & Development                 2          4        Medical   \n",
       "\n",
       "   EmployeeCount  ...  RelationshipSatisfaction StandardHours  \\\n",
       "0              1  ...                         2            80   \n",
       "1              1  ...                         1            80   \n",
       "2              1  ...                         3            80   \n",
       "3              1  ...                         4            80   \n",
       "4              1  ...                         2            80   \n",
       "\n",
       "   StockOptionLevel  TotalWorkingYears  TrainingTimesLastYear WorkLifeBalance  \\\n",
       "0                 1                  7                      2               3   \n",
       "1                 0                 15                      2               1   \n",
       "2                 3                 18                      2               4   \n",
       "3                 1                 23                      2               4   \n",
       "4                 3                 20                      2               3   \n",
       "\n",
       "   YearsAtCompany YearsInCurrentRole  YearsSinceLastPromotion  \\\n",
       "0               6                  2                        1   \n",
       "1               1                  0                        0   \n",
       "2              10                  0                        2   \n",
       "3              20                  4                        4   \n",
       "4               5                  3                        0   \n",
       "\n",
       "   YearsWithCurrManager  \n",
       "0                     2  \n",
       "1                     0  \n",
       "2                     7  \n",
       "3                     8  \n",
       "4                     2  \n",
       "\n",
       "[5 rows x 35 columns]"
      ]
     },
     "execution_count": 6,
     "metadata": {},
     "output_type": "execute_result"
    }
   ],
   "source": [
    "print(f\"Jumlah baris data: {df.shape[0]}\")\n",
    "print(f\"Jumlah kolom: {df.shape[1]}\")\n",
    "\n",
    "df.head()"
   ]
  },
  {
   "cell_type": "code",
   "execution_count": 10,
   "id": "dd08e8eb",
   "metadata": {},
   "outputs": [
    {
     "name": "stdout",
     "output_type": "stream",
     "text": [
      "\n",
      "Tipe data setiap kolom:\n"
     ]
    },
    {
     "data": {
      "text/plain": [
       "EmployeeId                    int64\n",
       "Age                           int64\n",
       "Attrition                   float64\n",
       "BusinessTravel               object\n",
       "DailyRate                     int64\n",
       "Department                   object\n",
       "DistanceFromHome              int64\n",
       "Education                     int64\n",
       "EducationField               object\n",
       "EmployeeCount                 int64\n",
       "EnvironmentSatisfaction       int64\n",
       "Gender                       object\n",
       "HourlyRate                    int64\n",
       "JobInvolvement                int64\n",
       "JobLevel                      int64\n",
       "JobRole                      object\n",
       "JobSatisfaction               int64\n",
       "MaritalStatus                object\n",
       "MonthlyIncome                 int64\n",
       "MonthlyRate                   int64\n",
       "NumCompaniesWorked            int64\n",
       "Over18                       object\n",
       "OverTime                     object\n",
       "PercentSalaryHike             int64\n",
       "PerformanceRating             int64\n",
       "RelationshipSatisfaction      int64\n",
       "StandardHours                 int64\n",
       "StockOptionLevel              int64\n",
       "TotalWorkingYears             int64\n",
       "TrainingTimesLastYear         int64\n",
       "WorkLifeBalance               int64\n",
       "YearsAtCompany                int64\n",
       "YearsInCurrentRole            int64\n",
       "YearsSinceLastPromotion       int64\n",
       "YearsWithCurrManager          int64\n",
       "dtype: object"
      ]
     },
     "execution_count": 10,
     "metadata": {},
     "output_type": "execute_result"
    }
   ],
   "source": [
    "print(\"\\nTipe data setiap kolom:\")\n",
    "df.dtypes"
   ]
  },
  {
   "cell_type": "code",
   "execution_count": 11,
   "id": "a005ebc5",
   "metadata": {},
   "outputs": [
    {
     "name": "stdout",
     "output_type": "stream",
     "text": [
      "\n",
      "Statistik Deskriptif:\n",
      "                           count          mean          std     min      25%  \\\n",
      "EmployeeId                1470.0    735.500000   424.496761     1.0   368.25   \n",
      "Age                       1470.0     36.923810     9.135373    18.0    30.00   \n",
      "Attrition                 1058.0      0.169187     0.375094     0.0     0.00   \n",
      "DailyRate                 1470.0    802.485714   403.509100   102.0   465.00   \n",
      "DistanceFromHome          1470.0      9.192517     8.106864     1.0     2.00   \n",
      "Education                 1470.0      2.912925     1.024165     1.0     2.00   \n",
      "EmployeeCount             1470.0      1.000000     0.000000     1.0     1.00   \n",
      "EnvironmentSatisfaction   1470.0      2.721769     1.093082     1.0     2.00   \n",
      "HourlyRate                1470.0     65.891156    20.329428    30.0    48.00   \n",
      "JobInvolvement            1470.0      2.729932     0.711561     1.0     2.00   \n",
      "JobLevel                  1470.0      2.063946     1.106940     1.0     1.00   \n",
      "JobSatisfaction           1470.0      2.728571     1.102846     1.0     2.00   \n",
      "MonthlyIncome             1470.0   6502.931293  4707.956783  1009.0  2911.00   \n",
      "MonthlyRate               1470.0  14313.103401  7117.786044  2094.0  8047.00   \n",
      "NumCompaniesWorked        1470.0      2.693197     2.498009     0.0     1.00   \n",
      "PercentSalaryHike         1470.0     15.209524     3.659938    11.0    12.00   \n",
      "PerformanceRating         1470.0      3.153741     0.360824     3.0     3.00   \n",
      "RelationshipSatisfaction  1470.0      2.712245     1.081209     1.0     2.00   \n",
      "StandardHours             1470.0     80.000000     0.000000    80.0    80.00   \n",
      "StockOptionLevel          1470.0      0.793878     0.852077     0.0     0.00   \n",
      "TotalWorkingYears         1470.0     11.279592     7.780782     0.0     6.00   \n",
      "TrainingTimesLastYear     1470.0      2.799320     1.289271     0.0     2.00   \n",
      "WorkLifeBalance           1470.0      2.761224     0.706476     1.0     2.00   \n",
      "YearsAtCompany            1470.0      7.008163     6.126525     0.0     3.00   \n",
      "YearsInCurrentRole        1470.0      4.229252     3.623137     0.0     2.00   \n",
      "YearsSinceLastPromotion   1470.0      2.187755     3.222430     0.0     0.00   \n",
      "YearsWithCurrManager      1470.0      4.123129     3.568136     0.0     2.00   \n",
      "\n",
      "                              50%       75%      max  \n",
      "EmployeeId                  735.5   1102.75   1470.0  \n",
      "Age                          36.0     43.00     60.0  \n",
      "Attrition                     0.0      0.00      1.0  \n",
      "DailyRate                   802.0   1157.00   1499.0  \n",
      "DistanceFromHome              7.0     14.00     29.0  \n",
      "Education                     3.0      4.00      5.0  \n",
      "EmployeeCount                 1.0      1.00      1.0  \n",
      "EnvironmentSatisfaction       3.0      4.00      4.0  \n",
      "HourlyRate                   66.0     83.75    100.0  \n",
      "JobInvolvement                3.0      3.00      4.0  \n",
      "JobLevel                      2.0      3.00      5.0  \n",
      "JobSatisfaction               3.0      4.00      4.0  \n",
      "MonthlyIncome              4919.0   8379.00  19999.0  \n",
      "MonthlyRate               14235.5  20461.50  26999.0  \n",
      "NumCompaniesWorked            2.0      4.00      9.0  \n",
      "PercentSalaryHike            14.0     18.00     25.0  \n",
      "PerformanceRating             3.0      3.00      4.0  \n",
      "RelationshipSatisfaction      3.0      4.00      4.0  \n",
      "StandardHours                80.0     80.00     80.0  \n",
      "StockOptionLevel              1.0      1.00      3.0  \n",
      "TotalWorkingYears            10.0     15.00     40.0  \n",
      "TrainingTimesLastYear         3.0      3.00      6.0  \n",
      "WorkLifeBalance               3.0      3.00      4.0  \n",
      "YearsAtCompany                5.0      9.00     40.0  \n",
      "YearsInCurrentRole            3.0      7.00     18.0  \n",
      "YearsSinceLastPromotion       1.0      3.00     15.0  \n",
      "YearsWithCurrManager          3.0      7.00     17.0  \n"
     ]
    }
   ],
   "source": [
    "print(\"\\nStatistik Deskriptif:\")\n",
    "print(df.describe().T)"
   ]
  },
  {
   "cell_type": "code",
   "execution_count": 36,
   "id": "5ff3765e",
   "metadata": {},
   "outputs": [],
   "source": [
    "def plot_numeric_summary(df):\n",
    "    important_vars = ['Age', 'MonthlyIncome', 'DistanceFromHome', 'YearsAtCompany', \n",
    "                      'JobLevel', 'JobSatisfaction', 'WorkLifeBalance']\n",
    "    \n",
    "    fig = make_subplots(\n",
    "        rows=3, \n",
    "        cols=3, \n",
    "        subplot_titles=important_vars,\n",
    "        vertical_spacing=0.1,\n",
    "        horizontal_spacing=0.1\n",
    "    )\n",
    "    \n",
    "    colors = {'Mean': 'royalblue', 'Median': 'darkorange', 'Min': 'green', \n",
    "              'Max': 'red', 'StdDev': 'purple'}\n",
    "    \n",
    "    for i, var in enumerate(important_vars):\n",
    "        row = i // 3 + 1\n",
    "        col = i % 3 + 1\n",
    "        \n",
    "        stats = {\n",
    "            'Mean': df[var].mean(),\n",
    "            'Median': df[var].median(),\n",
    "            'Min': df[var].min(),\n",
    "            'Max': df[var].max(),\n",
    "            'StdDev': df[var].std()\n",
    "        }\n",
    "        \n",
    "        for j, (stat, value) in enumerate(stats.items()):\n",
    "            fig.add_trace(\n",
    "                go.Bar(\n",
    "                    x=[stat],\n",
    "                    y=[value],\n",
    "                    name=stat,\n",
    "                    marker_color=colors[stat],\n",
    "                    showlegend=True if (i == 0) else False\n",
    "                ),\n",
    "                row=row, col=col\n",
    "            )\n",
    "    \n",
    "    fig.update_layout(\n",
    "        title_text=\"Statistik Deskriptif - Variabel Numerik\",\n",
    "        title_font_size=18,\n",
    "        height=800,\n",
    "        width=1000,\n",
    "        legend_title=\"Statistik\",\n",
    "        plot_bgcolor='white'\n",
    "    )\n",
    "    \n",
    "    for i, var in enumerate(important_vars):\n",
    "        row = i // 3 + 1\n",
    "        col = i % 3 + 1\n",
    "    \n",
    "    save_plotly(fig, \"numeric_summary_subplots\")\n",
    "    return fig"
   ]
  },
  {
   "cell_type": "code",
   "execution_count": 37,
   "id": "3a6e7993",
   "metadata": {},
   "outputs": [
    {
     "data": {
      "application/vnd.plotly.v1+json": {
       "config": {
        "plotlyServerURL": "https://plot.ly"
       },
       "data": [
        {
         "marker": {
          "color": "royalblue"
         },
         "name": "Mean",
         "showlegend": true,
         "type": "bar",
         "x": [
          "Mean"
         ],
         "xaxis": "x",
         "y": [
          36.923809523809524
         ],
         "yaxis": "y"
        },
        {
         "marker": {
          "color": "darkorange"
         },
         "name": "Median",
         "showlegend": true,
         "type": "bar",
         "x": [
          "Median"
         ],
         "xaxis": "x",
         "y": [
          36
         ],
         "yaxis": "y"
        },
        {
         "marker": {
          "color": "green"
         },
         "name": "Min",
         "showlegend": true,
         "type": "bar",
         "x": [
          "Min"
         ],
         "xaxis": "x",
         "y": [
          18
         ],
         "yaxis": "y"
        },
        {
         "marker": {
          "color": "red"
         },
         "name": "Max",
         "showlegend": true,
         "type": "bar",
         "x": [
          "Max"
         ],
         "xaxis": "x",
         "y": [
          60
         ],
         "yaxis": "y"
        },
        {
         "marker": {
          "color": "purple"
         },
         "name": "StdDev",
         "showlegend": true,
         "type": "bar",
         "x": [
          "StdDev"
         ],
         "xaxis": "x",
         "y": [
          9.135373489136732
         ],
         "yaxis": "y"
        },
        {
         "marker": {
          "color": "royalblue"
         },
         "name": "Mean",
         "showlegend": false,
         "type": "bar",
         "x": [
          "Mean"
         ],
         "xaxis": "x2",
         "y": [
          6502.931292517007
         ],
         "yaxis": "y2"
        },
        {
         "marker": {
          "color": "darkorange"
         },
         "name": "Median",
         "showlegend": false,
         "type": "bar",
         "x": [
          "Median"
         ],
         "xaxis": "x2",
         "y": [
          4919
         ],
         "yaxis": "y2"
        },
        {
         "marker": {
          "color": "green"
         },
         "name": "Min",
         "showlegend": false,
         "type": "bar",
         "x": [
          "Min"
         ],
         "xaxis": "x2",
         "y": [
          1009
         ],
         "yaxis": "y2"
        },
        {
         "marker": {
          "color": "red"
         },
         "name": "Max",
         "showlegend": false,
         "type": "bar",
         "x": [
          "Max"
         ],
         "xaxis": "x2",
         "y": [
          19999
         ],
         "yaxis": "y2"
        },
        {
         "marker": {
          "color": "purple"
         },
         "name": "StdDev",
         "showlegend": false,
         "type": "bar",
         "x": [
          "StdDev"
         ],
         "xaxis": "x2",
         "y": [
          4707.956783097994
         ],
         "yaxis": "y2"
        },
        {
         "marker": {
          "color": "royalblue"
         },
         "name": "Mean",
         "showlegend": false,
         "type": "bar",
         "x": [
          "Mean"
         ],
         "xaxis": "x3",
         "y": [
          9.19251700680272
         ],
         "yaxis": "y3"
        },
        {
         "marker": {
          "color": "darkorange"
         },
         "name": "Median",
         "showlegend": false,
         "type": "bar",
         "x": [
          "Median"
         ],
         "xaxis": "x3",
         "y": [
          7
         ],
         "yaxis": "y3"
        },
        {
         "marker": {
          "color": "green"
         },
         "name": "Min",
         "showlegend": false,
         "type": "bar",
         "x": [
          "Min"
         ],
         "xaxis": "x3",
         "y": [
          1
         ],
         "yaxis": "y3"
        },
        {
         "marker": {
          "color": "red"
         },
         "name": "Max",
         "showlegend": false,
         "type": "bar",
         "x": [
          "Max"
         ],
         "xaxis": "x3",
         "y": [
          29
         ],
         "yaxis": "y3"
        },
        {
         "marker": {
          "color": "purple"
         },
         "name": "StdDev",
         "showlegend": false,
         "type": "bar",
         "x": [
          "StdDev"
         ],
         "xaxis": "x3",
         "y": [
          8.106864435666074
         ],
         "yaxis": "y3"
        },
        {
         "marker": {
          "color": "royalblue"
         },
         "name": "Mean",
         "showlegend": false,
         "type": "bar",
         "x": [
          "Mean"
         ],
         "xaxis": "x4",
         "y": [
          7.0081632653061225
         ],
         "yaxis": "y4"
        },
        {
         "marker": {
          "color": "darkorange"
         },
         "name": "Median",
         "showlegend": false,
         "type": "bar",
         "x": [
          "Median"
         ],
         "xaxis": "x4",
         "y": [
          5
         ],
         "yaxis": "y4"
        },
        {
         "marker": {
          "color": "green"
         },
         "name": "Min",
         "showlegend": false,
         "type": "bar",
         "x": [
          "Min"
         ],
         "xaxis": "x4",
         "y": [
          0
         ],
         "yaxis": "y4"
        },
        {
         "marker": {
          "color": "red"
         },
         "name": "Max",
         "showlegend": false,
         "type": "bar",
         "x": [
          "Max"
         ],
         "xaxis": "x4",
         "y": [
          40
         ],
         "yaxis": "y4"
        },
        {
         "marker": {
          "color": "purple"
         },
         "name": "StdDev",
         "showlegend": false,
         "type": "bar",
         "x": [
          "StdDev"
         ],
         "xaxis": "x4",
         "y": [
          6.126525152403569
         ],
         "yaxis": "y4"
        },
        {
         "marker": {
          "color": "royalblue"
         },
         "name": "Mean",
         "showlegend": false,
         "type": "bar",
         "x": [
          "Mean"
         ],
         "xaxis": "x5",
         "y": [
          2.0639455782312925
         ],
         "yaxis": "y5"
        },
        {
         "marker": {
          "color": "darkorange"
         },
         "name": "Median",
         "showlegend": false,
         "type": "bar",
         "x": [
          "Median"
         ],
         "xaxis": "x5",
         "y": [
          2
         ],
         "yaxis": "y5"
        },
        {
         "marker": {
          "color": "green"
         },
         "name": "Min",
         "showlegend": false,
         "type": "bar",
         "x": [
          "Min"
         ],
         "xaxis": "x5",
         "y": [
          1
         ],
         "yaxis": "y5"
        },
        {
         "marker": {
          "color": "red"
         },
         "name": "Max",
         "showlegend": false,
         "type": "bar",
         "x": [
          "Max"
         ],
         "xaxis": "x5",
         "y": [
          5
         ],
         "yaxis": "y5"
        },
        {
         "marker": {
          "color": "purple"
         },
         "name": "StdDev",
         "showlegend": false,
         "type": "bar",
         "x": [
          "StdDev"
         ],
         "xaxis": "x5",
         "y": [
          1.106939898935122
         ],
         "yaxis": "y5"
        },
        {
         "marker": {
          "color": "royalblue"
         },
         "name": "Mean",
         "showlegend": false,
         "type": "bar",
         "x": [
          "Mean"
         ],
         "xaxis": "x6",
         "y": [
          2.7285714285714286
         ],
         "yaxis": "y6"
        },
        {
         "marker": {
          "color": "darkorange"
         },
         "name": "Median",
         "showlegend": false,
         "type": "bar",
         "x": [
          "Median"
         ],
         "xaxis": "x6",
         "y": [
          3
         ],
         "yaxis": "y6"
        },
        {
         "marker": {
          "color": "green"
         },
         "name": "Min",
         "showlegend": false,
         "type": "bar",
         "x": [
          "Min"
         ],
         "xaxis": "x6",
         "y": [
          1
         ],
         "yaxis": "y6"
        },
        {
         "marker": {
          "color": "red"
         },
         "name": "Max",
         "showlegend": false,
         "type": "bar",
         "x": [
          "Max"
         ],
         "xaxis": "x6",
         "y": [
          4
         ],
         "yaxis": "y6"
        },
        {
         "marker": {
          "color": "purple"
         },
         "name": "StdDev",
         "showlegend": false,
         "type": "bar",
         "x": [
          "StdDev"
         ],
         "xaxis": "x6",
         "y": [
          1.1028461230547204
         ],
         "yaxis": "y6"
        },
        {
         "marker": {
          "color": "royalblue"
         },
         "name": "Mean",
         "showlegend": false,
         "type": "bar",
         "x": [
          "Mean"
         ],
         "xaxis": "x7",
         "y": [
          2.7612244897959184
         ],
         "yaxis": "y7"
        },
        {
         "marker": {
          "color": "darkorange"
         },
         "name": "Median",
         "showlegend": false,
         "type": "bar",
         "x": [
          "Median"
         ],
         "xaxis": "x7",
         "y": [
          3
         ],
         "yaxis": "y7"
        },
        {
         "marker": {
          "color": "green"
         },
         "name": "Min",
         "showlegend": false,
         "type": "bar",
         "x": [
          "Min"
         ],
         "xaxis": "x7",
         "y": [
          1
         ],
         "yaxis": "y7"
        },
        {
         "marker": {
          "color": "red"
         },
         "name": "Max",
         "showlegend": false,
         "type": "bar",
         "x": [
          "Max"
         ],
         "xaxis": "x7",
         "y": [
          4
         ],
         "yaxis": "y7"
        },
        {
         "marker": {
          "color": "purple"
         },
         "name": "StdDev",
         "showlegend": false,
         "type": "bar",
         "x": [
          "StdDev"
         ],
         "xaxis": "x7",
         "y": [
          0.7064758297141507
         ],
         "yaxis": "y7"
        }
       ],
       "layout": {
        "annotations": [
         {
          "font": {
           "size": 16
          },
          "showarrow": false,
          "text": "Age",
          "x": 0.13333333333333333,
          "xanchor": "center",
          "xref": "paper",
          "y": 1,
          "yanchor": "bottom",
          "yref": "paper"
         },
         {
          "font": {
           "size": 16
          },
          "showarrow": false,
          "text": "MonthlyIncome",
          "x": 0.5,
          "xanchor": "center",
          "xref": "paper",
          "y": 1,
          "yanchor": "bottom",
          "yref": "paper"
         },
         {
          "font": {
           "size": 16
          },
          "showarrow": false,
          "text": "DistanceFromHome",
          "x": 0.8666666666666667,
          "xanchor": "center",
          "xref": "paper",
          "y": 1,
          "yanchor": "bottom",
          "yref": "paper"
         },
         {
          "font": {
           "size": 16
          },
          "showarrow": false,
          "text": "YearsAtCompany",
          "x": 0.13333333333333333,
          "xanchor": "center",
          "xref": "paper",
          "y": 0.6333333333333333,
          "yanchor": "bottom",
          "yref": "paper"
         },
         {
          "font": {
           "size": 16
          },
          "showarrow": false,
          "text": "JobLevel",
          "x": 0.5,
          "xanchor": "center",
          "xref": "paper",
          "y": 0.6333333333333333,
          "yanchor": "bottom",
          "yref": "paper"
         },
         {
          "font": {
           "size": 16
          },
          "showarrow": false,
          "text": "JobSatisfaction",
          "x": 0.8666666666666667,
          "xanchor": "center",
          "xref": "paper",
          "y": 0.6333333333333333,
          "yanchor": "bottom",
          "yref": "paper"
         },
         {
          "font": {
           "size": 16
          },
          "showarrow": false,
          "text": "WorkLifeBalance",
          "x": 0.13333333333333333,
          "xanchor": "center",
          "xref": "paper",
          "y": 0.26666666666666666,
          "yanchor": "bottom",
          "yref": "paper"
         }
        ],
        "height": 800,
        "legend": {
         "title": {
          "text": "Statistik"
         }
        },
        "plot_bgcolor": "white",
        "template": {
         "data": {
          "bar": [
           {
            "error_x": {
             "color": "#2a3f5f"
            },
            "error_y": {
             "color": "#2a3f5f"
            },
            "marker": {
             "line": {
              "color": "#E5ECF6",
              "width": 0.5
             },
             "pattern": {
              "fillmode": "overlay",
              "size": 10,
              "solidity": 0.2
             }
            },
            "type": "bar"
           }
          ],
          "barpolar": [
           {
            "marker": {
             "line": {
              "color": "#E5ECF6",
              "width": 0.5
             },
             "pattern": {
              "fillmode": "overlay",
              "size": 10,
              "solidity": 0.2
             }
            },
            "type": "barpolar"
           }
          ],
          "carpet": [
           {
            "aaxis": {
             "endlinecolor": "#2a3f5f",
             "gridcolor": "white",
             "linecolor": "white",
             "minorgridcolor": "white",
             "startlinecolor": "#2a3f5f"
            },
            "baxis": {
             "endlinecolor": "#2a3f5f",
             "gridcolor": "white",
             "linecolor": "white",
             "minorgridcolor": "white",
             "startlinecolor": "#2a3f5f"
            },
            "type": "carpet"
           }
          ],
          "choropleth": [
           {
            "colorbar": {
             "outlinewidth": 0,
             "ticks": ""
            },
            "type": "choropleth"
           }
          ],
          "contour": [
           {
            "colorbar": {
             "outlinewidth": 0,
             "ticks": ""
            },
            "colorscale": [
             [
              0,
              "#0d0887"
             ],
             [
              0.1111111111111111,
              "#46039f"
             ],
             [
              0.2222222222222222,
              "#7201a8"
             ],
             [
              0.3333333333333333,
              "#9c179e"
             ],
             [
              0.4444444444444444,
              "#bd3786"
             ],
             [
              0.5555555555555556,
              "#d8576b"
             ],
             [
              0.6666666666666666,
              "#ed7953"
             ],
             [
              0.7777777777777778,
              "#fb9f3a"
             ],
             [
              0.8888888888888888,
              "#fdca26"
             ],
             [
              1,
              "#f0f921"
             ]
            ],
            "type": "contour"
           }
          ],
          "contourcarpet": [
           {
            "colorbar": {
             "outlinewidth": 0,
             "ticks": ""
            },
            "type": "contourcarpet"
           }
          ],
          "heatmap": [
           {
            "colorbar": {
             "outlinewidth": 0,
             "ticks": ""
            },
            "colorscale": [
             [
              0,
              "#0d0887"
             ],
             [
              0.1111111111111111,
              "#46039f"
             ],
             [
              0.2222222222222222,
              "#7201a8"
             ],
             [
              0.3333333333333333,
              "#9c179e"
             ],
             [
              0.4444444444444444,
              "#bd3786"
             ],
             [
              0.5555555555555556,
              "#d8576b"
             ],
             [
              0.6666666666666666,
              "#ed7953"
             ],
             [
              0.7777777777777778,
              "#fb9f3a"
             ],
             [
              0.8888888888888888,
              "#fdca26"
             ],
             [
              1,
              "#f0f921"
             ]
            ],
            "type": "heatmap"
           }
          ],
          "histogram": [
           {
            "marker": {
             "pattern": {
              "fillmode": "overlay",
              "size": 10,
              "solidity": 0.2
             }
            },
            "type": "histogram"
           }
          ],
          "histogram2d": [
           {
            "colorbar": {
             "outlinewidth": 0,
             "ticks": ""
            },
            "colorscale": [
             [
              0,
              "#0d0887"
             ],
             [
              0.1111111111111111,
              "#46039f"
             ],
             [
              0.2222222222222222,
              "#7201a8"
             ],
             [
              0.3333333333333333,
              "#9c179e"
             ],
             [
              0.4444444444444444,
              "#bd3786"
             ],
             [
              0.5555555555555556,
              "#d8576b"
             ],
             [
              0.6666666666666666,
              "#ed7953"
             ],
             [
              0.7777777777777778,
              "#fb9f3a"
             ],
             [
              0.8888888888888888,
              "#fdca26"
             ],
             [
              1,
              "#f0f921"
             ]
            ],
            "type": "histogram2d"
           }
          ],
          "histogram2dcontour": [
           {
            "colorbar": {
             "outlinewidth": 0,
             "ticks": ""
            },
            "colorscale": [
             [
              0,
              "#0d0887"
             ],
             [
              0.1111111111111111,
              "#46039f"
             ],
             [
              0.2222222222222222,
              "#7201a8"
             ],
             [
              0.3333333333333333,
              "#9c179e"
             ],
             [
              0.4444444444444444,
              "#bd3786"
             ],
             [
              0.5555555555555556,
              "#d8576b"
             ],
             [
              0.6666666666666666,
              "#ed7953"
             ],
             [
              0.7777777777777778,
              "#fb9f3a"
             ],
             [
              0.8888888888888888,
              "#fdca26"
             ],
             [
              1,
              "#f0f921"
             ]
            ],
            "type": "histogram2dcontour"
           }
          ],
          "mesh3d": [
           {
            "colorbar": {
             "outlinewidth": 0,
             "ticks": ""
            },
            "type": "mesh3d"
           }
          ],
          "parcoords": [
           {
            "line": {
             "colorbar": {
              "outlinewidth": 0,
              "ticks": ""
             }
            },
            "type": "parcoords"
           }
          ],
          "pie": [
           {
            "automargin": true,
            "type": "pie"
           }
          ],
          "scatter": [
           {
            "fillpattern": {
             "fillmode": "overlay",
             "size": 10,
             "solidity": 0.2
            },
            "type": "scatter"
           }
          ],
          "scatter3d": [
           {
            "line": {
             "colorbar": {
              "outlinewidth": 0,
              "ticks": ""
             }
            },
            "marker": {
             "colorbar": {
              "outlinewidth": 0,
              "ticks": ""
             }
            },
            "type": "scatter3d"
           }
          ],
          "scattercarpet": [
           {
            "marker": {
             "colorbar": {
              "outlinewidth": 0,
              "ticks": ""
             }
            },
            "type": "scattercarpet"
           }
          ],
          "scattergeo": [
           {
            "marker": {
             "colorbar": {
              "outlinewidth": 0,
              "ticks": ""
             }
            },
            "type": "scattergeo"
           }
          ],
          "scattergl": [
           {
            "marker": {
             "colorbar": {
              "outlinewidth": 0,
              "ticks": ""
             }
            },
            "type": "scattergl"
           }
          ],
          "scattermap": [
           {
            "marker": {
             "colorbar": {
              "outlinewidth": 0,
              "ticks": ""
             }
            },
            "type": "scattermap"
           }
          ],
          "scattermapbox": [
           {
            "marker": {
             "colorbar": {
              "outlinewidth": 0,
              "ticks": ""
             }
            },
            "type": "scattermapbox"
           }
          ],
          "scatterpolar": [
           {
            "marker": {
             "colorbar": {
              "outlinewidth": 0,
              "ticks": ""
             }
            },
            "type": "scatterpolar"
           }
          ],
          "scatterpolargl": [
           {
            "marker": {
             "colorbar": {
              "outlinewidth": 0,
              "ticks": ""
             }
            },
            "type": "scatterpolargl"
           }
          ],
          "scatterternary": [
           {
            "marker": {
             "colorbar": {
              "outlinewidth": 0,
              "ticks": ""
             }
            },
            "type": "scatterternary"
           }
          ],
          "surface": [
           {
            "colorbar": {
             "outlinewidth": 0,
             "ticks": ""
            },
            "colorscale": [
             [
              0,
              "#0d0887"
             ],
             [
              0.1111111111111111,
              "#46039f"
             ],
             [
              0.2222222222222222,
              "#7201a8"
             ],
             [
              0.3333333333333333,
              "#9c179e"
             ],
             [
              0.4444444444444444,
              "#bd3786"
             ],
             [
              0.5555555555555556,
              "#d8576b"
             ],
             [
              0.6666666666666666,
              "#ed7953"
             ],
             [
              0.7777777777777778,
              "#fb9f3a"
             ],
             [
              0.8888888888888888,
              "#fdca26"
             ],
             [
              1,
              "#f0f921"
             ]
            ],
            "type": "surface"
           }
          ],
          "table": [
           {
            "cells": {
             "fill": {
              "color": "#EBF0F8"
             },
             "line": {
              "color": "white"
             }
            },
            "header": {
             "fill": {
              "color": "#C8D4E3"
             },
             "line": {
              "color": "white"
             }
            },
            "type": "table"
           }
          ]
         },
         "layout": {
          "annotationdefaults": {
           "arrowcolor": "#2a3f5f",
           "arrowhead": 0,
           "arrowwidth": 1
          },
          "autotypenumbers": "strict",
          "coloraxis": {
           "colorbar": {
            "outlinewidth": 0,
            "ticks": ""
           }
          },
          "colorscale": {
           "diverging": [
            [
             0,
             "#8e0152"
            ],
            [
             0.1,
             "#c51b7d"
            ],
            [
             0.2,
             "#de77ae"
            ],
            [
             0.3,
             "#f1b6da"
            ],
            [
             0.4,
             "#fde0ef"
            ],
            [
             0.5,
             "#f7f7f7"
            ],
            [
             0.6,
             "#e6f5d0"
            ],
            [
             0.7,
             "#b8e186"
            ],
            [
             0.8,
             "#7fbc41"
            ],
            [
             0.9,
             "#4d9221"
            ],
            [
             1,
             "#276419"
            ]
           ],
           "sequential": [
            [
             0,
             "#0d0887"
            ],
            [
             0.1111111111111111,
             "#46039f"
            ],
            [
             0.2222222222222222,
             "#7201a8"
            ],
            [
             0.3333333333333333,
             "#9c179e"
            ],
            [
             0.4444444444444444,
             "#bd3786"
            ],
            [
             0.5555555555555556,
             "#d8576b"
            ],
            [
             0.6666666666666666,
             "#ed7953"
            ],
            [
             0.7777777777777778,
             "#fb9f3a"
            ],
            [
             0.8888888888888888,
             "#fdca26"
            ],
            [
             1,
             "#f0f921"
            ]
           ],
           "sequentialminus": [
            [
             0,
             "#0d0887"
            ],
            [
             0.1111111111111111,
             "#46039f"
            ],
            [
             0.2222222222222222,
             "#7201a8"
            ],
            [
             0.3333333333333333,
             "#9c179e"
            ],
            [
             0.4444444444444444,
             "#bd3786"
            ],
            [
             0.5555555555555556,
             "#d8576b"
            ],
            [
             0.6666666666666666,
             "#ed7953"
            ],
            [
             0.7777777777777778,
             "#fb9f3a"
            ],
            [
             0.8888888888888888,
             "#fdca26"
            ],
            [
             1,
             "#f0f921"
            ]
           ]
          },
          "colorway": [
           "#636efa",
           "#EF553B",
           "#00cc96",
           "#ab63fa",
           "#FFA15A",
           "#19d3f3",
           "#FF6692",
           "#B6E880",
           "#FF97FF",
           "#FECB52"
          ],
          "font": {
           "color": "#2a3f5f"
          },
          "geo": {
           "bgcolor": "white",
           "lakecolor": "white",
           "landcolor": "#E5ECF6",
           "showlakes": true,
           "showland": true,
           "subunitcolor": "white"
          },
          "hoverlabel": {
           "align": "left"
          },
          "hovermode": "closest",
          "mapbox": {
           "style": "light"
          },
          "paper_bgcolor": "white",
          "plot_bgcolor": "#E5ECF6",
          "polar": {
           "angularaxis": {
            "gridcolor": "white",
            "linecolor": "white",
            "ticks": ""
           },
           "bgcolor": "#E5ECF6",
           "radialaxis": {
            "gridcolor": "white",
            "linecolor": "white",
            "ticks": ""
           }
          },
          "scene": {
           "xaxis": {
            "backgroundcolor": "#E5ECF6",
            "gridcolor": "white",
            "gridwidth": 2,
            "linecolor": "white",
            "showbackground": true,
            "ticks": "",
            "zerolinecolor": "white"
           },
           "yaxis": {
            "backgroundcolor": "#E5ECF6",
            "gridcolor": "white",
            "gridwidth": 2,
            "linecolor": "white",
            "showbackground": true,
            "ticks": "",
            "zerolinecolor": "white"
           },
           "zaxis": {
            "backgroundcolor": "#E5ECF6",
            "gridcolor": "white",
            "gridwidth": 2,
            "linecolor": "white",
            "showbackground": true,
            "ticks": "",
            "zerolinecolor": "white"
           }
          },
          "shapedefaults": {
           "line": {
            "color": "#2a3f5f"
           }
          },
          "ternary": {
           "aaxis": {
            "gridcolor": "white",
            "linecolor": "white",
            "ticks": ""
           },
           "baxis": {
            "gridcolor": "white",
            "linecolor": "white",
            "ticks": ""
           },
           "bgcolor": "#E5ECF6",
           "caxis": {
            "gridcolor": "white",
            "linecolor": "white",
            "ticks": ""
           }
          },
          "title": {
           "x": 0.05
          },
          "xaxis": {
           "automargin": true,
           "gridcolor": "white",
           "linecolor": "white",
           "ticks": "",
           "title": {
            "standoff": 15
           },
           "zerolinecolor": "white",
           "zerolinewidth": 2
          },
          "yaxis": {
           "automargin": true,
           "gridcolor": "white",
           "linecolor": "white",
           "ticks": "",
           "title": {
            "standoff": 15
           },
           "zerolinecolor": "white",
           "zerolinewidth": 2
          }
         }
        },
        "title": {
         "font": {
          "size": 18
         },
         "text": "Statistik Deskriptif - Variabel Numerik"
        },
        "width": 1000,
        "xaxis": {
         "anchor": "y",
         "domain": [
          0,
          0.26666666666666666
         ]
        },
        "xaxis2": {
         "anchor": "y2",
         "domain": [
          0.3666666666666667,
          0.6333333333333333
         ]
        },
        "xaxis3": {
         "anchor": "y3",
         "domain": [
          0.7333333333333334,
          1
         ]
        },
        "xaxis4": {
         "anchor": "y4",
         "domain": [
          0,
          0.26666666666666666
         ]
        },
        "xaxis5": {
         "anchor": "y5",
         "domain": [
          0.3666666666666667,
          0.6333333333333333
         ]
        },
        "xaxis6": {
         "anchor": "y6",
         "domain": [
          0.7333333333333334,
          1
         ]
        },
        "xaxis7": {
         "anchor": "y7",
         "domain": [
          0,
          0.26666666666666666
         ]
        },
        "xaxis8": {
         "anchor": "y8",
         "domain": [
          0.3666666666666667,
          0.6333333333333333
         ]
        },
        "xaxis9": {
         "anchor": "y9",
         "domain": [
          0.7333333333333334,
          1
         ]
        },
        "yaxis": {
         "anchor": "x",
         "domain": [
          0.7333333333333334,
          1
         ]
        },
        "yaxis2": {
         "anchor": "x2",
         "domain": [
          0.7333333333333334,
          1
         ]
        },
        "yaxis3": {
         "anchor": "x3",
         "domain": [
          0.7333333333333334,
          1
         ]
        },
        "yaxis4": {
         "anchor": "x4",
         "domain": [
          0.3666666666666667,
          0.6333333333333333
         ]
        },
        "yaxis5": {
         "anchor": "x5",
         "domain": [
          0.3666666666666667,
          0.6333333333333333
         ]
        },
        "yaxis6": {
         "anchor": "x6",
         "domain": [
          0.3666666666666667,
          0.6333333333333333
         ]
        },
        "yaxis7": {
         "anchor": "x7",
         "domain": [
          0,
          0.26666666666666666
         ]
        },
        "yaxis8": {
         "anchor": "x8",
         "domain": [
          0,
          0.26666666666666666
         ]
        },
        "yaxis9": {
         "anchor": "x9",
         "domain": [
          0,
          0.26666666666666666
         ]
        }
       }
      }
     },
     "metadata": {},
     "output_type": "display_data"
    }
   ],
   "source": [
    "numeric_summary_fig = plot_numeric_summary(df)\n",
    "numeric_summary_fig.show()"
   ]
  },
  {
   "cell_type": "code",
   "execution_count": 34,
   "id": "61dcdafe",
   "metadata": {},
   "outputs": [],
   "source": [
    "def plot_categorical_summary(df):\n",
    "    categorical_cols = ['BusinessTravel', 'Department', 'EducationField', \n",
    "                        'Gender', 'JobRole', 'MaritalStatus', 'OverTime']\n",
    "    \n",
    "    fig = make_subplots(rows=3, cols=3, subplot_titles=categorical_cols)\n",
    "    \n",
    "    color_palette = [\n",
    "        'royalblue',       \n",
    "        'tomato',          \n",
    "        'mediumseagreen',  \n",
    "        'darkorchid',      \n",
    "        'darkorange',      \n",
    "        'darkturquoise',   \n",
    "        'crimson'          \n",
    "    ]\n",
    "    \n",
    "    for i, col in enumerate(categorical_cols):\n",
    "        row = i // 3 + 1\n",
    "        col_pos = i % 3 + 1\n",
    "        \n",
    "        value_counts = df[col].value_counts().reset_index()\n",
    "        value_counts.columns = [col, 'Count']\n",
    "        \n",
    "        fig.add_trace(\n",
    "            go.Bar(\n",
    "                x=value_counts[col], \n",
    "                y=value_counts['Count'],\n",
    "                marker_color=color_palette[i],\n",
    "                showlegend=False\n",
    "            ),\n",
    "            row=row, col=col_pos\n",
    "        )\n",
    "    \n",
    "    fig.update_layout(\n",
    "        title_text=\"Distribusi Variabel Kategorikal\",\n",
    "        title_font_size=18,\n",
    "        height=900,\n",
    "        width=900,\n",
    "        plot_bgcolor='white'\n",
    "    )\n",
    "    \n",
    "    save_plotly(fig, \"categorical_summary\")\n",
    "    return fig"
   ]
  },
  {
   "cell_type": "code",
   "execution_count": null,
   "id": "d15d74e1",
   "metadata": {},
   "outputs": [
    {
     "data": {
      "application/vnd.plotly.v1+json": {
       "config": {
        "plotlyServerURL": "https://plot.ly"
       },
       "data": [
        {
         "marker": {
          "color": "royalblue"
         },
         "showlegend": false,
         "type": "bar",
         "x": [
          "Travel_Rarely",
          "Travel_Frequently",
          "Non-Travel"
         ],
         "xaxis": "x",
         "y": {
          "bdata": "EwQVAZYA",
          "dtype": "i2"
         },
         "yaxis": "y"
        },
        {
         "marker": {
          "color": "tomato"
         },
         "showlegend": false,
         "type": "bar",
         "x": [
          "Research & Development",
          "Sales",
          "Human Resources"
         ],
         "xaxis": "x2",
         "y": {
          "bdata": "wQO+AT8A",
          "dtype": "i2"
         },
         "yaxis": "y2"
        },
        {
         "marker": {
          "color": "mediumseagreen"
         },
         "showlegend": false,
         "type": "bar",
         "x": [
          "Life Sciences",
          "Medical",
          "Marketing",
          "Technical Degree",
          "Other",
          "Human Resources"
         ],
         "xaxis": "x3",
         "y": {
          "bdata": "XgLQAZ8AhABSABsA",
          "dtype": "i2"
         },
         "yaxis": "y3"
        },
        {
         "marker": {
          "color": "darkorchid"
         },
         "showlegend": false,
         "type": "bar",
         "x": [
          "Male",
          "Female"
         ],
         "xaxis": "x4",
         "y": {
          "bdata": "cgNMAg==",
          "dtype": "i2"
         },
         "yaxis": "y4"
        },
        {
         "marker": {
          "color": "darkorange"
         },
         "showlegend": false,
         "type": "bar",
         "x": [
          "Sales Executive",
          "Research Scientist",
          "Laboratory Technician",
          "Manufacturing Director",
          "Healthcare Representative",
          "Manager",
          "Sales Representative",
          "Research Director",
          "Human Resources"
         ],
         "xaxis": "x5",
         "y": {
          "bdata": "RgEkAQMBkQCDAGYAUwBQADQA",
          "dtype": "i2"
         },
         "yaxis": "y5"
        },
        {
         "marker": {
          "color": "darkturquoise"
         },
         "showlegend": false,
         "type": "bar",
         "x": [
          "Married",
          "Single",
          "Divorced"
         ],
         "xaxis": "x6",
         "y": {
          "bdata": "oQLWAUcB",
          "dtype": "i2"
         },
         "yaxis": "y6"
        },
        {
         "marker": {
          "color": "crimson"
         },
         "showlegend": false,
         "type": "bar",
         "x": [
          "No",
          "Yes"
         ],
         "xaxis": "x7",
         "y": {
          "bdata": "HgSgAQ==",
          "dtype": "i2"
         },
         "yaxis": "y7"
        }
       ],
       "layout": {
        "annotations": [
         {
          "font": {
           "size": 16
          },
          "showarrow": false,
          "text": "BusinessTravel",
          "x": 0.14444444444444446,
          "xanchor": "center",
          "xref": "paper",
          "y": 1,
          "yanchor": "bottom",
          "yref": "paper"
         },
         {
          "font": {
           "size": 16
          },
          "showarrow": false,
          "text": "Department",
          "x": 0.5,
          "xanchor": "center",
          "xref": "paper",
          "y": 1,
          "yanchor": "bottom",
          "yref": "paper"
         },
         {
          "font": {
           "size": 16
          },
          "showarrow": false,
          "text": "EducationField",
          "x": 0.8555555555555556,
          "xanchor": "center",
          "xref": "paper",
          "y": 1,
          "yanchor": "bottom",
          "yref": "paper"
         },
         {
          "font": {
           "size": 16
          },
          "showarrow": false,
          "text": "Gender",
          "x": 0.14444444444444446,
          "xanchor": "center",
          "xref": "paper",
          "y": 0.6111111111111112,
          "yanchor": "bottom",
          "yref": "paper"
         },
         {
          "font": {
           "size": 16
          },
          "showarrow": false,
          "text": "JobRole",
          "x": 0.5,
          "xanchor": "center",
          "xref": "paper",
          "y": 0.6111111111111112,
          "yanchor": "bottom",
          "yref": "paper"
         },
         {
          "font": {
           "size": 16
          },
          "showarrow": false,
          "text": "MaritalStatus",
          "x": 0.8555555555555556,
          "xanchor": "center",
          "xref": "paper",
          "y": 0.6111111111111112,
          "yanchor": "bottom",
          "yref": "paper"
         },
         {
          "font": {
           "size": 16
          },
          "showarrow": false,
          "text": "OverTime",
          "x": 0.14444444444444446,
          "xanchor": "center",
          "xref": "paper",
          "y": 0.22222222222222224,
          "yanchor": "bottom",
          "yref": "paper"
         }
        ],
        "height": 900,
        "plot_bgcolor": "white",
        "template": {
         "data": {
          "bar": [
           {
            "error_x": {
             "color": "#2a3f5f"
            },
            "error_y": {
             "color": "#2a3f5f"
            },
            "marker": {
             "line": {
              "color": "#E5ECF6",
              "width": 0.5
             },
             "pattern": {
              "fillmode": "overlay",
              "size": 10,
              "solidity": 0.2
             }
            },
            "type": "bar"
           }
          ],
          "barpolar": [
           {
            "marker": {
             "line": {
              "color": "#E5ECF6",
              "width": 0.5
             },
             "pattern": {
              "fillmode": "overlay",
              "size": 10,
              "solidity": 0.2
             }
            },
            "type": "barpolar"
           }
          ],
          "carpet": [
           {
            "aaxis": {
             "endlinecolor": "#2a3f5f",
             "gridcolor": "white",
             "linecolor": "white",
             "minorgridcolor": "white",
             "startlinecolor": "#2a3f5f"
            },
            "baxis": {
             "endlinecolor": "#2a3f5f",
             "gridcolor": "white",
             "linecolor": "white",
             "minorgridcolor": "white",
             "startlinecolor": "#2a3f5f"
            },
            "type": "carpet"
           }
          ],
          "choropleth": [
           {
            "colorbar": {
             "outlinewidth": 0,
             "ticks": ""
            },
            "type": "choropleth"
           }
          ],
          "contour": [
           {
            "colorbar": {
             "outlinewidth": 0,
             "ticks": ""
            },
            "colorscale": [
             [
              0,
              "#0d0887"
             ],
             [
              0.1111111111111111,
              "#46039f"
             ],
             [
              0.2222222222222222,
              "#7201a8"
             ],
             [
              0.3333333333333333,
              "#9c179e"
             ],
             [
              0.4444444444444444,
              "#bd3786"
             ],
             [
              0.5555555555555556,
              "#d8576b"
             ],
             [
              0.6666666666666666,
              "#ed7953"
             ],
             [
              0.7777777777777778,
              "#fb9f3a"
             ],
             [
              0.8888888888888888,
              "#fdca26"
             ],
             [
              1,
              "#f0f921"
             ]
            ],
            "type": "contour"
           }
          ],
          "contourcarpet": [
           {
            "colorbar": {
             "outlinewidth": 0,
             "ticks": ""
            },
            "type": "contourcarpet"
           }
          ],
          "heatmap": [
           {
            "colorbar": {
             "outlinewidth": 0,
             "ticks": ""
            },
            "colorscale": [
             [
              0,
              "#0d0887"
             ],
             [
              0.1111111111111111,
              "#46039f"
             ],
             [
              0.2222222222222222,
              "#7201a8"
             ],
             [
              0.3333333333333333,
              "#9c179e"
             ],
             [
              0.4444444444444444,
              "#bd3786"
             ],
             [
              0.5555555555555556,
              "#d8576b"
             ],
             [
              0.6666666666666666,
              "#ed7953"
             ],
             [
              0.7777777777777778,
              "#fb9f3a"
             ],
             [
              0.8888888888888888,
              "#fdca26"
             ],
             [
              1,
              "#f0f921"
             ]
            ],
            "type": "heatmap"
           }
          ],
          "histogram": [
           {
            "marker": {
             "pattern": {
              "fillmode": "overlay",
              "size": 10,
              "solidity": 0.2
             }
            },
            "type": "histogram"
           }
          ],
          "histogram2d": [
           {
            "colorbar": {
             "outlinewidth": 0,
             "ticks": ""
            },
            "colorscale": [
             [
              0,
              "#0d0887"
             ],
             [
              0.1111111111111111,
              "#46039f"
             ],
             [
              0.2222222222222222,
              "#7201a8"
             ],
             [
              0.3333333333333333,
              "#9c179e"
             ],
             [
              0.4444444444444444,
              "#bd3786"
             ],
             [
              0.5555555555555556,
              "#d8576b"
             ],
             [
              0.6666666666666666,
              "#ed7953"
             ],
             [
              0.7777777777777778,
              "#fb9f3a"
             ],
             [
              0.8888888888888888,
              "#fdca26"
             ],
             [
              1,
              "#f0f921"
             ]
            ],
            "type": "histogram2d"
           }
          ],
          "histogram2dcontour": [
           {
            "colorbar": {
             "outlinewidth": 0,
             "ticks": ""
            },
            "colorscale": [
             [
              0,
              "#0d0887"
             ],
             [
              0.1111111111111111,
              "#46039f"
             ],
             [
              0.2222222222222222,
              "#7201a8"
             ],
             [
              0.3333333333333333,
              "#9c179e"
             ],
             [
              0.4444444444444444,
              "#bd3786"
             ],
             [
              0.5555555555555556,
              "#d8576b"
             ],
             [
              0.6666666666666666,
              "#ed7953"
             ],
             [
              0.7777777777777778,
              "#fb9f3a"
             ],
             [
              0.8888888888888888,
              "#fdca26"
             ],
             [
              1,
              "#f0f921"
             ]
            ],
            "type": "histogram2dcontour"
           }
          ],
          "mesh3d": [
           {
            "colorbar": {
             "outlinewidth": 0,
             "ticks": ""
            },
            "type": "mesh3d"
           }
          ],
          "parcoords": [
           {
            "line": {
             "colorbar": {
              "outlinewidth": 0,
              "ticks": ""
             }
            },
            "type": "parcoords"
           }
          ],
          "pie": [
           {
            "automargin": true,
            "type": "pie"
           }
          ],
          "scatter": [
           {
            "fillpattern": {
             "fillmode": "overlay",
             "size": 10,
             "solidity": 0.2
            },
            "type": "scatter"
           }
          ],
          "scatter3d": [
           {
            "line": {
             "colorbar": {
              "outlinewidth": 0,
              "ticks": ""
             }
            },
            "marker": {
             "colorbar": {
              "outlinewidth": 0,
              "ticks": ""
             }
            },
            "type": "scatter3d"
           }
          ],
          "scattercarpet": [
           {
            "marker": {
             "colorbar": {
              "outlinewidth": 0,
              "ticks": ""
             }
            },
            "type": "scattercarpet"
           }
          ],
          "scattergeo": [
           {
            "marker": {
             "colorbar": {
              "outlinewidth": 0,
              "ticks": ""
             }
            },
            "type": "scattergeo"
           }
          ],
          "scattergl": [
           {
            "marker": {
             "colorbar": {
              "outlinewidth": 0,
              "ticks": ""
             }
            },
            "type": "scattergl"
           }
          ],
          "scattermap": [
           {
            "marker": {
             "colorbar": {
              "outlinewidth": 0,
              "ticks": ""
             }
            },
            "type": "scattermap"
           }
          ],
          "scattermapbox": [
           {
            "marker": {
             "colorbar": {
              "outlinewidth": 0,
              "ticks": ""
             }
            },
            "type": "scattermapbox"
           }
          ],
          "scatterpolar": [
           {
            "marker": {
             "colorbar": {
              "outlinewidth": 0,
              "ticks": ""
             }
            },
            "type": "scatterpolar"
           }
          ],
          "scatterpolargl": [
           {
            "marker": {
             "colorbar": {
              "outlinewidth": 0,
              "ticks": ""
             }
            },
            "type": "scatterpolargl"
           }
          ],
          "scatterternary": [
           {
            "marker": {
             "colorbar": {
              "outlinewidth": 0,
              "ticks": ""
             }
            },
            "type": "scatterternary"
           }
          ],
          "surface": [
           {
            "colorbar": {
             "outlinewidth": 0,
             "ticks": ""
            },
            "colorscale": [
             [
              0,
              "#0d0887"
             ],
             [
              0.1111111111111111,
              "#46039f"
             ],
             [
              0.2222222222222222,
              "#7201a8"
             ],
             [
              0.3333333333333333,
              "#9c179e"
             ],
             [
              0.4444444444444444,
              "#bd3786"
             ],
             [
              0.5555555555555556,
              "#d8576b"
             ],
             [
              0.6666666666666666,
              "#ed7953"
             ],
             [
              0.7777777777777778,
              "#fb9f3a"
             ],
             [
              0.8888888888888888,
              "#fdca26"
             ],
             [
              1,
              "#f0f921"
             ]
            ],
            "type": "surface"
           }
          ],
          "table": [
           {
            "cells": {
             "fill": {
              "color": "#EBF0F8"
             },
             "line": {
              "color": "white"
             }
            },
            "header": {
             "fill": {
              "color": "#C8D4E3"
             },
             "line": {
              "color": "white"
             }
            },
            "type": "table"
           }
          ]
         },
         "layout": {
          "annotationdefaults": {
           "arrowcolor": "#2a3f5f",
           "arrowhead": 0,
           "arrowwidth": 1
          },
          "autotypenumbers": "strict",
          "coloraxis": {
           "colorbar": {
            "outlinewidth": 0,
            "ticks": ""
           }
          },
          "colorscale": {
           "diverging": [
            [
             0,
             "#8e0152"
            ],
            [
             0.1,
             "#c51b7d"
            ],
            [
             0.2,
             "#de77ae"
            ],
            [
             0.3,
             "#f1b6da"
            ],
            [
             0.4,
             "#fde0ef"
            ],
            [
             0.5,
             "#f7f7f7"
            ],
            [
             0.6,
             "#e6f5d0"
            ],
            [
             0.7,
             "#b8e186"
            ],
            [
             0.8,
             "#7fbc41"
            ],
            [
             0.9,
             "#4d9221"
            ],
            [
             1,
             "#276419"
            ]
           ],
           "sequential": [
            [
             0,
             "#0d0887"
            ],
            [
             0.1111111111111111,
             "#46039f"
            ],
            [
             0.2222222222222222,
             "#7201a8"
            ],
            [
             0.3333333333333333,
             "#9c179e"
            ],
            [
             0.4444444444444444,
             "#bd3786"
            ],
            [
             0.5555555555555556,
             "#d8576b"
            ],
            [
             0.6666666666666666,
             "#ed7953"
            ],
            [
             0.7777777777777778,
             "#fb9f3a"
            ],
            [
             0.8888888888888888,
             "#fdca26"
            ],
            [
             1,
             "#f0f921"
            ]
           ],
           "sequentialminus": [
            [
             0,
             "#0d0887"
            ],
            [
             0.1111111111111111,
             "#46039f"
            ],
            [
             0.2222222222222222,
             "#7201a8"
            ],
            [
             0.3333333333333333,
             "#9c179e"
            ],
            [
             0.4444444444444444,
             "#bd3786"
            ],
            [
             0.5555555555555556,
             "#d8576b"
            ],
            [
             0.6666666666666666,
             "#ed7953"
            ],
            [
             0.7777777777777778,
             "#fb9f3a"
            ],
            [
             0.8888888888888888,
             "#fdca26"
            ],
            [
             1,
             "#f0f921"
            ]
           ]
          },
          "colorway": [
           "#636efa",
           "#EF553B",
           "#00cc96",
           "#ab63fa",
           "#FFA15A",
           "#19d3f3",
           "#FF6692",
           "#B6E880",
           "#FF97FF",
           "#FECB52"
          ],
          "font": {
           "color": "#2a3f5f"
          },
          "geo": {
           "bgcolor": "white",
           "lakecolor": "white",
           "landcolor": "#E5ECF6",
           "showlakes": true,
           "showland": true,
           "subunitcolor": "white"
          },
          "hoverlabel": {
           "align": "left"
          },
          "hovermode": "closest",
          "mapbox": {
           "style": "light"
          },
          "paper_bgcolor": "white",
          "plot_bgcolor": "#E5ECF6",
          "polar": {
           "angularaxis": {
            "gridcolor": "white",
            "linecolor": "white",
            "ticks": ""
           },
           "bgcolor": "#E5ECF6",
           "radialaxis": {
            "gridcolor": "white",
            "linecolor": "white",
            "ticks": ""
           }
          },
          "scene": {
           "xaxis": {
            "backgroundcolor": "#E5ECF6",
            "gridcolor": "white",
            "gridwidth": 2,
            "linecolor": "white",
            "showbackground": true,
            "ticks": "",
            "zerolinecolor": "white"
           },
           "yaxis": {
            "backgroundcolor": "#E5ECF6",
            "gridcolor": "white",
            "gridwidth": 2,
            "linecolor": "white",
            "showbackground": true,
            "ticks": "",
            "zerolinecolor": "white"
           },
           "zaxis": {
            "backgroundcolor": "#E5ECF6",
            "gridcolor": "white",
            "gridwidth": 2,
            "linecolor": "white",
            "showbackground": true,
            "ticks": "",
            "zerolinecolor": "white"
           }
          },
          "shapedefaults": {
           "line": {
            "color": "#2a3f5f"
           }
          },
          "ternary": {
           "aaxis": {
            "gridcolor": "white",
            "linecolor": "white",
            "ticks": ""
           },
           "baxis": {
            "gridcolor": "white",
            "linecolor": "white",
            "ticks": ""
           },
           "bgcolor": "#E5ECF6",
           "caxis": {
            "gridcolor": "white",
            "linecolor": "white",
            "ticks": ""
           }
          },
          "title": {
           "x": 0.05
          },
          "xaxis": {
           "automargin": true,
           "gridcolor": "white",
           "linecolor": "white",
           "ticks": "",
           "title": {
            "standoff": 15
           },
           "zerolinecolor": "white",
           "zerolinewidth": 2
          },
          "yaxis": {
           "automargin": true,
           "gridcolor": "white",
           "linecolor": "white",
           "ticks": "",
           "title": {
            "standoff": 15
           },
           "zerolinecolor": "white",
           "zerolinewidth": 2
          }
         }
        },
        "title": {
         "font": {
          "size": 18
         },
         "text": "Distribusi Variabel Kategorikal"
        },
        "width": 900,
        "xaxis": {
         "anchor": "y",
         "domain": [
          0,
          0.2888888888888889
         ]
        },
        "xaxis2": {
         "anchor": "y2",
         "domain": [
          0.35555555555555557,
          0.6444444444444445
         ]
        },
        "xaxis3": {
         "anchor": "y3",
         "domain": [
          0.7111111111111111,
          1
         ]
        },
        "xaxis4": {
         "anchor": "y4",
         "domain": [
          0,
          0.2888888888888889
         ]
        },
        "xaxis5": {
         "anchor": "y5",
         "domain": [
          0.35555555555555557,
          0.6444444444444445
         ]
        },
        "xaxis6": {
         "anchor": "y6",
         "domain": [
          0.7111111111111111,
          1
         ]
        },
        "xaxis7": {
         "anchor": "y7",
         "domain": [
          0,
          0.2888888888888889
         ]
        },
        "xaxis8": {
         "anchor": "y8",
         "domain": [
          0.35555555555555557,
          0.6444444444444445
         ]
        },
        "xaxis9": {
         "anchor": "y9",
         "domain": [
          0.7111111111111111,
          1
         ]
        },
        "yaxis": {
         "anchor": "x",
         "domain": [
          0.7777777777777778,
          1
         ]
        },
        "yaxis2": {
         "anchor": "x2",
         "domain": [
          0.7777777777777778,
          1
         ]
        },
        "yaxis3": {
         "anchor": "x3",
         "domain": [
          0.7777777777777778,
          1
         ]
        },
        "yaxis4": {
         "anchor": "x4",
         "domain": [
          0.3888888888888889,
          0.6111111111111112
         ]
        },
        "yaxis5": {
         "anchor": "x5",
         "domain": [
          0.3888888888888889,
          0.6111111111111112
         ]
        },
        "yaxis6": {
         "anchor": "x6",
         "domain": [
          0.3888888888888889,
          0.6111111111111112
         ]
        },
        "yaxis7": {
         "anchor": "x7",
         "domain": [
          0,
          0.22222222222222224
         ]
        },
        "yaxis8": {
         "anchor": "x8",
         "domain": [
          0,
          0.22222222222222224
         ]
        },
        "yaxis9": {
         "anchor": "x9",
         "domain": [
          0,
          0.22222222222222224
         ]
        }
       }
      }
     },
     "metadata": {},
     "output_type": "display_data"
    }
   ],
   "source": [
    "categorical_summary_fig = plot_categorical_summary(df)\n",
    "categorical_summary_fig.show()"
   ]
  },
  {
   "cell_type": "markdown",
   "id": "3a8ae5de",
   "metadata": {},
   "source": [
    "# Data Cleaning"
   ]
  },
  {
   "cell_type": "code",
   "execution_count": 43,
   "id": "4222bc98",
   "metadata": {},
   "outputs": [
    {
     "name": "stdout",
     "output_type": "stream",
     "text": [
      "Jumlah nilai yang hilang dalam dataset:\n",
      "Attrition    412\n",
      "dtype: int64\n"
     ]
    }
   ],
   "source": [
    "print(\"Jumlah nilai yang hilang dalam dataset:\")\n",
    "missing_values = df.isnull().sum()\n",
    "print(missing_values[missing_values > 0])"
   ]
  },
  {
   "cell_type": "code",
   "execution_count": null,
   "id": "61f60a02",
   "metadata": {},
   "outputs": [
    {
     "name": "stdout",
     "output_type": "stream",
     "text": [
      "Distribusi nilai Attrition:\n",
      "Attrition\n",
      "0.0    879\n",
      "NaN    412\n",
      "1.0    179\n",
      "Name: count, dtype: int64\n"
     ]
    }
   ],
   "source": [
    "attrition_distribution = df['Attrition'].value_counts(dropna=False)\n",
    "print(\"Distribusi nilai Attrition:\")\n",
    "print(attrition_distribution)"
   ]
  },
  {
   "cell_type": "markdown",
   "id": "296b95b3",
   "metadata": {},
   "source": [
    "## Handle Missing Value dgn KNN Imputer"
   ]
  },
  {
   "cell_type": "code",
   "execution_count": 45,
   "id": "36f2d8c4",
   "metadata": {},
   "outputs": [],
   "source": [
    "categorical_columns = ['BusinessTravel', 'Department', 'EducationField', \n",
    "                       'Gender', 'JobRole', 'MaritalStatus', 'Over18', 'OverTime']"
   ]
  },
  {
   "cell_type": "code",
   "execution_count": 46,
   "id": "d1a56c5b",
   "metadata": {},
   "outputs": [],
   "source": [
    "df_for_imputation = df.copy()"
   ]
  },
  {
   "cell_type": "code",
   "execution_count": 47,
   "id": "385308a1",
   "metadata": {},
   "outputs": [
    {
     "name": "stdout",
     "output_type": "stream",
     "text": [
      "Encoding untuk BusinessTravel: {'Non-Travel': np.int64(0), 'Travel_Frequently': np.int64(1), 'Travel_Rarely': np.int64(2)}\n",
      "Encoding untuk Department: {'Human Resources': np.int64(0), 'Research & Development': np.int64(1), 'Sales': np.int64(2)}\n",
      "Encoding untuk EducationField: {'Human Resources': np.int64(0), 'Life Sciences': np.int64(1), 'Marketing': np.int64(2), 'Medical': np.int64(3), 'Other': np.int64(4), 'Technical Degree': np.int64(5)}\n",
      "Encoding untuk Gender: {'Female': np.int64(0), 'Male': np.int64(1)}\n",
      "Encoding untuk JobRole: {'Healthcare Representative': np.int64(0), 'Human Resources': np.int64(1), 'Laboratory Technician': np.int64(2), 'Manager': np.int64(3), 'Manufacturing Director': np.int64(4), 'Research Director': np.int64(5), 'Research Scientist': np.int64(6), 'Sales Executive': np.int64(7), 'Sales Representative': np.int64(8)}\n",
      "Encoding untuk MaritalStatus: {'Divorced': np.int64(0), 'Married': np.int64(1), 'Single': np.int64(2)}\n",
      "Encoding untuk Over18: {'Y': np.int64(0)}\n",
      "Encoding untuk OverTime: {'No': np.int64(0), 'Yes': np.int64(1)}\n"
     ]
    }
   ],
   "source": [
    "#label encoding untuk kategorikal kolom biar bisa digunakan KNN imputer\n",
    "label_encoders = {}\n",
    "for col in categorical_columns:\n",
    "    le = LabelEncoder()\n",
    "    if df_for_imputation[col].isnull().sum() > 0:\n",
    "        df_for_imputation[col].fillna(df_for_imputation[col].mode()[0], inplace=True)\n",
    "    \n",
    "    df_for_imputation[col] = le.fit_transform(df_for_imputation[col])\n",
    "    label_encoders[col] = le\n",
    "    print(f\"Encoding untuk {col}: {dict(zip(le.classes_, le.transform(le.classes_)))}\")"
   ]
  },
  {
   "cell_type": "code",
   "execution_count": null,
   "id": "e289ffc7",
   "metadata": {},
   "outputs": [],
   "source": [
    "# Memilih kolom untuk imputasi Attrition\n",
    "imputation_columns = ['Age', 'BusinessTravel', 'DailyRate', 'Department', 'DistanceFromHome',\n",
    "                     'Education', 'EnvironmentSatisfaction', 'HourlyRate',\n",
    "                     'JobInvolvement', 'JobLevel', 'JobSatisfaction', 'MonthlyIncome',\n",
    "                     'NumCompaniesWorked', 'OverTime', 'PercentSalaryHike', 'TotalWorkingYears',\n",
    "                     'WorkLifeBalance', 'YearsAtCompany', 'YearsInCurrentRole',\n",
    "                     'YearsSinceLastPromotion', 'YearsWithCurrManager']"
   ]
  },
  {
   "cell_type": "code",
   "execution_count": 49,
   "id": "2fe75c4d",
   "metadata": {},
   "outputs": [],
   "source": [
    "imputation_data = df_for_imputation[imputation_columns + ['Attrition']]"
   ]
  },
  {
   "cell_type": "code",
   "execution_count": 50,
   "id": "e1b08264",
   "metadata": {},
   "outputs": [],
   "source": [
    "imputer = KNNImputer(n_neighbors=5)\n",
    "imputed_data = imputer.fit_transform(imputation_data)"
   ]
  },
  {
   "cell_type": "code",
   "execution_count": 51,
   "id": "1367243e",
   "metadata": {},
   "outputs": [],
   "source": [
    "df['Attrition'] = imputed_data[:, -1]"
   ]
  },
  {
   "cell_type": "code",
   "execution_count": null,
   "id": "a26d5b53",
   "metadata": {},
   "outputs": [
    {
     "name": "stdout",
     "output_type": "stream",
     "text": [
      "\n",
      "Setelah imputasi, distribusi Attrition: {0: 1262, 1: 208}\n"
     ]
    }
   ],
   "source": [
    "# Mengkonversi hasil KNN Imputer menjadi binary (0 atau 1)\n",
    "df['Attrition'] = df['Attrition'].apply(lambda x: 1 if x >= 0.5 else 0)\n",
    "\n",
    "print(f\"\\nSetelah imputasi, distribusi Attrition: {df['Attrition'].value_counts().to_dict()}\")"
   ]
  },
  {
   "cell_type": "markdown",
   "id": "10a7c3b0",
   "metadata": {},
   "source": [
    "### Visualisasi hasil imputasi"
   ]
  },
  {
   "cell_type": "code",
   "execution_count": 53,
   "id": "9cac153b",
   "metadata": {},
   "outputs": [
    {
     "data": {
      "image/png": "[encoded data removed]",
      "text/plain": [
       "<Figure size 1000x600 with 1 Axes>"
      ]
     },
     "metadata": {},
     "output_type": "display_data"
    },
    {
     "data": {
      "application/vnd.plotly.v1+json": {
       "config": {
        "plotlyServerURL": "https://plot.ly"
       },
       "data": [
        {
         "domain": {
          "x": [
           0,
           1
          ],
          "y": [
           0,
           1
          ]
         },
         "hole": 0.4,
         "hovertemplate": "label=%{label}<br>value=%{value}<extra></extra>",
         "labels": [
          "Tetap",
          "Keluar"
         ],
         "legendgroup": "",
         "name": "",
         "showlegend": true,
         "textfont": {
          "size": 14
         },
         "textinfo": "percent+value",
         "textposition": "inside",
         "type": "pie",
         "values": {
          "bdata": "7gTQAA==",
          "dtype": "i2"
         }
        }
       ],
       "layout": {
        "height": 500,
        "legend": {
         "title": {
          "font": {
           "size": 12
          }
         },
         "tracegroupgap": 0
        },
        "piecolorway": [
         "rgb(8,48,107)",
         "rgb(8,81,156)",
         "rgb(33,113,181)",
         "rgb(66,146,198)",
         "rgb(107,174,214)",
         "rgb(158,202,225)",
         "rgb(198,219,239)",
         "rgb(222,235,247)",
         "rgb(247,251,255)"
        ],
        "template": {
         "data": {
          "bar": [
           {
            "error_x": {
             "color": "#2a3f5f"
            },
            "error_y": {
             "color": "#2a3f5f"
            },
            "marker": {
             "line": {
              "color": "#E5ECF6",
              "width": 0.5
             },
             "pattern": {
              "fillmode": "overlay",
              "size": 10,
              "solidity": 0.2
             }
            },
            "type": "bar"
           }
          ],
          "barpolar": [
           {
            "marker": {
             "line": {
              "color": "#E5ECF6",
              "width": 0.5
             },
             "pattern": {
              "fillmode": "overlay",
              "size": 10,
              "solidity": 0.2
             }
            },
            "type": "barpolar"
           }
          ],
          "carpet": [
           {
            "aaxis": {
             "endlinecolor": "#2a3f5f",
             "gridcolor": "white",
             "linecolor": "white",
             "minorgridcolor": "white",
             "startlinecolor": "#2a3f5f"
            },
            "baxis": {
             "endlinecolor": "#2a3f5f",
             "gridcolor": "white",
             "linecolor": "white",
             "minorgridcolor": "white",
             "startlinecolor": "#2a3f5f"
            },
            "type": "carpet"
           }
          ],
          "choropleth": [
           {
            "colorbar": {
             "outlinewidth": 0,
             "ticks": ""
            },
            "type": "choropleth"
           }
          ],
          "contour": [
           {
            "colorbar": {
             "outlinewidth": 0,
             "ticks": ""
            },
            "colorscale": [
             [
              0,
              "#0d0887"
             ],
             [
              0.1111111111111111,
              "#46039f"
             ],
             [
              0.2222222222222222,
              "#7201a8"
             ],
             [
              0.3333333333333333,
              "#9c179e"
             ],
             [
              0.4444444444444444,
              "#bd3786"
             ],
             [
              0.5555555555555556,
              "#d8576b"
             ],
             [
              0.6666666666666666,
              "#ed7953"
             ],
             [
              0.7777777777777778,
              "#fb9f3a"
             ],
             [
              0.8888888888888888,
              "#fdca26"
             ],
             [
              1,
              "#f0f921"
             ]
            ],
            "type": "contour"
           }
          ],
          "contourcarpet": [
           {
            "colorbar": {
             "outlinewidth": 0,
             "ticks": ""
            },
            "type": "contourcarpet"
           }
          ],
          "heatmap": [
           {
            "colorbar": {
             "outlinewidth": 0,
             "ticks": ""
            },
            "colorscale": [
             [
              0,
              "#0d0887"
             ],
             [
              0.1111111111111111,
              "#46039f"
             ],
             [
              0.2222222222222222,
              "#7201a8"
             ],
             [
              0.3333333333333333,
              "#9c179e"
             ],
             [
              0.4444444444444444,
              "#bd3786"
             ],
             [
              0.5555555555555556,
              "#d8576b"
             ],
             [
              0.6666666666666666,
              "#ed7953"
             ],
             [
              0.7777777777777778,
              "#fb9f3a"
             ],
             [
              0.8888888888888888,
              "#fdca26"
             ],
             [
              1,
              "#f0f921"
             ]
            ],
            "type": "heatmap"
           }
          ],
          "histogram": [
           {
            "marker": {
             "pattern": {
              "fillmode": "overlay",
              "size": 10,
              "solidity": 0.2
             }
            },
            "type": "histogram"
           }
          ],
          "histogram2d": [
           {
            "colorbar": {
             "outlinewidth": 0,
             "ticks": ""
            },
            "colorscale": [
             [
              0,
              "#0d0887"
             ],
             [
              0.1111111111111111,
              "#46039f"
             ],
             [
              0.2222222222222222,
              "#7201a8"
             ],
             [
              0.3333333333333333,
              "#9c179e"
             ],
             [
              0.4444444444444444,
              "#bd3786"
             ],
             [
              0.5555555555555556,
              "#d8576b"
             ],
             [
              0.6666666666666666,
              "#ed7953"
             ],
             [
              0.7777777777777778,
              "#fb9f3a"
             ],
             [
              0.8888888888888888,
              "#fdca26"
             ],
             [
              1,
              "#f0f921"
             ]
            ],
            "type": "histogram2d"
           }
          ],
          "histogram2dcontour": [
           {
            "colorbar": {
             "outlinewidth": 0,
             "ticks": ""
            },
            "colorscale": [
             [
              0,
              "#0d0887"
             ],
             [
              0.1111111111111111,
              "#46039f"
             ],
             [
              0.2222222222222222,
              "#7201a8"
             ],
             [
              0.3333333333333333,
              "#9c179e"
             ],
             [
              0.4444444444444444,
              "#bd3786"
             ],
             [
              0.5555555555555556,
              "#d8576b"
             ],
             [
              0.6666666666666666,
              "#ed7953"
             ],
             [
              0.7777777777777778,
              "#fb9f3a"
             ],
             [
              0.8888888888888888,
              "#fdca26"
             ],
             [
              1,
              "#f0f921"
             ]
            ],
            "type": "histogram2dcontour"
           }
          ],
          "mesh3d": [
           {
            "colorbar": {
             "outlinewidth": 0,
             "ticks": ""
            },
            "type": "mesh3d"
           }
          ],
          "parcoords": [
           {
            "line": {
             "colorbar": {
              "outlinewidth": 0,
              "ticks": ""
             }
            },
            "type": "parcoords"
           }
          ],
          "pie": [
           {
            "automargin": true,
            "type": "pie"
           }
          ],
          "scatter": [
           {
            "fillpattern": {
             "fillmode": "overlay",
             "size": 10,
             "solidity": 0.2
            },
            "type": "scatter"
           }
          ],
          "scatter3d": [
           {
            "line": {
             "colorbar": {
              "outlinewidth": 0,
              "ticks": ""
             }
            },
            "marker": {
             "colorbar": {
              "outlinewidth": 0,
              "ticks": ""
             }
            },
            "type": "scatter3d"
           }
          ],
          "scattercarpet": [
           {
            "marker": {
             "colorbar": {
              "outlinewidth": 0,
              "ticks": ""
             }
            },
            "type": "scattercarpet"
           }
          ],
          "scattergeo": [
           {
            "marker": {
             "colorbar": {
              "outlinewidth": 0,
              "ticks": ""
             }
            },
            "type": "scattergeo"
           }
          ],
          "scattergl": [
           {
            "marker": {
             "colorbar": {
              "outlinewidth": 0,
              "ticks": ""
             }
            },
            "type": "scattergl"
           }
          ],
          "scattermap": [
           {
            "marker": {
             "colorbar": {
              "outlinewidth": 0,
              "ticks": ""
             }
            },
            "type": "scattermap"
           }
          ],
          "scattermapbox": [
           {
            "marker": {
             "colorbar": {
              "outlinewidth": 0,
              "ticks": ""
             }
            },
            "type": "scattermapbox"
           }
          ],
          "scatterpolar": [
           {
            "marker": {
             "colorbar": {
              "outlinewidth": 0,
              "ticks": ""
             }
            },
            "type": "scatterpolar"
           }
          ],
          "scatterpolargl": [
           {
            "marker": {
             "colorbar": {
              "outlinewidth": 0,
              "ticks": ""
             }
            },
            "type": "scatterpolargl"
           }
          ],
          "scatterternary": [
           {
            "marker": {
             "colorbar": {
              "outlinewidth": 0,
              "ticks": ""
             }
            },
            "type": "scatterternary"
           }
          ],
          "surface": [
           {
            "colorbar": {
             "outlinewidth": 0,
             "ticks": ""
            },
            "colorscale": [
             [
              0,
              "#0d0887"
             ],
             [
              0.1111111111111111,
              "#46039f"
             ],
             [
              0.2222222222222222,
              "#7201a8"
             ],
             [
              0.3333333333333333,
              "#9c179e"
             ],
             [
              0.4444444444444444,
              "#bd3786"
             ],
             [
              0.5555555555555556,
              "#d8576b"
             ],
             [
              0.6666666666666666,
              "#ed7953"
             ],
             [
              0.7777777777777778,
              "#fb9f3a"
             ],
             [
              0.8888888888888888,
              "#fdca26"
             ],
             [
              1,
              "#f0f921"
             ]
            ],
            "type": "surface"
           }
          ],
          "table": [
           {
            "cells": {
             "fill": {
              "color": "#EBF0F8"
             },
             "line": {
              "color": "white"
             }
            },
            "header": {
             "fill": {
              "color": "#C8D4E3"
             },
             "line": {
              "color": "white"
             }
            },
            "type": "table"
           }
          ]
         },
         "layout": {
          "annotationdefaults": {
           "arrowcolor": "#2a3f5f",
           "arrowhead": 0,
           "arrowwidth": 1
          },
          "autotypenumbers": "strict",
          "coloraxis": {
           "colorbar": {
            "outlinewidth": 0,
            "ticks": ""
           }
          },
          "colorscale": {
           "diverging": [
            [
             0,
             "#8e0152"
            ],
            [
             0.1,
             "#c51b7d"
            ],
            [
             0.2,
             "#de77ae"
            ],
            [
             0.3,
             "#f1b6da"
            ],
            [
             0.4,
             "#fde0ef"
            ],
            [
             0.5,
             "#f7f7f7"
            ],
            [
             0.6,
             "#e6f5d0"
            ],
            [
             0.7,
             "#b8e186"
            ],
            [
             0.8,
             "#7fbc41"
            ],
            [
             0.9,
             "#4d9221"
            ],
            [
             1,
             "#276419"
            ]
           ],
           "sequential": [
            [
             0,
             "#0d0887"
            ],
            [
             0.1111111111111111,
             "#46039f"
            ],
            [
             0.2222222222222222,
             "#7201a8"
            ],
            [
             0.3333333333333333,
             "#9c179e"
            ],
            [
             0.4444444444444444,
             "#bd3786"
            ],
            [
             0.5555555555555556,
             "#d8576b"
            ],
            [
             0.6666666666666666,
             "#ed7953"
            ],
            [
             0.7777777777777778,
             "#fb9f3a"
            ],
            [
             0.8888888888888888,
             "#fdca26"
            ],
            [
             1,
             "#f0f921"
            ]
           ],
           "sequentialminus": [
            [
             0,
             "#0d0887"
            ],
            [
             0.1111111111111111,
             "#46039f"
            ],
            [
             0.2222222222222222,
             "#7201a8"
            ],
            [
             0.3333333333333333,
             "#9c179e"
            ],
            [
             0.4444444444444444,
             "#bd3786"
            ],
            [
             0.5555555555555556,
             "#d8576b"
            ],
            [
             0.6666666666666666,
             "#ed7953"
            ],
            [
             0.7777777777777778,
             "#fb9f3a"
            ],
            [
             0.8888888888888888,
             "#fdca26"
            ],
            [
             1,
             "#f0f921"
            ]
           ]
          },
          "colorway": [
           "#636efa",
           "#EF553B",
           "#00cc96",
           "#ab63fa",
           "#FFA15A",
           "#19d3f3",
           "#FF6692",
           "#B6E880",
           "#FF97FF",
           "#FECB52"
          ],
          "font": {
           "color": "#2a3f5f"
          },
          "geo": {
           "bgcolor": "white",
           "lakecolor": "white",
           "landcolor": "#E5ECF6",
           "showlakes": true,
           "showland": true,
           "subunitcolor": "white"
          },
          "hoverlabel": {
           "align": "left"
          },
          "hovermode": "closest",
          "mapbox": {
           "style": "light"
          },
          "paper_bgcolor": "white",
          "plot_bgcolor": "#E5ECF6",
          "polar": {
           "angularaxis": {
            "gridcolor": "white",
            "linecolor": "white",
            "ticks": ""
           },
           "bgcolor": "#E5ECF6",
           "radialaxis": {
            "gridcolor": "white",
            "linecolor": "white",
            "ticks": ""
           }
          },
          "scene": {
           "xaxis": {
            "backgroundcolor": "#E5ECF6",
            "gridcolor": "white",
            "gridwidth": 2,
            "linecolor": "white",
            "showbackground": true,
            "ticks": "",
            "zerolinecolor": "white"
           },
           "yaxis": {
            "backgroundcolor": "#E5ECF6",
            "gridcolor": "white",
            "gridwidth": 2,
            "linecolor": "white",
            "showbackground": true,
            "ticks": "",
            "zerolinecolor": "white"
           },
           "zaxis": {
            "backgroundcolor": "#E5ECF6",
            "gridcolor": "white",
            "gridwidth": 2,
            "linecolor": "white",
            "showbackground": true,
            "ticks": "",
            "zerolinecolor": "white"
           }
          },
          "shapedefaults": {
           "line": {
            "color": "#2a3f5f"
           }
          },
          "ternary": {
           "aaxis": {
            "gridcolor": "white",
            "linecolor": "white",
            "ticks": ""
           },
           "baxis": {
            "gridcolor": "white",
            "linecolor": "white",
            "ticks": ""
           },
           "bgcolor": "#E5ECF6",
           "caxis": {
            "gridcolor": "white",
            "linecolor": "white",
            "ticks": ""
           }
          },
          "title": {
           "x": 0.05
          },
          "xaxis": {
           "automargin": true,
           "gridcolor": "white",
           "linecolor": "white",
           "ticks": "",
           "title": {
            "standoff": 15
           },
           "zerolinecolor": "white",
           "zerolinewidth": 2
          },
          "yaxis": {
           "automargin": true,
           "gridcolor": "white",
           "linecolor": "white",
           "ticks": "",
           "title": {
            "standoff": 15
           },
           "zerolinecolor": "white",
           "zerolinewidth": 2
          }
         }
        },
        "title": {
         "font": {
          "size": 18
         },
         "text": "Distribusi Attrition Setelah Imputasi"
        },
        "width": 700
       }
      }
     },
     "metadata": {},
     "output_type": "display_data"
    }
   ],
   "source": [
    "def plot_imputation_results():\n",
    "    plt.figure(figsize=(10, 6))\n",
    "    ax = sns.countplot(x='Attrition', data=df)\n",
    "    styling_ax(ax, 'Distribusi Attrition Setelah Imputasi', 'Attrition (0=Tetap, 1=Keluar)', 'Jumlah Karyawan')\n",
    "    \n",
    "    for i, p in enumerate(ax.patches):\n",
    "        ax.annotate(f'{p.get_height()}', \n",
    "                   (p.get_x() + p.get_width() / 2., p.get_height()), \n",
    "                   ha='center', va='bottom', fontsize=10)\n",
    "    \n",
    "    plt.xticks([0, 1], ['Tetap (0)', 'Keluar (1)'])\n",
    "    plt.tight_layout()\n",
    "    plt.savefig('visualisasi/attrition_after_imputation.png', bbox_inches='tight', dpi=300)\n",
    "    plt.show()\n",
    "    \n",
    "    fig = px.pie(\n",
    "        values=df['Attrition'].value_counts().values,\n",
    "        names=['Tetap', 'Keluar'],\n",
    "        title='Distribusi Attrition Setelah Imputasi',\n",
    "        color_discrete_sequence=px.colors.sequential.Blues_r,\n",
    "        hole=0.4\n",
    "    )\n",
    "    \n",
    "    fig.update_layout(\n",
    "        title_font_size=18,\n",
    "        legend_title_font_size=12,\n",
    "        width=700,\n",
    "        height=500\n",
    "    )\n",
    "    \n",
    "    fig.update_traces(\n",
    "        textinfo='percent+value', \n",
    "        textposition='inside', \n",
    "        textfont_size=14\n",
    "    )\n",
    "    \n",
    "    save_plotly(fig, \"attrition_pie_chart\")\n",
    "    fig.show()\n",
    "\n",
    "plot_imputation_results()"
   ]
  },
  {
   "cell_type": "markdown",
   "id": "88c5fabe",
   "metadata": {},
   "source": [
    "### Cek Missing Value"
   ]
  },
  {
   "cell_type": "code",
   "execution_count": 55,
   "id": "987bacd2",
   "metadata": {},
   "outputs": [
    {
     "data": {
      "text/plain": [
       "EmployeeId                  0\n",
       "Age                         0\n",
       "Attrition                   0\n",
       "BusinessTravel              0\n",
       "DailyRate                   0\n",
       "Department                  0\n",
       "DistanceFromHome            0\n",
       "Education                   0\n",
       "EducationField              0\n",
       "EmployeeCount               0\n",
       "EnvironmentSatisfaction     0\n",
       "Gender                      0\n",
       "HourlyRate                  0\n",
       "JobInvolvement              0\n",
       "JobLevel                    0\n",
       "JobRole                     0\n",
       "JobSatisfaction             0\n",
       "MaritalStatus               0\n",
       "MonthlyIncome               0\n",
       "MonthlyRate                 0\n",
       "NumCompaniesWorked          0\n",
       "Over18                      0\n",
       "OverTime                    0\n",
       "PercentSalaryHike           0\n",
       "PerformanceRating           0\n",
       "RelationshipSatisfaction    0\n",
       "StandardHours               0\n",
       "StockOptionLevel            0\n",
       "TotalWorkingYears           0\n",
       "TrainingTimesLastYear       0\n",
       "WorkLifeBalance             0\n",
       "YearsAtCompany              0\n",
       "YearsInCurrentRole          0\n",
       "YearsSinceLastPromotion     0\n",
       "YearsWithCurrManager        0\n",
       "dtype: int64"
      ]
     },
     "execution_count": 55,
     "metadata": {},
     "output_type": "execute_result"
    }
   ],
   "source": [
    "df.isnull().sum()"
   ]
  },
  {
   "cell_type": "markdown",
   "id": "bc911ce3",
   "metadata": {},
   "source": [
    "## Outlier"
   ]
  },
  {
   "cell_type": "markdown",
   "id": "4066a54a",
   "metadata": {},
   "source": [
    "## Detect Outlier"
   ]
  },
  {
   "cell_type": "code",
   "execution_count": 56,
   "id": "d2801dce",
   "metadata": {},
   "outputs": [],
   "source": [
    "numerical_columns = ['Age', 'DailyRate', 'DistanceFromHome', 'HourlyRate', \n",
    "                     'MonthlyIncome', 'MonthlyRate', 'NumCompaniesWorked',\n",
    "                     'PercentSalaryHike', 'TotalWorkingYears', 'YearsAtCompany',\n",
    "                     'YearsInCurrentRole', 'YearsSinceLastPromotion', 'YearsWithCurrManager']\n"
   ]
  },
  {
   "cell_type": "code",
   "execution_count": 58,
   "id": "d929d550",
   "metadata": {},
   "outputs": [],
   "source": [
    "def detect_and_visualize_outliers(df, column):\n",
    "    # Menghitung statistik untuk deteksi outlier\n",
    "    Q1 = df[column].quantile(0.25)\n",
    "    Q3 = df[column].quantile(0.75)\n",
    "    IQR = Q3 - Q1\n",
    "    lower_bound = Q1 - 1.5 * IQR\n",
    "    upper_bound = Q3 + 1.5 * IQR\n",
    "    \n",
    "    outliers = df[(df[column] < lower_bound) | (df[column] > upper_bound)]\n",
    "    \n",
    "    # Visualisasi dengan plotly\n",
    "    fig = make_subplots(rows=1, cols=2, \n",
    "                        subplot_titles=[\"Boxplot\", \"Distribusi dengan Outlier\"])\n",
    "    \n",
    "    fig.add_trace(\n",
    "        go.Box(\n",
    "            y=df[column],\n",
    "            name=column,\n",
    "            boxmean=True,\n",
    "            marker_color='royalblue'\n",
    "        ),\n",
    "        row=1, col=1\n",
    "    )\n",
    "    \n",
    "    fig.add_trace(\n",
    "        go.Histogram(\n",
    "            x=df[column],\n",
    "            name=column,\n",
    "            marker_color='royalblue',\n",
    "            opacity=0.7\n",
    "        ),\n",
    "        row=1, col=2\n",
    "    )\n",
    "    \n",
    "    fig.add_vline(x=lower_bound, line_dash=\"dash\", line_color=\"red\", row=1, col=2)\n",
    "    fig.add_vline(x=upper_bound, line_dash=\"dash\", line_color=\"red\", row=1, col=2)\n",
    "    \n",
    "    # Update layout\n",
    "    fig.update_layout(\n",
    "        title_text=f\"Analisis Outlier: {column}\",\n",
    "        title_font_size=16,\n",
    "        height=400,\n",
    "        width=900,\n",
    "        showlegend=False,\n",
    "        plot_bgcolor='white'\n",
    "    )\n",
    "    \n",
    "    save_plotly(fig, f\"outlier_{column}\")\n",
    "    fig.show()\n",
    "    \n",
    "    return {\n",
    "        'column': column,\n",
    "        'Q1': Q1,\n",
    "        'Q3': Q3,\n",
    "        'IQR': IQR,\n",
    "        'lower_bound': lower_bound,\n",
    "        'upper_bound': upper_bound,\n",
    "        'outlier_count': len(outliers),\n",
    "        'outlier_percentage': len(outliers) / len(df) * 100\n",
    "    }"
   ]
  },
  {
   "cell_type": "code",
   "execution_count": 59,
   "id": "17ea1282",
   "metadata": {},
   "outputs": [],
   "source": [
    "important_columns = ['MonthlyIncome', 'YearsAtCompany', 'TotalWorkingYears', \n",
    "                     'YearsSinceLastPromotion', 'NumCompaniesWorked']"
   ]
  },
  {
   "cell_type": "code",
   "execution_count": 60,
   "id": "b805f048",
   "metadata": {},
   "outputs": [
    {
     "name": "stdout",
     "output_type": "stream",
     "text": [
      "\n",
      "==================================================\n",
      "Analisis outlier untuk kolom: MonthlyIncome\n",
      "==================================================\n"
     ]
    },
    {
     "data": {
      "application/vnd.plotly.v1+json": {
       "config": {
        "plotlyServerURL": "https://plot.ly"
       },
       "data": [
        {
         "boxmean": true,
         "marker": {
          "color": "royalblue"
         },
         "name": "MonthlyIncome",
         "type": "box",
         "xaxis": "x",
         "y": {
          "bdata": "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",
          "dtype": "i2"
         },
         "yaxis": "y"
        },
        {
         "marker": {
          "color": "royalblue"
         },
         "name": "MonthlyIncome",
         "opacity": 0.7,
         "type": "histogram",
         "x": {
          "bdata": "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",
          "dtype": "i2"
         },
         "xaxis": "x2",
         "yaxis": "y2"
        }
       ],
       "layout": {
        "annotations": [
         {
          "font": {
           "size": 16
          },
          "showarrow": false,
          "text": "Boxplot",
          "x": 0.225,
          "xanchor": "center",
          "xref": "paper",
          "y": 1,
          "yanchor": "bottom",
          "yref": "paper"
         },
         {
          "font": {
           "size": 16
          },
          "showarrow": false,
          "text": "Distribusi dengan Outlier",
          "x": 0.775,
          "xanchor": "center",
          "xref": "paper",
          "y": 1,
          "yanchor": "bottom",
          "yref": "paper"
         }
        ],
        "height": 400,
        "plot_bgcolor": "white",
        "shapes": [
         {
          "line": {
           "color": "red",
           "dash": "dash"
          },
          "type": "line",
          "x0": -5291,
          "x1": -5291,
          "xref": "x2",
          "y0": 0,
          "y1": 1,
          "yref": "y2 domain"
         },
         {
          "line": {
           "color": "red",
           "dash": "dash"
          },
          "type": "line",
          "x0": 16581,
          "x1": 16581,
          "xref": "x2",
          "y0": 0,
          "y1": 1,
          "yref": "y2 domain"
         }
        ],
        "showlegend": false,
        "template": {
         "data": {
          "bar": [
           {
            "error_x": {
             "color": "#2a3f5f"
            },
            "error_y": {
             "color": "#2a3f5f"
            },
            "marker": {
             "line": {
              "color": "#E5ECF6",
              "width": 0.5
             },
             "pattern": {
              "fillmode": "overlay",
              "size": 10,
              "solidity": 0.2
             }
            },
            "type": "bar"
           }
          ],
          "barpolar": [
           {
            "marker": {
             "line": {
              "color": "#E5ECF6",
              "width": 0.5
             },
             "pattern": {
              "fillmode": "overlay",
              "size": 10,
              "solidity": 0.2
             }
            },
            "type": "barpolar"
           }
          ],
          "carpet": [
           {
            "aaxis": {
             "endlinecolor": "#2a3f5f",
             "gridcolor": "white",
             "linecolor": "white",
             "minorgridcolor": "white",
             "startlinecolor": "#2a3f5f"
            },
            "baxis": {
             "endlinecolor": "#2a3f5f",
             "gridcolor": "white",
             "linecolor": "white",
             "minorgridcolor": "white",
             "startlinecolor": "#2a3f5f"
            },
            "type": "carpet"
           }
          ],
          "choropleth": [
           {
            "colorbar": {
             "outlinewidth": 0,
             "ticks": ""
            },
            "type": "choropleth"
           }
          ],
          "contour": [
           {
            "colorbar": {
             "outlinewidth": 0,
             "ticks": ""
            },
            "colorscale": [
             [
              0,
              "#0d0887"
             ],
             [
              0.1111111111111111,
              "#46039f"
             ],
             [
              0.2222222222222222,
              "#7201a8"
             ],
             [
              0.3333333333333333,
              "#9c179e"
             ],
             [
              0.4444444444444444,
              "#bd3786"
             ],
             [
              0.5555555555555556,
              "#d8576b"
             ],
             [
              0.6666666666666666,
              "#ed7953"
             ],
             [
              0.7777777777777778,
              "#fb9f3a"
             ],
             [
              0.8888888888888888,
              "#fdca26"
             ],
             [
              1,
              "#f0f921"
             ]
            ],
            "type": "contour"
           }
          ],
          "contourcarpet": [
           {
            "colorbar": {
             "outlinewidth": 0,
             "ticks": ""
            },
            "type": "contourcarpet"
           }
          ],
          "heatmap": [
           {
            "colorbar": {
             "outlinewidth": 0,
             "ticks": ""
            },
            "colorscale": [
             [
              0,
              "#0d0887"
             ],
             [
              0.1111111111111111,
              "#46039f"
             ],
             [
              0.2222222222222222,
              "#7201a8"
             ],
             [
              0.3333333333333333,
              "#9c179e"
             ],
             [
              0.4444444444444444,
              "#bd3786"
             ],
             [
              0.5555555555555556,
              "#d8576b"
             ],
             [
              0.6666666666666666,
              "#ed7953"
             ],
             [
              0.7777777777777778,
              "#fb9f3a"
             ],
             [
              0.8888888888888888,
              "#fdca26"
             ],
             [
              1,
              "#f0f921"
             ]
            ],
            "type": "heatmap"
           }
          ],
          "histogram": [
           {
            "marker": {
             "pattern": {
              "fillmode": "overlay",
              "size": 10,
              "solidity": 0.2
             }
            },
            "type": "histogram"
           }
          ],
          "histogram2d": [
           {
            "colorbar": {
             "outlinewidth": 0,
             "ticks": ""
            },
            "colorscale": [
             [
              0,
              "#0d0887"
             ],
             [
              0.1111111111111111,
              "#46039f"
             ],
             [
              0.2222222222222222,
              "#7201a8"
             ],
             [
              0.3333333333333333,
              "#9c179e"
             ],
             [
              0.4444444444444444,
              "#bd3786"
             ],
             [
              0.5555555555555556,
              "#d8576b"
             ],
             [
              0.6666666666666666,
              "#ed7953"
             ],
             [
              0.7777777777777778,
              "#fb9f3a"
             ],
             [
              0.8888888888888888,
              "#fdca26"
             ],
             [
              1,
              "#f0f921"
             ]
            ],
            "type": "histogram2d"
           }
          ],
          "histogram2dcontour": [
           {
            "colorbar": {
             "outlinewidth": 0,
             "ticks": ""
            },
            "colorscale": [
             [
              0,
              "#0d0887"
             ],
             [
              0.1111111111111111,
              "#46039f"
             ],
             [
              0.2222222222222222,
              "#7201a8"
             ],
             [
              0.3333333333333333,
              "#9c179e"
             ],
             [
              0.4444444444444444,
              "#bd3786"
             ],
             [
              0.5555555555555556,
              "#d8576b"
             ],
             [
              0.6666666666666666,
              "#ed7953"
             ],
             [
              0.7777777777777778,
              "#fb9f3a"
             ],
             [
              0.8888888888888888,
              "#fdca26"
             ],
             [
              1,
              "#f0f921"
             ]
            ],
            "type": "histogram2dcontour"
           }
          ],
          "mesh3d": [
           {
            "colorbar": {
             "outlinewidth": 0,
             "ticks": ""
            },
            "type": "mesh3d"
           }
          ],
          "parcoords": [
           {
            "line": {
             "colorbar": {
              "outlinewidth": 0,
              "ticks": ""
             }
            },
            "type": "parcoords"
           }
          ],
          "pie": [
           {
            "automargin": true,
            "type": "pie"
           }
          ],
          "scatter": [
           {
            "fillpattern": {
             "fillmode": "overlay",
             "size": 10,
             "solidity": 0.2
            },
            "type": "scatter"
           }
          ],
          "scatter3d": [
           {
            "line": {
             "colorbar": {
              "outlinewidth": 0,
              "ticks": ""
             }
            },
            "marker": {
             "colorbar": {
              "outlinewidth": 0,
              "ticks": ""
             }
            },
            "type": "scatter3d"
           }
          ],
          "scattercarpet": [
           {
            "marker": {
             "colorbar": {
              "outlinewidth": 0,
              "ticks": ""
             }
            },
            "type": "scattercarpet"
           }
          ],
          "scattergeo": [
           {
            "marker": {
             "colorbar": {
              "outlinewidth": 0,
              "ticks": ""
             }
            },
            "type": "scattergeo"
           }
          ],
          "scattergl": [
           {
            "marker": {
             "colorbar": {
              "outlinewidth": 0,
              "ticks": ""
             }
            },
            "type": "scattergl"
           }
          ],
          "scattermap": [
           {
            "marker": {
             "colorbar": {
              "outlinewidth": 0,
              "ticks": ""
             }
            },
            "type": "scattermap"
           }
          ],
          "scattermapbox": [
           {
            "marker": {
             "colorbar": {
              "outlinewidth": 0,
              "ticks": ""
             }
            },
            "type": "scattermapbox"
           }
          ],
          "scatterpolar": [
           {
            "marker": {
             "colorbar": {
              "outlinewidth": 0,
              "ticks": ""
             }
            },
            "type": "scatterpolar"
           }
          ],
          "scatterpolargl": [
           {
            "marker": {
             "colorbar": {
              "outlinewidth": 0,
              "ticks": ""
             }
            },
            "type": "scatterpolargl"
           }
          ],
          "scatterternary": [
           {
            "marker": {
             "colorbar": {
              "outlinewidth": 0,
              "ticks": ""
             }
            },
            "type": "scatterternary"
           }
          ],
          "surface": [
           {
            "colorbar": {
             "outlinewidth": 0,
             "ticks": ""
            },
            "colorscale": [
             [
              0,
              "#0d0887"
             ],
             [
              0.1111111111111111,
              "#46039f"
             ],
             [
              0.2222222222222222,
              "#7201a8"
             ],
             [
              0.3333333333333333,
              "#9c179e"
             ],
             [
              0.4444444444444444,
              "#bd3786"
             ],
             [
              0.5555555555555556,
              "#d8576b"
             ],
             [
              0.6666666666666666,
              "#ed7953"
             ],
             [
              0.7777777777777778,
              "#fb9f3a"
             ],
             [
              0.8888888888888888,
              "#fdca26"
             ],
             [
              1,
              "#f0f921"
             ]
            ],
            "type": "surface"
           }
          ],
          "table": [
           {
            "cells": {
             "fill": {
              "color": "#EBF0F8"
             },
             "line": {
              "color": "white"
             }
            },
            "header": {
             "fill": {
              "color": "#C8D4E3"
             },
             "line": {
              "color": "white"
             }
            },
            "type": "table"
           }
          ]
         },
         "layout": {
          "annotationdefaults": {
           "arrowcolor": "#2a3f5f",
           "arrowhead": 0,
           "arrowwidth": 1
          },
          "autotypenumbers": "strict",
          "coloraxis": {
           "colorbar": {
            "outlinewidth": 0,
            "ticks": ""
           }
          },
          "colorscale": {
           "diverging": [
            [
             0,
             "#8e0152"
            ],
            [
             0.1,
             "#c51b7d"
            ],
            [
             0.2,
             "#de77ae"
            ],
            [
             0.3,
             "#f1b6da"
            ],
            [
             0.4,
             "#fde0ef"
            ],
            [
             0.5,
             "#f7f7f7"
            ],
            [
             0.6,
             "#e6f5d0"
            ],
            [
             0.7,
             "#b8e186"
            ],
            [
             0.8,
             "#7fbc41"
            ],
            [
             0.9,
             "#4d9221"
            ],
            [
             1,
             "#276419"
            ]
           ],
           "sequential": [
            [
             0,
             "#0d0887"
            ],
            [
             0.1111111111111111,
             "#46039f"
            ],
            [
             0.2222222222222222,
             "#7201a8"
            ],
            [
             0.3333333333333333,
             "#9c179e"
            ],
            [
             0.4444444444444444,
             "#bd3786"
            ],
            [
             0.5555555555555556,
             "#d8576b"
            ],
            [
             0.6666666666666666,
             "#ed7953"
            ],
            [
             0.7777777777777778,
             "#fb9f3a"
            ],
            [
             0.8888888888888888,
             "#fdca26"
            ],
            [
             1,
             "#f0f921"
            ]
           ],
           "sequentialminus": [
            [
             0,
             "#0d0887"
            ],
            [
             0.1111111111111111,
             "#46039f"
            ],
            [
             0.2222222222222222,
             "#7201a8"
            ],
            [
             0.3333333333333333,
             "#9c179e"
            ],
            [
             0.4444444444444444,
             "#bd3786"
            ],
            [
             0.5555555555555556,
             "#d8576b"
            ],
            [
             0.6666666666666666,
             "#ed7953"
            ],
            [
             0.7777777777777778,
             "#fb9f3a"
            ],
            [
             0.8888888888888888,
             "#fdca26"
            ],
            [
             1,
             "#f0f921"
            ]
           ]
          },
          "colorway": [
           "#636efa",
           "#EF553B",
           "#00cc96",
           "#ab63fa",
           "#FFA15A",
           "#19d3f3",
           "#FF6692",
           "#B6E880",
           "#FF97FF",
           "#FECB52"
          ],
          "font": {
           "color": "#2a3f5f"
          },
          "geo": {
           "bgcolor": "white",
           "lakecolor": "white",
           "landcolor": "#E5ECF6",
           "showlakes": true,
           "showland": true,
           "subunitcolor": "white"
          },
          "hoverlabel": {
           "align": "left"
          },
          "hovermode": "closest",
          "mapbox": {
           "style": "light"
          },
          "paper_bgcolor": "white",
          "plot_bgcolor": "#E5ECF6",
          "polar": {
           "angularaxis": {
            "gridcolor": "white",
            "linecolor": "white",
            "ticks": ""
           },
           "bgcolor": "#E5ECF6",
           "radialaxis": {
            "gridcolor": "white",
            "linecolor": "white",
            "ticks": ""
           }
          },
          "scene": {
           "xaxis": {
            "backgroundcolor": "#E5ECF6",
            "gridcolor": "white",
            "gridwidth": 2,
            "linecolor": "white",
            "showbackground": true,
            "ticks": "",
            "zerolinecolor": "white"
           },
           "yaxis": {
            "backgroundcolor": "#E5ECF6",
            "gridcolor": "white",
            "gridwidth": 2,
            "linecolor": "white",
            "showbackground": true,
            "ticks": "",
            "zerolinecolor": "white"
           },
           "zaxis": {
            "backgroundcolor": "#E5ECF6",
            "gridcolor": "white",
            "gridwidth": 2,
            "linecolor": "white",
            "showbackground": true,
            "ticks": "",
            "zerolinecolor": "white"
           }
          },
          "shapedefaults": {
           "line": {
            "color": "#2a3f5f"
           }
          },
          "ternary": {
           "aaxis": {
            "gridcolor": "white",
            "linecolor": "white",
            "ticks": ""
           },
           "baxis": {
            "gridcolor": "white",
            "linecolor": "white",
            "ticks": ""
           },
           "bgcolor": "#E5ECF6",
           "caxis": {
            "gridcolor": "white",
            "linecolor": "white",
            "ticks": ""
           }
          },
          "title": {
           "x": 0.05
          },
          "xaxis": {
           "automargin": true,
           "gridcolor": "white",
           "linecolor": "white",
           "ticks": "",
           "title": {
            "standoff": 15
           },
           "zerolinecolor": "white",
           "zerolinewidth": 2
          },
          "yaxis": {
           "automargin": true,
           "gridcolor": "white",
           "linecolor": "white",
           "ticks": "",
           "title": {
            "standoff": 15
           },
           "zerolinecolor": "white",
           "zerolinewidth": 2
          }
         }
        },
        "title": {
         "font": {
          "size": 16
         },
         "text": "Analisis Outlier: MonthlyIncome"
        },
        "width": 900,
        "xaxis": {
         "anchor": "y",
         "domain": [
          0,
          0.45
         ]
        },
        "xaxis2": {
         "anchor": "y2",
         "domain": [
          0.55,
          1
         ]
        },
        "yaxis": {
         "anchor": "x",
         "domain": [
          0,
          1
         ]
        },
        "yaxis2": {
         "anchor": "x2",
         "domain": [
          0,
          1
         ]
        }
       }
      }
     },
     "metadata": {},
     "output_type": "display_data"
    },
    {
     "name": "stdout",
     "output_type": "stream",
     "text": [
      "Kolom MonthlyIncome: 114 outliers (7.76%)\n",
      "Batas bawah (lower bound): -5291.0\n",
      "Batas atas (upper bound): 16581.0\n",
      "\n",
      "==================================================\n",
      "Analisis outlier untuk kolom: YearsAtCompany\n",
      "==================================================\n"
     ]
    },
    {
     "data": {
      "application/vnd.plotly.v1+json": {
       "config": {
        "plotlyServerURL": "https://plot.ly"
       },
       "data": [
        {
         "boxmean": true,
         "marker": {
          "color": "royalblue"
         },
         "name": "YearsAtCompany",
         "type": "box",
         "xaxis": "x",
         "y": {
          "bdata": "BgEKFAUBBAUIBwUBBQEJDRQEBwEGFA4NAgkBEwIFEAoHAwIBCQYFBwISBQoBCwoFCQMIAQkGAgYICgcKBQECAQ4VCQIECQUDBAEBAgUIBQsBAwIGCgcGEwgADwUBBAoFDAIDAwICBAcTBxYNDQAHAgUGCgkJBwkKIAgBAQcEBAgDCAUEAQgFCQEECQoBCQ4DCQgFAwgDCgsKAQEFDQcFAg0DFAUJCgAWAQkHAwYFBAMCBAYCCQYGCgMIAwgJAQsJCQIIDAQFARcIBAYHAgQQBB4JCQUDBgUBBQ4FBgYEAQsHFAEKAQkFBwIVBQURAQUCBQ8IBwcDBQQEHQQCBgUIFAoGAgYFBQoCBQoBAgEEBRsEChkCGQUKBQIOBQAKAAMGAQMKAxQEEgsBGAoFBgYFAgQCAwoBARMDCgUJCgEKAwoFBwoEBwMBBAoIFgcEBwMECQoKBwIDAwIFCgUEGAIJAQwHCQEiDwYDAwAFDA0BBgsFDQANAAkADwgEEAEFCgcABQEKAgMECRYJAwEUBAEFCAoJCgMFCQMEAAQMBQQDCQsGBRMKBAUWJAELCgUBBQgDBgcFCAoCAwgGDxUOAgYSCgEFHwYDBAkICQ8FCwMCCwEKAQEKBAEIAhMVBAQBDQUICgAHBQcCABIFAQUPDwAUBwEFAQoFBQ8BAAIEAgkYCAcVDwQNCAcKCwUhBQUDFgEGCgEVHwYUBQoDEAUIAAUBBAAFBwMEBgkBAggJBwICBQIAAgcJCgQFAQoECQYUCw4GBQoJAwECAQEIChIDAggCCgQFAwEGGQ4FAQIFAxAEBhUFBwQBBQ0JAAgFBQIPBwUDBQsFAQIICgQCCAsDCAUGAQEFAgUBAAEFBgoBAAEBDQELCAEBCQkFAQIFAwIECQQHAAMhDwYEDQMEBSACAxAEFAkGByEFBRYHCAAECgMLBAsEBQIaAQoaCgkBCAoDCgoCIQoRBCgFAgAWBg8FAgIJBAEDAQgJFwECCAUIBAIJBgQDCQQIFQUABQITBRIFCwAHCggBBBYBBQIWAgwBBQEQBwUFDwoKAxICCAoFDBQHCAEEBQUHFAYKAgUIBQoLBQICAQMIAgMKBQwVFQMNBAMSBwoMCgIDAhQYAgMJCQoJAxYDAQIDARECCBEFBgQKBAkBAwkFAhACCAoFCgQDAgYEAwgEDwMBCQIBCgEBAAAFEAIDAwMCFAMDCgUHAwoNCwEDBAcCBA8ECgQJAQEDCQEKBwQBAgEFEgsWAwMJCgMCBQUBCgEBAAoCBQESBAYKCgECBQEJCAIEBwULBQUDBQMKAQoKAwoLAgoQFQUFChoCBAoJBwUJFAcBBwoIAAEJAQ0CAgYDBgQFAwMGBwQFAAcKDQcOBRYlBhUBAggHBQgCBQUDEwUHAQEHEQECBQIKAxIHAwUUCgEBAwoDAAIRCQQFAwkKAQEJAQQCDgMRBQEVBQwNCgcEBAIFCAEDBQEDCwIBBQEHBAUHCgUJAgkDAAgFAwIEAwMFAgYGBgYKAwUMCggKAwQBIQwFAAcBBAgFBAYEBQcCBQ4GAwgDCQUHCgcKDwcSAQAKCAMHBQMFBwETAwIKBQELAQoIAQ0KGQIEAg0TBQYDAQgGAQYbBgEDBwEBGgEJBx8BAwEEBgcGBgUBCQcFEQUCJAkBAgEdCQUKBwIBAQEFAwELBgMHCQkDBgMEAwoBAggFCQMKCSAIBhQFCBQHGAICAwUGBAgUFAcFBwEFAwYFEAQCDxYFAgMHAAAKAQMEBwwKBQQHBA8SCBQCBQcIARQPAQYFBQsIAxQOBAATBwEFAgEHCAIBAwQBBAEBBAEEBQIHFAINBgUFBgEECQ0AAggABwYIBAADAwsICAcFAwAQCwUFDggDBQIEDgIGBwUGCwsFARYNCgMKAQkCBgAVDgcOAgUBCAoJBwEMCgEBBQIRBhgIAhQDAwcICAUJBQUEBQQFBQIOCgEOAQQA",
          "dtype": "i1"
         },
         "yaxis": "y"
        },
        {
         "marker": {
          "color": "royalblue"
         },
         "name": "YearsAtCompany",
         "opacity": 0.7,
         "type": "histogram",
         "x": {
          "bdata": "BgEKFAUBBAUIBwUBBQEJDRQEBwEGFA4NAgkBEwIFEAoHAwIBCQYFBwISBQoBCwoFCQMIAQkGAgYICgcKBQECAQ4VCQIECQUDBAEBAgUIBQsBAwIGCgcGEwgADwUBBAoFDAIDAwICBAcTBxYNDQAHAgUGCgkJBwkKIAgBAQcEBAgDCAUEAQgFCQEECQoBCQ4DCQgFAwgDCgsKAQEFDQcFAg0DFAUJCgAWAQkHAwYFBAMCBAYCCQYGCgMIAwgJAQsJCQIIDAQFARcIBAYHAgQQBB4JCQUDBgUBBQ4FBgYEAQsHFAEKAQkFBwIVBQURAQUCBQ8IBwcDBQQEHQQCBgUIFAoGAgYFBQoCBQoBAgEEBRsEChkCGQUKBQIOBQAKAAMGAQMKAxQEEgsBGAoFBgYFAgQCAwoBARMDCgUJCgEKAwoFBwoEBwMBBAoIFgcEBwMECQoKBwIDAwIFCgUEGAIJAQwHCQEiDwYDAwAFDA0BBgsFDQANAAkADwgEEAEFCgcABQEKAgMECRYJAwEUBAEFCAoJCgMFCQMEAAQMBQQDCQsGBRMKBAUWJAELCgUBBQgDBgcFCAoCAwgGDxUOAgYSCgEFHwYDBAkICQ8FCwMCCwEKAQEKBAEIAhMVBAQBDQUICgAHBQcCABIFAQUPDwAUBwEFAQoFBQ8BAAIEAgkYCAcVDwQNCAcKCwUhBQUDFgEGCgEVHwYUBQoDEAUIAAUBBAAFBwMEBgkBAggJBwICBQIAAgcJCgQFAQoECQYUCw4GBQoJAwECAQEIChIDAggCCgQFAwEGGQ4FAQIFAxAEBhUFBwQBBQ0JAAgFBQIPBwUDBQsFAQIICgQCCAsDCAUGAQEFAgUBAAEFBgoBAAEBDQELCAEBCQkFAQIFAwIECQQHAAMhDwYEDQMEBSACAxAEFAkGByEFBRYHCAAECgMLBAsEBQIaAQoaCgkBCAoDCgoCIQoRBCgFAgAWBg8FAgIJBAEDAQgJFwECCAUIBAIJBgQDCQQIFQUABQITBRIFCwAHCggBBBYBBQIWAgwBBQEQBwUFDwoKAxICCAoFDBQHCAEEBQUHFAYKAgUIBQoLBQICAQMIAgMKBQwVFQMNBAMSBwoMCgIDAhQYAgMJCQoJAxYDAQIDARECCBEFBgQKBAkBAwkFAhACCAoFCgQDAgYEAwgEDwMBCQIBCgEBAAAFEAIDAwMCFAMDCgUHAwoNCwEDBAcCBA8ECgQJAQEDCQEKBwQBAgEFEgsWAwMJCgMCBQUBCgEBAAoCBQESBAYKCgECBQEJCAIEBwULBQUDBQMKAQoKAwoLAgoQFQUFChoCBAoJBwUJFAcBBwoIAAEJAQ0CAgYDBgQFAwMGBwQFAAcKDQcOBRYlBhUBAggHBQgCBQUDEwUHAQEHEQECBQIKAxIHAwUUCgEBAwoDAAIRCQQFAwkKAQEJAQQCDgMRBQEVBQwNCgcEBAIFCAEDBQEDCwIBBQEHBAUHCgUJAgkDAAgFAwIEAwMFAgYGBgYKAwUMCggKAwQBIQwFAAcBBAgFBAYEBQcCBQ4GAwgDCQUHCgcKDwcSAQAKCAMHBQMFBwETAwIKBQELAQoIAQ0KGQIEAg0TBQYDAQgGAQYbBgEDBwEBGgEJBx8BAwEEBgcGBgUBCQcFEQUCJAkBAgEdCQUKBwIBAQEFAwELBgMHCQkDBgMEAwoBAggFCQMKCSAIBhQFCBQHGAICAwUGBAgUFAcFBwEFAwYFEAQCDxYFAgMHAAAKAQMEBwwKBQQHBA8SCBQCBQcIARQPAQYFBQsIAxQOBAATBwEFAgEHCAIBAwQBBAEBBAEEBQIHFAINBgUFBgEECQ0AAggABwYIBAADAwsICAcFAwAQCwUFDggDBQIEDgIGBwUGCwsFARYNCgMKAQkCBgAVDgcOAgUBCAoJBwEMCgEBBQIRBhgIAhQDAwcICAUJBQUEBQQFBQIOCgEOAQQA",
          "dtype": "i1"
         },
         "xaxis": "x2",
         "yaxis": "y2"
        }
       ],
       "layout": {
        "annotations": [
         {
          "font": {
           "size": 16
          },
          "showarrow": false,
          "text": "Boxplot",
          "x": 0.225,
          "xanchor": "center",
          "xref": "paper",
          "y": 1,
          "yanchor": "bottom",
          "yref": "paper"
         },
         {
          "font": {
           "size": 16
          },
          "showarrow": false,
          "text": "Distribusi dengan Outlier",
          "x": 0.775,
          "xanchor": "center",
          "xref": "paper",
          "y": 1,
          "yanchor": "bottom",
          "yref": "paper"
         }
        ],
        "height": 400,
        "plot_bgcolor": "white",
        "shapes": [
         {
          "line": {
           "color": "red",
           "dash": "dash"
          },
          "type": "line",
          "x0": -6,
          "x1": -6,
          "xref": "x2",
          "y0": 0,
          "y1": 1,
          "yref": "y2 domain"
         },
         {
          "line": {
           "color": "red",
           "dash": "dash"
          },
          "type": "line",
          "x0": 18,
          "x1": 18,
          "xref": "x2",
          "y0": 0,
          "y1": 1,
          "yref": "y2 domain"
         }
        ],
        "showlegend": false,
        "template": {
         "data": {
          "bar": [
           {
            "error_x": {
             "color": "#2a3f5f"
            },
            "error_y": {
             "color": "#2a3f5f"
            },
            "marker": {
             "line": {
              "color": "#E5ECF6",
              "width": 0.5
             },
             "pattern": {
              "fillmode": "overlay",
              "size": 10,
              "solidity": 0.2
             }
            },
            "type": "bar"
           }
          ],
          "barpolar": [
           {
            "marker": {
             "line": {
              "color": "#E5ECF6",
              "width": 0.5
             },
             "pattern": {
              "fillmode": "overlay",
              "size": 10,
              "solidity": 0.2
             }
            },
            "type": "barpolar"
           }
          ],
          "carpet": [
           {
            "aaxis": {
             "endlinecolor": "#2a3f5f",
             "gridcolor": "white",
             "linecolor": "white",
             "minorgridcolor": "white",
             "startlinecolor": "#2a3f5f"
            },
            "baxis": {
             "endlinecolor": "#2a3f5f",
             "gridcolor": "white",
             "linecolor": "white",
             "minorgridcolor": "white",
             "startlinecolor": "#2a3f5f"
            },
            "type": "carpet"
           }
          ],
          "choropleth": [
           {
            "colorbar": {
             "outlinewidth": 0,
             "ticks": ""
            },
            "type": "choropleth"
           }
          ],
          "contour": [
           {
            "colorbar": {
             "outlinewidth": 0,
             "ticks": ""
            },
            "colorscale": [
             [
              0,
              "#0d0887"
             ],
             [
              0.1111111111111111,
              "#46039f"
             ],
             [
              0.2222222222222222,
              "#7201a8"
             ],
             [
              0.3333333333333333,
              "#9c179e"
             ],
             [
              0.4444444444444444,
              "#bd3786"
             ],
             [
              0.5555555555555556,
              "#d8576b"
             ],
             [
              0.6666666666666666,
              "#ed7953"
             ],
             [
              0.7777777777777778,
              "#fb9f3a"
             ],
             [
              0.8888888888888888,
              "#fdca26"
             ],
             [
              1,
              "#f0f921"
             ]
            ],
            "type": "contour"
           }
          ],
          "contourcarpet": [
           {
            "colorbar": {
             "outlinewidth": 0,
             "ticks": ""
            },
            "type": "contourcarpet"
           }
          ],
          "heatmap": [
           {
            "colorbar": {
             "outlinewidth": 0,
             "ticks": ""
            },
            "colorscale": [
             [
              0,
              "#0d0887"
             ],
             [
              0.1111111111111111,
              "#46039f"
             ],
             [
              0.2222222222222222,
              "#7201a8"
             ],
             [
              0.3333333333333333,
              "#9c179e"
             ],
             [
              0.4444444444444444,
              "#bd3786"
             ],
             [
              0.5555555555555556,
              "#d8576b"
             ],
             [
              0.6666666666666666,
              "#ed7953"
             ],
             [
              0.7777777777777778,
              "#fb9f3a"
             ],
             [
              0.8888888888888888,
              "#fdca26"
             ],
             [
              1,
              "#f0f921"
             ]
            ],
            "type": "heatmap"
           }
          ],
          "histogram": [
           {
            "marker": {
             "pattern": {
              "fillmode": "overlay",
              "size": 10,
              "solidity": 0.2
             }
            },
            "type": "histogram"
           }
          ],
          "histogram2d": [
           {
            "colorbar": {
             "outlinewidth": 0,
             "ticks": ""
            },
            "colorscale": [
             [
              0,
              "#0d0887"
             ],
             [
              0.1111111111111111,
              "#46039f"
             ],
             [
              0.2222222222222222,
              "#7201a8"
             ],
             [
              0.3333333333333333,
              "#9c179e"
             ],
             [
              0.4444444444444444,
              "#bd3786"
             ],
             [
              0.5555555555555556,
              "#d8576b"
             ],
             [
              0.6666666666666666,
              "#ed7953"
             ],
             [
              0.7777777777777778,
              "#fb9f3a"
             ],
             [
              0.8888888888888888,
              "#fdca26"
             ],
             [
              1,
              "#f0f921"
             ]
            ],
            "type": "histogram2d"
           }
          ],
          "histogram2dcontour": [
           {
            "colorbar": {
             "outlinewidth": 0,
             "ticks": ""
            },
            "colorscale": [
             [
              0,
              "#0d0887"
             ],
             [
              0.1111111111111111,
              "#46039f"
             ],
             [
              0.2222222222222222,
              "#7201a8"
             ],
             [
              0.3333333333333333,
              "#9c179e"
             ],
             [
              0.4444444444444444,
              "#bd3786"
             ],
             [
              0.5555555555555556,
              "#d8576b"
             ],
             [
              0.6666666666666666,
              "#ed7953"
             ],
             [
              0.7777777777777778,
              "#fb9f3a"
             ],
             [
              0.8888888888888888,
              "#fdca26"
             ],
             [
              1,
              "#f0f921"
             ]
            ],
            "type": "histogram2dcontour"
           }
          ],
          "mesh3d": [
           {
            "colorbar": {
             "outlinewidth": 0,
             "ticks": ""
            },
            "type": "mesh3d"
           }
          ],
          "parcoords": [
           {
            "line": {
             "colorbar": {
              "outlinewidth": 0,
              "ticks": ""
             }
            },
            "type": "parcoords"
           }
          ],
          "pie": [
           {
            "automargin": true,
            "type": "pie"
           }
          ],
          "scatter": [
           {
            "fillpattern": {
             "fillmode": "overlay",
             "size": 10,
             "solidity": 0.2
            },
            "type": "scatter"
           }
          ],
          "scatter3d": [
           {
            "line": {
             "colorbar": {
              "outlinewidth": 0,
              "ticks": ""
             }
            },
            "marker": {
             "colorbar": {
              "outlinewidth": 0,
              "ticks": ""
             }
            },
            "type": "scatter3d"
           }
          ],
          "scattercarpet": [
           {
            "marker": {
             "colorbar": {
              "outlinewidth": 0,
              "ticks": ""
             }
            },
            "type": "scattercarpet"
           }
          ],
          "scattergeo": [
           {
            "marker": {
             "colorbar": {
              "outlinewidth": 0,
              "ticks": ""
             }
            },
            "type": "scattergeo"
           }
          ],
          "scattergl": [
           {
            "marker": {
             "colorbar": {
              "outlinewidth": 0,
              "ticks": ""
             }
            },
            "type": "scattergl"
           }
          ],
          "scattermap": [
           {
            "marker": {
             "colorbar": {
              "outlinewidth": 0,
              "ticks": ""
             }
            },
            "type": "scattermap"
           }
          ],
          "scattermapbox": [
           {
            "marker": {
             "colorbar": {
              "outlinewidth": 0,
              "ticks": ""
             }
            },
            "type": "scattermapbox"
           }
          ],
          "scatterpolar": [
           {
            "marker": {
             "colorbar": {
              "outlinewidth": 0,
              "ticks": ""
             }
            },
            "type": "scatterpolar"
           }
          ],
          "scatterpolargl": [
           {
            "marker": {
             "colorbar": {
              "outlinewidth": 0,
              "ticks": ""
             }
            },
            "type": "scatterpolargl"
           }
          ],
          "scatterternary": [
           {
            "marker": {
             "colorbar": {
              "outlinewidth": 0,
              "ticks": ""
             }
            },
            "type": "scatterternary"
           }
          ],
          "surface": [
           {
            "colorbar": {
             "outlinewidth": 0,
             "ticks": ""
            },
            "colorscale": [
             [
              0,
              "#0d0887"
             ],
             [
              0.1111111111111111,
              "#46039f"
             ],
             [
              0.2222222222222222,
              "#7201a8"
             ],
             [
              0.3333333333333333,
              "#9c179e"
             ],
             [
              0.4444444444444444,
              "#bd3786"
             ],
             [
              0.5555555555555556,
              "#d8576b"
             ],
             [
              0.6666666666666666,
              "#ed7953"
             ],
             [
              0.7777777777777778,
              "#fb9f3a"
             ],
             [
              0.8888888888888888,
              "#fdca26"
             ],
             [
              1,
              "#f0f921"
             ]
            ],
            "type": "surface"
           }
          ],
          "table": [
           {
            "cells": {
             "fill": {
              "color": "#EBF0F8"
             },
             "line": {
              "color": "white"
             }
            },
            "header": {
             "fill": {
              "color": "#C8D4E3"
             },
             "line": {
              "color": "white"
             }
            },
            "type": "table"
           }
          ]
         },
         "layout": {
          "annotationdefaults": {
           "arrowcolor": "#2a3f5f",
           "arrowhead": 0,
           "arrowwidth": 1
          },
          "autotypenumbers": "strict",
          "coloraxis": {
           "colorbar": {
            "outlinewidth": 0,
            "ticks": ""
           }
          },
          "colorscale": {
           "diverging": [
            [
             0,
             "#8e0152"
            ],
            [
             0.1,
             "#c51b7d"
            ],
            [
             0.2,
             "#de77ae"
            ],
            [
             0.3,
             "#f1b6da"
            ],
            [
             0.4,
             "#fde0ef"
            ],
            [
             0.5,
             "#f7f7f7"
            ],
            [
             0.6,
             "#e6f5d0"
            ],
            [
             0.7,
             "#b8e186"
            ],
            [
             0.8,
             "#7fbc41"
            ],
            [
             0.9,
             "#4d9221"
            ],
            [
             1,
             "#276419"
            ]
           ],
           "sequential": [
            [
             0,
             "#0d0887"
            ],
            [
             0.1111111111111111,
             "#46039f"
            ],
            [
             0.2222222222222222,
             "#7201a8"
            ],
            [
             0.3333333333333333,
             "#9c179e"
            ],
            [
             0.4444444444444444,
             "#bd3786"
            ],
            [
             0.5555555555555556,
             "#d8576b"
            ],
            [
             0.6666666666666666,
             "#ed7953"
            ],
            [
             0.7777777777777778,
             "#fb9f3a"
            ],
            [
             0.8888888888888888,
             "#fdca26"
            ],
            [
             1,
             "#f0f921"
            ]
           ],
           "sequentialminus": [
            [
             0,
             "#0d0887"
            ],
            [
             0.1111111111111111,
             "#46039f"
            ],
            [
             0.2222222222222222,
             "#7201a8"
            ],
            [
             0.3333333333333333,
             "#9c179e"
            ],
            [
             0.4444444444444444,
             "#bd3786"
            ],
            [
             0.5555555555555556,
             "#d8576b"
            ],
            [
             0.6666666666666666,
             "#ed7953"
            ],
            [
             0.7777777777777778,
             "#fb9f3a"
            ],
            [
             0.8888888888888888,
             "#fdca26"
            ],
            [
             1,
             "#f0f921"
            ]
           ]
          },
          "colorway": [
           "#636efa",
           "#EF553B",
           "#00cc96",
           "#ab63fa",
           "#FFA15A",
           "#19d3f3",
           "#FF6692",
           "#B6E880",
           "#FF97FF",
           "#FECB52"
          ],
          "font": {
           "color": "#2a3f5f"
          },
          "geo": {
           "bgcolor": "white",
           "lakecolor": "white",
           "landcolor": "#E5ECF6",
           "showlakes": true,
           "showland": true,
           "subunitcolor": "white"
          },
          "hoverlabel": {
           "align": "left"
          },
          "hovermode": "closest",
          "mapbox": {
           "style": "light"
          },
          "paper_bgcolor": "white",
          "plot_bgcolor": "#E5ECF6",
          "polar": {
           "angularaxis": {
            "gridcolor": "white",
            "linecolor": "white",
            "ticks": ""
           },
           "bgcolor": "#E5ECF6",
           "radialaxis": {
            "gridcolor": "white",
            "linecolor": "white",
            "ticks": ""
           }
          },
          "scene": {
           "xaxis": {
            "backgroundcolor": "#E5ECF6",
            "gridcolor": "white",
            "gridwidth": 2,
            "linecolor": "white",
            "showbackground": true,
            "ticks": "",
            "zerolinecolor": "white"
           },
           "yaxis": {
            "backgroundcolor": "#E5ECF6",
            "gridcolor": "white",
            "gridwidth": 2,
            "linecolor": "white",
            "showbackground": true,
            "ticks": "",
            "zerolinecolor": "white"
           },
           "zaxis": {
            "backgroundcolor": "#E5ECF6",
            "gridcolor": "white",
            "gridwidth": 2,
            "linecolor": "white",
            "showbackground": true,
            "ticks": "",
            "zerolinecolor": "white"
           }
          },
          "shapedefaults": {
           "line": {
            "color": "#2a3f5f"
           }
          },
          "ternary": {
           "aaxis": {
            "gridcolor": "white",
            "linecolor": "white",
            "ticks": ""
           },
           "baxis": {
            "gridcolor": "white",
            "linecolor": "white",
            "ticks": ""
           },
           "bgcolor": "#E5ECF6",
           "caxis": {
            "gridcolor": "white",
            "linecolor": "white",
            "ticks": ""
           }
          },
          "title": {
           "x": 0.05
          },
          "xaxis": {
           "automargin": true,
           "gridcolor": "white",
           "linecolor": "white",
           "ticks": "",
           "title": {
            "standoff": 15
           },
           "zerolinecolor": "white",
           "zerolinewidth": 2
          },
          "yaxis": {
           "automargin": true,
           "gridcolor": "white",
           "linecolor": "white",
           "ticks": "",
           "title": {
            "standoff": 15
           },
           "zerolinecolor": "white",
           "zerolinewidth": 2
          }
         }
        },
        "title": {
         "font": {
          "size": 16
         },
         "text": "Analisis Outlier: YearsAtCompany"
        },
        "width": 900,
        "xaxis": {
         "anchor": "y",
         "domain": [
          0,
          0.45
         ]
        },
        "xaxis2": {
         "anchor": "y2",
         "domain": [
          0.55,
          1
         ]
        },
        "yaxis": {
         "anchor": "x",
         "domain": [
          0,
          1
         ]
        },
        "yaxis2": {
         "anchor": "x2",
         "domain": [
          0,
          1
         ]
        }
       }
      }
     },
     "metadata": {},
     "output_type": "display_data"
    },
    {
     "name": "stdout",
     "output_type": "stream",
     "text": [
      "Kolom YearsAtCompany: 104 outliers (7.07%)\n",
      "Batas bawah (lower bound): -6.0\n",
      "Batas atas (upper bound): 18.0\n",
      "\n",
      "==================================================\n",
      "Analisis outlier untuk kolom: TotalWorkingYears\n",
      "==================================================\n"
     ]
    },
    {
     "data": {
      "application/vnd.plotly.v1+json": {
       "config": {
        "plotlyServerURL": "https://plot.ly"
       },
       "data": [
        {
         "boxmean": true,
         "marker": {
          "color": "royalblue"
         },
         "name": "TotalWorkingYears",
         "type": "box",
         "xaxis": "x",
         "y": {
          "bdata": "Bw8SFxQBBhgICgUBCxAKERQYBxcGFhANBgoCFQcbEQoHBQMHCQgFDAQTBgoBCwoGCgMRGwkGBwYICg4MFAEHCREVEAIHCRgKCQcdBAsJCAsBBQcQChgIFw4ODxAYBAoGDQ8HBAIDCAcZBxcTDwAHBAgHCgkKCgkLIQoBAQgGChkECQ4MCAgGCQkEDQoZCg4ECQwIBgoSCgwKBBQRDQgGAw8RFAYMCgAWCwoVBAoKBAQGBAcCGQ0GCgsKCAgJCgwKCgMKFwUOARkJBggcEwcTByAgCgUFBwYBBg4MBgkbDgwNFAEKASMMDAIWBgYWBAcKBRAQBwgGCgYIIQcGCAkKFQ0IBwYIBgoMICQBBAwSBx0FChoIHxMlBgIPDAQKBQkGAgcTAxYFFgwBJAohBgYGAwYGBgoBESEDCgUKEw4KCRYGBwoFCgsFFgoKFgkGJAYKCQoMChAKAwgKCgUJGQUMAQ8ICQEiEAcIBAMVIQ4HBwwIEAgOBQsADwgJEBMNDAcGBhMKCQMUChcKBAEVBQgGCAoLCgoFDhMMAQoWDAQICQ8IChQKBAccJQQPFQkHBh0FBggKCgoDCAoJERUPBg0SCgoFHwYECxMJCRsHDAURCwEKAhIKBQEJChQXBggRDwURCgoJBgcGBxIGBQ8PHggdDQEIARIaBQ8BABgFAwoYCAcVERQOCgcLDQoiCQ8EFwkGCgEWKAkVCgwGEAYKCgUMFA4FChQGBwkUBBwKDxwFEAQIByAKHwQFAw4FDQ4VCw4YBQoOAwECAQYJChYECAkDCggFFAEGGRAKAQIGAxAEBhUHCgUBHxAKCAgSBQMQEgYHBQsGAQcKCgcDCAsDCgUIDwEMBREQBgEIBgoBBwEIFxIMCQEBCgkGAQYFBgQGCgYKBw0iEAoJFwQFBiAgDxAFFQkGDSEGBhcICgAKHAQaBAsECAYcAQobCg0BCwoKCgoQIQoUBSgICQoYBhAJAwIKBQcEEwgfGQEECQkIBAUJBgUJCgQIHAUAHAoUBhUGCwYPChIRDxgBBggWBAwBBQERDAUKEQoTDxQCDA4JDRUHCAERCAoLFAYKEwoXCAoMDAIWAQMICAgKBQwXFQcQEgUSEgoPCgYJFxUYGhkJCQsJBBgDBgQFARYKDREeBgcKBBYFAwogHCUICAoFCgQGAgoHBwkKDwoQCgIRChUFDwANEQIDCxUEFQQDJAUKFwoNDxQHEgsTFA8EDAULARgKDAwKCAQBAgEJExIaBAUJCgUCBgUBCiATBA4CDAEUDQoKCgoHDwgNCQQGBwkOBQUDFwcKAQoKBRMQAg4VFQkHCh0HCAoQCwkfHQcQByMLARIJAQ0IAgYDChQJBBsREQcHAAoKEgwaHBYmCBUBAwkNCQgCBQkFFgYJEgoPGRMHBgIKCRUkCgUUCgECBAoGAAISCgoeBwoKFRcJBgQQDgMRBxQVBQwRChoFCQYjEgEKCAgEDAYBCAgHBgUIChUKBgkaAAgFBg8JCgkIBAgGCQYLBwYPCggKBQoHIhcGFh8FCQgKCQcIBhQCBg4MBAgDCgoIChkKEAwUAQAKDRUJBQMGChYXAwIKBwENCwodAQ0KGQUFCA8YEQwEAQoJAwYcCQERCQEBGgEJDh8BCxkSFQcGDAYiEAgGEQkKJA0SAgofCQcKDwIBAQYVCgENDAcVGgkWBgYOCAoLDwgLEQgKGiASBhodDRgJGBcIBQgJCAoUFQcKBwEHCQYIEg0HDxwcAx4KBQwKAQMFCg0eBhkPEBAUChQCCBEJARceDAYGBQ0KBBgOBAsTHAQGFw8JCgMQAwoEBg8BBAcFCAcLFAkNCBIFJQoeCg4DCAsBEQYJBQUFEQ0ICA8GHREQDgUFDggEBgMIDgkHCwgGCwwHAR0QCgkKAQkGBg0VGg0PAgoDCRAKCAMMCgEBBgYRBhoJBxgICQgICBMKCQUEBRAbBhUSCgoTAQYB",
          "dtype": "i1"
         },
         "yaxis": "y"
        },
        {
         "marker": {
          "color": "royalblue"
         },
         "name": "TotalWorkingYears",
         "opacity": 0.7,
         "type": "histogram",
         "x": {
          "bdata": "Bw8SFxQBBhgICgUBCxAKERQYBxcGFhANBgoCFQcbEQoHBQMHCQgFDAQTBgoBCwoGCgMRGwkGBwYICg4MFAEHCREVEAIHCRgKCQcdBAsJCAsBBQcQChgIFw4ODxAYBAoGDQ8HBAIDCAcZBxcTDwAHBAgHCgkKCgkLIQoBAQgGChkECQ4MCAgGCQkEDQoZCg4ECQwIBgoSCgwKBBQRDQgGAw8RFAYMCgAWCwoVBAoKBAQGBAcCGQ0GCgsKCAgJCgwKCgMKFwUOARkJBggcEwcTByAgCgUFBwYBBg4MBgkbDgwNFAEKASMMDAIWBgYWBAcKBRAQBwgGCgYIIQcGCAkKFQ0IBwYIBgoMICQBBAwSBx0FChoIHxMlBgIPDAQKBQkGAgcTAxYFFgwBJAohBgYGAwYGBgoBESEDCgUKEw4KCRYGBwoFCgsFFgoKFgkGJAYKCQoMChAKAwgKCgUJGQUMAQ8ICQEiEAcIBAMVIQ4HBwwIEAgOBQsADwgJEBMNDAcGBhMKCQMUChcKBAEVBQgGCAoLCgoFDhMMAQoWDAQICQ8IChQKBAccJQQPFQkHBh0FBggKCgoDCAoJERUPBg0SCgoFHwYECxMJCRsHDAURCwEKAhIKBQEJChQXBggRDwURCgoJBgcGBxIGBQ8PHggdDQEIARIaBQ8BABgFAwoYCAcVERQOCgcLDQoiCQ8EFwkGCgEWKAkVCgwGEAYKCgUMFA4FChQGBwkUBBwKDxwFEAQIByAKHwQFAw4FDQ4VCw4YBQoOAwECAQYJChYECAkDCggFFAEGGRAKAQIGAxAEBhUHCgUBHxAKCAgSBQMQEgYHBQsGAQcKCgcDCAsDCgUIDwEMBREQBgEIBgoBBwEIFxIMCQEBCgkGAQYFBgQGCgYKBw0iEAoJFwQFBiAgDxAFFQkGDSEGBhcICgAKHAQaBAsECAYcAQobCg0BCwoKCgoQIQoUBSgICQoYBhAJAwIKBQcEEwgfGQEECQkIBAUJBgUJCgQIHAUAHAoUBhUGCwYPChIRDxgBBggWBAwBBQERDAUKEQoTDxQCDA4JDRUHCAERCAoLFAYKEwoXCAoMDAIWAQMICAgKBQwXFQcQEgUSEgoPCgYJFxUYGhkJCQsJBBgDBgQFARYKDREeBgcKBBYFAwogHCUICAoFCgQGAgoHBwkKDwoQCgIRChUFDwANEQIDCxUEFQQDJAUKFwoNDxQHEgsTFA8EDAULARgKDAwKCAQBAgEJExIaBAUJCgUCBgUBCiATBA4CDAEUDQoKCgoHDwgNCQQGBwkOBQUDFwcKAQoKBRMQAg4VFQkHCh0HCAoQCwkfHQcQByMLARIJAQ0IAgYDChQJBBsREQcHAAoKEgwaHBYmCBUBAwkNCQgCBQkFFgYJEgoPGRMHBgIKCRUkCgUUCgECBAoGAAISCgoeBwoKFRcJBgQQDgMRBxQVBQwRChoFCQYjEgEKCAgEDAYBCAgHBgUIChUKBgkaAAgFBg8JCgkIBAgGCQYLBwYPCggKBQoHIhcGFh8FCQgKCQcIBhQCBg4MBAgDCgoIChkKEAwUAQAKDRUJBQMGChYXAwIKBwENCwodAQ0KGQUFCA8YEQwEAQoJAwYcCQERCQEBGgEJDh8BCxkSFQcGDAYiEAgGEQkKJA0SAgofCQcKDwIBAQYVCgENDAcVGgkWBgYOCAoLDwgLEQgKGiASBhodDRgJGBcIBQgJCAoUFQcKBwEHCQYIEg0HDxwcAx4KBQwKAQMFCg0eBhkPEBAUChQCCBEJARceDAYGBQ0KBBgOBAsTHAQGFw8JCgMQAwoEBg8BBAcFCAcLFAkNCBIFJQoeCg4DCAsBEQYJBQUFEQ0ICA8GHREQDgUFDggEBgMIDgkHCwgGCwwHAR0QCgkKAQkGBg0VGg0PAgoDCRAKCAMMCgEBBgYRBhoJBxgICQgICBMKCQUEBRAbBhUSCgoTAQYB",
          "dtype": "i1"
         },
         "xaxis": "x2",
         "yaxis": "y2"
        }
       ],
       "layout": {
        "annotations": [
         {
          "font": {
           "size": 16
          },
          "showarrow": false,
          "text": "Boxplot",
          "x": 0.225,
          "xanchor": "center",
          "xref": "paper",
          "y": 1,
          "yanchor": "bottom",
          "yref": "paper"
         },
         {
          "font": {
           "size": 16
          },
          "showarrow": false,
          "text": "Distribusi dengan Outlier",
          "x": 0.775,
          "xanchor": "center",
          "xref": "paper",
          "y": 1,
          "yanchor": "bottom",
          "yref": "paper"
         }
        ],
        "height": 400,
        "plot_bgcolor": "white",
        "shapes": [
         {
          "line": {
           "color": "red",
           "dash": "dash"
          },
          "type": "line",
          "x0": -7.5,
          "x1": -7.5,
          "xref": "x2",
          "y0": 0,
          "y1": 1,
          "yref": "y2 domain"
         },
         {
          "line": {
           "color": "red",
           "dash": "dash"
          },
          "type": "line",
          "x0": 28.5,
          "x1": 28.5,
          "xref": "x2",
          "y0": 0,
          "y1": 1,
          "yref": "y2 domain"
         }
        ],
        "showlegend": false,
        "template": {
         "data": {
          "bar": [
           {
            "error_x": {
             "color": "#2a3f5f"
            },
            "error_y": {
             "color": "#2a3f5f"
            },
            "marker": {
             "line": {
              "color": "#E5ECF6",
              "width": 0.5
             },
             "pattern": {
              "fillmode": "overlay",
              "size": 10,
              "solidity": 0.2
             }
            },
            "type": "bar"
           }
          ],
          "barpolar": [
           {
            "marker": {
             "line": {
              "color": "#E5ECF6",
              "width": 0.5
             },
             "pattern": {
              "fillmode": "overlay",
              "size": 10,
              "solidity": 0.2
             }
            },
            "type": "barpolar"
           }
          ],
          "carpet": [
           {
            "aaxis": {
             "endlinecolor": "#2a3f5f",
             "gridcolor": "white",
             "linecolor": "white",
             "minorgridcolor": "white",
             "startlinecolor": "#2a3f5f"
            },
            "baxis": {
             "endlinecolor": "#2a3f5f",
             "gridcolor": "white",
             "linecolor": "white",
             "minorgridcolor": "white",
             "startlinecolor": "#2a3f5f"
            },
            "type": "carpet"
           }
          ],
          "choropleth": [
           {
            "colorbar": {
             "outlinewidth": 0,
             "ticks": ""
            },
            "type": "choropleth"
           }
          ],
          "contour": [
           {
            "colorbar": {
             "outlinewidth": 0,
             "ticks": ""
            },
            "colorscale": [
             [
              0,
              "#0d0887"
             ],
             [
              0.1111111111111111,
              "#46039f"
             ],
             [
              0.2222222222222222,
              "#7201a8"
             ],
             [
              0.3333333333333333,
              "#9c179e"
             ],
             [
              0.4444444444444444,
              "#bd3786"
             ],
             [
              0.5555555555555556,
              "#d8576b"
             ],
             [
              0.6666666666666666,
              "#ed7953"
             ],
             [
              0.7777777777777778,
              "#fb9f3a"
             ],
             [
              0.8888888888888888,
              "#fdca26"
             ],
             [
              1,
              "#f0f921"
             ]
            ],
            "type": "contour"
           }
          ],
          "contourcarpet": [
           {
            "colorbar": {
             "outlinewidth": 0,
             "ticks": ""
            },
            "type": "contourcarpet"
           }
          ],
          "heatmap": [
           {
            "colorbar": {
             "outlinewidth": 0,
             "ticks": ""
            },
            "colorscale": [
             [
              0,
              "#0d0887"
             ],
             [
              0.1111111111111111,
              "#46039f"
             ],
             [
              0.2222222222222222,
              "#7201a8"
             ],
             [
              0.3333333333333333,
              "#9c179e"
             ],
             [
              0.4444444444444444,
              "#bd3786"
             ],
             [
              0.5555555555555556,
              "#d8576b"
             ],
             [
              0.6666666666666666,
              "#ed7953"
             ],
             [
              0.7777777777777778,
              "#fb9f3a"
             ],
             [
              0.8888888888888888,
              "#fdca26"
             ],
             [
              1,
              "#f0f921"
             ]
            ],
            "type": "heatmap"
           }
          ],
          "histogram": [
           {
            "marker": {
             "pattern": {
              "fillmode": "overlay",
              "size": 10,
              "solidity": 0.2
             }
            },
            "type": "histogram"
           }
          ],
          "histogram2d": [
           {
            "colorbar": {
             "outlinewidth": 0,
             "ticks": ""
            },
            "colorscale": [
             [
              0,
              "#0d0887"
             ],
             [
              0.1111111111111111,
              "#46039f"
             ],
             [
              0.2222222222222222,
              "#7201a8"
             ],
             [
              0.3333333333333333,
              "#9c179e"
             ],
             [
              0.4444444444444444,
              "#bd3786"
             ],
             [
              0.5555555555555556,
              "#d8576b"
             ],
             [
              0.6666666666666666,
              "#ed7953"
             ],
             [
              0.7777777777777778,
              "#fb9f3a"
             ],
             [
              0.8888888888888888,
              "#fdca26"
             ],
             [
              1,
              "#f0f921"
             ]
            ],
            "type": "histogram2d"
           }
          ],
          "histogram2dcontour": [
           {
            "colorbar": {
             "outlinewidth": 0,
             "ticks": ""
            },
            "colorscale": [
             [
              0,
              "#0d0887"
             ],
             [
              0.1111111111111111,
              "#46039f"
             ],
             [
              0.2222222222222222,
              "#7201a8"
             ],
             [
              0.3333333333333333,
              "#9c179e"
             ],
             [
              0.4444444444444444,
              "#bd3786"
             ],
             [
              0.5555555555555556,
              "#d8576b"
             ],
             [
              0.6666666666666666,
              "#ed7953"
             ],
             [
              0.7777777777777778,
              "#fb9f3a"
             ],
             [
              0.8888888888888888,
              "#fdca26"
             ],
             [
              1,
              "#f0f921"
             ]
            ],
            "type": "histogram2dcontour"
           }
          ],
          "mesh3d": [
           {
            "colorbar": {
             "outlinewidth": 0,
             "ticks": ""
            },
            "type": "mesh3d"
           }
          ],
          "parcoords": [
           {
            "line": {
             "colorbar": {
              "outlinewidth": 0,
              "ticks": ""
             }
            },
            "type": "parcoords"
           }
          ],
          "pie": [
           {
            "automargin": true,
            "type": "pie"
           }
          ],
          "scatter": [
           {
            "fillpattern": {
             "fillmode": "overlay",
             "size": 10,
             "solidity": 0.2
            },
            "type": "scatter"
           }
          ],
          "scatter3d": [
           {
            "line": {
             "colorbar": {
              "outlinewidth": 0,
              "ticks": ""
             }
            },
            "marker": {
             "colorbar": {
              "outlinewidth": 0,
              "ticks": ""
             }
            },
            "type": "scatter3d"
           }
          ],
          "scattercarpet": [
           {
            "marker": {
             "colorbar": {
              "outlinewidth": 0,
              "ticks": ""
             }
            },
            "type": "scattercarpet"
           }
          ],
          "scattergeo": [
           {
            "marker": {
             "colorbar": {
              "outlinewidth": 0,
              "ticks": ""
             }
            },
            "type": "scattergeo"
           }
          ],
          "scattergl": [
           {
            "marker": {
             "colorbar": {
              "outlinewidth": 0,
              "ticks": ""
             }
            },
            "type": "scattergl"
           }
          ],
          "scattermap": [
           {
            "marker": {
             "colorbar": {
              "outlinewidth": 0,
              "ticks": ""
             }
            },
            "type": "scattermap"
           }
          ],
          "scattermapbox": [
           {
            "marker": {
             "colorbar": {
              "outlinewidth": 0,
              "ticks": ""
             }
            },
            "type": "scattermapbox"
           }
          ],
          "scatterpolar": [
           {
            "marker": {
             "colorbar": {
              "outlinewidth": 0,
              "ticks": ""
             }
            },
            "type": "scatterpolar"
           }
          ],
          "scatterpolargl": [
           {
            "marker": {
             "colorbar": {
              "outlinewidth": 0,
              "ticks": ""
             }
            },
            "type": "scatterpolargl"
           }
          ],
          "scatterternary": [
           {
            "marker": {
             "colorbar": {
              "outlinewidth": 0,
              "ticks": ""
             }
            },
            "type": "scatterternary"
           }
          ],
          "surface": [
           {
            "colorbar": {
             "outlinewidth": 0,
             "ticks": ""
            },
            "colorscale": [
             [
              0,
              "#0d0887"
             ],
             [
              0.1111111111111111,
              "#46039f"
             ],
             [
              0.2222222222222222,
              "#7201a8"
             ],
             [
              0.3333333333333333,
              "#9c179e"
             ],
             [
              0.4444444444444444,
              "#bd3786"
             ],
             [
              0.5555555555555556,
              "#d8576b"
             ],
             [
              0.6666666666666666,
              "#ed7953"
             ],
             [
              0.7777777777777778,
              "#fb9f3a"
             ],
             [
              0.8888888888888888,
              "#fdca26"
             ],
             [
              1,
              "#f0f921"
             ]
            ],
            "type": "surface"
           }
          ],
          "table": [
           {
            "cells": {
             "fill": {
              "color": "#EBF0F8"
             },
             "line": {
              "color": "white"
             }
            },
            "header": {
             "fill": {
              "color": "#C8D4E3"
             },
             "line": {
              "color": "white"
             }
            },
            "type": "table"
           }
          ]
         },
         "layout": {
          "annotationdefaults": {
           "arrowcolor": "#2a3f5f",
           "arrowhead": 0,
           "arrowwidth": 1
          },
          "autotypenumbers": "strict",
          "coloraxis": {
           "colorbar": {
            "outlinewidth": 0,
            "ticks": ""
           }
          },
          "colorscale": {
           "diverging": [
            [
             0,
             "#8e0152"
            ],
            [
             0.1,
             "#c51b7d"
            ],
            [
             0.2,
             "#de77ae"
            ],
            [
             0.3,
             "#f1b6da"
            ],
            [
             0.4,
             "#fde0ef"
            ],
            [
             0.5,
             "#f7f7f7"
            ],
            [
             0.6,
             "#e6f5d0"
            ],
            [
             0.7,
             "#b8e186"
            ],
            [
             0.8,
             "#7fbc41"
            ],
            [
             0.9,
             "#4d9221"
            ],
            [
             1,
             "#276419"
            ]
           ],
           "sequential": [
            [
             0,
             "#0d0887"
            ],
            [
             0.1111111111111111,
             "#46039f"
            ],
            [
             0.2222222222222222,
             "#7201a8"
            ],
            [
             0.3333333333333333,
             "#9c179e"
            ],
            [
             0.4444444444444444,
             "#bd3786"
            ],
            [
             0.5555555555555556,
             "#d8576b"
            ],
            [
             0.6666666666666666,
             "#ed7953"
            ],
            [
             0.7777777777777778,
             "#fb9f3a"
            ],
            [
             0.8888888888888888,
             "#fdca26"
            ],
            [
             1,
             "#f0f921"
            ]
           ],
           "sequentialminus": [
            [
             0,
             "#0d0887"
            ],
            [
             0.1111111111111111,
             "#46039f"
            ],
            [
             0.2222222222222222,
             "#7201a8"
            ],
            [
             0.3333333333333333,
             "#9c179e"
            ],
            [
             0.4444444444444444,
             "#bd3786"
            ],
            [
             0.5555555555555556,
             "#d8576b"
            ],
            [
             0.6666666666666666,
             "#ed7953"
            ],
            [
             0.7777777777777778,
             "#fb9f3a"
            ],
            [
             0.8888888888888888,
             "#fdca26"
            ],
            [
             1,
             "#f0f921"
            ]
           ]
          },
          "colorway": [
           "#636efa",
           "#EF553B",
           "#00cc96",
           "#ab63fa",
           "#FFA15A",
           "#19d3f3",
           "#FF6692",
           "#B6E880",
           "#FF97FF",
           "#FECB52"
          ],
          "font": {
           "color": "#2a3f5f"
          },
          "geo": {
           "bgcolor": "white",
           "lakecolor": "white",
           "landcolor": "#E5ECF6",
           "showlakes": true,
           "showland": true,
           "subunitcolor": "white"
          },
          "hoverlabel": {
           "align": "left"
          },
          "hovermode": "closest",
          "mapbox": {
           "style": "light"
          },
          "paper_bgcolor": "white",
          "plot_bgcolor": "#E5ECF6",
          "polar": {
           "angularaxis": {
            "gridcolor": "white",
            "linecolor": "white",
            "ticks": ""
           },
           "bgcolor": "#E5ECF6",
           "radialaxis": {
            "gridcolor": "white",
            "linecolor": "white",
            "ticks": ""
           }
          },
          "scene": {
           "xaxis": {
            "backgroundcolor": "#E5ECF6",
            "gridcolor": "white",
            "gridwidth": 2,
            "linecolor": "white",
            "showbackground": true,
            "ticks": "",
            "zerolinecolor": "white"
           },
           "yaxis": {
            "backgroundcolor": "#E5ECF6",
            "gridcolor": "white",
            "gridwidth": 2,
            "linecolor": "white",
            "showbackground": true,
            "ticks": "",
            "zerolinecolor": "white"
           },
           "zaxis": {
            "backgroundcolor": "#E5ECF6",
            "gridcolor": "white",
            "gridwidth": 2,
            "linecolor": "white",
            "showbackground": true,
            "ticks": "",
            "zerolinecolor": "white"
           }
          },
          "shapedefaults": {
           "line": {
            "color": "#2a3f5f"
           }
          },
          "ternary": {
           "aaxis": {
            "gridcolor": "white",
            "linecolor": "white",
            "ticks": ""
           },
           "baxis": {
            "gridcolor": "white",
            "linecolor": "white",
            "ticks": ""
           },
           "bgcolor": "#E5ECF6",
           "caxis": {
            "gridcolor": "white",
            "linecolor": "white",
            "ticks": ""
           }
          },
          "title": {
           "x": 0.05
          },
          "xaxis": {
           "automargin": true,
           "gridcolor": "white",
           "linecolor": "white",
           "ticks": "",
           "title": {
            "standoff": 15
           },
           "zerolinecolor": "white",
           "zerolinewidth": 2
          },
          "yaxis": {
           "automargin": true,
           "gridcolor": "white",
           "linecolor": "white",
           "ticks": "",
           "title": {
            "standoff": 15
           },
           "zerolinecolor": "white",
           "zerolinewidth": 2
          }
         }
        },
        "title": {
         "font": {
          "size": 16
         },
         "text": "Analisis Outlier: TotalWorkingYears"
        },
        "width": 900,
        "xaxis": {
         "anchor": "y",
         "domain": [
          0,
          0.45
         ]
        },
        "xaxis2": {
         "anchor": "y2",
         "domain": [
          0.55,
          1
         ]
        },
        "yaxis": {
         "anchor": "x",
         "domain": [
          0,
          1
         ]
        },
        "yaxis2": {
         "anchor": "x2",
         "domain": [
          0,
          1
         ]
        }
       }
      }
     },
     "metadata": {},
     "output_type": "display_data"
    },
    {
     "name": "stdout",
     "output_type": "stream",
     "text": [
      "Kolom TotalWorkingYears: 63 outliers (4.29%)\n",
      "Batas bawah (lower bound): -7.5\n",
      "Batas atas (upper bound): 28.5\n",
      "\n",
      "==================================================\n",
      "Analisis outlier untuk kolom: YearsSinceLastPromotion\n",
      "==================================================\n"
     ]
    },
    {
     "data": {
      "application/vnd.plotly.v1+json": {
       "config": {
        "plotlyServerURL": "https://plot.ly"
       },
       "data": [
        {
         "boxmean": true,
         "marker": {
          "color": "royalblue"
         },
         "name": "YearsSinceLastPromotion",
         "type": "box",
         "xaxis": "x",
         "y": {
          "bdata": "AQACBAAAAAEBBwAAAQAIAQsBAAABBQELAgEADwIBBAgFAQIABwAABwIDAAUACgEBAQEBAAcBAgEAAAUIAAAAAAsIAAIBBQABAQAAAgADAQcAAAIAAAAADAAABAABAQEAAgIBAAIBAQACAQ8CBAAAAgAAAgUAAQcABgcAAAcBAgAABgAAAAcAAQACBQEAAAMBAgAAAAEBAAUGAAAAAQcBAgoBAgEHCQAAAAQBAQMAAAECAgACBQABAAAHAgEAAAIDAwIHCwABAQ4HAQAEAgABAAwBCAEBAAQAAQkCAQEBAAQECwAIAAgAAgINAQABAAAAAAYBAAcBAgABCwACAAAHAAABAgABAQACAQAAAgAAAA0BAA4CAwAHAQIHAQABAAAAAAAAAAsBCwYAAgEBAAAAAgACAAkAAA8BCAAAAAAHAAAAAAAAAQEAAQAHCwABBwEAAwQABwIBAQIAAAMAAQAAAAIHAAABBQEBAQAAAwQAAAUBAwAFAAAACwABAgAACQUAAQAGAgAABg0BAgAJAQAAAAABAQEEBgIBAAABAQEABwUABAsGAQAOBAAGCQEAAwcAAQABBwAAAAAABAsEAgAEAAAAAAEBAQcEAQQBAAACAQEAAAAAAwAAAgIMAQAABgAGAwAAAQAAAAwAAAAFAgAEBgEAAAYAAQAAAAIBAgEOAwABBgEDBAcBBgABAQECDQABBwADDQAEAAcAAQEBAAAAAQAAAQIAAAAAAgABBwECAAIAAAAHBQMBAAkAAwAEAwUAAAEAAgACAAABBw0AAgIBAAEBAQAAAwYAAAAEAAMAAQwCAQEAAQEDAAEAAgEKAQEBAQMBAAIFAAACAAQCBwABAAABAgAAAAAAAAEBAAAADAAFAAAAAAAAAAEAAQIBBwEGAAALBQEBBQACAAoCAQYDAAABBQ8AAQEABwAAAQAAAQQCAAEPAAAACQEAAAMBCQgCAAgAAQ8AAgAFAAoBAgICAQACAAcGDgACBwEGAAIBAQAABwACBwQAAAIBAQsBAwAHAwcAAQQAAAICAgYAAAAFAAAABQkAAQIBAwAAAgsBAQAAAQABAwEGAgAAAAUBAAICAAEHAAAAAQUPCwEEAwAOAAcLAAICAgEJAAEAAQAEAQQBAAICAQ8CBwwEAAABAQIAAAABAg4CBwQDCAEBAAAAAAcACAEAAQEAAAAAAAAAAAIBAQACCQAABAAHAQcABQAAAAECAQUBAAEAAQAABAAAAQIBAgABAAADAQAGAQACAQEAAAAAAAcAAQABAQAAAAACAAABAQEBAAELAAEBBAEJAAAEAQQDAgEGDQEEBwECAAEEAQEADAUAAAEBAAAAAQMCAAEAAQABAQABBwAAAAAABQEBBAsBAAIAAgEBAAUCAAEACwEBAAABDAACAAIHAAAHAAANBgAAAAQBAAAPCAEBAQcBAAABAAACAgEFAAAFAAMGCQQBAQIABAAAAQABBgIAAAABAQEDAAEHAgQAAAEAAgICAAEBAgQBAQEBAAAFAAMIAQAADwQBAAAAAAcAAgEAAQECAQQBAgABBwAAAAAIAAABAAAABwEBAAAABQAJAAICAQAEAAAAAAQJBAIAAgMDAQAAAAEBAAEPAAAAAAABAwAAAQ4AAAABAQABAQAABwcBBQABAgcAAQALAAAFAQIAAAAEAAEDAwEHBwgBBAEDAQAAAgcAAAEAAQ0ABAUAAAMBDwICAAEAAAADAgABBwEBAQABBQECBAsEAgIDAAABAAIAAQUBAgADAAICAAECAAcDAA8GAAEBAAUHAA4GAAALBwAEAgAAAAIAAQEAAQEAAwABAQIAAAIJAAAAAAAAAQMAAgcAAAMAAQAAAQEBAQYEAQAKBQAAAgcBAQEABgEBBwABAgUBAAwECAEBAAACAAAHBAUCAgAAAAQBAQABAQAAAAILAQEBAg0BAQcHBwABAQEAAAACAQAIAQABAAAA",
          "dtype": "i1"
         },
         "yaxis": "y"
        },
        {
         "marker": {
          "color": "royalblue"
         },
         "name": "YearsSinceLastPromotion",
         "opacity": 0.7,
         "type": "histogram",
         "x": {
          "bdata": "AQACBAAAAAEBBwAAAQAIAQsBAAABBQELAgEADwIBBAgFAQIABwAABwIDAAUACgEBAQEBAAcBAgEAAAUIAAAAAAsIAAIBBQABAQAAAgADAQcAAAIAAAAADAAABAABAQEAAgIBAAIBAQACAQ8CBAAAAgAAAgUAAQcABgcAAAcBAgAABgAAAAcAAQACBQEAAAMBAgAAAAEBAAUGAAAAAQcBAgoBAgEHCQAAAAQBAQMAAAECAgACBQABAAAHAgEAAAIDAwIHCwABAQ4HAQAEAgABAAwBCAEBAAQAAQkCAQEBAAQECwAIAAgAAgINAQABAAAAAAYBAAcBAgABCwACAAAHAAABAgABAQACAQAAAgAAAA0BAA4CAwAHAQIHAQABAAAAAAAAAAsBCwYAAgEBAAAAAgACAAkAAA8BCAAAAAAHAAAAAAAAAQEAAQAHCwABBwEAAwQABwIBAQIAAAMAAQAAAAIHAAABBQEBAQAAAwQAAAUBAwAFAAAACwABAgAACQUAAQAGAgAABg0BAgAJAQAAAAABAQEEBgIBAAABAQEABwUABAsGAQAOBAAGCQEAAwcAAQABBwAAAAAABAsEAgAEAAAAAAEBAQcEAQQBAAACAQEAAAAAAwAAAgIMAQAABgAGAwAAAQAAAAwAAAAFAgAEBgEAAAYAAQAAAAIBAgEOAwABBgEDBAcBBgABAQECDQABBwADDQAEAAcAAQEBAAAAAQAAAQIAAAAAAgABBwECAAIAAAAHBQMBAAkAAwAEAwUAAAEAAgACAAABBw0AAgIBAAEBAQAAAwYAAAAEAAMAAQwCAQEAAQEDAAEAAgEKAQEBAQMBAAIFAAACAAQCBwABAAABAgAAAAAAAAEBAAAADAAFAAAAAAAAAAEAAQIBBwEGAAALBQEBBQACAAoCAQYDAAABBQ8AAQEABwAAAQAAAQQCAAEPAAAACQEAAAMBCQgCAAgAAQ8AAgAFAAoBAgICAQACAAcGDgACBwEGAAIBAQAABwACBwQAAAIBAQsBAwAHAwcAAQQAAAICAgYAAAAFAAAABQkAAQIBAwAAAgsBAQAAAQABAwEGAgAAAAUBAAICAAEHAAAAAQUPCwEEAwAOAAcLAAICAgEJAAEAAQAEAQQBAAICAQ8CBwwEAAABAQIAAAABAg4CBwQDCAEBAAAAAAcACAEAAQEAAAAAAAAAAAIBAQACCQAABAAHAQcABQAAAAECAQUBAAEAAQAABAAAAQIBAgABAAADAQAGAQACAQEAAAAAAAcAAQABAQAAAAACAAABAQEBAAELAAEBBAEJAAAEAQQDAgEGDQEEBwECAAEEAQEADAUAAAEBAAAAAQMCAAEAAQABAQABBwAAAAAABQEBBAsBAAIAAgEBAAUCAAEACwEBAAABDAACAAIHAAAHAAANBgAAAAQBAAAPCAEBAQcBAAABAAACAgEFAAAFAAMGCQQBAQIABAAAAQABBgIAAAABAQEDAAEHAgQAAAEAAgICAAEBAgQBAQEBAAAFAAMIAQAADwQBAAAAAAcAAgEAAQECAQQBAgABBwAAAAAIAAABAAAABwEBAAAABQAJAAICAQAEAAAAAAQJBAIAAgMDAQAAAAEBAAEPAAAAAAABAwAAAQ4AAAABAQABAQAABwcBBQABAgcAAQALAAAFAQIAAAAEAAEDAwEHBwgBBAEDAQAAAgcAAAEAAQ0ABAUAAAMBDwICAAEAAAADAgABBwEBAQABBQECBAsEAgIDAAABAAIAAQUBAgADAAICAAECAAcDAA8GAAEBAAUHAA4GAAALBwAEAgAAAAIAAQEAAQEAAwABAQIAAAIJAAAAAAAAAQMAAgcAAAMAAQAAAQEBAQYEAQAKBQAAAgcBAQEABgEBBwABAgUBAAwECAEBAAACAAAHBAUCAgAAAAQBAQABAQAAAAILAQEBAg0BAQcHBwABAQEAAAACAQAIAQABAAAA",
          "dtype": "i1"
         },
         "xaxis": "x2",
         "yaxis": "y2"
        }
       ],
       "layout": {
        "annotations": [
         {
          "font": {
           "size": 16
          },
          "showarrow": false,
          "text": "Boxplot",
          "x": 0.225,
          "xanchor": "center",
          "xref": "paper",
          "y": 1,
          "yanchor": "bottom",
          "yref": "paper"
         },
         {
          "font": {
           "size": 16
          },
          "showarrow": false,
          "text": "Distribusi dengan Outlier",
          "x": 0.775,
          "xanchor": "center",
          "xref": "paper",
          "y": 1,
          "yanchor": "bottom",
          "yref": "paper"
         }
        ],
        "height": 400,
        "plot_bgcolor": "white",
        "shapes": [
         {
          "line": {
           "color": "red",
           "dash": "dash"
          },
          "type": "line",
          "x0": -4.5,
          "x1": -4.5,
          "xref": "x2",
          "y0": 0,
          "y1": 1,
          "yref": "y2 domain"
         },
         {
          "line": {
           "color": "red",
           "dash": "dash"
          },
          "type": "line",
          "x0": 7.5,
          "x1": 7.5,
          "xref": "x2",
          "y0": 0,
          "y1": 1,
          "yref": "y2 domain"
         }
        ],
        "showlegend": false,
        "template": {
         "data": {
          "bar": [
           {
            "error_x": {
             "color": "#2a3f5f"
            },
            "error_y": {
             "color": "#2a3f5f"
            },
            "marker": {
             "line": {
              "color": "#E5ECF6",
              "width": 0.5
             },
             "pattern": {
              "fillmode": "overlay",
              "size": 10,
              "solidity": 0.2
             }
            },
            "type": "bar"
           }
          ],
          "barpolar": [
           {
            "marker": {
             "line": {
              "color": "#E5ECF6",
              "width": 0.5
             },
             "pattern": {
              "fillmode": "overlay",
              "size": 10,
              "solidity": 0.2
             }
            },
            "type": "barpolar"
           }
          ],
          "carpet": [
           {
            "aaxis": {
             "endlinecolor": "#2a3f5f",
             "gridcolor": "white",
             "linecolor": "white",
             "minorgridcolor": "white",
             "startlinecolor": "#2a3f5f"
            },
            "baxis": {
             "endlinecolor": "#2a3f5f",
             "gridcolor": "white",
             "linecolor": "white",
             "minorgridcolor": "white",
             "startlinecolor": "#2a3f5f"
            },
            "type": "carpet"
           }
          ],
          "choropleth": [
           {
            "colorbar": {
             "outlinewidth": 0,
             "ticks": ""
            },
            "type": "choropleth"
           }
          ],
          "contour": [
           {
            "colorbar": {
             "outlinewidth": 0,
             "ticks": ""
            },
            "colorscale": [
             [
              0,
              "#0d0887"
             ],
             [
              0.1111111111111111,
              "#46039f"
             ],
             [
              0.2222222222222222,
              "#7201a8"
             ],
             [
              0.3333333333333333,
              "#9c179e"
             ],
             [
              0.4444444444444444,
              "#bd3786"
             ],
             [
              0.5555555555555556,
              "#d8576b"
             ],
             [
              0.6666666666666666,
              "#ed7953"
             ],
             [
              0.7777777777777778,
              "#fb9f3a"
             ],
             [
              0.8888888888888888,
              "#fdca26"
             ],
             [
              1,
              "#f0f921"
             ]
            ],
            "type": "contour"
           }
          ],
          "contourcarpet": [
           {
            "colorbar": {
             "outlinewidth": 0,
             "ticks": ""
            },
            "type": "contourcarpet"
           }
          ],
          "heatmap": [
           {
            "colorbar": {
             "outlinewidth": 0,
             "ticks": ""
            },
            "colorscale": [
             [
              0,
              "#0d0887"
             ],
             [
              0.1111111111111111,
              "#46039f"
             ],
             [
              0.2222222222222222,
              "#7201a8"
             ],
             [
              0.3333333333333333,
              "#9c179e"
             ],
             [
              0.4444444444444444,
              "#bd3786"
             ],
             [
              0.5555555555555556,
              "#d8576b"
             ],
             [
              0.6666666666666666,
              "#ed7953"
             ],
             [
              0.7777777777777778,
              "#fb9f3a"
             ],
             [
              0.8888888888888888,
              "#fdca26"
             ],
             [
              1,
              "#f0f921"
             ]
            ],
            "type": "heatmap"
           }
          ],
          "histogram": [
           {
            "marker": {
             "pattern": {
              "fillmode": "overlay",
              "size": 10,
              "solidity": 0.2
             }
            },
            "type": "histogram"
           }
          ],
          "histogram2d": [
           {
            "colorbar": {
             "outlinewidth": 0,
             "ticks": ""
            },
            "colorscale": [
             [
              0,
              "#0d0887"
             ],
             [
              0.1111111111111111,
              "#46039f"
             ],
             [
              0.2222222222222222,
              "#7201a8"
             ],
             [
              0.3333333333333333,
              "#9c179e"
             ],
             [
              0.4444444444444444,
              "#bd3786"
             ],
             [
              0.5555555555555556,
              "#d8576b"
             ],
             [
              0.6666666666666666,
              "#ed7953"
             ],
             [
              0.7777777777777778,
              "#fb9f3a"
             ],
             [
              0.8888888888888888,
              "#fdca26"
             ],
             [
              1,
              "#f0f921"
             ]
            ],
            "type": "histogram2d"
           }
          ],
          "histogram2dcontour": [
           {
            "colorbar": {
             "outlinewidth": 0,
             "ticks": ""
            },
            "colorscale": [
             [
              0,
              "#0d0887"
             ],
             [
              0.1111111111111111,
              "#46039f"
             ],
             [
              0.2222222222222222,
              "#7201a8"
             ],
             [
              0.3333333333333333,
              "#9c179e"
             ],
             [
              0.4444444444444444,
              "#bd3786"
             ],
             [
              0.5555555555555556,
              "#d8576b"
             ],
             [
              0.6666666666666666,
              "#ed7953"
             ],
             [
              0.7777777777777778,
              "#fb9f3a"
             ],
             [
              0.8888888888888888,
              "#fdca26"
             ],
             [
              1,
              "#f0f921"
             ]
            ],
            "type": "histogram2dcontour"
           }
          ],
          "mesh3d": [
           {
            "colorbar": {
             "outlinewidth": 0,
             "ticks": ""
            },
            "type": "mesh3d"
           }
          ],
          "parcoords": [
           {
            "line": {
             "colorbar": {
              "outlinewidth": 0,
              "ticks": ""
             }
            },
            "type": "parcoords"
           }
          ],
          "pie": [
           {
            "automargin": true,
            "type": "pie"
           }
          ],
          "scatter": [
           {
            "fillpattern": {
             "fillmode": "overlay",
             "size": 10,
             "solidity": 0.2
            },
            "type": "scatter"
           }
          ],
          "scatter3d": [
           {
            "line": {
             "colorbar": {
              "outlinewidth": 0,
              "ticks": ""
             }
            },
            "marker": {
             "colorbar": {
              "outlinewidth": 0,
              "ticks": ""
             }
            },
            "type": "scatter3d"
           }
          ],
          "scattercarpet": [
           {
            "marker": {
             "colorbar": {
              "outlinewidth": 0,
              "ticks": ""
             }
            },
            "type": "scattercarpet"
           }
          ],
          "scattergeo": [
           {
            "marker": {
             "colorbar": {
              "outlinewidth": 0,
              "ticks": ""
             }
            },
            "type": "scattergeo"
           }
          ],
          "scattergl": [
           {
            "marker": {
             "colorbar": {
              "outlinewidth": 0,
              "ticks": ""
             }
            },
            "type": "scattergl"
           }
          ],
          "scattermap": [
           {
            "marker": {
             "colorbar": {
              "outlinewidth": 0,
              "ticks": ""
             }
            },
            "type": "scattermap"
           }
          ],
          "scattermapbox": [
           {
            "marker": {
             "colorbar": {
              "outlinewidth": 0,
              "ticks": ""
             }
            },
            "type": "scattermapbox"
           }
          ],
          "scatterpolar": [
           {
            "marker": {
             "colorbar": {
              "outlinewidth": 0,
              "ticks": ""
             }
            },
            "type": "scatterpolar"
           }
          ],
          "scatterpolargl": [
           {
            "marker": {
             "colorbar": {
              "outlinewidth": 0,
              "ticks": ""
             }
            },
            "type": "scatterpolargl"
           }
          ],
          "scatterternary": [
           {
            "marker": {
             "colorbar": {
              "outlinewidth": 0,
              "ticks": ""
             }
            },
            "type": "scatterternary"
           }
          ],
          "surface": [
           {
            "colorbar": {
             "outlinewidth": 0,
             "ticks": ""
            },
            "colorscale": [
             [
              0,
              "#0d0887"
             ],
             [
              0.1111111111111111,
              "#46039f"
             ],
             [
              0.2222222222222222,
              "#7201a8"
             ],
             [
              0.3333333333333333,
              "#9c179e"
             ],
             [
              0.4444444444444444,
              "#bd3786"
             ],
             [
              0.5555555555555556,
              "#d8576b"
             ],
             [
              0.6666666666666666,
              "#ed7953"
             ],
             [
              0.7777777777777778,
              "#fb9f3a"
             ],
             [
              0.8888888888888888,
              "#fdca26"
             ],
             [
              1,
              "#f0f921"
             ]
            ],
            "type": "surface"
           }
          ],
          "table": [
           {
            "cells": {
             "fill": {
              "color": "#EBF0F8"
             },
             "line": {
              "color": "white"
             }
            },
            "header": {
             "fill": {
              "color": "#C8D4E3"
             },
             "line": {
              "color": "white"
             }
            },
            "type": "table"
           }
          ]
         },
         "layout": {
          "annotationdefaults": {
           "arrowcolor": "#2a3f5f",
           "arrowhead": 0,
           "arrowwidth": 1
          },
          "autotypenumbers": "strict",
          "coloraxis": {
           "colorbar": {
            "outlinewidth": 0,
            "ticks": ""
           }
          },
          "colorscale": {
           "diverging": [
            [
             0,
             "#8e0152"
            ],
            [
             0.1,
             "#c51b7d"
            ],
            [
             0.2,
             "#de77ae"
            ],
            [
             0.3,
             "#f1b6da"
            ],
            [
             0.4,
             "#fde0ef"
            ],
            [
             0.5,
             "#f7f7f7"
            ],
            [
             0.6,
             "#e6f5d0"
            ],
            [
             0.7,
             "#b8e186"
            ],
            [
             0.8,
             "#7fbc41"
            ],
            [
             0.9,
             "#4d9221"
            ],
            [
             1,
             "#276419"
            ]
           ],
           "sequential": [
            [
             0,
             "#0d0887"
            ],
            [
             0.1111111111111111,
             "#46039f"
            ],
            [
             0.2222222222222222,
             "#7201a8"
            ],
            [
             0.3333333333333333,
             "#9c179e"
            ],
            [
             0.4444444444444444,
             "#bd3786"
            ],
            [
             0.5555555555555556,
             "#d8576b"
            ],
            [
             0.6666666666666666,
             "#ed7953"
            ],
            [
             0.7777777777777778,
             "#fb9f3a"
            ],
            [
             0.8888888888888888,
             "#fdca26"
            ],
            [
             1,
             "#f0f921"
            ]
           ],
           "sequentialminus": [
            [
             0,
             "#0d0887"
            ],
            [
             0.1111111111111111,
             "#46039f"
            ],
            [
             0.2222222222222222,
             "#7201a8"
            ],
            [
             0.3333333333333333,
             "#9c179e"
            ],
            [
             0.4444444444444444,
             "#bd3786"
            ],
            [
             0.5555555555555556,
             "#d8576b"
            ],
            [
             0.6666666666666666,
             "#ed7953"
            ],
            [
             0.7777777777777778,
             "#fb9f3a"
            ],
            [
             0.8888888888888888,
             "#fdca26"
            ],
            [
             1,
             "#f0f921"
            ]
           ]
          },
          "colorway": [
           "#636efa",
           "#EF553B",
           "#00cc96",
           "#ab63fa",
           "#FFA15A",
           "#19d3f3",
           "#FF6692",
           "#B6E880",
           "#FF97FF",
           "#FECB52"
          ],
          "font": {
           "color": "#2a3f5f"
          },
          "geo": {
           "bgcolor": "white",
           "lakecolor": "white",
           "landcolor": "#E5ECF6",
           "showlakes": true,
           "showland": true,
           "subunitcolor": "white"
          },
          "hoverlabel": {
           "align": "left"
          },
          "hovermode": "closest",
          "mapbox": {
           "style": "light"
          },
          "paper_bgcolor": "white",
          "plot_bgcolor": "#E5ECF6",
          "polar": {
           "angularaxis": {
            "gridcolor": "white",
            "linecolor": "white",
            "ticks": ""
           },
           "bgcolor": "#E5ECF6",
           "radialaxis": {
            "gridcolor": "white",
            "linecolor": "white",
            "ticks": ""
           }
          },
          "scene": {
           "xaxis": {
            "backgroundcolor": "#E5ECF6",
            "gridcolor": "white",
            "gridwidth": 2,
            "linecolor": "white",
            "showbackground": true,
            "ticks": "",
            "zerolinecolor": "white"
           },
           "yaxis": {
            "backgroundcolor": "#E5ECF6",
            "gridcolor": "white",
            "gridwidth": 2,
            "linecolor": "white",
            "showbackground": true,
            "ticks": "",
            "zerolinecolor": "white"
           },
           "zaxis": {
            "backgroundcolor": "#E5ECF6",
            "gridcolor": "white",
            "gridwidth": 2,
            "linecolor": "white",
            "showbackground": true,
            "ticks": "",
            "zerolinecolor": "white"
           }
          },
          "shapedefaults": {
           "line": {
            "color": "#2a3f5f"
           }
          },
          "ternary": {
           "aaxis": {
            "gridcolor": "white",
            "linecolor": "white",
            "ticks": ""
           },
           "baxis": {
            "gridcolor": "white",
            "linecolor": "white",
            "ticks": ""
           },
           "bgcolor": "#E5ECF6",
           "caxis": {
            "gridcolor": "white",
            "linecolor": "white",
            "ticks": ""
           }
          },
          "title": {
           "x": 0.05
          },
          "xaxis": {
           "automargin": true,
           "gridcolor": "white",
           "linecolor": "white",
           "ticks": "",
           "title": {
            "standoff": 15
           },
           "zerolinecolor": "white",
           "zerolinewidth": 2
          },
          "yaxis": {
           "automargin": true,
           "gridcolor": "white",
           "linecolor": "white",
           "ticks": "",
           "title": {
            "standoff": 15
           },
           "zerolinecolor": "white",
           "zerolinewidth": 2
          }
         }
        },
        "title": {
         "font": {
          "size": 16
         },
         "text": "Analisis Outlier: YearsSinceLastPromotion"
        },
        "width": 900,
        "xaxis": {
         "anchor": "y",
         "domain": [
          0,
          0.45
         ]
        },
        "xaxis2": {
         "anchor": "y2",
         "domain": [
          0.55,
          1
         ]
        },
        "yaxis": {
         "anchor": "x",
         "domain": [
          0,
          1
         ]
        },
        "yaxis2": {
         "anchor": "x2",
         "domain": [
          0,
          1
         ]
        }
       }
      }
     },
     "metadata": {},
     "output_type": "display_data"
    },
    {
     "name": "stdout",
     "output_type": "stream",
     "text": [
      "Kolom YearsSinceLastPromotion: 107 outliers (7.28%)\n",
      "Batas bawah (lower bound): -4.5\n",
      "Batas atas (upper bound): 7.5\n",
      "\n",
      "==================================================\n",
      "Analisis outlier untuk kolom: NumCompaniesWorked\n",
      "==================================================\n"
     ]
    },
    {
     "data": {
      "application/vnd.plotly.v1+json": {
       "config": {
        "plotlyServerURL": "https://plot.ly"
       },
       "data": [
        {
         "boxmean": true,
         "marker": {
          "color": "royalblue"
         },
         "name": "NumCompaniesWorked",
         "type": "box",
         "xaxis": "x",
         "y": {
          "bdata": "AAUJBQIBAgUBAwEBAwIABwEEAQIBBwcBAgEABggDAAEBAwAEAQUBBAcAAAEBAQEAAAEDBAEBBgEBAQMGBQEDBAUBAgEIAQIEBQMECAIAAgEBAgQCAQIEBgUDAQUDAQEAAAYGAAEABQECAQEHAwEBBgUAAQEAAwEAAQQBAQAIAgMAAQIEAgEAAQQBBAEGAAEAAQQCAwMEAQABBAMGAQAAAAMEAQAEAQEBBwADAAMJAQAEAQABBgMBAQkEBQEBCAAAAAAHAwEFAQMABgMEAgIICAIDAAEEAAABAAEEAQcDCQACAQEBAQQEAwEAAQEFBwQEAQEIAQEFCQcCBQQDAgQJAAQCCAEJAAEDCQMBAwQCAwUAAQECAggDAQEAAwgBAgQBAAQGAQkABwABCAEHAQEAAAUGAwEBBQQBAQEAAwMBBAgAAQEAAwMCBgEFAQkCCQIHAQEDAgUGAQMFAQEDAAcDAQcAAQEBAQAHAAMCBgAEAAEDCAQABQcBAQEGAQMICQEEAAgBCQECAAAAAAEAAQgAAQEFAQQBAgMCAQQDAgEJAQQIAwABAQQIAAMJAgkFAAIGAQACCAEABAQEBgEABQUBAQIBAQEAAwIAAQcCAQkEAQEBAAIBAQEACAEDCAYGCQEDAQUDAQEFBwEABgMBAgMCBAEDAQMIAQEBAQcAAAABAQEBAgYAAwEBAwcABgMAAAcBAQEABwQBAwIFAQAHBgEEAwIBAwQFAAEDCQMABwUEBAIFBgMABwEBCQgABAMAAQECAQEEAQEBAQkAAQQABwAAAQcBAgEBAQcDAQEAAQEBAQEEBAABAgQABwECAQAABwEEAQEAAQMEAQMAAQEBCQEHBgEDBwQEAgEIAQEBBgEEAwYBAAEBAAEBAQUBCQkCAAIHAwIAAAUCCAAAAAECAgEAAAEBBAEBAAAABAEDAwACAQEBCAQIAQEBAQQBAwEGAQEEAQEIAAEFBAIDAQACAAEAAAIAAwEHBwEJAAIBAQYBAQAEAQEBBwEBAgIAAAcAAQMCAQgCAgUBAAUBCAEBAQEABAEHBAECAgIBCQQIAAABAQEHBAkEAQEBAgcEBAEACQEDAQEBAwcBAQEDAQcEBgIBBAEFAQUCAgABBAQBAQEBAAMBBgMFAQYCBAEDAQQBAQYDAQADBQQEAQEBAQEGAQQDBAEDAQQDAAEHAQQGAwEGAAEBAwcEAQABAwEDAwEBAwQGBwMEBwEBBgAGAQgDAwYBAAEBAQEFAAIHAAMBAQIBAQEBAQMDAgYBAgEDBQQBAQcCAgQHAAUGAQgEAQEBAgMBAQEBAgIEAQQHAQUJAQQGCAECCAIDBgECAQQEAQMBAQECAQEBAwMJAAQHBgIFAQcBCQIDAwEABwEBAAEEBAEBAQQCAgEEBQkDAgcGAAEBAwIGBgEBAQEAAAEJAQEBAAICAwABBgkBAwEFAQEBCAYBAQEDAQMAAwkHBwECAwgAAAgBBAMBBgEAAQMABQEGAQEBAwQHAgMGBwYBBAEABAAHAQEBAgMEAQMAAwIIAwEHAwADAAIBAQEEAAEBAAIAAQcBAAIFAQEBAwQDAQEABgQEAQEBBwEEAgEDAQEBAQMABAMGAgcAAQYHCAEABQECAwEBAQEBBAEBBAIDAgEBAgAIAgAAAQkJAQYCAQYEAQUBAgEBAQkDCAEFAwkEAgEJAQUCAgECAgECAgQBAwEIAQMDBgkDAQIDBgcFCQIBAAEGAQEEAgEGCQIDAQkEAAkHAwUBAQEBAwEHAQUICAAJCQEBBAIAAQcCAwEAAQYCAAMBAQIBAwQACQQIBAEDAQUEBgMBAQUBAwcEAQkBAwQBBAIFAAEGBgIAAgEAAAMHBAgBAQIABgQBAgEBAQEAAQADAQMBAgMBAQAEAQQDAQQBAQECAQQBBAMBAQIHAAUAAAkBAQEBAAcBAQIACAICAgABAQIAAgEBAQkCAQMHAQQFAQkA",
          "dtype": "i1"
         },
         "yaxis": "y"
        },
        {
         "marker": {
          "color": "royalblue"
         },
         "name": "NumCompaniesWorked",
         "opacity": 0.7,
         "type": "histogram",
         "x": {
          "bdata": "AAUJBQIBAgUBAwEBAwIABwEEAQIBBwcBAgEABggDAAEBAwAEAQUBBAcAAAEBAQEAAAEDBAEBBgEBAQMGBQEDBAUBAgEIAQIEBQMECAIAAgEBAgQCAQIEBgUDAQUDAQEAAAYGAAEABQECAQEHAwEBBgUAAQEAAwEAAQQBAQAIAgMAAQIEAgEAAQQBBAEGAAEAAQQCAwMEAQABBAMGAQAAAAMEAQAEAQEBBwADAAMJAQAEAQABBgMBAQkEBQEBCAAAAAAHAwEFAQMABgMEAgIICAIDAAEEAAABAAEEAQcDCQACAQEBAQQEAwEAAQEFBwQEAQEIAQEFCQcCBQQDAgQJAAQCCAEJAAEDCQMBAwQCAwUAAQECAggDAQEAAwgBAgQBAAQGAQkABwABCAEHAQEAAAUGAwEBBQQBAQEAAwMBBAgAAQEAAwMCBgEFAQkCCQIHAQEDAgUGAQMFAQEDAAcDAQcAAQEBAQAHAAMCBgAEAAEDCAQABQcBAQEGAQMICQEEAAgBCQECAAAAAAEAAQgAAQEFAQQBAgMCAQQDAgEJAQQIAwABAQQIAAMJAgkFAAIGAQACCAEABAQEBgEABQUBAQIBAQEAAwIAAQcCAQkEAQEBAAIBAQEACAEDCAYGCQEDAQUDAQEFBwEABgMBAgMCBAEDAQMIAQEBAQcAAAABAQEBAgYAAwEBAwcABgMAAAcBAQEABwQBAwIFAQAHBgEEAwIBAwQFAAEDCQMABwUEBAIFBgMABwEBCQgABAMAAQECAQEEAQEBAQkAAQQABwAAAQcBAgEBAQcDAQEAAQEBAQEEBAABAgQABwECAQAABwEEAQEAAQMEAQMAAQEBCQEHBgEDBwQEAgEIAQEBBgEEAwYBAAEBAAEBAQUBCQkCAAIHAwIAAAUCCAAAAAECAgEAAAEBBAEBAAAABAEDAwACAQEBCAQIAQEBAQQBAwEGAQEEAQEIAAEFBAIDAQACAAEAAAIAAwEHBwEJAAIBAQYBAQAEAQEBBwEBAgIAAAcAAQMCAQgCAgUBAAUBCAEBAQEABAEHBAECAgIBCQQIAAABAQEHBAkEAQEBAgcEBAEACQEDAQEBAwcBAQEDAQcEBgIBBAEFAQUCAgABBAQBAQEBAAMBBgMFAQYCBAEDAQQBAQYDAQADBQQEAQEBAQEGAQQDBAEDAQQDAAEHAQQGAwEGAAEBAwcEAQABAwEDAwEBAwQGBwMEBwEBBgAGAQgDAwYBAAEBAQEFAAIHAAMBAQIBAQEBAQMDAgYBAgEDBQQBAQcCAgQHAAUGAQgEAQEBAgMBAQEBAgIEAQQHAQUJAQQGCAECCAIDBgECAQQEAQMBAQECAQEBAwMJAAQHBgIFAQcBCQIDAwEABwEBAAEEBAEBAQQCAgEEBQkDAgcGAAEBAwIGBgEBAQEAAAEJAQEBAAICAwABBgkBAwEFAQEBCAYBAQEDAQMAAwkHBwECAwgAAAgBBAMBBgEAAQMABQEGAQEBAwQHAgMGBwYBBAEABAAHAQEBAgMEAQMAAwIIAwEHAwADAAIBAQEEAAEBAAIAAQcBAAIFAQEBAwQDAQEABgQEAQEBBwEEAgEDAQEBAQMABAMGAgcAAQYHCAEABQECAwEBAQEBBAEBBAIDAgEBAgAIAgAAAQkJAQYCAQYEAQUBAgEBAQkDCAEFAwkEAgEJAQUCAgECAgECAgQBAwEIAQMDBgkDAQIDBgcFCQIBAAEGAQEEAgEGCQIDAQkEAAkHAwUBAQEBAwEHAQUICAAJCQEBBAIAAQcCAwEAAQYCAAMBAQIBAwQACQQIBAEDAQUEBgMBAQUBAwcEAQkBAwQBBAIFAAEGBgIAAgEAAAMHBAgBAQIABgQBAgEBAQEAAQADAQMBAgMBAQAEAQQDAQQBAQECAQQBBAMBAQIHAAUAAAkBAQEBAAcBAQIACAICAgABAQIAAgEBAQkCAQMHAQQFAQkA",
          "dtype": "i1"
         },
         "xaxis": "x2",
         "yaxis": "y2"
        }
       ],
       "layout": {
        "annotations": [
         {
          "font": {
           "size": 16
          },
          "showarrow": false,
          "text": "Boxplot",
          "x": 0.225,
          "xanchor": "center",
          "xref": "paper",
          "y": 1,
          "yanchor": "bottom",
          "yref": "paper"
         },
         {
          "font": {
           "size": 16
          },
          "showarrow": false,
          "text": "Distribusi dengan Outlier",
          "x": 0.775,
          "xanchor": "center",
          "xref": "paper",
          "y": 1,
          "yanchor": "bottom",
          "yref": "paper"
         }
        ],
        "height": 400,
        "plot_bgcolor": "white",
        "shapes": [
         {
          "line": {
           "color": "red",
           "dash": "dash"
          },
          "type": "line",
          "x0": -3.5,
          "x1": -3.5,
          "xref": "x2",
          "y0": 0,
          "y1": 1,
          "yref": "y2 domain"
         },
         {
          "line": {
           "color": "red",
           "dash": "dash"
          },
          "type": "line",
          "x0": 8.5,
          "x1": 8.5,
          "xref": "x2",
          "y0": 0,
          "y1": 1,
          "yref": "y2 domain"
         }
        ],
        "showlegend": false,
        "template": {
         "data": {
          "bar": [
           {
            "error_x": {
             "color": "#2a3f5f"
            },
            "error_y": {
             "color": "#2a3f5f"
            },
            "marker": {
             "line": {
              "color": "#E5ECF6",
              "width": 0.5
             },
             "pattern": {
              "fillmode": "overlay",
              "size": 10,
              "solidity": 0.2
             }
            },
            "type": "bar"
           }
          ],
          "barpolar": [
           {
            "marker": {
             "line": {
              "color": "#E5ECF6",
              "width": 0.5
             },
             "pattern": {
              "fillmode": "overlay",
              "size": 10,
              "solidity": 0.2
             }
            },
            "type": "barpolar"
           }
          ],
          "carpet": [
           {
            "aaxis": {
             "endlinecolor": "#2a3f5f",
             "gridcolor": "white",
             "linecolor": "white",
             "minorgridcolor": "white",
             "startlinecolor": "#2a3f5f"
            },
            "baxis": {
             "endlinecolor": "#2a3f5f",
             "gridcolor": "white",
             "linecolor": "white",
             "minorgridcolor": "white",
             "startlinecolor": "#2a3f5f"
            },
            "type": "carpet"
           }
          ],
          "choropleth": [
           {
            "colorbar": {
             "outlinewidth": 0,
             "ticks": ""
            },
            "type": "choropleth"
           }
          ],
          "contour": [
           {
            "colorbar": {
             "outlinewidth": 0,
             "ticks": ""
            },
            "colorscale": [
             [
              0,
              "#0d0887"
             ],
             [
              0.1111111111111111,
              "#46039f"
             ],
             [
              0.2222222222222222,
              "#7201a8"
             ],
             [
              0.3333333333333333,
              "#9c179e"
             ],
             [
              0.4444444444444444,
              "#bd3786"
             ],
             [
              0.5555555555555556,
              "#d8576b"
             ],
             [
              0.6666666666666666,
              "#ed7953"
             ],
             [
              0.7777777777777778,
              "#fb9f3a"
             ],
             [
              0.8888888888888888,
              "#fdca26"
             ],
             [
              1,
              "#f0f921"
             ]
            ],
            "type": "contour"
           }
          ],
          "contourcarpet": [
           {
            "colorbar": {
             "outlinewidth": 0,
             "ticks": ""
            },
            "type": "contourcarpet"
           }
          ],
          "heatmap": [
           {
            "colorbar": {
             "outlinewidth": 0,
             "ticks": ""
            },
            "colorscale": [
             [
              0,
              "#0d0887"
             ],
             [
              0.1111111111111111,
              "#46039f"
             ],
             [
              0.2222222222222222,
              "#7201a8"
             ],
             [
              0.3333333333333333,
              "#9c179e"
             ],
             [
              0.4444444444444444,
              "#bd3786"
             ],
             [
              0.5555555555555556,
              "#d8576b"
             ],
             [
              0.6666666666666666,
              "#ed7953"
             ],
             [
              0.7777777777777778,
              "#fb9f3a"
             ],
             [
              0.8888888888888888,
              "#fdca26"
             ],
             [
              1,
              "#f0f921"
             ]
            ],
            "type": "heatmap"
           }
          ],
          "histogram": [
           {
            "marker": {
             "pattern": {
              "fillmode": "overlay",
              "size": 10,
              "solidity": 0.2
             }
            },
            "type": "histogram"
           }
          ],
          "histogram2d": [
           {
            "colorbar": {
             "outlinewidth": 0,
             "ticks": ""
            },
            "colorscale": [
             [
              0,
              "#0d0887"
             ],
             [
              0.1111111111111111,
              "#46039f"
             ],
             [
              0.2222222222222222,
              "#7201a8"
             ],
             [
              0.3333333333333333,
              "#9c179e"
             ],
             [
              0.4444444444444444,
              "#bd3786"
             ],
             [
              0.5555555555555556,
              "#d8576b"
             ],
             [
              0.6666666666666666,
              "#ed7953"
             ],
             [
              0.7777777777777778,
              "#fb9f3a"
             ],
             [
              0.8888888888888888,
              "#fdca26"
             ],
             [
              1,
              "#f0f921"
             ]
            ],
            "type": "histogram2d"
           }
          ],
          "histogram2dcontour": [
           {
            "colorbar": {
             "outlinewidth": 0,
             "ticks": ""
            },
            "colorscale": [
             [
              0,
              "#0d0887"
             ],
             [
              0.1111111111111111,
              "#46039f"
             ],
             [
              0.2222222222222222,
              "#7201a8"
             ],
             [
              0.3333333333333333,
              "#9c179e"
             ],
             [
              0.4444444444444444,
              "#bd3786"
             ],
             [
              0.5555555555555556,
              "#d8576b"
             ],
             [
              0.6666666666666666,
              "#ed7953"
             ],
             [
              0.7777777777777778,
              "#fb9f3a"
             ],
             [
              0.8888888888888888,
              "#fdca26"
             ],
             [
              1,
              "#f0f921"
             ]
            ],
            "type": "histogram2dcontour"
           }
          ],
          "mesh3d": [
           {
            "colorbar": {
             "outlinewidth": 0,
             "ticks": ""
            },
            "type": "mesh3d"
           }
          ],
          "parcoords": [
           {
            "line": {
             "colorbar": {
              "outlinewidth": 0,
              "ticks": ""
             }
            },
            "type": "parcoords"
           }
          ],
          "pie": [
           {
            "automargin": true,
            "type": "pie"
           }
          ],
          "scatter": [
           {
            "fillpattern": {
             "fillmode": "overlay",
             "size": 10,
             "solidity": 0.2
            },
            "type": "scatter"
           }
          ],
          "scatter3d": [
           {
            "line": {
             "colorbar": {
              "outlinewidth": 0,
              "ticks": ""
             }
            },
            "marker": {
             "colorbar": {
              "outlinewidth": 0,
              "ticks": ""
             }
            },
            "type": "scatter3d"
           }
          ],
          "scattercarpet": [
           {
            "marker": {
             "colorbar": {
              "outlinewidth": 0,
              "ticks": ""
             }
            },
            "type": "scattercarpet"
           }
          ],
          "scattergeo": [
           {
            "marker": {
             "colorbar": {
              "outlinewidth": 0,
              "ticks": ""
             }
            },
            "type": "scattergeo"
           }
          ],
          "scattergl": [
           {
            "marker": {
             "colorbar": {
              "outlinewidth": 0,
              "ticks": ""
             }
            },
            "type": "scattergl"
           }
          ],
          "scattermap": [
           {
            "marker": {
             "colorbar": {
              "outlinewidth": 0,
              "ticks": ""
             }
            },
            "type": "scattermap"
           }
          ],
          "scattermapbox": [
           {
            "marker": {
             "colorbar": {
              "outlinewidth": 0,
              "ticks": ""
             }
            },
            "type": "scattermapbox"
           }
          ],
          "scatterpolar": [
           {
            "marker": {
             "colorbar": {
              "outlinewidth": 0,
              "ticks": ""
             }
            },
            "type": "scatterpolar"
           }
          ],
          "scatterpolargl": [
           {
            "marker": {
             "colorbar": {
              "outlinewidth": 0,
              "ticks": ""
             }
            },
            "type": "scatterpolargl"
           }
          ],
          "scatterternary": [
           {
            "marker": {
             "colorbar": {
              "outlinewidth": 0,
              "ticks": ""
             }
            },
            "type": "scatterternary"
           }
          ],
          "surface": [
           {
            "colorbar": {
             "outlinewidth": 0,
             "ticks": ""
            },
            "colorscale": [
             [
              0,
              "#0d0887"
             ],
             [
              0.1111111111111111,
              "#46039f"
             ],
             [
              0.2222222222222222,
              "#7201a8"
             ],
             [
              0.3333333333333333,
              "#9c179e"
             ],
             [
              0.4444444444444444,
              "#bd3786"
             ],
             [
              0.5555555555555556,
              "#d8576b"
             ],
             [
              0.6666666666666666,
              "#ed7953"
             ],
             [
              0.7777777777777778,
              "#fb9f3a"
             ],
             [
              0.8888888888888888,
              "#fdca26"
             ],
             [
              1,
              "#f0f921"
             ]
            ],
            "type": "surface"
           }
          ],
          "table": [
           {
            "cells": {
             "fill": {
              "color": "#EBF0F8"
             },
             "line": {
              "color": "white"
             }
            },
            "header": {
             "fill": {
              "color": "#C8D4E3"
             },
             "line": {
              "color": "white"
             }
            },
            "type": "table"
           }
          ]
         },
         "layout": {
          "annotationdefaults": {
           "arrowcolor": "#2a3f5f",
           "arrowhead": 0,
           "arrowwidth": 1
          },
          "autotypenumbers": "strict",
          "coloraxis": {
           "colorbar": {
            "outlinewidth": 0,
            "ticks": ""
           }
          },
          "colorscale": {
           "diverging": [
            [
             0,
             "#8e0152"
            ],
            [
             0.1,
             "#c51b7d"
            ],
            [
             0.2,
             "#de77ae"
            ],
            [
             0.3,
             "#f1b6da"
            ],
            [
             0.4,
             "#fde0ef"
            ],
            [
             0.5,
             "#f7f7f7"
            ],
            [
             0.6,
             "#e6f5d0"
            ],
            [
             0.7,
             "#b8e186"
            ],
            [
             0.8,
             "#7fbc41"
            ],
            [
             0.9,
             "#4d9221"
            ],
            [
             1,
             "#276419"
            ]
           ],
           "sequential": [
            [
             0,
             "#0d0887"
            ],
            [
             0.1111111111111111,
             "#46039f"
            ],
            [
             0.2222222222222222,
             "#7201a8"
            ],
            [
             0.3333333333333333,
             "#9c179e"
            ],
            [
             0.4444444444444444,
             "#bd3786"
            ],
            [
             0.5555555555555556,
             "#d8576b"
            ],
            [
             0.6666666666666666,
             "#ed7953"
            ],
            [
             0.7777777777777778,
             "#fb9f3a"
            ],
            [
             0.8888888888888888,
             "#fdca26"
            ],
            [
             1,
             "#f0f921"
            ]
           ],
           "sequentialminus": [
            [
             0,
             "#0d0887"
            ],
            [
             0.1111111111111111,
             "#46039f"
            ],
            [
             0.2222222222222222,
             "#7201a8"
            ],
            [
             0.3333333333333333,
             "#9c179e"
            ],
            [
             0.4444444444444444,
             "#bd3786"
            ],
            [
             0.5555555555555556,
             "#d8576b"
            ],
            [
             0.6666666666666666,
             "#ed7953"
            ],
            [
             0.7777777777777778,
             "#fb9f3a"
            ],
            [
             0.8888888888888888,
             "#fdca26"
            ],
            [
             1,
             "#f0f921"
            ]
           ]
          },
          "colorway": [
           "#636efa",
           "#EF553B",
           "#00cc96",
           "#ab63fa",
           "#FFA15A",
           "#19d3f3",
           "#FF6692",
           "#B6E880",
           "#FF97FF",
           "#FECB52"
          ],
          "font": {
           "color": "#2a3f5f"
          },
          "geo": {
           "bgcolor": "white",
           "lakecolor": "white",
           "landcolor": "#E5ECF6",
           "showlakes": true,
           "showland": true,
           "subunitcolor": "white"
          },
          "hoverlabel": {
           "align": "left"
          },
          "hovermode": "closest",
          "mapbox": {
           "style": "light"
          },
          "paper_bgcolor": "white",
          "plot_bgcolor": "#E5ECF6",
          "polar": {
           "angularaxis": {
            "gridcolor": "white",
            "linecolor": "white",
            "ticks": ""
           },
           "bgcolor": "#E5ECF6",
           "radialaxis": {
            "gridcolor": "white",
            "linecolor": "white",
            "ticks": ""
           }
          },
          "scene": {
           "xaxis": {
            "backgroundcolor": "#E5ECF6",
            "gridcolor": "white",
            "gridwidth": 2,
            "linecolor": "white",
            "showbackground": true,
            "ticks": "",
            "zerolinecolor": "white"
           },
           "yaxis": {
            "backgroundcolor": "#E5ECF6",
            "gridcolor": "white",
            "gridwidth": 2,
            "linecolor": "white",
            "showbackground": true,
            "ticks": "",
            "zerolinecolor": "white"
           },
           "zaxis": {
            "backgroundcolor": "#E5ECF6",
            "gridcolor": "white",
            "gridwidth": 2,
            "linecolor": "white",
            "showbackground": true,
            "ticks": "",
            "zerolinecolor": "white"
           }
          },
          "shapedefaults": {
           "line": {
            "color": "#2a3f5f"
           }
          },
          "ternary": {
           "aaxis": {
            "gridcolor": "white",
            "linecolor": "white",
            "ticks": ""
           },
           "baxis": {
            "gridcolor": "white",
            "linecolor": "white",
            "ticks": ""
           },
           "bgcolor": "#E5ECF6",
           "caxis": {
            "gridcolor": "white",
            "linecolor": "white",
            "ticks": ""
           }
          },
          "title": {
           "x": 0.05
          },
          "xaxis": {
           "automargin": true,
           "gridcolor": "white",
           "linecolor": "white",
           "ticks": "",
           "title": {
            "standoff": 15
           },
           "zerolinecolor": "white",
           "zerolinewidth": 2
          },
          "yaxis": {
           "automargin": true,
           "gridcolor": "white",
           "linecolor": "white",
           "ticks": "",
           "title": {
            "standoff": 15
           },
           "zerolinecolor": "white",
           "zerolinewidth": 2
          }
         }
        },
        "title": {
         "font": {
          "size": 16
         },
         "text": "Analisis Outlier: NumCompaniesWorked"
        },
        "width": 900,
        "xaxis": {
         "anchor": "y",
         "domain": [
          0,
          0.45
         ]
        },
        "xaxis2": {
         "anchor": "y2",
         "domain": [
          0.55,
          1
         ]
        },
        "yaxis": {
         "anchor": "x",
         "domain": [
          0,
          1
         ]
        },
        "yaxis2": {
         "anchor": "x2",
         "domain": [
          0,
          1
         ]
        }
       }
      }
     },
     "metadata": {},
     "output_type": "display_data"
    },
    {
     "name": "stdout",
     "output_type": "stream",
     "text": [
      "Kolom NumCompaniesWorked: 52 outliers (3.54%)\n",
      "Batas bawah (lower bound): -3.5\n",
      "Batas atas (upper bound): 8.5\n"
     ]
    }
   ],
   "source": [
    "outlier_results = {}\n",
    "for col in important_columns:\n",
    "    print(f\"\\n{'='*50}\")\n",
    "    print(f\"Analisis outlier untuk kolom: {col}\")\n",
    "    print(f\"{'='*50}\")\n",
    "    result = detect_and_visualize_outliers(df, col)\n",
    "    outlier_results[col] = result\n",
    "    print(f\"Kolom {col}: {result['outlier_count']} outliers ({result['outlier_percentage']:.2f}%)\")\n",
    "    print(f\"Batas bawah (lower bound): {result['lower_bound']}\")\n",
    "    print(f\"Batas atas (upper bound): {result['upper_bound']}\")\n"
   ]
  },
  {
   "cell_type": "markdown",
   "id": "b2e484ad",
   "metadata": {},
   "source": [
    "## Analisa Hubungan Outlier dan attrition"
   ]
  },
  {
   "cell_type": "code",
   "execution_count": 61,
   "id": "5b9917f9",
   "metadata": {},
   "outputs": [],
   "source": [
    "def analyze_outlier_attrition(df, column):\n",
    "    # Identifikasi outlier dengan IQR\n",
    "    Q1 = df[column].quantile(0.25)\n",
    "    Q3 = df[column].quantile(0.75)\n",
    "    IQR = Q3 - Q1\n",
    "    lower_bound = Q1 - 1.5 * IQR\n",
    "    upper_bound = Q3 + 1.5 * IQR\n",
    "    \n",
    "    # Tandai data outlier\n",
    "    df_temp = df.copy()\n",
    "    df_temp['is_outlier'] = ((df_temp[column] < lower_bound) | (df_temp[column] > upper_bound)).astype(int)\n",
    "    \n",
    "    # Hitung attrition rate untuk outlier dan non-outlier\n",
    "    outlier_attrition = df_temp[df_temp['is_outlier'] == 1]['Attrition'].mean()\n",
    "    normal_attrition = df_temp[df_temp['is_outlier'] == 0]['Attrition'].mean()\n",
    "    \n",
    "    print(f\"\\nHubungan outlier dengan Attrition untuk {column}:\")\n",
    "    print(f\"- Attrition rate untuk outlier: {outlier_attrition:.4f} ({outlier_attrition*100:.2f}%)\")\n",
    "    print(f\"- Attrition rate untuk non-outlier: {normal_attrition:.4f} ({normal_attrition*100:.2f}%)\")\n",
    "    print(f\"- Rasio (outlier/normal): {outlier_attrition/normal_attrition:.2f}x\")\n",
    "    \n",
    "    # Visualisasi dengan plotly\n",
    "    fig = px.bar(\n",
    "        x=['Normal', 'Outlier'],\n",
    "        y=[normal_attrition, outlier_attrition],\n",
    "        title=f'Perbandingan Attrition Rate: {column}',\n",
    "        labels={\"x\": \"Kategori\", \"y\": \"Attrition Rate\"},\n",
    "        color=['Normal', 'Outlier'],\n",
    "        color_discrete_sequence=['royalblue', 'tomato']\n",
    "    )\n",
    "    \n",
    "    # Text annotations\n",
    "    fig.update_traces(\n",
    "        text=[f\"{normal_attrition:.1%}\", f\"{outlier_attrition:.1%}\"],\n",
    "        textposition='outside'\n",
    "    )\n",
    "    \n",
    "    # Update layout\n",
    "    fig.update_layout(\n",
    "        title_font_size=16,\n",
    "        height=500,\n",
    "        width=700,\n",
    "        plot_bgcolor='white',\n",
    "        yaxis_tickformat='.0%'\n",
    "    )\n",
    "    \n",
    "    # Menyimpan dan menampilkan\n",
    "    save_plotly(fig, f\"attrition_outlier_{column}\")\n",
    "    fig.show()\n",
    "    \n",
    "    return {\n",
    "        'column': column,\n",
    "        'outlier_attrition': outlier_attrition,\n",
    "        'normal_attrition': normal_attrition,\n",
    "        'ratio': outlier_attrition/normal_attrition if normal_attrition > 0 else 0\n",
    "    }"
   ]
  },
  {
   "cell_type": "code",
   "execution_count": 62,
   "id": "7ffc11de",
   "metadata": {},
   "outputs": [
    {
     "name": "stdout",
     "output_type": "stream",
     "text": [
      "\n",
      "Hubungan outlier dengan Attrition untuk MonthlyIncome:\n",
      "- Attrition rate untuk outlier: 0.0439 (4.39%)\n",
      "- Attrition rate untuk non-outlier: 0.1497 (14.97%)\n",
      "- Rasio (outlier/normal): 0.29x\n"
     ]
    },
    {
     "data": {
      "application/vnd.plotly.v1+json": {
       "config": {
        "plotlyServerURL": "https://plot.ly"
       },
       "data": [
        {
         "hovertemplate": "color=Normal<br>Kategori=%{x}<br>Attrition Rate=%{y}<extra></extra>",
         "legendgroup": "Normal",
         "marker": {
          "color": "royalblue",
          "pattern": {
           "shape": ""
          }
         },
         "name": "Normal",
         "orientation": "v",
         "showlegend": true,
         "text": [
          "15.0%",
          "4.4%"
         ],
         "textposition": "outside",
         "type": "bar",
         "x": [
          "Normal"
         ],
         "xaxis": "x",
         "y": {
          "bdata": "i5gyr4gpwz8=",
          "dtype": "f8"
         },
         "yaxis": "y"
        },
        {
         "hovertemplate": "color=Outlier<br>Kategori=%{x}<br>Attrition Rate=%{y}<extra></extra>",
         "legendgroup": "Outlier",
         "marker": {
          "color": "tomato",
          "pattern": {
           "shape": ""
          }
         },
         "name": "Outlier",
         "orientation": "v",
         "showlegend": true,
         "text": [
          "15.0%",
          "4.4%"
         ],
         "textposition": "outside",
         "type": "bar",
         "x": [
          "Outlier"
         ],
         "xaxis": "x",
         "y": {
          "bdata": "TGcxncV0pj8=",
          "dtype": "f8"
         },
         "yaxis": "y"
        }
       ],
       "layout": {
        "barmode": "relative",
        "height": 500,
        "legend": {
         "title": {
          "text": "color"
         },
         "tracegroupgap": 0
        },
        "plot_bgcolor": "white",
        "template": {
         "data": {
          "bar": [
           {
            "error_x": {
             "color": "#2a3f5f"
            },
            "error_y": {
             "color": "#2a3f5f"
            },
            "marker": {
             "line": {
              "color": "#E5ECF6",
              "width": 0.5
             },
             "pattern": {
              "fillmode": "overlay",
              "size": 10,
              "solidity": 0.2
             }
            },
            "type": "bar"
           }
          ],
          "barpolar": [
           {
            "marker": {
             "line": {
              "color": "#E5ECF6",
              "width": 0.5
             },
             "pattern": {
              "fillmode": "overlay",
              "size": 10,
              "solidity": 0.2
             }
            },
            "type": "barpolar"
           }
          ],
          "carpet": [
           {
            "aaxis": {
             "endlinecolor": "#2a3f5f",
             "gridcolor": "white",
             "linecolor": "white",
             "minorgridcolor": "white",
             "startlinecolor": "#2a3f5f"
            },
            "baxis": {
             "endlinecolor": "#2a3f5f",
             "gridcolor": "white",
             "linecolor": "white",
             "minorgridcolor": "white",
             "startlinecolor": "#2a3f5f"
            },
            "type": "carpet"
           }
          ],
          "choropleth": [
           {
            "colorbar": {
             "outlinewidth": 0,
             "ticks": ""
            },
            "type": "choropleth"
           }
          ],
          "contour": [
           {
            "colorbar": {
             "outlinewidth": 0,
             "ticks": ""
            },
            "colorscale": [
             [
              0,
              "#0d0887"
             ],
             [
              0.1111111111111111,
              "#46039f"
             ],
             [
              0.2222222222222222,
              "#7201a8"
             ],
             [
              0.3333333333333333,
              "#9c179e"
             ],
             [
              0.4444444444444444,
              "#bd3786"
             ],
             [
              0.5555555555555556,
              "#d8576b"
             ],
             [
              0.6666666666666666,
              "#ed7953"
             ],
             [
              0.7777777777777778,
              "#fb9f3a"
             ],
             [
              0.8888888888888888,
              "#fdca26"
             ],
             [
              1,
              "#f0f921"
             ]
            ],
            "type": "contour"
           }
          ],
          "contourcarpet": [
           {
            "colorbar": {
             "outlinewidth": 0,
             "ticks": ""
            },
            "type": "contourcarpet"
           }
          ],
          "heatmap": [
           {
            "colorbar": {
             "outlinewidth": 0,
             "ticks": ""
            },
            "colorscale": [
             [
              0,
              "#0d0887"
             ],
             [
              0.1111111111111111,
              "#46039f"
             ],
             [
              0.2222222222222222,
              "#7201a8"
             ],
             [
              0.3333333333333333,
              "#9c179e"
             ],
             [
              0.4444444444444444,
              "#bd3786"
             ],
             [
              0.5555555555555556,
              "#d8576b"
             ],
             [
              0.6666666666666666,
              "#ed7953"
             ],
             [
              0.7777777777777778,
              "#fb9f3a"
             ],
             [
              0.8888888888888888,
              "#fdca26"
             ],
             [
              1,
              "#f0f921"
             ]
            ],
            "type": "heatmap"
           }
          ],
          "histogram": [
           {
            "marker": {
             "pattern": {
              "fillmode": "overlay",
              "size": 10,
              "solidity": 0.2
             }
            },
            "type": "histogram"
           }
          ],
          "histogram2d": [
           {
            "colorbar": {
             "outlinewidth": 0,
             "ticks": ""
            },
            "colorscale": [
             [
              0,
              "#0d0887"
             ],
             [
              0.1111111111111111,
              "#46039f"
             ],
             [
              0.2222222222222222,
              "#7201a8"
             ],
             [
              0.3333333333333333,
              "#9c179e"
             ],
             [
              0.4444444444444444,
              "#bd3786"
             ],
             [
              0.5555555555555556,
              "#d8576b"
             ],
             [
              0.6666666666666666,
              "#ed7953"
             ],
             [
              0.7777777777777778,
              "#fb9f3a"
             ],
             [
              0.8888888888888888,
              "#fdca26"
             ],
             [
              1,
              "#f0f921"
             ]
            ],
            "type": "histogram2d"
           }
          ],
          "histogram2dcontour": [
           {
            "colorbar": {
             "outlinewidth": 0,
             "ticks": ""
            },
            "colorscale": [
             [
              0,
              "#0d0887"
             ],
             [
              0.1111111111111111,
              "#46039f"
             ],
             [
              0.2222222222222222,
              "#7201a8"
             ],
             [
              0.3333333333333333,
              "#9c179e"
             ],
             [
              0.4444444444444444,
              "#bd3786"
             ],
             [
              0.5555555555555556,
              "#d8576b"
             ],
             [
              0.6666666666666666,
              "#ed7953"
             ],
             [
              0.7777777777777778,
              "#fb9f3a"
             ],
             [
              0.8888888888888888,
              "#fdca26"
             ],
             [
              1,
              "#f0f921"
             ]
            ],
            "type": "histogram2dcontour"
           }
          ],
          "mesh3d": [
           {
            "colorbar": {
             "outlinewidth": 0,
             "ticks": ""
            },
            "type": "mesh3d"
           }
          ],
          "parcoords": [
           {
            "line": {
             "colorbar": {
              "outlinewidth": 0,
              "ticks": ""
             }
            },
            "type": "parcoords"
           }
          ],
          "pie": [
           {
            "automargin": true,
            "type": "pie"
           }
          ],
          "scatter": [
           {
            "fillpattern": {
             "fillmode": "overlay",
             "size": 10,
             "solidity": 0.2
            },
            "type": "scatter"
           }
          ],
          "scatter3d": [
           {
            "line": {
             "colorbar": {
              "outlinewidth": 0,
              "ticks": ""
             }
            },
            "marker": {
             "colorbar": {
              "outlinewidth": 0,
              "ticks": ""
             }
            },
            "type": "scatter3d"
           }
          ],
          "scattercarpet": [
           {
            "marker": {
             "colorbar": {
              "outlinewidth": 0,
              "ticks": ""
             }
            },
            "type": "scattercarpet"
           }
          ],
          "scattergeo": [
           {
            "marker": {
             "colorbar": {
              "outlinewidth": 0,
              "ticks": ""
             }
            },
            "type": "scattergeo"
           }
          ],
          "scattergl": [
           {
            "marker": {
             "colorbar": {
              "outlinewidth": 0,
              "ticks": ""
             }
            },
            "type": "scattergl"
           }
          ],
          "scattermap": [
           {
            "marker": {
             "colorbar": {
              "outlinewidth": 0,
              "ticks": ""
             }
            },
            "type": "scattermap"
           }
          ],
          "scattermapbox": [
           {
            "marker": {
             "colorbar": {
              "outlinewidth": 0,
              "ticks": ""
             }
            },
            "type": "scattermapbox"
           }
          ],
          "scatterpolar": [
           {
            "marker": {
             "colorbar": {
              "outlinewidth": 0,
              "ticks": ""
             }
            },
            "type": "scatterpolar"
           }
          ],
          "scatterpolargl": [
           {
            "marker": {
             "colorbar": {
              "outlinewidth": 0,
              "ticks": ""
             }
            },
            "type": "scatterpolargl"
           }
          ],
          "scatterternary": [
           {
            "marker": {
             "colorbar": {
              "outlinewidth": 0,
              "ticks": ""
             }
            },
            "type": "scatterternary"
           }
          ],
          "surface": [
           {
            "colorbar": {
             "outlinewidth": 0,
             "ticks": ""
            },
            "colorscale": [
             [
              0,
              "#0d0887"
             ],
             [
              0.1111111111111111,
              "#46039f"
             ],
             [
              0.2222222222222222,
              "#7201a8"
             ],
             [
              0.3333333333333333,
              "#9c179e"
             ],
             [
              0.4444444444444444,
              "#bd3786"
             ],
             [
              0.5555555555555556,
              "#d8576b"
             ],
             [
              0.6666666666666666,
              "#ed7953"
             ],
             [
              0.7777777777777778,
              "#fb9f3a"
             ],
             [
              0.8888888888888888,
              "#fdca26"
             ],
             [
              1,
              "#f0f921"
             ]
            ],
            "type": "surface"
           }
          ],
          "table": [
           {
            "cells": {
             "fill": {
              "color": "#EBF0F8"
             },
             "line": {
              "color": "white"
             }
            },
            "header": {
             "fill": {
              "color": "#C8D4E3"
             },
             "line": {
              "color": "white"
             }
            },
            "type": "table"
           }
          ]
         },
         "layout": {
          "annotationdefaults": {
           "arrowcolor": "#2a3f5f",
           "arrowhead": 0,
           "arrowwidth": 1
          },
          "autotypenumbers": "strict",
          "coloraxis": {
           "colorbar": {
            "outlinewidth": 0,
            "ticks": ""
           }
          },
          "colorscale": {
           "diverging": [
            [
             0,
             "#8e0152"
            ],
            [
             0.1,
             "#c51b7d"
            ],
            [
             0.2,
             "#de77ae"
            ],
            [
             0.3,
             "#f1b6da"
            ],
            [
             0.4,
             "#fde0ef"
            ],
            [
             0.5,
             "#f7f7f7"
            ],
            [
             0.6,
             "#e6f5d0"
            ],
            [
             0.7,
             "#b8e186"
            ],
            [
             0.8,
             "#7fbc41"
            ],
            [
             0.9,
             "#4d9221"
            ],
            [
             1,
             "#276419"
            ]
           ],
           "sequential": [
            [
             0,
             "#0d0887"
            ],
            [
             0.1111111111111111,
             "#46039f"
            ],
            [
             0.2222222222222222,
             "#7201a8"
            ],
            [
             0.3333333333333333,
             "#9c179e"
            ],
            [
             0.4444444444444444,
             "#bd3786"
            ],
            [
             0.5555555555555556,
             "#d8576b"
            ],
            [
             0.6666666666666666,
             "#ed7953"
            ],
            [
             0.7777777777777778,
             "#fb9f3a"
            ],
            [
             0.8888888888888888,
             "#fdca26"
            ],
            [
             1,
             "#f0f921"
            ]
           ],
           "sequentialminus": [
            [
             0,
             "#0d0887"
            ],
            [
             0.1111111111111111,
             "#46039f"
            ],
            [
             0.2222222222222222,
             "#7201a8"
            ],
            [
             0.3333333333333333,
             "#9c179e"
            ],
            [
             0.4444444444444444,
             "#bd3786"
            ],
            [
             0.5555555555555556,
             "#d8576b"
            ],
            [
             0.6666666666666666,
             "#ed7953"
            ],
            [
             0.7777777777777778,
             "#fb9f3a"
            ],
            [
             0.8888888888888888,
             "#fdca26"
            ],
            [
             1,
             "#f0f921"
            ]
           ]
          },
          "colorway": [
           "#636efa",
           "#EF553B",
           "#00cc96",
           "#ab63fa",
           "#FFA15A",
           "#19d3f3",
           "#FF6692",
           "#B6E880",
           "#FF97FF",
           "#FECB52"
          ],
          "font": {
           "color": "#2a3f5f"
          },
          "geo": {
           "bgcolor": "white",
           "lakecolor": "white",
           "landcolor": "#E5ECF6",
           "showlakes": true,
           "showland": true,
           "subunitcolor": "white"
          },
          "hoverlabel": {
           "align": "left"
          },
          "hovermode": "closest",
          "mapbox": {
           "style": "light"
          },
          "paper_bgcolor": "white",
          "plot_bgcolor": "#E5ECF6",
          "polar": {
           "angularaxis": {
            "gridcolor": "white",
            "linecolor": "white",
            "ticks": ""
           },
           "bgcolor": "#E5ECF6",
           "radialaxis": {
            "gridcolor": "white",
            "linecolor": "white",
            "ticks": ""
           }
          },
          "scene": {
           "xaxis": {
            "backgroundcolor": "#E5ECF6",
            "gridcolor": "white",
            "gridwidth": 2,
            "linecolor": "white",
            "showbackground": true,
            "ticks": "",
            "zerolinecolor": "white"
           },
           "yaxis": {
            "backgroundcolor": "#E5ECF6",
            "gridcolor": "white",
            "gridwidth": 2,
            "linecolor": "white",
            "showbackground": true,
            "ticks": "",
            "zerolinecolor": "white"
           },
           "zaxis": {
            "backgroundcolor": "#E5ECF6",
            "gridcolor": "white",
            "gridwidth": 2,
            "linecolor": "white",
            "showbackground": true,
            "ticks": "",
            "zerolinecolor": "white"
           }
          },
          "shapedefaults": {
           "line": {
            "color": "#2a3f5f"
           }
          },
          "ternary": {
           "aaxis": {
            "gridcolor": "white",
            "linecolor": "white",
            "ticks": ""
           },
           "baxis": {
            "gridcolor": "white",
            "linecolor": "white",
            "ticks": ""
           },
           "bgcolor": "#E5ECF6",
           "caxis": {
            "gridcolor": "white",
            "linecolor": "white",
            "ticks": ""
           }
          },
          "title": {
           "x": 0.05
          },
          "xaxis": {
           "automargin": true,
           "gridcolor": "white",
           "linecolor": "white",
           "ticks": "",
           "title": {
            "standoff": 15
           },
           "zerolinecolor": "white",
           "zerolinewidth": 2
          },
          "yaxis": {
           "automargin": true,
           "gridcolor": "white",
           "linecolor": "white",
           "ticks": "",
           "title": {
            "standoff": 15
           },
           "zerolinecolor": "white",
           "zerolinewidth": 2
          }
         }
        },
        "title": {
         "font": {
          "size": 16
         },
         "text": "Perbandingan Attrition Rate: MonthlyIncome"
        },
        "width": 700,
        "xaxis": {
         "anchor": "y",
         "domain": [
          0,
          1
         ],
         "title": {
          "text": "Kategori"
         }
        },
        "yaxis": {
         "anchor": "x",
         "domain": [
          0,
          1
         ],
         "tickformat": ".0%",
         "title": {
          "text": "Attrition Rate"
         }
        }
       }
      }
     },
     "metadata": {},
     "output_type": "display_data"
    },
    {
     "name": "stdout",
     "output_type": "stream",
     "text": [
      "\n",
      "Hubungan outlier dengan Attrition untuk YearsAtCompany:\n",
      "- Attrition rate untuk outlier: 0.0865 (8.65%)\n",
      "- Attrition rate untuk non-outlier: 0.1457 (14.57%)\n",
      "- Rasio (outlier/normal): 0.59x\n"
     ]
    },
    {
     "data": {
      "application/vnd.plotly.v1+json": {
       "config": {
        "plotlyServerURL": "https://plot.ly"
       },
       "data": [
        {
         "hovertemplate": "color=Normal<br>Kategori=%{x}<br>Attrition Rate=%{y}<extra></extra>",
         "legendgroup": "Normal",
         "marker": {
          "color": "royalblue",
          "pattern": {
           "shape": ""
          }
         },
         "name": "Normal",
         "orientation": "v",
         "showlegend": true,
         "text": [
          "14.6%",
          "8.7%"
         ],
         "textposition": "outside",
         "type": "bar",
         "x": [
          "Normal"
         ],
         "xaxis": "x",
         "y": {
          "bdata": "Kq2WSqulwj8=",
          "dtype": "f8"
         },
         "yaxis": "y"
        },
        {
         "hovertemplate": "color=Outlier<br>Kategori=%{x}<br>Attrition Rate=%{y}<extra></extra>",
         "legendgroup": "Outlier",
         "marker": {
          "color": "tomato",
          "pattern": {
           "shape": ""
          }
         },
         "name": "Outlier",
         "orientation": "v",
         "showlegend": true,
         "text": [
          "14.6%",
          "8.7%"
         ],
         "textposition": "outside",
         "type": "bar",
         "x": [
          "Outlier"
         ],
         "xaxis": "x",
         "y": {
          "bdata": "dmIndmIntj8=",
          "dtype": "f8"
         },
         "yaxis": "y"
        }
       ],
       "layout": {
        "barmode": "relative",
        "height": 500,
        "legend": {
         "title": {
          "text": "color"
         },
         "tracegroupgap": 0
        },
        "plot_bgcolor": "white",
        "template": {
         "data": {
          "bar": [
           {
            "error_x": {
             "color": "#2a3f5f"
            },
            "error_y": {
             "color": "#2a3f5f"
            },
            "marker": {
             "line": {
              "color": "#E5ECF6",
              "width": 0.5
             },
             "pattern": {
              "fillmode": "overlay",
              "size": 10,
              "solidity": 0.2
             }
            },
            "type": "bar"
           }
          ],
          "barpolar": [
           {
            "marker": {
             "line": {
              "color": "#E5ECF6",
              "width": 0.5
             },
             "pattern": {
              "fillmode": "overlay",
              "size": 10,
              "solidity": 0.2
             }
            },
            "type": "barpolar"
           }
          ],
          "carpet": [
           {
            "aaxis": {
             "endlinecolor": "#2a3f5f",
             "gridcolor": "white",
             "linecolor": "white",
             "minorgridcolor": "white",
             "startlinecolor": "#2a3f5f"
            },
            "baxis": {
             "endlinecolor": "#2a3f5f",
             "gridcolor": "white",
             "linecolor": "white",
             "minorgridcolor": "white",
             "startlinecolor": "#2a3f5f"
            },
            "type": "carpet"
           }
          ],
          "choropleth": [
           {
            "colorbar": {
             "outlinewidth": 0,
             "ticks": ""
            },
            "type": "choropleth"
           }
          ],
          "contour": [
           {
            "colorbar": {
             "outlinewidth": 0,
             "ticks": ""
            },
            "colorscale": [
             [
              0,
              "#0d0887"
             ],
             [
              0.1111111111111111,
              "#46039f"
             ],
             [
              0.2222222222222222,
              "#7201a8"
             ],
             [
              0.3333333333333333,
              "#9c179e"
             ],
             [
              0.4444444444444444,
              "#bd3786"
             ],
             [
              0.5555555555555556,
              "#d8576b"
             ],
             [
              0.6666666666666666,
              "#ed7953"
             ],
             [
              0.7777777777777778,
              "#fb9f3a"
             ],
             [
              0.8888888888888888,
              "#fdca26"
             ],
             [
              1,
              "#f0f921"
             ]
            ],
            "type": "contour"
           }
          ],
          "contourcarpet": [
           {
            "colorbar": {
             "outlinewidth": 0,
             "ticks": ""
            },
            "type": "contourcarpet"
           }
          ],
          "heatmap": [
           {
            "colorbar": {
             "outlinewidth": 0,
             "ticks": ""
            },
            "colorscale": [
             [
              0,
              "#0d0887"
             ],
             [
              0.1111111111111111,
              "#46039f"
             ],
             [
              0.2222222222222222,
              "#7201a8"
             ],
             [
              0.3333333333333333,
              "#9c179e"
             ],
             [
              0.4444444444444444,
              "#bd3786"
             ],
             [
              0.5555555555555556,
              "#d8576b"
             ],
             [
              0.6666666666666666,
              "#ed7953"
             ],
             [
              0.7777777777777778,
              "#fb9f3a"
             ],
             [
              0.8888888888888888,
              "#fdca26"
             ],
             [
              1,
              "#f0f921"
             ]
            ],
            "type": "heatmap"
           }
          ],
          "histogram": [
           {
            "marker": {
             "pattern": {
              "fillmode": "overlay",
              "size": 10,
              "solidity": 0.2
             }
            },
            "type": "histogram"
           }
          ],
          "histogram2d": [
           {
            "colorbar": {
             "outlinewidth": 0,
             "ticks": ""
            },
            "colorscale": [
             [
              0,
              "#0d0887"
             ],
             [
              0.1111111111111111,
              "#46039f"
             ],
             [
              0.2222222222222222,
              "#7201a8"
             ],
             [
              0.3333333333333333,
              "#9c179e"
             ],
             [
              0.4444444444444444,
              "#bd3786"
             ],
             [
              0.5555555555555556,
              "#d8576b"
             ],
             [
              0.6666666666666666,
              "#ed7953"
             ],
             [
              0.7777777777777778,
              "#fb9f3a"
             ],
             [
              0.8888888888888888,
              "#fdca26"
             ],
             [
              1,
              "#f0f921"
             ]
            ],
            "type": "histogram2d"
           }
          ],
          "histogram2dcontour": [
           {
            "colorbar": {
             "outlinewidth": 0,
             "ticks": ""
            },
            "colorscale": [
             [
              0,
              "#0d0887"
             ],
             [
              0.1111111111111111,
              "#46039f"
             ],
             [
              0.2222222222222222,
              "#7201a8"
             ],
             [
              0.3333333333333333,
              "#9c179e"
             ],
             [
              0.4444444444444444,
              "#bd3786"
             ],
             [
              0.5555555555555556,
              "#d8576b"
             ],
             [
              0.6666666666666666,
              "#ed7953"
             ],
             [
              0.7777777777777778,
              "#fb9f3a"
             ],
             [
              0.8888888888888888,
              "#fdca26"
             ],
             [
              1,
              "#f0f921"
             ]
            ],
            "type": "histogram2dcontour"
           }
          ],
          "mesh3d": [
           {
            "colorbar": {
             "outlinewidth": 0,
             "ticks": ""
            },
            "type": "mesh3d"
           }
          ],
          "parcoords": [
           {
            "line": {
             "colorbar": {
              "outlinewidth": 0,
              "ticks": ""
             }
            },
            "type": "parcoords"
           }
          ],
          "pie": [
           {
            "automargin": true,
            "type": "pie"
           }
          ],
          "scatter": [
           {
            "fillpattern": {
             "fillmode": "overlay",
             "size": 10,
             "solidity": 0.2
            },
            "type": "scatter"
           }
          ],
          "scatter3d": [
           {
            "line": {
             "colorbar": {
              "outlinewidth": 0,
              "ticks": ""
             }
            },
            "marker": {
             "colorbar": {
              "outlinewidth": 0,
              "ticks": ""
             }
            },
            "type": "scatter3d"
           }
          ],
          "scattercarpet": [
           {
            "marker": {
             "colorbar": {
              "outlinewidth": 0,
              "ticks": ""
             }
            },
            "type": "scattercarpet"
           }
          ],
          "scattergeo": [
           {
            "marker": {
             "colorbar": {
              "outlinewidth": 0,
              "ticks": ""
             }
            },
            "type": "scattergeo"
           }
          ],
          "scattergl": [
           {
            "marker": {
             "colorbar": {
              "outlinewidth": 0,
              "ticks": ""
             }
            },
            "type": "scattergl"
           }
          ],
          "scattermap": [
           {
            "marker": {
             "colorbar": {
              "outlinewidth": 0,
              "ticks": ""
             }
            },
            "type": "scattermap"
           }
          ],
          "scattermapbox": [
           {
            "marker": {
             "colorbar": {
              "outlinewidth": 0,
              "ticks": ""
             }
            },
            "type": "scattermapbox"
           }
          ],
          "scatterpolar": [
           {
            "marker": {
             "colorbar": {
              "outlinewidth": 0,
              "ticks": ""
             }
            },
            "type": "scatterpolar"
           }
          ],
          "scatterpolargl": [
           {
            "marker": {
             "colorbar": {
              "outlinewidth": 0,
              "ticks": ""
             }
            },
            "type": "scatterpolargl"
           }
          ],
          "scatterternary": [
           {
            "marker": {
             "colorbar": {
              "outlinewidth": 0,
              "ticks": ""
             }
            },
            "type": "scatterternary"
           }
          ],
          "surface": [
           {
            "colorbar": {
             "outlinewidth": 0,
             "ticks": ""
            },
            "colorscale": [
             [
              0,
              "#0d0887"
             ],
             [
              0.1111111111111111,
              "#46039f"
             ],
             [
              0.2222222222222222,
              "#7201a8"
             ],
             [
              0.3333333333333333,
              "#9c179e"
             ],
             [
              0.4444444444444444,
              "#bd3786"
             ],
             [
              0.5555555555555556,
              "#d8576b"
             ],
             [
              0.6666666666666666,
              "#ed7953"
             ],
             [
              0.7777777777777778,
              "#fb9f3a"
             ],
             [
              0.8888888888888888,
              "#fdca26"
             ],
             [
              1,
              "#f0f921"
             ]
            ],
            "type": "surface"
           }
          ],
          "table": [
           {
            "cells": {
             "fill": {
              "color": "#EBF0F8"
             },
             "line": {
              "color": "white"
             }
            },
            "header": {
             "fill": {
              "color": "#C8D4E3"
             },
             "line": {
              "color": "white"
             }
            },
            "type": "table"
           }
          ]
         },
         "layout": {
          "annotationdefaults": {
           "arrowcolor": "#2a3f5f",
           "arrowhead": 0,
           "arrowwidth": 1
          },
          "autotypenumbers": "strict",
          "coloraxis": {
           "colorbar": {
            "outlinewidth": 0,
            "ticks": ""
           }
          },
          "colorscale": {
           "diverging": [
            [
             0,
             "#8e0152"
            ],
            [
             0.1,
             "#c51b7d"
            ],
            [
             0.2,
             "#de77ae"
            ],
            [
             0.3,
             "#f1b6da"
            ],
            [
             0.4,
             "#fde0ef"
            ],
            [
             0.5,
             "#f7f7f7"
            ],
            [
             0.6,
             "#e6f5d0"
            ],
            [
             0.7,
             "#b8e186"
            ],
            [
             0.8,
             "#7fbc41"
            ],
            [
             0.9,
             "#4d9221"
            ],
            [
             1,
             "#276419"
            ]
           ],
           "sequential": [
            [
             0,
             "#0d0887"
            ],
            [
             0.1111111111111111,
             "#46039f"
            ],
            [
             0.2222222222222222,
             "#7201a8"
            ],
            [
             0.3333333333333333,
             "#9c179e"
            ],
            [
             0.4444444444444444,
             "#bd3786"
            ],
            [
             0.5555555555555556,
             "#d8576b"
            ],
            [
             0.6666666666666666,
             "#ed7953"
            ],
            [
             0.7777777777777778,
             "#fb9f3a"
            ],
            [
             0.8888888888888888,
             "#fdca26"
            ],
            [
             1,
             "#f0f921"
            ]
           ],
           "sequentialminus": [
            [
             0,
             "#0d0887"
            ],
            [
             0.1111111111111111,
             "#46039f"
            ],
            [
             0.2222222222222222,
             "#7201a8"
            ],
            [
             0.3333333333333333,
             "#9c179e"
            ],
            [
             0.4444444444444444,
             "#bd3786"
            ],
            [
             0.5555555555555556,
             "#d8576b"
            ],
            [
             0.6666666666666666,
             "#ed7953"
            ],
            [
             0.7777777777777778,
             "#fb9f3a"
            ],
            [
             0.8888888888888888,
             "#fdca26"
            ],
            [
             1,
             "#f0f921"
            ]
           ]
          },
          "colorway": [
           "#636efa",
           "#EF553B",
           "#00cc96",
           "#ab63fa",
           "#FFA15A",
           "#19d3f3",
           "#FF6692",
           "#B6E880",
           "#FF97FF",
           "#FECB52"
          ],
          "font": {
           "color": "#2a3f5f"
          },
          "geo": {
           "bgcolor": "white",
           "lakecolor": "white",
           "landcolor": "#E5ECF6",
           "showlakes": true,
           "showland": true,
           "subunitcolor": "white"
          },
          "hoverlabel": {
           "align": "left"
          },
          "hovermode": "closest",
          "mapbox": {
           "style": "light"
          },
          "paper_bgcolor": "white",
          "plot_bgcolor": "#E5ECF6",
          "polar": {
           "angularaxis": {
            "gridcolor": "white",
            "linecolor": "white",
            "ticks": ""
           },
           "bgcolor": "#E5ECF6",
           "radialaxis": {
            "gridcolor": "white",
            "linecolor": "white",
            "ticks": ""
           }
          },
          "scene": {
           "xaxis": {
            "backgroundcolor": "#E5ECF6",
            "gridcolor": "white",
            "gridwidth": 2,
            "linecolor": "white",
            "showbackground": true,
            "ticks": "",
            "zerolinecolor": "white"
           },
           "yaxis": {
            "backgroundcolor": "#E5ECF6",
            "gridcolor": "white",
            "gridwidth": 2,
            "linecolor": "white",
            "showbackground": true,
            "ticks": "",
            "zerolinecolor": "white"
           },
           "zaxis": {
            "backgroundcolor": "#E5ECF6",
            "gridcolor": "white",
            "gridwidth": 2,
            "linecolor": "white",
            "showbackground": true,
            "ticks": "",
            "zerolinecolor": "white"
           }
          },
          "shapedefaults": {
           "line": {
            "color": "#2a3f5f"
           }
          },
          "ternary": {
           "aaxis": {
            "gridcolor": "white",
            "linecolor": "white",
            "ticks": ""
           },
           "baxis": {
            "gridcolor": "white",
            "linecolor": "white",
            "ticks": ""
           },
           "bgcolor": "#E5ECF6",
           "caxis": {
            "gridcolor": "white",
            "linecolor": "white",
            "ticks": ""
           }
          },
          "title": {
           "x": 0.05
          },
          "xaxis": {
           "automargin": true,
           "gridcolor": "white",
           "linecolor": "white",
           "ticks": "",
           "title": {
            "standoff": 15
           },
           "zerolinecolor": "white",
           "zerolinewidth": 2
          },
          "yaxis": {
           "automargin": true,
           "gridcolor": "white",
           "linecolor": "white",
           "ticks": "",
           "title": {
            "standoff": 15
           },
           "zerolinecolor": "white",
           "zerolinewidth": 2
          }
         }
        },
        "title": {
         "font": {
          "size": 16
         },
         "text": "Perbandingan Attrition Rate: YearsAtCompany"
        },
        "width": 700,
        "xaxis": {
         "anchor": "y",
         "domain": [
          0,
          1
         ],
         "title": {
          "text": "Kategori"
         }
        },
        "yaxis": {
         "anchor": "x",
         "domain": [
          0,
          1
         ],
         "tickformat": ".0%",
         "title": {
          "text": "Attrition Rate"
         }
        }
       }
      }
     },
     "metadata": {},
     "output_type": "display_data"
    },
    {
     "name": "stdout",
     "output_type": "stream",
     "text": [
      "\n",
      "Hubungan outlier dengan Attrition untuk TotalWorkingYears:\n",
      "- Attrition rate untuk outlier: 0.0794 (7.94%)\n",
      "- Attrition rate untuk non-outlier: 0.1443 (14.43%)\n",
      "- Rasio (outlier/normal): 0.55x\n"
     ]
    },
    {
     "data": {
      "application/vnd.plotly.v1+json": {
       "config": {
        "plotlyServerURL": "https://plot.ly"
       },
       "data": [
        {
         "hovertemplate": "color=Normal<br>Kategori=%{x}<br>Attrition Rate=%{y}<extra></extra>",
         "legendgroup": "Normal",
         "marker": {
          "color": "royalblue",
          "pattern": {
           "shape": ""
          }
         },
         "name": "Normal",
         "orientation": "v",
         "showlegend": true,
         "text": [
          "14.4%",
          "7.9%"
         ],
         "textposition": "outside",
         "type": "bar",
         "x": [
          "Normal"
         ],
         "xaxis": "x",
         "y": {
          "bdata": "JMQ2rbh3wj8=",
          "dtype": "f8"
         },
         "yaxis": "y"
        },
        {
         "hovertemplate": "color=Outlier<br>Kategori=%{x}<br>Attrition Rate=%{y}<extra></extra>",
         "legendgroup": "Outlier",
         "marker": {
          "color": "tomato",
          "pattern": {
           "shape": ""
          }
         },
         "name": "Outlier",
         "orientation": "v",
         "showlegend": true,
         "text": [
          "14.4%",
          "7.9%"
         ],
         "textposition": "outside",
         "type": "bar",
         "x": [
          "Outlier"
         ],
         "xaxis": "x",
         "y": {
          "bdata": "FEVRFEVRtD8=",
          "dtype": "f8"
         },
         "yaxis": "y"
        }
       ],
       "layout": {
        "barmode": "relative",
        "height": 500,
        "legend": {
         "title": {
          "text": "color"
         },
         "tracegroupgap": 0
        },
        "plot_bgcolor": "white",
        "template": {
         "data": {
          "bar": [
           {
            "error_x": {
             "color": "#2a3f5f"
            },
            "error_y": {
             "color": "#2a3f5f"
            },
            "marker": {
             "line": {
              "color": "#E5ECF6",
              "width": 0.5
             },
             "pattern": {
              "fillmode": "overlay",
              "size": 10,
              "solidity": 0.2
             }
            },
            "type": "bar"
           }
          ],
          "barpolar": [
           {
            "marker": {
             "line": {
              "color": "#E5ECF6",
              "width": 0.5
             },
             "pattern": {
              "fillmode": "overlay",
              "size": 10,
              "solidity": 0.2
             }
            },
            "type": "barpolar"
           }
          ],
          "carpet": [
           {
            "aaxis": {
             "endlinecolor": "#2a3f5f",
             "gridcolor": "white",
             "linecolor": "white",
             "minorgridcolor": "white",
             "startlinecolor": "#2a3f5f"
            },
            "baxis": {
             "endlinecolor": "#2a3f5f",
             "gridcolor": "white",
             "linecolor": "white",
             "minorgridcolor": "white",
             "startlinecolor": "#2a3f5f"
            },
            "type": "carpet"
           }
          ],
          "choropleth": [
           {
            "colorbar": {
             "outlinewidth": 0,
             "ticks": ""
            },
            "type": "choropleth"
           }
          ],
          "contour": [
           {
            "colorbar": {
             "outlinewidth": 0,
             "ticks": ""
            },
            "colorscale": [
             [
              0,
              "#0d0887"
             ],
             [
              0.1111111111111111,
              "#46039f"
             ],
             [
              0.2222222222222222,
              "#7201a8"
             ],
             [
              0.3333333333333333,
              "#9c179e"
             ],
             [
              0.4444444444444444,
              "#bd3786"
             ],
             [
              0.5555555555555556,
              "#d8576b"
             ],
             [
              0.6666666666666666,
              "#ed7953"
             ],
             [
              0.7777777777777778,
              "#fb9f3a"
             ],
             [
              0.8888888888888888,
              "#fdca26"
             ],
             [
              1,
              "#f0f921"
             ]
            ],
            "type": "contour"
           }
          ],
          "contourcarpet": [
           {
            "colorbar": {
             "outlinewidth": 0,
             "ticks": ""
            },
            "type": "contourcarpet"
           }
          ],
          "heatmap": [
           {
            "colorbar": {
             "outlinewidth": 0,
             "ticks": ""
            },
            "colorscale": [
             [
              0,
              "#0d0887"
             ],
             [
              0.1111111111111111,
              "#46039f"
             ],
             [
              0.2222222222222222,
              "#7201a8"
             ],
             [
              0.3333333333333333,
              "#9c179e"
             ],
             [
              0.4444444444444444,
              "#bd3786"
             ],
             [
              0.5555555555555556,
              "#d8576b"
             ],
             [
              0.6666666666666666,
              "#ed7953"
             ],
             [
              0.7777777777777778,
              "#fb9f3a"
             ],
             [
              0.8888888888888888,
              "#fdca26"
             ],
             [
              1,
              "#f0f921"
             ]
            ],
            "type": "heatmap"
           }
          ],
          "histogram": [
           {
            "marker": {
             "pattern": {
              "fillmode": "overlay",
              "size": 10,
              "solidity": 0.2
             }
            },
            "type": "histogram"
           }
          ],
          "histogram2d": [
           {
            "colorbar": {
             "outlinewidth": 0,
             "ticks": ""
            },
            "colorscale": [
             [
              0,
              "#0d0887"
             ],
             [
              0.1111111111111111,
              "#46039f"
             ],
             [
              0.2222222222222222,
              "#7201a8"
             ],
             [
              0.3333333333333333,
              "#9c179e"
             ],
             [
              0.4444444444444444,
              "#bd3786"
             ],
             [
              0.5555555555555556,
              "#d8576b"
             ],
             [
              0.6666666666666666,
              "#ed7953"
             ],
             [
              0.7777777777777778,
              "#fb9f3a"
             ],
             [
              0.8888888888888888,
              "#fdca26"
             ],
             [
              1,
              "#f0f921"
             ]
            ],
            "type": "histogram2d"
           }
          ],
          "histogram2dcontour": [
           {
            "colorbar": {
             "outlinewidth": 0,
             "ticks": ""
            },
            "colorscale": [
             [
              0,
              "#0d0887"
             ],
             [
              0.1111111111111111,
              "#46039f"
             ],
             [
              0.2222222222222222,
              "#7201a8"
             ],
             [
              0.3333333333333333,
              "#9c179e"
             ],
             [
              0.4444444444444444,
              "#bd3786"
             ],
             [
              0.5555555555555556,
              "#d8576b"
             ],
             [
              0.6666666666666666,
              "#ed7953"
             ],
             [
              0.7777777777777778,
              "#fb9f3a"
             ],
             [
              0.8888888888888888,
              "#fdca26"
             ],
             [
              1,
              "#f0f921"
             ]
            ],
            "type": "histogram2dcontour"
           }
          ],
          "mesh3d": [
           {
            "colorbar": {
             "outlinewidth": 0,
             "ticks": ""
            },
            "type": "mesh3d"
           }
          ],
          "parcoords": [
           {
            "line": {
             "colorbar": {
              "outlinewidth": 0,
              "ticks": ""
             }
            },
            "type": "parcoords"
           }
          ],
          "pie": [
           {
            "automargin": true,
            "type": "pie"
           }
          ],
          "scatter": [
           {
            "fillpattern": {
             "fillmode": "overlay",
             "size": 10,
             "solidity": 0.2
            },
            "type": "scatter"
           }
          ],
          "scatter3d": [
           {
            "line": {
             "colorbar": {
              "outlinewidth": 0,
              "ticks": ""
             }
            },
            "marker": {
             "colorbar": {
              "outlinewidth": 0,
              "ticks": ""
             }
            },
            "type": "scatter3d"
           }
          ],
          "scattercarpet": [
           {
            "marker": {
             "colorbar": {
              "outlinewidth": 0,
              "ticks": ""
             }
            },
            "type": "scattercarpet"
           }
          ],
          "scattergeo": [
           {
            "marker": {
             "colorbar": {
              "outlinewidth": 0,
              "ticks": ""
             }
            },
            "type": "scattergeo"
           }
          ],
          "scattergl": [
           {
            "marker": {
             "colorbar": {
              "outlinewidth": 0,
              "ticks": ""
             }
            },
            "type": "scattergl"
           }
          ],
          "scattermap": [
           {
            "marker": {
             "colorbar": {
              "outlinewidth": 0,
              "ticks": ""
             }
            },
            "type": "scattermap"
           }
          ],
          "scattermapbox": [
           {
            "marker": {
             "colorbar": {
              "outlinewidth": 0,
              "ticks": ""
             }
            },
            "type": "scattermapbox"
           }
          ],
          "scatterpolar": [
           {
            "marker": {
             "colorbar": {
              "outlinewidth": 0,
              "ticks": ""
             }
            },
            "type": "scatterpolar"
           }
          ],
          "scatterpolargl": [
           {
            "marker": {
             "colorbar": {
              "outlinewidth": 0,
              "ticks": ""
             }
            },
            "type": "scatterpolargl"
           }
          ],
          "scatterternary": [
           {
            "marker": {
             "colorbar": {
              "outlinewidth": 0,
              "ticks": ""
             }
            },
            "type": "scatterternary"
           }
          ],
          "surface": [
           {
            "colorbar": {
             "outlinewidth": 0,
             "ticks": ""
            },
            "colorscale": [
             [
              0,
              "#0d0887"
             ],
             [
              0.1111111111111111,
              "#46039f"
             ],
             [
              0.2222222222222222,
              "#7201a8"
             ],
             [
              0.3333333333333333,
              "#9c179e"
             ],
             [
              0.4444444444444444,
              "#bd3786"
             ],
             [
              0.5555555555555556,
              "#d8576b"
             ],
             [
              0.6666666666666666,
              "#ed7953"
             ],
             [
              0.7777777777777778,
              "#fb9f3a"
             ],
             [
              0.8888888888888888,
              "#fdca26"
             ],
             [
              1,
              "#f0f921"
             ]
            ],
            "type": "surface"
           }
          ],
          "table": [
           {
            "cells": {
             "fill": {
              "color": "#EBF0F8"
             },
             "line": {
              "color": "white"
             }
            },
            "header": {
             "fill": {
              "color": "#C8D4E3"
             },
             "line": {
              "color": "white"
             }
            },
            "type": "table"
           }
          ]
         },
         "layout": {
          "annotationdefaults": {
           "arrowcolor": "#2a3f5f",
           "arrowhead": 0,
           "arrowwidth": 1
          },
          "autotypenumbers": "strict",
          "coloraxis": {
           "colorbar": {
            "outlinewidth": 0,
            "ticks": ""
           }
          },
          "colorscale": {
           "diverging": [
            [
             0,
             "#8e0152"
            ],
            [
             0.1,
             "#c51b7d"
            ],
            [
             0.2,
             "#de77ae"
            ],
            [
             0.3,
             "#f1b6da"
            ],
            [
             0.4,
             "#fde0ef"
            ],
            [
             0.5,
             "#f7f7f7"
            ],
            [
             0.6,
             "#e6f5d0"
            ],
            [
             0.7,
             "#b8e186"
            ],
            [
             0.8,
             "#7fbc41"
            ],
            [
             0.9,
             "#4d9221"
            ],
            [
             1,
             "#276419"
            ]
           ],
           "sequential": [
            [
             0,
             "#0d0887"
            ],
            [
             0.1111111111111111,
             "#46039f"
            ],
            [
             0.2222222222222222,
             "#7201a8"
            ],
            [
             0.3333333333333333,
             "#9c179e"
            ],
            [
             0.4444444444444444,
             "#bd3786"
            ],
            [
             0.5555555555555556,
             "#d8576b"
            ],
            [
             0.6666666666666666,
             "#ed7953"
            ],
            [
             0.7777777777777778,
             "#fb9f3a"
            ],
            [
             0.8888888888888888,
             "#fdca26"
            ],
            [
             1,
             "#f0f921"
            ]
           ],
           "sequentialminus": [
            [
             0,
             "#0d0887"
            ],
            [
             0.1111111111111111,
             "#46039f"
            ],
            [
             0.2222222222222222,
             "#7201a8"
            ],
            [
             0.3333333333333333,
             "#9c179e"
            ],
            [
             0.4444444444444444,
             "#bd3786"
            ],
            [
             0.5555555555555556,
             "#d8576b"
            ],
            [
             0.6666666666666666,
             "#ed7953"
            ],
            [
             0.7777777777777778,
             "#fb9f3a"
            ],
            [
             0.8888888888888888,
             "#fdca26"
            ],
            [
             1,
             "#f0f921"
            ]
           ]
          },
          "colorway": [
           "#636efa",
           "#EF553B",
           "#00cc96",
           "#ab63fa",
           "#FFA15A",
           "#19d3f3",
           "#FF6692",
           "#B6E880",
           "#FF97FF",
           "#FECB52"
          ],
          "font": {
           "color": "#2a3f5f"
          },
          "geo": {
           "bgcolor": "white",
           "lakecolor": "white",
           "landcolor": "#E5ECF6",
           "showlakes": true,
           "showland": true,
           "subunitcolor": "white"
          },
          "hoverlabel": {
           "align": "left"
          },
          "hovermode": "closest",
          "mapbox": {
           "style": "light"
          },
          "paper_bgcolor": "white",
          "plot_bgcolor": "#E5ECF6",
          "polar": {
           "angularaxis": {
            "gridcolor": "white",
            "linecolor": "white",
            "ticks": ""
           },
           "bgcolor": "#E5ECF6",
           "radialaxis": {
            "gridcolor": "white",
            "linecolor": "white",
            "ticks": ""
           }
          },
          "scene": {
           "xaxis": {
            "backgroundcolor": "#E5ECF6",
            "gridcolor": "white",
            "gridwidth": 2,
            "linecolor": "white",
            "showbackground": true,
            "ticks": "",
            "zerolinecolor": "white"
           },
           "yaxis": {
            "backgroundcolor": "#E5ECF6",
            "gridcolor": "white",
            "gridwidth": 2,
            "linecolor": "white",
            "showbackground": true,
            "ticks": "",
            "zerolinecolor": "white"
           },
           "zaxis": {
            "backgroundcolor": "#E5ECF6",
            "gridcolor": "white",
            "gridwidth": 2,
            "linecolor": "white",
            "showbackground": true,
            "ticks": "",
            "zerolinecolor": "white"
           }
          },
          "shapedefaults": {
           "line": {
            "color": "#2a3f5f"
           }
          },
          "ternary": {
           "aaxis": {
            "gridcolor": "white",
            "linecolor": "white",
            "ticks": ""
           },
           "baxis": {
            "gridcolor": "white",
            "linecolor": "white",
            "ticks": ""
           },
           "bgcolor": "#E5ECF6",
           "caxis": {
            "gridcolor": "white",
            "linecolor": "white",
            "ticks": ""
           }
          },
          "title": {
           "x": 0.05
          },
          "xaxis": {
           "automargin": true,
           "gridcolor": "white",
           "linecolor": "white",
           "ticks": "",
           "title": {
            "standoff": 15
           },
           "zerolinecolor": "white",
           "zerolinewidth": 2
          },
          "yaxis": {
           "automargin": true,
           "gridcolor": "white",
           "linecolor": "white",
           "ticks": "",
           "title": {
            "standoff": 15
           },
           "zerolinecolor": "white",
           "zerolinewidth": 2
          }
         }
        },
        "title": {
         "font": {
          "size": 16
         },
         "text": "Perbandingan Attrition Rate: TotalWorkingYears"
        },
        "width": 700,
        "xaxis": {
         "anchor": "y",
         "domain": [
          0,
          1
         ],
         "title": {
          "text": "Kategori"
         }
        },
        "yaxis": {
         "anchor": "x",
         "domain": [
          0,
          1
         ],
         "tickformat": ".0%",
         "title": {
          "text": "Attrition Rate"
         }
        }
       }
      }
     },
     "metadata": {},
     "output_type": "display_data"
    },
    {
     "name": "stdout",
     "output_type": "stream",
     "text": [
      "\n",
      "Hubungan outlier dengan Attrition untuk YearsSinceLastPromotion:\n",
      "- Attrition rate untuk outlier: 0.1028 (10.28%)\n",
      "- Attrition rate untuk non-outlier: 0.1445 (14.45%)\n",
      "- Rasio (outlier/normal): 0.71x\n"
     ]
    },
    {
     "data": {
      "application/vnd.plotly.v1+json": {
       "config": {
        "plotlyServerURL": "https://plot.ly"
       },
       "data": [
        {
         "hovertemplate": "color=Normal<br>Kategori=%{x}<br>Attrition Rate=%{y}<extra></extra>",
         "legendgroup": "Normal",
         "marker": {
          "color": "royalblue",
          "pattern": {
           "shape": ""
          }
         },
         "name": "Normal",
         "orientation": "v",
         "showlegend": true,
         "text": [
          "14.5%",
          "10.3%"
         ],
         "textposition": "outside",
         "type": "bar",
         "x": [
          "Normal"
         ],
         "xaxis": "x",
         "y": {
          "bdata": "A5qEChiAwj8=",
          "dtype": "f8"
         },
         "yaxis": "y"
        },
        {
         "hovertemplate": "color=Outlier<br>Kategori=%{x}<br>Attrition Rate=%{y}<extra></extra>",
         "legendgroup": "Outlier",
         "marker": {
          "color": "tomato",
          "pattern": {
           "shape": ""
          }
         },
         "name": "Outlier",
         "orientation": "v",
         "showlegend": true,
         "text": [
          "14.5%",
          "10.3%"
         ],
         "textposition": "outside",
         "type": "bar",
         "x": [
          "Outlier"
         ],
         "xaxis": "x",
         "y": {
          "bdata": "Bzf7hVhRuj8=",
          "dtype": "f8"
         },
         "yaxis": "y"
        }
       ],
       "layout": {
        "barmode": "relative",
        "height": 500,
        "legend": {
         "title": {
          "text": "color"
         },
         "tracegroupgap": 0
        },
        "plot_bgcolor": "white",
        "template": {
         "data": {
          "bar": [
           {
            "error_x": {
             "color": "#2a3f5f"
            },
            "error_y": {
             "color": "#2a3f5f"
            },
            "marker": {
             "line": {
              "color": "#E5ECF6",
              "width": 0.5
             },
             "pattern": {
              "fillmode": "overlay",
              "size": 10,
              "solidity": 0.2
             }
            },
            "type": "bar"
           }
          ],
          "barpolar": [
           {
            "marker": {
             "line": {
              "color": "#E5ECF6",
              "width": 0.5
             },
             "pattern": {
              "fillmode": "overlay",
              "size": 10,
              "solidity": 0.2
             }
            },
            "type": "barpolar"
           }
          ],
          "carpet": [
           {
            "aaxis": {
             "endlinecolor": "#2a3f5f",
             "gridcolor": "white",
             "linecolor": "white",
             "minorgridcolor": "white",
             "startlinecolor": "#2a3f5f"
            },
            "baxis": {
             "endlinecolor": "#2a3f5f",
             "gridcolor": "white",
             "linecolor": "white",
             "minorgridcolor": "white",
             "startlinecolor": "#2a3f5f"
            },
            "type": "carpet"
           }
          ],
          "choropleth": [
           {
            "colorbar": {
             "outlinewidth": 0,
             "ticks": ""
            },
            "type": "choropleth"
           }
          ],
          "contour": [
           {
            "colorbar": {
             "outlinewidth": 0,
             "ticks": ""
            },
            "colorscale": [
             [
              0,
              "#0d0887"
             ],
             [
              0.1111111111111111,
              "#46039f"
             ],
             [
              0.2222222222222222,
              "#7201a8"
             ],
             [
              0.3333333333333333,
              "#9c179e"
             ],
             [
              0.4444444444444444,
              "#bd3786"
             ],
             [
              0.5555555555555556,
              "#d8576b"
             ],
             [
              0.6666666666666666,
              "#ed7953"
             ],
             [
              0.7777777777777778,
              "#fb9f3a"
             ],
             [
              0.8888888888888888,
              "#fdca26"
             ],
             [
              1,
              "#f0f921"
             ]
            ],
            "type": "contour"
           }
          ],
          "contourcarpet": [
           {
            "colorbar": {
             "outlinewidth": 0,
             "ticks": ""
            },
            "type": "contourcarpet"
           }
          ],
          "heatmap": [
           {
            "colorbar": {
             "outlinewidth": 0,
             "ticks": ""
            },
            "colorscale": [
             [
              0,
              "#0d0887"
             ],
             [
              0.1111111111111111,
              "#46039f"
             ],
             [
              0.2222222222222222,
              "#7201a8"
             ],
             [
              0.3333333333333333,
              "#9c179e"
             ],
             [
              0.4444444444444444,
              "#bd3786"
             ],
             [
              0.5555555555555556,
              "#d8576b"
             ],
             [
              0.6666666666666666,
              "#ed7953"
             ],
             [
              0.7777777777777778,
              "#fb9f3a"
             ],
             [
              0.8888888888888888,
              "#fdca26"
             ],
             [
              1,
              "#f0f921"
             ]
            ],
            "type": "heatmap"
           }
          ],
          "histogram": [
           {
            "marker": {
             "pattern": {
              "fillmode": "overlay",
              "size": 10,
              "solidity": 0.2
             }
            },
            "type": "histogram"
           }
          ],
          "histogram2d": [
           {
            "colorbar": {
             "outlinewidth": 0,
             "ticks": ""
            },
            "colorscale": [
             [
              0,
              "#0d0887"
             ],
             [
              0.1111111111111111,
              "#46039f"
             ],
             [
              0.2222222222222222,
              "#7201a8"
             ],
             [
              0.3333333333333333,
              "#9c179e"
             ],
             [
              0.4444444444444444,
              "#bd3786"
             ],
             [
              0.5555555555555556,
              "#d8576b"
             ],
             [
              0.6666666666666666,
              "#ed7953"
             ],
             [
              0.7777777777777778,
              "#fb9f3a"
             ],
             [
              0.8888888888888888,
              "#fdca26"
             ],
             [
              1,
              "#f0f921"
             ]
            ],
            "type": "histogram2d"
           }
          ],
          "histogram2dcontour": [
           {
            "colorbar": {
             "outlinewidth": 0,
             "ticks": ""
            },
            "colorscale": [
             [
              0,
              "#0d0887"
             ],
             [
              0.1111111111111111,
              "#46039f"
             ],
             [
              0.2222222222222222,
              "#7201a8"
             ],
             [
              0.3333333333333333,
              "#9c179e"
             ],
             [
              0.4444444444444444,
              "#bd3786"
             ],
             [
              0.5555555555555556,
              "#d8576b"
             ],
             [
              0.6666666666666666,
              "#ed7953"
             ],
             [
              0.7777777777777778,
              "#fb9f3a"
             ],
             [
              0.8888888888888888,
              "#fdca26"
             ],
             [
              1,
              "#f0f921"
             ]
            ],
            "type": "histogram2dcontour"
           }
          ],
          "mesh3d": [
           {
            "colorbar": {
             "outlinewidth": 0,
             "ticks": ""
            },
            "type": "mesh3d"
           }
          ],
          "parcoords": [
           {
            "line": {
             "colorbar": {
              "outlinewidth": 0,
              "ticks": ""
             }
            },
            "type": "parcoords"
           }
          ],
          "pie": [
           {
            "automargin": true,
            "type": "pie"
           }
          ],
          "scatter": [
           {
            "fillpattern": {
             "fillmode": "overlay",
             "size": 10,
             "solidity": 0.2
            },
            "type": "scatter"
           }
          ],
          "scatter3d": [
           {
            "line": {
             "colorbar": {
              "outlinewidth": 0,
              "ticks": ""
             }
            },
            "marker": {
             "colorbar": {
              "outlinewidth": 0,
              "ticks": ""
             }
            },
            "type": "scatter3d"
           }
          ],
          "scattercarpet": [
           {
            "marker": {
             "colorbar": {
              "outlinewidth": 0,
              "ticks": ""
             }
            },
            "type": "scattercarpet"
           }
          ],
          "scattergeo": [
           {
            "marker": {
             "colorbar": {
              "outlinewidth": 0,
              "ticks": ""
             }
            },
            "type": "scattergeo"
           }
          ],
          "scattergl": [
           {
            "marker": {
             "colorbar": {
              "outlinewidth": 0,
              "ticks": ""
             }
            },
            "type": "scattergl"
           }
          ],
          "scattermap": [
           {
            "marker": {
             "colorbar": {
              "outlinewidth": 0,
              "ticks": ""
             }
            },
            "type": "scattermap"
           }
          ],
          "scattermapbox": [
           {
            "marker": {
             "colorbar": {
              "outlinewidth": 0,
              "ticks": ""
             }
            },
            "type": "scattermapbox"
           }
          ],
          "scatterpolar": [
           {
            "marker": {
             "colorbar": {
              "outlinewidth": 0,
              "ticks": ""
             }
            },
            "type": "scatterpolar"
           }
          ],
          "scatterpolargl": [
           {
            "marker": {
             "colorbar": {
              "outlinewidth": 0,
              "ticks": ""
             }
            },
            "type": "scatterpolargl"
           }
          ],
          "scatterternary": [
           {
            "marker": {
             "colorbar": {
              "outlinewidth": 0,
              "ticks": ""
             }
            },
            "type": "scatterternary"
           }
          ],
          "surface": [
           {
            "colorbar": {
             "outlinewidth": 0,
             "ticks": ""
            },
            "colorscale": [
             [
              0,
              "#0d0887"
             ],
             [
              0.1111111111111111,
              "#46039f"
             ],
             [
              0.2222222222222222,
              "#7201a8"
             ],
             [
              0.3333333333333333,
              "#9c179e"
             ],
             [
              0.4444444444444444,
              "#bd3786"
             ],
             [
              0.5555555555555556,
              "#d8576b"
             ],
             [
              0.6666666666666666,
              "#ed7953"
             ],
             [
              0.7777777777777778,
              "#fb9f3a"
             ],
             [
              0.8888888888888888,
              "#fdca26"
             ],
             [
              1,
              "#f0f921"
             ]
            ],
            "type": "surface"
           }
          ],
          "table": [
           {
            "cells": {
             "fill": {
              "color": "#EBF0F8"
             },
             "line": {
              "color": "white"
             }
            },
            "header": {
             "fill": {
              "color": "#C8D4E3"
             },
             "line": {
              "color": "white"
             }
            },
            "type": "table"
           }
          ]
         },
         "layout": {
          "annotationdefaults": {
           "arrowcolor": "#2a3f5f",
           "arrowhead": 0,
           "arrowwidth": 1
          },
          "autotypenumbers": "strict",
          "coloraxis": {
           "colorbar": {
            "outlinewidth": 0,
            "ticks": ""
           }
          },
          "colorscale": {
           "diverging": [
            [
             0,
             "#8e0152"
            ],
            [
             0.1,
             "#c51b7d"
            ],
            [
             0.2,
             "#de77ae"
            ],
            [
             0.3,
             "#f1b6da"
            ],
            [
             0.4,
             "#fde0ef"
            ],
            [
             0.5,
             "#f7f7f7"
            ],
            [
             0.6,
             "#e6f5d0"
            ],
            [
             0.7,
             "#b8e186"
            ],
            [
             0.8,
             "#7fbc41"
            ],
            [
             0.9,
             "#4d9221"
            ],
            [
             1,
             "#276419"
            ]
           ],
           "sequential": [
            [
             0,
             "#0d0887"
            ],
            [
             0.1111111111111111,
             "#46039f"
            ],
            [
             0.2222222222222222,
             "#7201a8"
            ],
            [
             0.3333333333333333,
             "#9c179e"
            ],
            [
             0.4444444444444444,
             "#bd3786"
            ],
            [
             0.5555555555555556,
             "#d8576b"
            ],
            [
             0.6666666666666666,
             "#ed7953"
            ],
            [
             0.7777777777777778,
             "#fb9f3a"
            ],
            [
             0.8888888888888888,
             "#fdca26"
            ],
            [
             1,
             "#f0f921"
            ]
           ],
           "sequentialminus": [
            [
             0,
             "#0d0887"
            ],
            [
             0.1111111111111111,
             "#46039f"
            ],
            [
             0.2222222222222222,
             "#7201a8"
            ],
            [
             0.3333333333333333,
             "#9c179e"
            ],
            [
             0.4444444444444444,
             "#bd3786"
            ],
            [
             0.5555555555555556,
             "#d8576b"
            ],
            [
             0.6666666666666666,
             "#ed7953"
            ],
            [
             0.7777777777777778,
             "#fb9f3a"
            ],
            [
             0.8888888888888888,
             "#fdca26"
            ],
            [
             1,
             "#f0f921"
            ]
           ]
          },
          "colorway": [
           "#636efa",
           "#EF553B",
           "#00cc96",
           "#ab63fa",
           "#FFA15A",
           "#19d3f3",
           "#FF6692",
           "#B6E880",
           "#FF97FF",
           "#FECB52"
          ],
          "font": {
           "color": "#2a3f5f"
          },
          "geo": {
           "bgcolor": "white",
           "lakecolor": "white",
           "landcolor": "#E5ECF6",
           "showlakes": true,
           "showland": true,
           "subunitcolor": "white"
          },
          "hoverlabel": {
           "align": "left"
          },
          "hovermode": "closest",
          "mapbox": {
           "style": "light"
          },
          "paper_bgcolor": "white",
          "plot_bgcolor": "#E5ECF6",
          "polar": {
           "angularaxis": {
            "gridcolor": "white",
            "linecolor": "white",
            "ticks": ""
           },
           "bgcolor": "#E5ECF6",
           "radialaxis": {
            "gridcolor": "white",
            "linecolor": "white",
            "ticks": ""
           }
          },
          "scene": {
           "xaxis": {
            "backgroundcolor": "#E5ECF6",
            "gridcolor": "white",
            "gridwidth": 2,
            "linecolor": "white",
            "showbackground": true,
            "ticks": "",
            "zerolinecolor": "white"
           },
           "yaxis": {
            "backgroundcolor": "#E5ECF6",
            "gridcolor": "white",
            "gridwidth": 2,
            "linecolor": "white",
            "showbackground": true,
            "ticks": "",
            "zerolinecolor": "white"
           },
           "zaxis": {
            "backgroundcolor": "#E5ECF6",
            "gridcolor": "white",
            "gridwidth": 2,
            "linecolor": "white",
            "showbackground": true,
            "ticks": "",
            "zerolinecolor": "white"
           }
          },
          "shapedefaults": {
           "line": {
            "color": "#2a3f5f"
           }
          },
          "ternary": {
           "aaxis": {
            "gridcolor": "white",
            "linecolor": "white",
            "ticks": ""
           },
           "baxis": {
            "gridcolor": "white",
            "linecolor": "white",
            "ticks": ""
           },
           "bgcolor": "#E5ECF6",
           "caxis": {
            "gridcolor": "white",
            "linecolor": "white",
            "ticks": ""
           }
          },
          "title": {
           "x": 0.05
          },
          "xaxis": {
           "automargin": true,
           "gridcolor": "white",
           "linecolor": "white",
           "ticks": "",
           "title": {
            "standoff": 15
           },
           "zerolinecolor": "white",
           "zerolinewidth": 2
          },
          "yaxis": {
           "automargin": true,
           "gridcolor": "white",
           "linecolor": "white",
           "ticks": "",
           "title": {
            "standoff": 15
           },
           "zerolinecolor": "white",
           "zerolinewidth": 2
          }
         }
        },
        "title": {
         "font": {
          "size": 16
         },
         "text": "Perbandingan Attrition Rate: YearsSinceLastPromotion"
        },
        "width": 700,
        "xaxis": {
         "anchor": "y",
         "domain": [
          0,
          1
         ],
         "title": {
          "text": "Kategori"
         }
        },
        "yaxis": {
         "anchor": "x",
         "domain": [
          0,
          1
         ],
         "tickformat": ".0%",
         "title": {
          "text": "Attrition Rate"
         }
        }
       }
      }
     },
     "metadata": {},
     "output_type": "display_data"
    },
    {
     "name": "stdout",
     "output_type": "stream",
     "text": [
      "\n",
      "Hubungan outlier dengan Attrition untuk NumCompaniesWorked:\n",
      "- Attrition rate untuk outlier: 0.1923 (19.23%)\n",
      "- Attrition rate untuk non-outlier: 0.1396 (13.96%)\n",
      "- Rasio (outlier/normal): 1.38x\n"
     ]
    },
    {
     "data": {
      "application/vnd.plotly.v1+json": {
       "config": {
        "plotlyServerURL": "https://plot.ly"
       },
       "data": [
        {
         "hovertemplate": "color=Normal<br>Kategori=%{x}<br>Attrition Rate=%{y}<extra></extra>",
         "legendgroup": "Normal",
         "marker": {
          "color": "royalblue",
          "pattern": {
           "shape": ""
          }
         },
         "name": "Normal",
         "orientation": "v",
         "showlegend": true,
         "text": [
          "14.0%",
          "19.2%"
         ],
         "textposition": "outside",
         "type": "bar",
         "x": [
          "Normal"
         ],
         "xaxis": "x",
         "y": {
          "bdata": "gAYW54DfwT8=",
          "dtype": "f8"
         },
         "yaxis": "y"
        },
        {
         "hovertemplate": "color=Outlier<br>Kategori=%{x}<br>Attrition Rate=%{y}<extra></extra>",
         "legendgroup": "Outlier",
         "marker": {
          "color": "tomato",
          "pattern": {
           "shape": ""
          }
         },
         "name": "Outlier",
         "orientation": "v",
         "showlegend": true,
         "text": [
          "14.0%",
          "19.2%"
         ],
         "textposition": "outside",
         "type": "bar",
         "x": [
          "Outlier"
         ],
         "xaxis": "x",
         "y": {
          "bdata": "2Ymd2ImdyD8=",
          "dtype": "f8"
         },
         "yaxis": "y"
        }
       ],
       "layout": {
        "barmode": "relative",
        "height": 500,
        "legend": {
         "title": {
          "text": "color"
         },
         "tracegroupgap": 0
        },
        "plot_bgcolor": "white",
        "template": {
         "data": {
          "bar": [
           {
            "error_x": {
             "color": "#2a3f5f"
            },
            "error_y": {
             "color": "#2a3f5f"
            },
            "marker": {
             "line": {
              "color": "#E5ECF6",
              "width": 0.5
             },
             "pattern": {
              "fillmode": "overlay",
              "size": 10,
              "solidity": 0.2
             }
            },
            "type": "bar"
           }
          ],
          "barpolar": [
           {
            "marker": {
             "line": {
              "color": "#E5ECF6",
              "width": 0.5
             },
             "pattern": {
              "fillmode": "overlay",
              "size": 10,
              "solidity": 0.2
             }
            },
            "type": "barpolar"
           }
          ],
          "carpet": [
           {
            "aaxis": {
             "endlinecolor": "#2a3f5f",
             "gridcolor": "white",
             "linecolor": "white",
             "minorgridcolor": "white",
             "startlinecolor": "#2a3f5f"
            },
            "baxis": {
             "endlinecolor": "#2a3f5f",
             "gridcolor": "white",
             "linecolor": "white",
             "minorgridcolor": "white",
             "startlinecolor": "#2a3f5f"
            },
            "type": "carpet"
           }
          ],
          "choropleth": [
           {
            "colorbar": {
             "outlinewidth": 0,
             "ticks": ""
            },
            "type": "choropleth"
           }
          ],
          "contour": [
           {
            "colorbar": {
             "outlinewidth": 0,
             "ticks": ""
            },
            "colorscale": [
             [
              0,
              "#0d0887"
             ],
             [
              0.1111111111111111,
              "#46039f"
             ],
             [
              0.2222222222222222,
              "#7201a8"
             ],
             [
              0.3333333333333333,
              "#9c179e"
             ],
             [
              0.4444444444444444,
              "#bd3786"
             ],
             [
              0.5555555555555556,
              "#d8576b"
             ],
             [
              0.6666666666666666,
              "#ed7953"
             ],
             [
              0.7777777777777778,
              "#fb9f3a"
             ],
             [
              0.8888888888888888,
              "#fdca26"
             ],
             [
              1,
              "#f0f921"
             ]
            ],
            "type": "contour"
           }
          ],
          "contourcarpet": [
           {
            "colorbar": {
             "outlinewidth": 0,
             "ticks": ""
            },
            "type": "contourcarpet"
           }
          ],
          "heatmap": [
           {
            "colorbar": {
             "outlinewidth": 0,
             "ticks": ""
            },
            "colorscale": [
             [
              0,
              "#0d0887"
             ],
             [
              0.1111111111111111,
              "#46039f"
             ],
             [
              0.2222222222222222,
              "#7201a8"
             ],
             [
              0.3333333333333333,
              "#9c179e"
             ],
             [
              0.4444444444444444,
              "#bd3786"
             ],
             [
              0.5555555555555556,
              "#d8576b"
             ],
             [
              0.6666666666666666,
              "#ed7953"
             ],
             [
              0.7777777777777778,
              "#fb9f3a"
             ],
             [
              0.8888888888888888,
              "#fdca26"
             ],
             [
              1,
              "#f0f921"
             ]
            ],
            "type": "heatmap"
           }
          ],
          "histogram": [
           {
            "marker": {
             "pattern": {
              "fillmode": "overlay",
              "size": 10,
              "solidity": 0.2
             }
            },
            "type": "histogram"
           }
          ],
          "histogram2d": [
           {
            "colorbar": {
             "outlinewidth": 0,
             "ticks": ""
            },
            "colorscale": [
             [
              0,
              "#0d0887"
             ],
             [
              0.1111111111111111,
              "#46039f"
             ],
             [
              0.2222222222222222,
              "#7201a8"
             ],
             [
              0.3333333333333333,
              "#9c179e"
             ],
             [
              0.4444444444444444,
              "#bd3786"
             ],
             [
              0.5555555555555556,
              "#d8576b"
             ],
             [
              0.6666666666666666,
              "#ed7953"
             ],
             [
              0.7777777777777778,
              "#fb9f3a"
             ],
             [
              0.8888888888888888,
              "#fdca26"
             ],
             [
              1,
              "#f0f921"
             ]
            ],
            "type": "histogram2d"
           }
          ],
          "histogram2dcontour": [
           {
            "colorbar": {
             "outlinewidth": 0,
             "ticks": ""
            },
            "colorscale": [
             [
              0,
              "#0d0887"
             ],
             [
              0.1111111111111111,
              "#46039f"
             ],
             [
              0.2222222222222222,
              "#7201a8"
             ],
             [
              0.3333333333333333,
              "#9c179e"
             ],
             [
              0.4444444444444444,
              "#bd3786"
             ],
             [
              0.5555555555555556,
              "#d8576b"
             ],
             [
              0.6666666666666666,
              "#ed7953"
             ],
             [
              0.7777777777777778,
              "#fb9f3a"
             ],
             [
              0.8888888888888888,
              "#fdca26"
             ],
             [
              1,
              "#f0f921"
             ]
            ],
            "type": "histogram2dcontour"
           }
          ],
          "mesh3d": [
           {
            "colorbar": {
             "outlinewidth": 0,
             "ticks": ""
            },
            "type": "mesh3d"
           }
          ],
          "parcoords": [
           {
            "line": {
             "colorbar": {
              "outlinewidth": 0,
              "ticks": ""
             }
            },
            "type": "parcoords"
           }
          ],
          "pie": [
           {
            "automargin": true,
            "type": "pie"
           }
          ],
          "scatter": [
           {
            "fillpattern": {
             "fillmode": "overlay",
             "size": 10,
             "solidity": 0.2
            },
            "type": "scatter"
           }
          ],
          "scatter3d": [
           {
            "line": {
             "colorbar": {
              "outlinewidth": 0,
              "ticks": ""
             }
            },
            "marker": {
             "colorbar": {
              "outlinewidth": 0,
              "ticks": ""
             }
            },
            "type": "scatter3d"
           }
          ],
          "scattercarpet": [
           {
            "marker": {
             "colorbar": {
              "outlinewidth": 0,
              "ticks": ""
             }
            },
            "type": "scattercarpet"
           }
          ],
          "scattergeo": [
           {
            "marker": {
             "colorbar": {
              "outlinewidth": 0,
              "ticks": ""
             }
            },
            "type": "scattergeo"
           }
          ],
          "scattergl": [
           {
            "marker": {
             "colorbar": {
              "outlinewidth": 0,
              "ticks": ""
             }
            },
            "type": "scattergl"
           }
          ],
          "scattermap": [
           {
            "marker": {
             "colorbar": {
              "outlinewidth": 0,
              "ticks": ""
             }
            },
            "type": "scattermap"
           }
          ],
          "scattermapbox": [
           {
            "marker": {
             "colorbar": {
              "outlinewidth": 0,
              "ticks": ""
             }
            },
            "type": "scattermapbox"
           }
          ],
          "scatterpolar": [
           {
            "marker": {
             "colorbar": {
              "outlinewidth": 0,
              "ticks": ""
             }
            },
            "type": "scatterpolar"
           }
          ],
          "scatterpolargl": [
           {
            "marker": {
             "colorbar": {
              "outlinewidth": 0,
              "ticks": ""
             }
            },
            "type": "scatterpolargl"
           }
          ],
          "scatterternary": [
           {
            "marker": {
             "colorbar": {
              "outlinewidth": 0,
              "ticks": ""
             }
            },
            "type": "scatterternary"
           }
          ],
          "surface": [
           {
            "colorbar": {
             "outlinewidth": 0,
             "ticks": ""
            },
            "colorscale": [
             [
              0,
              "#0d0887"
             ],
             [
              0.1111111111111111,
              "#46039f"
             ],
             [
              0.2222222222222222,
              "#7201a8"
             ],
             [
              0.3333333333333333,
              "#9c179e"
             ],
             [
              0.4444444444444444,
              "#bd3786"
             ],
             [
              0.5555555555555556,
              "#d8576b"
             ],
             [
              0.6666666666666666,
              "#ed7953"
             ],
             [
              0.7777777777777778,
              "#fb9f3a"
             ],
             [
              0.8888888888888888,
              "#fdca26"
             ],
             [
              1,
              "#f0f921"
             ]
            ],
            "type": "surface"
           }
          ],
          "table": [
           {
            "cells": {
             "fill": {
              "color": "#EBF0F8"
             },
             "line": {
              "color": "white"
             }
            },
            "header": {
             "fill": {
              "color": "#C8D4E3"
             },
             "line": {
              "color": "white"
             }
            },
            "type": "table"
           }
          ]
         },
         "layout": {
          "annotationdefaults": {
           "arrowcolor": "#2a3f5f",
           "arrowhead": 0,
           "arrowwidth": 1
          },
          "autotypenumbers": "strict",
          "coloraxis": {
           "colorbar": {
            "outlinewidth": 0,
            "ticks": ""
           }
          },
          "colorscale": {
           "diverging": [
            [
             0,
             "#8e0152"
            ],
            [
             0.1,
             "#c51b7d"
            ],
            [
             0.2,
             "#de77ae"
            ],
            [
             0.3,
             "#f1b6da"
            ],
            [
             0.4,
             "#fde0ef"
            ],
            [
             0.5,
             "#f7f7f7"
            ],
            [
             0.6,
             "#e6f5d0"
            ],
            [
             0.7,
             "#b8e186"
            ],
            [
             0.8,
             "#7fbc41"
            ],
            [
             0.9,
             "#4d9221"
            ],
            [
             1,
             "#276419"
            ]
           ],
           "sequential": [
            [
             0,
             "#0d0887"
            ],
            [
             0.1111111111111111,
             "#46039f"
            ],
            [
             0.2222222222222222,
             "#7201a8"
            ],
            [
             0.3333333333333333,
             "#9c179e"
            ],
            [
             0.4444444444444444,
             "#bd3786"
            ],
            [
             0.5555555555555556,
             "#d8576b"
            ],
            [
             0.6666666666666666,
             "#ed7953"
            ],
            [
             0.7777777777777778,
             "#fb9f3a"
            ],
            [
             0.8888888888888888,
             "#fdca26"
            ],
            [
             1,
             "#f0f921"
            ]
           ],
           "sequentialminus": [
            [
             0,
             "#0d0887"
            ],
            [
             0.1111111111111111,
             "#46039f"
            ],
            [
             0.2222222222222222,
             "#7201a8"
            ],
            [
             0.3333333333333333,
             "#9c179e"
            ],
            [
             0.4444444444444444,
             "#bd3786"
            ],
            [
             0.5555555555555556,
             "#d8576b"
            ],
            [
             0.6666666666666666,
             "#ed7953"
            ],
            [
             0.7777777777777778,
             "#fb9f3a"
            ],
            [
             0.8888888888888888,
             "#fdca26"
            ],
            [
             1,
             "#f0f921"
            ]
           ]
          },
          "colorway": [
           "#636efa",
           "#EF553B",
           "#00cc96",
           "#ab63fa",
           "#FFA15A",
           "#19d3f3",
           "#FF6692",
           "#B6E880",
           "#FF97FF",
           "#FECB52"
          ],
          "font": {
           "color": "#2a3f5f"
          },
          "geo": {
           "bgcolor": "white",
           "lakecolor": "white",
           "landcolor": "#E5ECF6",
           "showlakes": true,
           "showland": true,
           "subunitcolor": "white"
          },
          "hoverlabel": {
           "align": "left"
          },
          "hovermode": "closest",
          "mapbox": {
           "style": "light"
          },
          "paper_bgcolor": "white",
          "plot_bgcolor": "#E5ECF6",
          "polar": {
           "angularaxis": {
            "gridcolor": "white",
            "linecolor": "white",
            "ticks": ""
           },
           "bgcolor": "#E5ECF6",
           "radialaxis": {
            "gridcolor": "white",
            "linecolor": "white",
            "ticks": ""
           }
          },
          "scene": {
           "xaxis": {
            "backgroundcolor": "#E5ECF6",
            "gridcolor": "white",
            "gridwidth": 2,
            "linecolor": "white",
            "showbackground": true,
            "ticks": "",
            "zerolinecolor": "white"
           },
           "yaxis": {
            "backgroundcolor": "#E5ECF6",
            "gridcolor": "white",
            "gridwidth": 2,
            "linecolor": "white",
            "showbackground": true,
            "ticks": "",
            "zerolinecolor": "white"
           },
           "zaxis": {
            "backgroundcolor": "#E5ECF6",
            "gridcolor": "white",
            "gridwidth": 2,
            "linecolor": "white",
            "showbackground": true,
            "ticks": "",
            "zerolinecolor": "white"
           }
          },
          "shapedefaults": {
           "line": {
            "color": "#2a3f5f"
           }
          },
          "ternary": {
           "aaxis": {
            "gridcolor": "white",
            "linecolor": "white",
            "ticks": ""
           },
           "baxis": {
            "gridcolor": "white",
            "linecolor": "white",
            "ticks": ""
           },
           "bgcolor": "#E5ECF6",
           "caxis": {
            "gridcolor": "white",
            "linecolor": "white",
            "ticks": ""
           }
          },
          "title": {
           "x": 0.05
          },
          "xaxis": {
           "automargin": true,
           "gridcolor": "white",
           "linecolor": "white",
           "ticks": "",
           "title": {
            "standoff": 15
           },
           "zerolinecolor": "white",
           "zerolinewidth": 2
          },
          "yaxis": {
           "automargin": true,
           "gridcolor": "white",
           "linecolor": "white",
           "ticks": "",
           "title": {
            "standoff": 15
           },
           "zerolinecolor": "white",
           "zerolinewidth": 2
          }
         }
        },
        "title": {
         "font": {
          "size": 16
         },
         "text": "Perbandingan Attrition Rate: NumCompaniesWorked"
        },
        "width": 700,
        "xaxis": {
         "anchor": "y",
         "domain": [
          0,
          1
         ],
         "title": {
          "text": "Kategori"
         }
        },
        "yaxis": {
         "anchor": "x",
         "domain": [
          0,
          1
         ],
         "tickformat": ".0%",
         "title": {
          "text": "Attrition Rate"
         }
        }
       }
      }
     },
     "metadata": {},
     "output_type": "display_data"
    },
    {
     "name": "stdout",
     "output_type": "stream",
     "text": [
      "\n",
      "Ringkasan Hubungan Outlier dengan Attrition:\n",
      "                    column  outlier_attrition  normal_attrition     ratio\n",
      "4       NumCompaniesWorked           0.192308          0.139633  1.377234\n",
      "3  YearsSinceLastPromotion           0.102804          0.144534  0.711277\n",
      "1           YearsAtCompany           0.086538          0.145681  0.594028\n",
      "2        TotalWorkingYears           0.079365          0.144279  0.550082\n",
      "0            MonthlyIncome           0.043860          0.149705  0.292974\n"
     ]
    }
   ],
   "source": [
    "attrition_results = []\n",
    "for col in important_columns:\n",
    "    result = analyze_outlier_attrition(df, col)\n",
    "    attrition_results.append(result)\n",
    "\n",
    "# Ringkasan hasil\n",
    "print(\"\\nRingkasan Hubungan Outlier dengan Attrition:\")\n",
    "result_df = pd.DataFrame(attrition_results)\n",
    "result_df = result_df.sort_values('ratio', ascending=False)\n",
    "print(result_df)\n"
   ]
  },
  {
   "cell_type": "markdown",
   "id": "40f24ed5",
   "metadata": {},
   "source": [
    "## Multivariate oulier dengan isolation forest"
   ]
  },
  {
   "cell_type": "code",
   "execution_count": 63,
   "id": "87aa1da3",
   "metadata": {},
   "outputs": [],
   "source": [
    "iso_columns = ['Age', 'DailyRate', 'DistanceFromHome', 'HourlyRate', \n",
    "              'MonthlyIncome', 'NumCompaniesWorked', 'TotalWorkingYears', \n",
    "              'YearsAtCompany', 'YearsInCurrentRole']"
   ]
  },
  {
   "cell_type": "code",
   "execution_count": null,
   "id": "c5638cc9",
   "metadata": {},
   "outputs": [],
   "source": [
    "iso_forest = IsolationForest(contamination=0.05, random_state=42)\n",
    "outliers = iso_forest.fit_predict(df[iso_columns])"
   ]
  },
  {
   "cell_type": "code",
   "execution_count": 65,
   "id": "185be23d",
   "metadata": {},
   "outputs": [
    {
     "name": "stdout",
     "output_type": "stream",
     "text": [
      "Jumlah outlier terdeteksi oleh Isolation Forest: 74 (5.03%)\n"
     ]
    }
   ],
   "source": [
    "df['outlier'] = outliers\n",
    "outlier_count = len(df[df['outlier'] == -1])\n",
    "print(f\"Jumlah outlier terdeteksi oleh Isolation Forest: {outlier_count} ({outlier_count / len(df) * 100:.2f}%)\")"
   ]
  },
  {
   "cell_type": "markdown",
   "id": "7ede1c46",
   "metadata": {},
   "source": [
    "## Handle Outlier"
   ]
  },
  {
   "cell_type": "code",
   "execution_count": 68,
   "id": "6077c115",
   "metadata": {},
   "outputs": [],
   "source": [
    "df_transformed = df.copy()"
   ]
  },
  {
   "cell_type": "markdown",
   "id": "980d1b81",
   "metadata": {},
   "source": [
    "### Mouthly Income"
   ]
  },
  {
   "cell_type": "code",
   "execution_count": 69,
   "id": "28079e17",
   "metadata": {},
   "outputs": [],
   "source": [
    "df_transformed['MonthlyIncome_Original'] = df_transformed['MonthlyIncome']\n",
    "df_transformed['MonthlyIncome_Log'] = np.log1p(df_transformed['MonthlyIncome'])"
   ]
  },
  {
   "cell_type": "code",
   "execution_count": 70,
   "id": "8a4ffb17",
   "metadata": {},
   "outputs": [
    {
     "data": {
      "application/vnd.plotly.v1+json": {
       "config": {
        "plotlyServerURL": "https://plot.ly"
       },
       "data": [
        {
         "marker": {
          "color": "royalblue"
         },
         "name": "Original",
         "opacity": 0.7,
         "type": "histogram",
         "x": {
          "bdata": "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",
          "dtype": "i2"
         },
         "xaxis": "x",
         "yaxis": "y"
        },
        {
         "marker": {
          "color": "green"
         },
         "name": "Log Transform",
         "opacity": 0.7,
         "type": "histogram",
         "x": {
          "bdata": "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",
          "dtype": "f8"
         },
         "xaxis": "x2",
         "yaxis": "y2"
        }
       ],
       "layout": {
        "annotations": [
         {
          "font": {
           "size": 16
          },
          "showarrow": false,
          "text": "Distribusi Original",
          "x": 0.225,
          "xanchor": "center",
          "xref": "paper",
          "y": 1,
          "yanchor": "bottom",
          "yref": "paper"
         },
         {
          "font": {
           "size": 16
          },
          "showarrow": false,
          "text": "Distribusi setelah Log Transform",
          "x": 0.775,
          "xanchor": "center",
          "xref": "paper",
          "y": 1,
          "yanchor": "bottom",
          "yref": "paper"
         }
        ],
        "height": 400,
        "plot_bgcolor": "white",
        "showlegend": false,
        "template": {
         "data": {
          "bar": [
           {
            "error_x": {
             "color": "#2a3f5f"
            },
            "error_y": {
             "color": "#2a3f5f"
            },
            "marker": {
             "line": {
              "color": "#E5ECF6",
              "width": 0.5
             },
             "pattern": {
              "fillmode": "overlay",
              "size": 10,
              "solidity": 0.2
             }
            },
            "type": "bar"
           }
          ],
          "barpolar": [
           {
            "marker": {
             "line": {
              "color": "#E5ECF6",
              "width": 0.5
             },
             "pattern": {
              "fillmode": "overlay",
              "size": 10,
              "solidity": 0.2
             }
            },
            "type": "barpolar"
           }
          ],
          "carpet": [
           {
            "aaxis": {
             "endlinecolor": "#2a3f5f",
             "gridcolor": "white",
             "linecolor": "white",
             "minorgridcolor": "white",
             "startlinecolor": "#2a3f5f"
            },
            "baxis": {
             "endlinecolor": "#2a3f5f",
             "gridcolor": "white",
             "linecolor": "white",
             "minorgridcolor": "white",
             "startlinecolor": "#2a3f5f"
            },
            "type": "carpet"
           }
          ],
          "choropleth": [
           {
            "colorbar": {
             "outlinewidth": 0,
             "ticks": ""
            },
            "type": "choropleth"
           }
          ],
          "contour": [
           {
            "colorbar": {
             "outlinewidth": 0,
             "ticks": ""
            },
            "colorscale": [
             [
              0,
              "#0d0887"
             ],
             [
              0.1111111111111111,
              "#46039f"
             ],
             [
              0.2222222222222222,
              "#7201a8"
             ],
             [
              0.3333333333333333,
              "#9c179e"
             ],
             [
              0.4444444444444444,
              "#bd3786"
             ],
             [
              0.5555555555555556,
              "#d8576b"
             ],
             [
              0.6666666666666666,
              "#ed7953"
             ],
             [
              0.7777777777777778,
              "#fb9f3a"
             ],
             [
              0.8888888888888888,
              "#fdca26"
             ],
             [
              1,
              "#f0f921"
             ]
            ],
            "type": "contour"
           }
          ],
          "contourcarpet": [
           {
            "colorbar": {
             "outlinewidth": 0,
             "ticks": ""
            },
            "type": "contourcarpet"
           }
          ],
          "heatmap": [
           {
            "colorbar": {
             "outlinewidth": 0,
             "ticks": ""
            },
            "colorscale": [
             [
              0,
              "#0d0887"
             ],
             [
              0.1111111111111111,
              "#46039f"
             ],
             [
              0.2222222222222222,
              "#7201a8"
             ],
             [
              0.3333333333333333,
              "#9c179e"
             ],
             [
              0.4444444444444444,
              "#bd3786"
             ],
             [
              0.5555555555555556,
              "#d8576b"
             ],
             [
              0.6666666666666666,
              "#ed7953"
             ],
             [
              0.7777777777777778,
              "#fb9f3a"
             ],
             [
              0.8888888888888888,
              "#fdca26"
             ],
             [
              1,
              "#f0f921"
             ]
            ],
            "type": "heatmap"
           }
          ],
          "histogram": [
           {
            "marker": {
             "pattern": {
              "fillmode": "overlay",
              "size": 10,
              "solidity": 0.2
             }
            },
            "type": "histogram"
           }
          ],
          "histogram2d": [
           {
            "colorbar": {
             "outlinewidth": 0,
             "ticks": ""
            },
            "colorscale": [
             [
              0,
              "#0d0887"
             ],
             [
              0.1111111111111111,
              "#46039f"
             ],
             [
              0.2222222222222222,
              "#7201a8"
             ],
             [
              0.3333333333333333,
              "#9c179e"
             ],
             [
              0.4444444444444444,
              "#bd3786"
             ],
             [
              0.5555555555555556,
              "#d8576b"
             ],
             [
              0.6666666666666666,
              "#ed7953"
             ],
             [
              0.7777777777777778,
              "#fb9f3a"
             ],
             [
              0.8888888888888888,
              "#fdca26"
             ],
             [
              1,
              "#f0f921"
             ]
            ],
            "type": "histogram2d"
           }
          ],
          "histogram2dcontour": [
           {
            "colorbar": {
             "outlinewidth": 0,
             "ticks": ""
            },
            "colorscale": [
             [
              0,
              "#0d0887"
             ],
             [
              0.1111111111111111,
              "#46039f"
             ],
             [
              0.2222222222222222,
              "#7201a8"
             ],
             [
              0.3333333333333333,
              "#9c179e"
             ],
             [
              0.4444444444444444,
              "#bd3786"
             ],
             [
              0.5555555555555556,
              "#d8576b"
             ],
             [
              0.6666666666666666,
              "#ed7953"
             ],
             [
              0.7777777777777778,
              "#fb9f3a"
             ],
             [
              0.8888888888888888,
              "#fdca26"
             ],
             [
              1,
              "#f0f921"
             ]
            ],
            "type": "histogram2dcontour"
           }
          ],
          "mesh3d": [
           {
            "colorbar": {
             "outlinewidth": 0,
             "ticks": ""
            },
            "type": "mesh3d"
           }
          ],
          "parcoords": [
           {
            "line": {
             "colorbar": {
              "outlinewidth": 0,
              "ticks": ""
             }
            },
            "type": "parcoords"
           }
          ],
          "pie": [
           {
            "automargin": true,
            "type": "pie"
           }
          ],
          "scatter": [
           {
            "fillpattern": {
             "fillmode": "overlay",
             "size": 10,
             "solidity": 0.2
            },
            "type": "scatter"
           }
          ],
          "scatter3d": [
           {
            "line": {
             "colorbar": {
              "outlinewidth": 0,
              "ticks": ""
             }
            },
            "marker": {
             "colorbar": {
              "outlinewidth": 0,
              "ticks": ""
             }
            },
            "type": "scatter3d"
           }
          ],
          "scattercarpet": [
           {
            "marker": {
             "colorbar": {
              "outlinewidth": 0,
              "ticks": ""
             }
            },
            "type": "scattercarpet"
           }
          ],
          "scattergeo": [
           {
            "marker": {
             "colorbar": {
              "outlinewidth": 0,
              "ticks": ""
             }
            },
            "type": "scattergeo"
           }
          ],
          "scattergl": [
           {
            "marker": {
             "colorbar": {
              "outlinewidth": 0,
              "ticks": ""
             }
            },
            "type": "scattergl"
           }
          ],
          "scattermap": [
           {
            "marker": {
             "colorbar": {
              "outlinewidth": 0,
              "ticks": ""
             }
            },
            "type": "scattermap"
           }
          ],
          "scattermapbox": [
           {
            "marker": {
             "colorbar": {
              "outlinewidth": 0,
              "ticks": ""
             }
            },
            "type": "scattermapbox"
           }
          ],
          "scatterpolar": [
           {
            "marker": {
             "colorbar": {
              "outlinewidth": 0,
              "ticks": ""
             }
            },
            "type": "scatterpolar"
           }
          ],
          "scatterpolargl": [
           {
            "marker": {
             "colorbar": {
              "outlinewidth": 0,
              "ticks": ""
             }
            },
            "type": "scatterpolargl"
           }
          ],
          "scatterternary": [
           {
            "marker": {
             "colorbar": {
              "outlinewidth": 0,
              "ticks": ""
             }
            },
            "type": "scatterternary"
           }
          ],
          "surface": [
           {
            "colorbar": {
             "outlinewidth": 0,
             "ticks": ""
            },
            "colorscale": [
             [
              0,
              "#0d0887"
             ],
             [
              0.1111111111111111,
              "#46039f"
             ],
             [
              0.2222222222222222,
              "#7201a8"
             ],
             [
              0.3333333333333333,
              "#9c179e"
             ],
             [
              0.4444444444444444,
              "#bd3786"
             ],
             [
              0.5555555555555556,
              "#d8576b"
             ],
             [
              0.6666666666666666,
              "#ed7953"
             ],
             [
              0.7777777777777778,
              "#fb9f3a"
             ],
             [
              0.8888888888888888,
              "#fdca26"
             ],
             [
              1,
              "#f0f921"
             ]
            ],
            "type": "surface"
           }
          ],
          "table": [
           {
            "cells": {
             "fill": {
              "color": "#EBF0F8"
             },
             "line": {
              "color": "white"
             }
            },
            "header": {
             "fill": {
              "color": "#C8D4E3"
             },
             "line": {
              "color": "white"
             }
            },
            "type": "table"
           }
          ]
         },
         "layout": {
          "annotationdefaults": {
           "arrowcolor": "#2a3f5f",
           "arrowhead": 0,
           "arrowwidth": 1
          },
          "autotypenumbers": "strict",
          "coloraxis": {
           "colorbar": {
            "outlinewidth": 0,
            "ticks": ""
           }
          },
          "colorscale": {
           "diverging": [
            [
             0,
             "#8e0152"
            ],
            [
             0.1,
             "#c51b7d"
            ],
            [
             0.2,
             "#de77ae"
            ],
            [
             0.3,
             "#f1b6da"
            ],
            [
             0.4,
             "#fde0ef"
            ],
            [
             0.5,
             "#f7f7f7"
            ],
            [
             0.6,
             "#e6f5d0"
            ],
            [
             0.7,
             "#b8e186"
            ],
            [
             0.8,
             "#7fbc41"
            ],
            [
             0.9,
             "#4d9221"
            ],
            [
             1,
             "#276419"
            ]
           ],
           "sequential": [
            [
             0,
             "#0d0887"
            ],
            [
             0.1111111111111111,
             "#46039f"
            ],
            [
             0.2222222222222222,
             "#7201a8"
            ],
            [
             0.3333333333333333,
             "#9c179e"
            ],
            [
             0.4444444444444444,
             "#bd3786"
            ],
            [
             0.5555555555555556,
             "#d8576b"
            ],
            [
             0.6666666666666666,
             "#ed7953"
            ],
            [
             0.7777777777777778,
             "#fb9f3a"
            ],
            [
             0.8888888888888888,
             "#fdca26"
            ],
            [
             1,
             "#f0f921"
            ]
           ],
           "sequentialminus": [
            [
             0,
             "#0d0887"
            ],
            [
             0.1111111111111111,
             "#46039f"
            ],
            [
             0.2222222222222222,
             "#7201a8"
            ],
            [
             0.3333333333333333,
             "#9c179e"
            ],
            [
             0.4444444444444444,
             "#bd3786"
            ],
            [
             0.5555555555555556,
             "#d8576b"
            ],
            [
             0.6666666666666666,
             "#ed7953"
            ],
            [
             0.7777777777777778,
             "#fb9f3a"
            ],
            [
             0.8888888888888888,
             "#fdca26"
            ],
            [
             1,
             "#f0f921"
            ]
           ]
          },
          "colorway": [
           "#636efa",
           "#EF553B",
           "#00cc96",
           "#ab63fa",
           "#FFA15A",
           "#19d3f3",
           "#FF6692",
           "#B6E880",
           "#FF97FF",
           "#FECB52"
          ],
          "font": {
           "color": "#2a3f5f"
          },
          "geo": {
           "bgcolor": "white",
           "lakecolor": "white",
           "landcolor": "#E5ECF6",
           "showlakes": true,
           "showland": true,
           "subunitcolor": "white"
          },
          "hoverlabel": {
           "align": "left"
          },
          "hovermode": "closest",
          "mapbox": {
           "style": "light"
          },
          "paper_bgcolor": "white",
          "plot_bgcolor": "#E5ECF6",
          "polar": {
           "angularaxis": {
            "gridcolor": "white",
            "linecolor": "white",
            "ticks": ""
           },
           "bgcolor": "#E5ECF6",
           "radialaxis": {
            "gridcolor": "white",
            "linecolor": "white",
            "ticks": ""
           }
          },
          "scene": {
           "xaxis": {
            "backgroundcolor": "#E5ECF6",
            "gridcolor": "white",
            "gridwidth": 2,
            "linecolor": "white",
            "showbackground": true,
            "ticks": "",
            "zerolinecolor": "white"
           },
           "yaxis": {
            "backgroundcolor": "#E5ECF6",
            "gridcolor": "white",
            "gridwidth": 2,
            "linecolor": "white",
            "showbackground": true,
            "ticks": "",
            "zerolinecolor": "white"
           },
           "zaxis": {
            "backgroundcolor": "#E5ECF6",
            "gridcolor": "white",
            "gridwidth": 2,
            "linecolor": "white",
            "showbackground": true,
            "ticks": "",
            "zerolinecolor": "white"
           }
          },
          "shapedefaults": {
           "line": {
            "color": "#2a3f5f"
           }
          },
          "ternary": {
           "aaxis": {
            "gridcolor": "white",
            "linecolor": "white",
            "ticks": ""
           },
           "baxis": {
            "gridcolor": "white",
            "linecolor": "white",
            "ticks": ""
           },
           "bgcolor": "#E5ECF6",
           "caxis": {
            "gridcolor": "white",
            "linecolor": "white",
            "ticks": ""
           }
          },
          "title": {
           "x": 0.05
          },
          "xaxis": {
           "automargin": true,
           "gridcolor": "white",
           "linecolor": "white",
           "ticks": "",
           "title": {
            "standoff": 15
           },
           "zerolinecolor": "white",
           "zerolinewidth": 2
          },
          "yaxis": {
           "automargin": true,
           "gridcolor": "white",
           "linecolor": "white",
           "ticks": "",
           "title": {
            "standoff": 15
           },
           "zerolinecolor": "white",
           "zerolinewidth": 2
          }
         }
        },
        "title": {
         "font": {
          "size": 16
         },
         "text": "Transformasi Logaritmik: MonthlyIncome_Original"
        },
        "width": 900,
        "xaxis": {
         "anchor": "y",
         "domain": [
          0,
          0.45
         ]
        },
        "xaxis2": {
         "anchor": "y2",
         "domain": [
          0.55,
          1
         ]
        },
        "yaxis": {
         "anchor": "x",
         "domain": [
          0,
          1
         ]
        },
        "yaxis2": {
         "anchor": "x2",
         "domain": [
          0,
          1
         ]
        }
       }
      }
     },
     "metadata": {},
     "output_type": "display_data"
    }
   ],
   "source": [
    "def visualize_log_transform(df, column, transformed_column):\n",
    "    # Visualisasi dengan plotly\n",
    "    fig = make_subplots(rows=1, cols=2, \n",
    "                        subplot_titles=[\"Distribusi Original\", \"Distribusi setelah Log Transform\"])\n",
    "    \n",
    "    # Original distribution\n",
    "    fig.add_trace(\n",
    "        go.Histogram(\n",
    "            x=df[column],\n",
    "            name=\"Original\",\n",
    "            marker_color='royalblue',\n",
    "            opacity=0.7\n",
    "        ),\n",
    "        row=1, col=1\n",
    "    )\n",
    "    \n",
    "    # Transformed distribution\n",
    "    fig.add_trace(\n",
    "        go.Histogram(\n",
    "            x=df[transformed_column],\n",
    "            name=\"Log Transform\",\n",
    "            marker_color='green',\n",
    "            opacity=0.7\n",
    "        ),\n",
    "        row=1, col=2\n",
    "    )\n",
    "    \n",
    "    # Update layout\n",
    "    fig.update_layout(\n",
    "        title_text=f\"Transformasi Logaritmik: {column}\",\n",
    "        title_font_size=16,\n",
    "        height=400,\n",
    "        width=900,\n",
    "        showlegend=False,\n",
    "        plot_bgcolor='white'\n",
    "    )\n",
    "    \n",
    "    # Menyimpan dan menampilkan\n",
    "    save_plotly(fig, f\"log_transform_{column}\")\n",
    "    fig.show()\n",
    "\n",
    "# Visualisasi transformasi logaritmik\n",
    "visualize_log_transform(df_transformed, 'MonthlyIncome_Original', 'MonthlyIncome_Log')"
   ]
  },
  {
   "cell_type": "markdown",
   "id": "4b400bd6",
   "metadata": {},
   "source": [
    "### YearsAtCompany"
   ]
  },
  {
   "cell_type": "code",
   "execution_count": 71,
   "id": "dc1b675e",
   "metadata": {},
   "outputs": [],
   "source": [
    "df_transformed['YearsAtCompany_Original'] = df_transformed['YearsAtCompany']"
   ]
  },
  {
   "cell_type": "code",
   "execution_count": 72,
   "id": "c9a5772a",
   "metadata": {},
   "outputs": [],
   "source": [
    "Q1 = df_transformed['YearsAtCompany'].quantile(0.05)  # 5th percentile\n",
    "Q3 = df_transformed['YearsAtCompany'].quantile(0.95)  # 95th percentile\n",
    "df_transformed['YearsAtCompany_Winsorized'] = df_transformed['YearsAtCompany'].clip(Q1, Q3)"
   ]
  },
  {
   "cell_type": "code",
   "execution_count": 73,
   "id": "bf4f47a4",
   "metadata": {},
   "outputs": [
    {
     "data": {
      "application/vnd.plotly.v1+json": {
       "config": {
        "plotlyServerURL": "https://plot.ly"
       },
       "data": [
        {
         "boxmean": true,
         "marker": {
          "color": "royalblue"
         },
         "name": "Original",
         "type": "box",
         "xaxis": "x",
         "y": {
          "bdata": "BgEKFAUBBAUIBwUBBQEJDRQEBwEGFA4NAgkBEwIFEAoHAwIBCQYFBwISBQoBCwoFCQMIAQkGAgYICgcKBQECAQ4VCQIECQUDBAEBAgUIBQsBAwIGCgcGEwgADwUBBAoFDAIDAwICBAcTBxYNDQAHAgUGCgkJBwkKIAgBAQcEBAgDCAUEAQgFCQEECQoBCQ4DCQgFAwgDCgsKAQEFDQcFAg0DFAUJCgAWAQkHAwYFBAMCBAYCCQYGCgMIAwgJAQsJCQIIDAQFARcIBAYHAgQQBB4JCQUDBgUBBQ4FBgYEAQsHFAEKAQkFBwIVBQURAQUCBQ8IBwcDBQQEHQQCBgUIFAoGAgYFBQoCBQoBAgEEBRsEChkCGQUKBQIOBQAKAAMGAQMKAxQEEgsBGAoFBgYFAgQCAwoBARMDCgUJCgEKAwoFBwoEBwMBBAoIFgcEBwMECQoKBwIDAwIFCgUEGAIJAQwHCQEiDwYDAwAFDA0BBgsFDQANAAkADwgEEAEFCgcABQEKAgMECRYJAwEUBAEFCAoJCgMFCQMEAAQMBQQDCQsGBRMKBAUWJAELCgUBBQgDBgcFCAoCAwgGDxUOAgYSCgEFHwYDBAkICQ8FCwMCCwEKAQEKBAEIAhMVBAQBDQUICgAHBQcCABIFAQUPDwAUBwEFAQoFBQ8BAAIEAgkYCAcVDwQNCAcKCwUhBQUDFgEGCgEVHwYUBQoDEAUIAAUBBAAFBwMEBgkBAggJBwICBQIAAgcJCgQFAQoECQYUCw4GBQoJAwECAQEIChIDAggCCgQFAwEGGQ4FAQIFAxAEBhUFBwQBBQ0JAAgFBQIPBwUDBQsFAQIICgQCCAsDCAUGAQEFAgUBAAEFBgoBAAEBDQELCAEBCQkFAQIFAwIECQQHAAMhDwYEDQMEBSACAxAEFAkGByEFBRYHCAAECgMLBAsEBQIaAQoaCgkBCAoDCgoCIQoRBCgFAgAWBg8FAgIJBAEDAQgJFwECCAUIBAIJBgQDCQQIFQUABQITBRIFCwAHCggBBBYBBQIWAgwBBQEQBwUFDwoKAxICCAoFDBQHCAEEBQUHFAYKAgUIBQoLBQICAQMIAgMKBQwVFQMNBAMSBwoMCgIDAhQYAgMJCQoJAxYDAQIDARECCBEFBgQKBAkBAwkFAhACCAoFCgQDAgYEAwgEDwMBCQIBCgEBAAAFEAIDAwMCFAMDCgUHAwoNCwEDBAcCBA8ECgQJAQEDCQEKBwQBAgEFEgsWAwMJCgMCBQUBCgEBAAoCBQESBAYKCgECBQEJCAIEBwULBQUDBQMKAQoKAwoLAgoQFQUFChoCBAoJBwUJFAcBBwoIAAEJAQ0CAgYDBgQFAwMGBwQFAAcKDQcOBRYlBhUBAggHBQgCBQUDEwUHAQEHEQECBQIKAxIHAwUUCgEBAwoDAAIRCQQFAwkKAQEJAQQCDgMRBQEVBQwNCgcEBAIFCAEDBQEDCwIBBQEHBAUHCgUJAgkDAAgFAwIEAwMFAgYGBgYKAwUMCggKAwQBIQwFAAcBBAgFBAYEBQcCBQ4GAwgDCQUHCgcKDwcSAQAKCAMHBQMFBwETAwIKBQELAQoIAQ0KGQIEAg0TBQYDAQgGAQYbBgEDBwEBGgEJBx8BAwEEBgcGBgUBCQcFEQUCJAkBAgEdCQUKBwIBAQEFAwELBgMHCQkDBgMEAwoBAggFCQMKCSAIBhQFCBQHGAICAwUGBAgUFAcFBwEFAwYFEAQCDxYFAgMHAAAKAQMEBwwKBQQHBA8SCBQCBQcIARQPAQYFBQsIAxQOBAATBwEFAgEHCAIBAwQBBAEBBAEEBQIHFAINBgUFBgEECQ0AAggABwYIBAADAwsICAcFAwAQCwUFDggDBQIEDgIGBwUGCwsFARYNCgMKAQkCBgAVDgcOAgUBCAoJBwEMCgEBBQIRBhgIAhQDAwcICAUJBQUEBQQFBQIOCgEOAQQA",
          "dtype": "i1"
         },
         "yaxis": "y"
        },
        {
         "boxmean": true,
         "marker": {
          "color": "green"
         },
         "name": "Winsorized",
         "type": "box",
         "xaxis": "x2",
         "y": {
          "bdata": "BgEKFAUBBAUIBwUBBQEJDRQEBwEGFA4NAgkBEwIFEAoHAwIBCQYFBwISBQoBCwoFCQMIAQkGAgYICgcKBQECAQ4UCQIECQUDBAEBAgUIBQsBAwIGCgcGEwgBDwUBBAoFDAIDAwICBAcTBxQNDQEHAgUGCgkJBwkKFAgBAQcEBAgDCAUEAQgFCQEECQoBCQ4DCQgFAwgDCgsKAQEFDQcFAg0DFAUJCgEUAQkHAwYFBAMCBAYCCQYGCgMIAwgJAQsJCQIIDAQFARQIBAYHAgQQBBQJCQUDBgUBBQ4FBgYEAQsHFAEKAQkFBwIUBQURAQUCBQ8IBwcDBQQEFAQCBgUIFAoGAgYFBQoCBQoBAgEEBRQEChQCFAUKBQIOBQEKAQMGAQMKAxQEEgsBFAoFBgYFAgQCAwoBARMDCgUJCgEKAwoFBwoEBwMBBAoIFAcEBwMECQoKBwIDAwIFCgUEFAIJAQwHCQEUDwYDAwEFDA0BBgsFDQENAQkBDwgEEAEFCgcBBQEKAgMECRQJAwEUBAEFCAoJCgMFCQMEAQQMBQQDCQsGBRMKBAUUFAELCgUBBQgDBgcFCAoCAwgGDxQOAgYSCgEFFAYDBAkICQ8FCwMCCwEKAQEKBAEIAhMUBAQBDQUICgEHBQcCARIFAQUPDwEUBwEFAQoFBQ8BAQIEAgkUCAcUDwQNCAcKCwUUBQUDFAEGCgEUFAYUBQoDEAUIAQUBBAEFBwMEBgkBAggJBwICBQIBAgcJCgQFAQoECQYUCw4GBQoJAwECAQEIChIDAggCCgQFAwEGFA4FAQIFAxAEBhQFBwQBBQ0JAQgFBQIPBwUDBQsFAQIICgQCCAsDCAUGAQEFAgUBAQEFBgoBAQEBDQELCAEBCQkFAQIFAwIECQQHAQMUDwYEDQMEBRQCAxAEFAkGBxQFBRQHCAEECgMLBAsEBQIUAQoUCgkBCAoDCgoCFAoRBBQFAgEUBg8FAgIJBAEDAQgJFAECCAUIBAIJBgQDCQQIFAUBBQITBRIFCwEHCggBBBQBBQIUAgwBBQEQBwUFDwoKAxICCAoFDBQHCAEEBQUHFAYKAgUIBQoLBQICAQMIAgMKBQwUFAMNBAMSBwoMCgIDAhQUAgMJCQoJAxQDAQIDARECCBEFBgQKBAkBAwkFAhACCAoFCgQDAgYEAwgEDwMBCQIBCgEBAQEFEAIDAwMCFAMDCgUHAwoNCwEDBAcCBA8ECgQJAQEDCQEKBwQBAgEFEgsUAwMJCgMCBQUBCgEBAQoCBQESBAYKCgECBQEJCAIEBwULBQUDBQMKAQoKAwoLAgoQFAUFChQCBAoJBwUJFAcBBwoIAQEJAQ0CAgYDBgQFAwMGBwQFAQcKDQcOBRQUBhQBAggHBQgCBQUDEwUHAQEHEQECBQIKAxIHAwUUCgEBAwoDAQIRCQQFAwkKAQEJAQQCDgMRBQEUBQwNCgcEBAIFCAEDBQEDCwIBBQEHBAUHCgUJAgkDAQgFAwIEAwMFAgYGBgYKAwUMCggKAwQBFAwFAQcBBAgFBAYEBQcCBQ4GAwgDCQUHCgcKDwcSAQEKCAMHBQMFBwETAwIKBQELAQoIAQ0KFAIEAg0TBQYDAQgGAQYUBgEDBwEBFAEJBxQBAwEEBgcGBgUBCQcFEQUCFAkBAgEUCQUKBwIBAQEFAwELBgMHCQkDBgMEAwoBAggFCQMKCRQIBhQFCBQHFAICAwUGBAgUFAcFBwEFAwYFEAQCDxQFAgMHAQEKAQMEBwwKBQQHBA8SCBQCBQcIARQPAQYFBQsIAxQOBAETBwEFAgEHCAIBAwQBBAEBBAEEBQIHFAINBgUFBgEECQ0BAggBBwYIBAEDAwsICAcFAwEQCwUFDggDBQIEDgIGBwUGCwsFARQNCgMKAQkCBgEUDgcOAgUBCAoJBwEMCgEBBQIRBhQIAhQDAwcICAUJBQUEBQQFBQIOCgEOAQQB",
          "dtype": "i1"
         },
         "yaxis": "y2"
        }
       ],
       "layout": {
        "annotations": [
         {
          "font": {
           "size": 16
          },
          "showarrow": false,
          "text": "Boxplot Original",
          "x": 0.225,
          "xanchor": "center",
          "xref": "paper",
          "y": 1,
          "yanchor": "bottom",
          "yref": "paper"
         },
         {
          "font": {
           "size": 16
          },
          "showarrow": false,
          "text": "Boxplot setelah Winsorization",
          "x": 0.775,
          "xanchor": "center",
          "xref": "paper",
          "y": 1,
          "yanchor": "bottom",
          "yref": "paper"
         }
        ],
        "height": 400,
        "plot_bgcolor": "white",
        "showlegend": false,
        "template": {
         "data": {
          "bar": [
           {
            "error_x": {
             "color": "#2a3f5f"
            },
            "error_y": {
             "color": "#2a3f5f"
            },
            "marker": {
             "line": {
              "color": "#E5ECF6",
              "width": 0.5
             },
             "pattern": {
              "fillmode": "overlay",
              "size": 10,
              "solidity": 0.2
             }
            },
            "type": "bar"
           }
          ],
          "barpolar": [
           {
            "marker": {
             "line": {
              "color": "#E5ECF6",
              "width": 0.5
             },
             "pattern": {
              "fillmode": "overlay",
              "size": 10,
              "solidity": 0.2
             }
            },
            "type": "barpolar"
           }
          ],
          "carpet": [
           {
            "aaxis": {
             "endlinecolor": "#2a3f5f",
             "gridcolor": "white",
             "linecolor": "white",
             "minorgridcolor": "white",
             "startlinecolor": "#2a3f5f"
            },
            "baxis": {
             "endlinecolor": "#2a3f5f",
             "gridcolor": "white",
             "linecolor": "white",
             "minorgridcolor": "white",
             "startlinecolor": "#2a3f5f"
            },
            "type": "carpet"
           }
          ],
          "choropleth": [
           {
            "colorbar": {
             "outlinewidth": 0,
             "ticks": ""
            },
            "type": "choropleth"
           }
          ],
          "contour": [
           {
            "colorbar": {
             "outlinewidth": 0,
             "ticks": ""
            },
            "colorscale": [
             [
              0,
              "#0d0887"
             ],
             [
              0.1111111111111111,
              "#46039f"
             ],
             [
              0.2222222222222222,
              "#7201a8"
             ],
             [
              0.3333333333333333,
              "#9c179e"
             ],
             [
              0.4444444444444444,
              "#bd3786"
             ],
             [
              0.5555555555555556,
              "#d8576b"
             ],
             [
              0.6666666666666666,
              "#ed7953"
             ],
             [
              0.7777777777777778,
              "#fb9f3a"
             ],
             [
              0.8888888888888888,
              "#fdca26"
             ],
             [
              1,
              "#f0f921"
             ]
            ],
            "type": "contour"
           }
          ],
          "contourcarpet": [
           {
            "colorbar": {
             "outlinewidth": 0,
             "ticks": ""
            },
            "type": "contourcarpet"
           }
          ],
          "heatmap": [
           {
            "colorbar": {
             "outlinewidth": 0,
             "ticks": ""
            },
            "colorscale": [
             [
              0,
              "#0d0887"
             ],
             [
              0.1111111111111111,
              "#46039f"
             ],
             [
              0.2222222222222222,
              "#7201a8"
             ],
             [
              0.3333333333333333,
              "#9c179e"
             ],
             [
              0.4444444444444444,
              "#bd3786"
             ],
             [
              0.5555555555555556,
              "#d8576b"
             ],
             [
              0.6666666666666666,
              "#ed7953"
             ],
             [
              0.7777777777777778,
              "#fb9f3a"
             ],
             [
              0.8888888888888888,
              "#fdca26"
             ],
             [
              1,
              "#f0f921"
             ]
            ],
            "type": "heatmap"
           }
          ],
          "histogram": [
           {
            "marker": {
             "pattern": {
              "fillmode": "overlay",
              "size": 10,
              "solidity": 0.2
             }
            },
            "type": "histogram"
           }
          ],
          "histogram2d": [
           {
            "colorbar": {
             "outlinewidth": 0,
             "ticks": ""
            },
            "colorscale": [
             [
              0,
              "#0d0887"
             ],
             [
              0.1111111111111111,
              "#46039f"
             ],
             [
              0.2222222222222222,
              "#7201a8"
             ],
             [
              0.3333333333333333,
              "#9c179e"
             ],
             [
              0.4444444444444444,
              "#bd3786"
             ],
             [
              0.5555555555555556,
              "#d8576b"
             ],
             [
              0.6666666666666666,
              "#ed7953"
             ],
             [
              0.7777777777777778,
              "#fb9f3a"
             ],
             [
              0.8888888888888888,
              "#fdca26"
             ],
             [
              1,
              "#f0f921"
             ]
            ],
            "type": "histogram2d"
           }
          ],
          "histogram2dcontour": [
           {
            "colorbar": {
             "outlinewidth": 0,
             "ticks": ""
            },
            "colorscale": [
             [
              0,
              "#0d0887"
             ],
             [
              0.1111111111111111,
              "#46039f"
             ],
             [
              0.2222222222222222,
              "#7201a8"
             ],
             [
              0.3333333333333333,
              "#9c179e"
             ],
             [
              0.4444444444444444,
              "#bd3786"
             ],
             [
              0.5555555555555556,
              "#d8576b"
             ],
             [
              0.6666666666666666,
              "#ed7953"
             ],
             [
              0.7777777777777778,
              "#fb9f3a"
             ],
             [
              0.8888888888888888,
              "#fdca26"
             ],
             [
              1,
              "#f0f921"
             ]
            ],
            "type": "histogram2dcontour"
           }
          ],
          "mesh3d": [
           {
            "colorbar": {
             "outlinewidth": 0,
             "ticks": ""
            },
            "type": "mesh3d"
           }
          ],
          "parcoords": [
           {
            "line": {
             "colorbar": {
              "outlinewidth": 0,
              "ticks": ""
             }
            },
            "type": "parcoords"
           }
          ],
          "pie": [
           {
            "automargin": true,
            "type": "pie"
           }
          ],
          "scatter": [
           {
            "fillpattern": {
             "fillmode": "overlay",
             "size": 10,
             "solidity": 0.2
            },
            "type": "scatter"
           }
          ],
          "scatter3d": [
           {
            "line": {
             "colorbar": {
              "outlinewidth": 0,
              "ticks": ""
             }
            },
            "marker": {
             "colorbar": {
              "outlinewidth": 0,
              "ticks": ""
             }
            },
            "type": "scatter3d"
           }
          ],
          "scattercarpet": [
           {
            "marker": {
             "colorbar": {
              "outlinewidth": 0,
              "ticks": ""
             }
            },
            "type": "scattercarpet"
           }
          ],
          "scattergeo": [
           {
            "marker": {
             "colorbar": {
              "outlinewidth": 0,
              "ticks": ""
             }
            },
            "type": "scattergeo"
           }
          ],
          "scattergl": [
           {
            "marker": {
             "colorbar": {
              "outlinewidth": 0,
              "ticks": ""
             }
            },
            "type": "scattergl"
           }
          ],
          "scattermap": [
           {
            "marker": {
             "colorbar": {
              "outlinewidth": 0,
              "ticks": ""
             }
            },
            "type": "scattermap"
           }
          ],
          "scattermapbox": [
           {
            "marker": {
             "colorbar": {
              "outlinewidth": 0,
              "ticks": ""
             }
            },
            "type": "scattermapbox"
           }
          ],
          "scatterpolar": [
           {
            "marker": {
             "colorbar": {
              "outlinewidth": 0,
              "ticks": ""
             }
            },
            "type": "scatterpolar"
           }
          ],
          "scatterpolargl": [
           {
            "marker": {
             "colorbar": {
              "outlinewidth": 0,
              "ticks": ""
             }
            },
            "type": "scatterpolargl"
           }
          ],
          "scatterternary": [
           {
            "marker": {
             "colorbar": {
              "outlinewidth": 0,
              "ticks": ""
             }
            },
            "type": "scatterternary"
           }
          ],
          "surface": [
           {
            "colorbar": {
             "outlinewidth": 0,
             "ticks": ""
            },
            "colorscale": [
             [
              0,
              "#0d0887"
             ],
             [
              0.1111111111111111,
              "#46039f"
             ],
             [
              0.2222222222222222,
              "#7201a8"
             ],
             [
              0.3333333333333333,
              "#9c179e"
             ],
             [
              0.4444444444444444,
              "#bd3786"
             ],
             [
              0.5555555555555556,
              "#d8576b"
             ],
             [
              0.6666666666666666,
              "#ed7953"
             ],
             [
              0.7777777777777778,
              "#fb9f3a"
             ],
             [
              0.8888888888888888,
              "#fdca26"
             ],
             [
              1,
              "#f0f921"
             ]
            ],
            "type": "surface"
           }
          ],
          "table": [
           {
            "cells": {
             "fill": {
              "color": "#EBF0F8"
             },
             "line": {
              "color": "white"
             }
            },
            "header": {
             "fill": {
              "color": "#C8D4E3"
             },
             "line": {
              "color": "white"
             }
            },
            "type": "table"
           }
          ]
         },
         "layout": {
          "annotationdefaults": {
           "arrowcolor": "#2a3f5f",
           "arrowhead": 0,
           "arrowwidth": 1
          },
          "autotypenumbers": "strict",
          "coloraxis": {
           "colorbar": {
            "outlinewidth": 0,
            "ticks": ""
           }
          },
          "colorscale": {
           "diverging": [
            [
             0,
             "#8e0152"
            ],
            [
             0.1,
             "#c51b7d"
            ],
            [
             0.2,
             "#de77ae"
            ],
            [
             0.3,
             "#f1b6da"
            ],
            [
             0.4,
             "#fde0ef"
            ],
            [
             0.5,
             "#f7f7f7"
            ],
            [
             0.6,
             "#e6f5d0"
            ],
            [
             0.7,
             "#b8e186"
            ],
            [
             0.8,
             "#7fbc41"
            ],
            [
             0.9,
             "#4d9221"
            ],
            [
             1,
             "#276419"
            ]
           ],
           "sequential": [
            [
             0,
             "#0d0887"
            ],
            [
             0.1111111111111111,
             "#46039f"
            ],
            [
             0.2222222222222222,
             "#7201a8"
            ],
            [
             0.3333333333333333,
             "#9c179e"
            ],
            [
             0.4444444444444444,
             "#bd3786"
            ],
            [
             0.5555555555555556,
             "#d8576b"
            ],
            [
             0.6666666666666666,
             "#ed7953"
            ],
            [
             0.7777777777777778,
             "#fb9f3a"
            ],
            [
             0.8888888888888888,
             "#fdca26"
            ],
            [
             1,
             "#f0f921"
            ]
           ],
           "sequentialminus": [
            [
             0,
             "#0d0887"
            ],
            [
             0.1111111111111111,
             "#46039f"
            ],
            [
             0.2222222222222222,
             "#7201a8"
            ],
            [
             0.3333333333333333,
             "#9c179e"
            ],
            [
             0.4444444444444444,
             "#bd3786"
            ],
            [
             0.5555555555555556,
             "#d8576b"
            ],
            [
             0.6666666666666666,
             "#ed7953"
            ],
            [
             0.7777777777777778,
             "#fb9f3a"
            ],
            [
             0.8888888888888888,
             "#fdca26"
            ],
            [
             1,
             "#f0f921"
            ]
           ]
          },
          "colorway": [
           "#636efa",
           "#EF553B",
           "#00cc96",
           "#ab63fa",
           "#FFA15A",
           "#19d3f3",
           "#FF6692",
           "#B6E880",
           "#FF97FF",
           "#FECB52"
          ],
          "font": {
           "color": "#2a3f5f"
          },
          "geo": {
           "bgcolor": "white",
           "lakecolor": "white",
           "landcolor": "#E5ECF6",
           "showlakes": true,
           "showland": true,
           "subunitcolor": "white"
          },
          "hoverlabel": {
           "align": "left"
          },
          "hovermode": "closest",
          "mapbox": {
           "style": "light"
          },
          "paper_bgcolor": "white",
          "plot_bgcolor": "#E5ECF6",
          "polar": {
           "angularaxis": {
            "gridcolor": "white",
            "linecolor": "white",
            "ticks": ""
           },
           "bgcolor": "#E5ECF6",
           "radialaxis": {
            "gridcolor": "white",
            "linecolor": "white",
            "ticks": ""
           }
          },
          "scene": {
           "xaxis": {
            "backgroundcolor": "#E5ECF6",
            "gridcolor": "white",
            "gridwidth": 2,
            "linecolor": "white",
            "showbackground": true,
            "ticks": "",
            "zerolinecolor": "white"
           },
           "yaxis": {
            "backgroundcolor": "#E5ECF6",
            "gridcolor": "white",
            "gridwidth": 2,
            "linecolor": "white",
            "showbackground": true,
            "ticks": "",
            "zerolinecolor": "white"
           },
           "zaxis": {
            "backgroundcolor": "#E5ECF6",
            "gridcolor": "white",
            "gridwidth": 2,
            "linecolor": "white",
            "showbackground": true,
            "ticks": "",
            "zerolinecolor": "white"
           }
          },
          "shapedefaults": {
           "line": {
            "color": "#2a3f5f"
           }
          },
          "ternary": {
           "aaxis": {
            "gridcolor": "white",
            "linecolor": "white",
            "ticks": ""
           },
           "baxis": {
            "gridcolor": "white",
            "linecolor": "white",
            "ticks": ""
           },
           "bgcolor": "#E5ECF6",
           "caxis": {
            "gridcolor": "white",
            "linecolor": "white",
            "ticks": ""
           }
          },
          "title": {
           "x": 0.05
          },
          "xaxis": {
           "automargin": true,
           "gridcolor": "white",
           "linecolor": "white",
           "ticks": "",
           "title": {
            "standoff": 15
           },
           "zerolinecolor": "white",
           "zerolinewidth": 2
          },
          "yaxis": {
           "automargin": true,
           "gridcolor": "white",
           "linecolor": "white",
           "ticks": "",
           "title": {
            "standoff": 15
           },
           "zerolinecolor": "white",
           "zerolinewidth": 2
          }
         }
        },
        "title": {
         "font": {
          "size": 16
         },
         "text": "Winsorization (Capping): YearsAtCompany_Original"
        },
        "width": 900,
        "xaxis": {
         "anchor": "y",
         "domain": [
          0,
          0.45
         ]
        },
        "xaxis2": {
         "anchor": "y2",
         "domain": [
          0.55,
          1
         ]
        },
        "yaxis": {
         "anchor": "x",
         "domain": [
          0,
          1
         ]
        },
        "yaxis2": {
         "anchor": "x2",
         "domain": [
          0,
          1
         ]
        }
       }
      }
     },
     "metadata": {},
     "output_type": "display_data"
    }
   ],
   "source": [
    "def visualize_winsorization(df, column, transformed_column):\n",
    "    # Visualisasi dengan plotly\n",
    "    fig = make_subplots(rows=1, cols=2, \n",
    "                        subplot_titles=[\"Boxplot Original\", \"Boxplot setelah Winsorization\"])\n",
    "    \n",
    "    # Original boxplot\n",
    "    fig.add_trace(\n",
    "        go.Box(\n",
    "            y=df[column],\n",
    "            name=\"Original\",\n",
    "            marker_color='royalblue',\n",
    "            boxmean=True\n",
    "        ),\n",
    "        row=1, col=1\n",
    "    )\n",
    "    \n",
    "    # Transformed boxplot\n",
    "    fig.add_trace(\n",
    "        go.Box(\n",
    "            y=df[transformed_column],\n",
    "            name=\"Winsorized\",\n",
    "            marker_color='green',\n",
    "            boxmean=True\n",
    "        ),\n",
    "        row=1, col=2\n",
    "    )\n",
    "    \n",
    "    # Update layout\n",
    "    fig.update_layout(\n",
    "        title_text=f\"Winsorization (Capping): {column}\",\n",
    "        title_font_size=16,\n",
    "        height=400,\n",
    "        width=900,\n",
    "        showlegend=False,\n",
    "        plot_bgcolor='white'\n",
    "    )\n",
    "    \n",
    "    # Menyimpan dan menampilkan\n",
    "    save_plotly(fig, f\"winsorization_{column}\")\n",
    "    fig.show()\n",
    "\n",
    "# Visualisasi winsorization\n",
    "visualize_winsorization(df_transformed, 'YearsAtCompany_Original', 'YearsAtCompany_Winsorized')\n"
   ]
  },
  {
   "cell_type": "markdown",
   "id": "dfe59912",
   "metadata": {},
   "source": [
    "### YearsSinceLastPromotion"
   ]
  },
  {
   "cell_type": "code",
   "execution_count": 74,
   "id": "774cdd97",
   "metadata": {},
   "outputs": [],
   "source": [
    "df_transformed['YearsSinceLastPromotion_Original'] = df_transformed['YearsSinceLastPromotion']"
   ]
  },
  {
   "cell_type": "code",
   "execution_count": 75,
   "id": "7d4de177",
   "metadata": {},
   "outputs": [],
   "source": [
    "bins = [0, 2, 5, 10, float('inf')]\n",
    "labels = ['Recent (0-2)', 'Medium (3-5)', 'Long (6-10)', 'Very Long (>10)']\n",
    "df_transformed['YearsSinceLastPromotion_Binned'] = pd.cut(\n",
    "    df_transformed['YearsSinceLastPromotion'], \n",
    "    bins=bins,\n",
    "    labels=labels\n",
    ")"
   ]
  },
  {
   "cell_type": "code",
   "execution_count": 76,
   "id": "182e7258",
   "metadata": {},
   "outputs": [
    {
     "data": {
      "application/vnd.plotly.v1+json": {
       "config": {
        "plotlyServerURL": "https://plot.ly"
       },
       "data": [
        {
         "marker": {
          "color": "royalblue"
         },
         "name": "Original",
         "opacity": 0.7,
         "type": "histogram",
         "x": {
          "bdata": "AQACBAAAAAEBBwAAAQAIAQsBAAABBQELAgEADwIBBAgFAQIABwAABwIDAAUACgEBAQEBAAcBAgEAAAUIAAAAAAsIAAIBBQABAQAAAgADAQcAAAIAAAAADAAABAABAQEAAgIBAAIBAQACAQ8CBAAAAgAAAgUAAQcABgcAAAcBAgAABgAAAAcAAQACBQEAAAMBAgAAAAEBAAUGAAAAAQcBAgoBAgEHCQAAAAQBAQMAAAECAgACBQABAAAHAgEAAAIDAwIHCwABAQ4HAQAEAgABAAwBCAEBAAQAAQkCAQEBAAQECwAIAAgAAgINAQABAAAAAAYBAAcBAgABCwACAAAHAAABAgABAQACAQAAAgAAAA0BAA4CAwAHAQIHAQABAAAAAAAAAAsBCwYAAgEBAAAAAgACAAkAAA8BCAAAAAAHAAAAAAAAAQEAAQAHCwABBwEAAwQABwIBAQIAAAMAAQAAAAIHAAABBQEBAQAAAwQAAAUBAwAFAAAACwABAgAACQUAAQAGAgAABg0BAgAJAQAAAAABAQEEBgIBAAABAQEABwUABAsGAQAOBAAGCQEAAwcAAQABBwAAAAAABAsEAgAEAAAAAAEBAQcEAQQBAAACAQEAAAAAAwAAAgIMAQAABgAGAwAAAQAAAAwAAAAFAgAEBgEAAAYAAQAAAAIBAgEOAwABBgEDBAcBBgABAQECDQABBwADDQAEAAcAAQEBAAAAAQAAAQIAAAAAAgABBwECAAIAAAAHBQMBAAkAAwAEAwUAAAEAAgACAAABBw0AAgIBAAEBAQAAAwYAAAAEAAMAAQwCAQEAAQEDAAEAAgEKAQEBAQMBAAIFAAACAAQCBwABAAABAgAAAAAAAAEBAAAADAAFAAAAAAAAAAEAAQIBBwEGAAALBQEBBQACAAoCAQYDAAABBQ8AAQEABwAAAQAAAQQCAAEPAAAACQEAAAMBCQgCAAgAAQ8AAgAFAAoBAgICAQACAAcGDgACBwEGAAIBAQAABwACBwQAAAIBAQsBAwAHAwcAAQQAAAICAgYAAAAFAAAABQkAAQIBAwAAAgsBAQAAAQABAwEGAgAAAAUBAAICAAEHAAAAAQUPCwEEAwAOAAcLAAICAgEJAAEAAQAEAQQBAAICAQ8CBwwEAAABAQIAAAABAg4CBwQDCAEBAAAAAAcACAEAAQEAAAAAAAAAAAIBAQACCQAABAAHAQcABQAAAAECAQUBAAEAAQAABAAAAQIBAgABAAADAQAGAQACAQEAAAAAAAcAAQABAQAAAAACAAABAQEBAAELAAEBBAEJAAAEAQQDAgEGDQEEBwECAAEEAQEADAUAAAEBAAAAAQMCAAEAAQABAQABBwAAAAAABQEBBAsBAAIAAgEBAAUCAAEACwEBAAABDAACAAIHAAAHAAANBgAAAAQBAAAPCAEBAQcBAAABAAACAgEFAAAFAAMGCQQBAQIABAAAAQABBgIAAAABAQEDAAEHAgQAAAEAAgICAAEBAgQBAQEBAAAFAAMIAQAADwQBAAAAAAcAAgEAAQECAQQBAgABBwAAAAAIAAABAAAABwEBAAAABQAJAAICAQAEAAAAAAQJBAIAAgMDAQAAAAEBAAEPAAAAAAABAwAAAQ4AAAABAQABAQAABwcBBQABAgcAAQALAAAFAQIAAAAEAAEDAwEHBwgBBAEDAQAAAgcAAAEAAQ0ABAUAAAMBDwICAAEAAAADAgABBwEBAQABBQECBAsEAgIDAAABAAIAAQUBAgADAAICAAECAAcDAA8GAAEBAAUHAA4GAAALBwAEAgAAAAIAAQEAAQEAAwABAQIAAAIJAAAAAAAAAQMAAgcAAAMAAQAAAQEBAQYEAQAKBQAAAgcBAQEABgEBBwABAgUBAAwECAEBAAACAAAHBAUCAgAAAAQBAQABAQAAAAILAQEBAg0BAQcHBwABAQEAAAACAQAIAQABAAAA",
          "dtype": "i1"
         },
         "xaxis": "x",
         "yaxis": "y"
        },
        {
         "marker": {
          "color": "green"
         },
         "name": "Binned",
         "opacity": 0.7,
         "type": "bar",
         "x": [
          "Recent (0-2)",
          "Medium (3-5)",
          "Long (6-10)",
          "Very Long (>10)"
         ],
         "xaxis": "x2",
         "y": {
          "bdata": "BAKeAJUAQgA=",
          "dtype": "i2"
         },
         "yaxis": "y2"
        }
       ],
       "layout": {
        "annotations": [
         {
          "font": {
           "size": 16
          },
          "showarrow": false,
          "text": "Histogram Original",
          "x": 0.225,
          "xanchor": "center",
          "xref": "paper",
          "y": 1,
          "yanchor": "bottom",
          "yref": "paper"
         },
         {
          "font": {
           "size": 16
          },
          "showarrow": false,
          "text": "Distribusi setelah Binning",
          "x": 0.775,
          "xanchor": "center",
          "xref": "paper",
          "y": 1,
          "yanchor": "bottom",
          "yref": "paper"
         }
        ],
        "height": 400,
        "plot_bgcolor": "white",
        "showlegend": false,
        "template": {
         "data": {
          "bar": [
           {
            "error_x": {
             "color": "#2a3f5f"
            },
            "error_y": {
             "color": "#2a3f5f"
            },
            "marker": {
             "line": {
              "color": "#E5ECF6",
              "width": 0.5
             },
             "pattern": {
              "fillmode": "overlay",
              "size": 10,
              "solidity": 0.2
             }
            },
            "type": "bar"
           }
          ],
          "barpolar": [
           {
            "marker": {
             "line": {
              "color": "#E5ECF6",
              "width": 0.5
             },
             "pattern": {
              "fillmode": "overlay",
              "size": 10,
              "solidity": 0.2
             }
            },
            "type": "barpolar"
           }
          ],
          "carpet": [
           {
            "aaxis": {
             "endlinecolor": "#2a3f5f",
             "gridcolor": "white",
             "linecolor": "white",
             "minorgridcolor": "white",
             "startlinecolor": "#2a3f5f"
            },
            "baxis": {
             "endlinecolor": "#2a3f5f",
             "gridcolor": "white",
             "linecolor": "white",
             "minorgridcolor": "white",
             "startlinecolor": "#2a3f5f"
            },
            "type": "carpet"
           }
          ],
          "choropleth": [
           {
            "colorbar": {
             "outlinewidth": 0,
             "ticks": ""
            },
            "type": "choropleth"
           }
          ],
          "contour": [
           {
            "colorbar": {
             "outlinewidth": 0,
             "ticks": ""
            },
            "colorscale": [
             [
              0,
              "#0d0887"
             ],
             [
              0.1111111111111111,
              "#46039f"
             ],
             [
              0.2222222222222222,
              "#7201a8"
             ],
             [
              0.3333333333333333,
              "#9c179e"
             ],
             [
              0.4444444444444444,
              "#bd3786"
             ],
             [
              0.5555555555555556,
              "#d8576b"
             ],
             [
              0.6666666666666666,
              "#ed7953"
             ],
             [
              0.7777777777777778,
              "#fb9f3a"
             ],
             [
              0.8888888888888888,
              "#fdca26"
             ],
             [
              1,
              "#f0f921"
             ]
            ],
            "type": "contour"
           }
          ],
          "contourcarpet": [
           {
            "colorbar": {
             "outlinewidth": 0,
             "ticks": ""
            },
            "type": "contourcarpet"
           }
          ],
          "heatmap": [
           {
            "colorbar": {
             "outlinewidth": 0,
             "ticks": ""
            },
            "colorscale": [
             [
              0,
              "#0d0887"
             ],
             [
              0.1111111111111111,
              "#46039f"
             ],
             [
              0.2222222222222222,
              "#7201a8"
             ],
             [
              0.3333333333333333,
              "#9c179e"
             ],
             [
              0.4444444444444444,
              "#bd3786"
             ],
             [
              0.5555555555555556,
              "#d8576b"
             ],
             [
              0.6666666666666666,
              "#ed7953"
             ],
             [
              0.7777777777777778,
              "#fb9f3a"
             ],
             [
              0.8888888888888888,
              "#fdca26"
             ],
             [
              1,
              "#f0f921"
             ]
            ],
            "type": "heatmap"
           }
          ],
          "histogram": [
           {
            "marker": {
             "pattern": {
              "fillmode": "overlay",
              "size": 10,
              "solidity": 0.2
             }
            },
            "type": "histogram"
           }
          ],
          "histogram2d": [
           {
            "colorbar": {
             "outlinewidth": 0,
             "ticks": ""
            },
            "colorscale": [
             [
              0,
              "#0d0887"
             ],
             [
              0.1111111111111111,
              "#46039f"
             ],
             [
              0.2222222222222222,
              "#7201a8"
             ],
             [
              0.3333333333333333,
              "#9c179e"
             ],
             [
              0.4444444444444444,
              "#bd3786"
             ],
             [
              0.5555555555555556,
              "#d8576b"
             ],
             [
              0.6666666666666666,
              "#ed7953"
             ],
             [
              0.7777777777777778,
              "#fb9f3a"
             ],
             [
              0.8888888888888888,
              "#fdca26"
             ],
             [
              1,
              "#f0f921"
             ]
            ],
            "type": "histogram2d"
           }
          ],
          "histogram2dcontour": [
           {
            "colorbar": {
             "outlinewidth": 0,
             "ticks": ""
            },
            "colorscale": [
             [
              0,
              "#0d0887"
             ],
             [
              0.1111111111111111,
              "#46039f"
             ],
             [
              0.2222222222222222,
              "#7201a8"
             ],
             [
              0.3333333333333333,
              "#9c179e"
             ],
             [
              0.4444444444444444,
              "#bd3786"
             ],
             [
              0.5555555555555556,
              "#d8576b"
             ],
             [
              0.6666666666666666,
              "#ed7953"
             ],
             [
              0.7777777777777778,
              "#fb9f3a"
             ],
             [
              0.8888888888888888,
              "#fdca26"
             ],
             [
              1,
              "#f0f921"
             ]
            ],
            "type": "histogram2dcontour"
           }
          ],
          "mesh3d": [
           {
            "colorbar": {
             "outlinewidth": 0,
             "ticks": ""
            },
            "type": "mesh3d"
           }
          ],
          "parcoords": [
           {
            "line": {
             "colorbar": {
              "outlinewidth": 0,
              "ticks": ""
             }
            },
            "type": "parcoords"
           }
          ],
          "pie": [
           {
            "automargin": true,
            "type": "pie"
           }
          ],
          "scatter": [
           {
            "fillpattern": {
             "fillmode": "overlay",
             "size": 10,
             "solidity": 0.2
            },
            "type": "scatter"
           }
          ],
          "scatter3d": [
           {
            "line": {
             "colorbar": {
              "outlinewidth": 0,
              "ticks": ""
             }
            },
            "marker": {
             "colorbar": {
              "outlinewidth": 0,
              "ticks": ""
             }
            },
            "type": "scatter3d"
           }
          ],
          "scattercarpet": [
           {
            "marker": {
             "colorbar": {
              "outlinewidth": 0,
              "ticks": ""
             }
            },
            "type": "scattercarpet"
           }
          ],
          "scattergeo": [
           {
            "marker": {
             "colorbar": {
              "outlinewidth": 0,
              "ticks": ""
             }
            },
            "type": "scattergeo"
           }
          ],
          "scattergl": [
           {
            "marker": {
             "colorbar": {
              "outlinewidth": 0,
              "ticks": ""
             }
            },
            "type": "scattergl"
           }
          ],
          "scattermap": [
           {
            "marker": {
             "colorbar": {
              "outlinewidth": 0,
              "ticks": ""
             }
            },
            "type": "scattermap"
           }
          ],
          "scattermapbox": [
           {
            "marker": {
             "colorbar": {
              "outlinewidth": 0,
              "ticks": ""
             }
            },
            "type": "scattermapbox"
           }
          ],
          "scatterpolar": [
           {
            "marker": {
             "colorbar": {
              "outlinewidth": 0,
              "ticks": ""
             }
            },
            "type": "scatterpolar"
           }
          ],
          "scatterpolargl": [
           {
            "marker": {
             "colorbar": {
              "outlinewidth": 0,
              "ticks": ""
             }
            },
            "type": "scatterpolargl"
           }
          ],
          "scatterternary": [
           {
            "marker": {
             "colorbar": {
              "outlinewidth": 0,
              "ticks": ""
             }
            },
            "type": "scatterternary"
           }
          ],
          "surface": [
           {
            "colorbar": {
             "outlinewidth": 0,
             "ticks": ""
            },
            "colorscale": [
             [
              0,
              "#0d0887"
             ],
             [
              0.1111111111111111,
              "#46039f"
             ],
             [
              0.2222222222222222,
              "#7201a8"
             ],
             [
              0.3333333333333333,
              "#9c179e"
             ],
             [
              0.4444444444444444,
              "#bd3786"
             ],
             [
              0.5555555555555556,
              "#d8576b"
             ],
             [
              0.6666666666666666,
              "#ed7953"
             ],
             [
              0.7777777777777778,
              "#fb9f3a"
             ],
             [
              0.8888888888888888,
              "#fdca26"
             ],
             [
              1,
              "#f0f921"
             ]
            ],
            "type": "surface"
           }
          ],
          "table": [
           {
            "cells": {
             "fill": {
              "color": "#EBF0F8"
             },
             "line": {
              "color": "white"
             }
            },
            "header": {
             "fill": {
              "color": "#C8D4E3"
             },
             "line": {
              "color": "white"
             }
            },
            "type": "table"
           }
          ]
         },
         "layout": {
          "annotationdefaults": {
           "arrowcolor": "#2a3f5f",
           "arrowhead": 0,
           "arrowwidth": 1
          },
          "autotypenumbers": "strict",
          "coloraxis": {
           "colorbar": {
            "outlinewidth": 0,
            "ticks": ""
           }
          },
          "colorscale": {
           "diverging": [
            [
             0,
             "#8e0152"
            ],
            [
             0.1,
             "#c51b7d"
            ],
            [
             0.2,
             "#de77ae"
            ],
            [
             0.3,
             "#f1b6da"
            ],
            [
             0.4,
             "#fde0ef"
            ],
            [
             0.5,
             "#f7f7f7"
            ],
            [
             0.6,
             "#e6f5d0"
            ],
            [
             0.7,
             "#b8e186"
            ],
            [
             0.8,
             "#7fbc41"
            ],
            [
             0.9,
             "#4d9221"
            ],
            [
             1,
             "#276419"
            ]
           ],
           "sequential": [
            [
             0,
             "#0d0887"
            ],
            [
             0.1111111111111111,
             "#46039f"
            ],
            [
             0.2222222222222222,
             "#7201a8"
            ],
            [
             0.3333333333333333,
             "#9c179e"
            ],
            [
             0.4444444444444444,
             "#bd3786"
            ],
            [
             0.5555555555555556,
             "#d8576b"
            ],
            [
             0.6666666666666666,
             "#ed7953"
            ],
            [
             0.7777777777777778,
             "#fb9f3a"
            ],
            [
             0.8888888888888888,
             "#fdca26"
            ],
            [
             1,
             "#f0f921"
            ]
           ],
           "sequentialminus": [
            [
             0,
             "#0d0887"
            ],
            [
             0.1111111111111111,
             "#46039f"
            ],
            [
             0.2222222222222222,
             "#7201a8"
            ],
            [
             0.3333333333333333,
             "#9c179e"
            ],
            [
             0.4444444444444444,
             "#bd3786"
            ],
            [
             0.5555555555555556,
             "#d8576b"
            ],
            [
             0.6666666666666666,
             "#ed7953"
            ],
            [
             0.7777777777777778,
             "#fb9f3a"
            ],
            [
             0.8888888888888888,
             "#fdca26"
            ],
            [
             1,
             "#f0f921"
            ]
           ]
          },
          "colorway": [
           "#636efa",
           "#EF553B",
           "#00cc96",
           "#ab63fa",
           "#FFA15A",
           "#19d3f3",
           "#FF6692",
           "#B6E880",
           "#FF97FF",
           "#FECB52"
          ],
          "font": {
           "color": "#2a3f5f"
          },
          "geo": {
           "bgcolor": "white",
           "lakecolor": "white",
           "landcolor": "#E5ECF6",
           "showlakes": true,
           "showland": true,
           "subunitcolor": "white"
          },
          "hoverlabel": {
           "align": "left"
          },
          "hovermode": "closest",
          "mapbox": {
           "style": "light"
          },
          "paper_bgcolor": "white",
          "plot_bgcolor": "#E5ECF6",
          "polar": {
           "angularaxis": {
            "gridcolor": "white",
            "linecolor": "white",
            "ticks": ""
           },
           "bgcolor": "#E5ECF6",
           "radialaxis": {
            "gridcolor": "white",
            "linecolor": "white",
            "ticks": ""
           }
          },
          "scene": {
           "xaxis": {
            "backgroundcolor": "#E5ECF6",
            "gridcolor": "white",
            "gridwidth": 2,
            "linecolor": "white",
            "showbackground": true,
            "ticks": "",
            "zerolinecolor": "white"
           },
           "yaxis": {
            "backgroundcolor": "#E5ECF6",
            "gridcolor": "white",
            "gridwidth": 2,
            "linecolor": "white",
            "showbackground": true,
            "ticks": "",
            "zerolinecolor": "white"
           },
           "zaxis": {
            "backgroundcolor": "#E5ECF6",
            "gridcolor": "white",
            "gridwidth": 2,
            "linecolor": "white",
            "showbackground": true,
            "ticks": "",
            "zerolinecolor": "white"
           }
          },
          "shapedefaults": {
           "line": {
            "color": "#2a3f5f"
           }
          },
          "ternary": {
           "aaxis": {
            "gridcolor": "white",
            "linecolor": "white",
            "ticks": ""
           },
           "baxis": {
            "gridcolor": "white",
            "linecolor": "white",
            "ticks": ""
           },
           "bgcolor": "#E5ECF6",
           "caxis": {
            "gridcolor": "white",
            "linecolor": "white",
            "ticks": ""
           }
          },
          "title": {
           "x": 0.05
          },
          "xaxis": {
           "automargin": true,
           "gridcolor": "white",
           "linecolor": "white",
           "ticks": "",
           "title": {
            "standoff": 15
           },
           "zerolinecolor": "white",
           "zerolinewidth": 2
          },
          "yaxis": {
           "automargin": true,
           "gridcolor": "white",
           "linecolor": "white",
           "ticks": "",
           "title": {
            "standoff": 15
           },
           "zerolinecolor": "white",
           "zerolinewidth": 2
          }
         }
        },
        "title": {
         "font": {
          "size": 16
         },
         "text": "Binning: YearsSinceLastPromotion_Original"
        },
        "width": 900,
        "xaxis": {
         "anchor": "y",
         "domain": [
          0,
          0.45
         ]
        },
        "xaxis2": {
         "anchor": "y2",
         "domain": [
          0.55,
          1
         ]
        },
        "yaxis": {
         "anchor": "x",
         "domain": [
          0,
          1
         ]
        },
        "yaxis2": {
         "anchor": "x2",
         "domain": [
          0,
          1
         ]
        }
       }
      }
     },
     "metadata": {},
     "output_type": "display_data"
    }
   ],
   "source": [
    "def visualize_binning(df, column, binned_column):\n",
    "    # Visualisasi dengan plotly\n",
    "    fig = make_subplots(rows=1, cols=2, \n",
    "                        subplot_titles=[\"Histogram Original\", \"Distribusi setelah Binning\"])\n",
    "    \n",
    "    # Original distribution\n",
    "    fig.add_trace(\n",
    "        go.Histogram(\n",
    "            x=df[column],\n",
    "            name=\"Original\",\n",
    "            marker_color='royalblue',\n",
    "            opacity=0.7\n",
    "        ),\n",
    "        row=1, col=1\n",
    "    )\n",
    "    \n",
    "    # Binned distribution\n",
    "    binned_counts = df[binned_column].value_counts().sort_index()\n",
    "    \n",
    "    fig.add_trace(\n",
    "        go.Bar(\n",
    "            x=binned_counts.index,\n",
    "            y=binned_counts.values,\n",
    "            name=\"Binned\",\n",
    "            marker_color='green',\n",
    "            opacity=0.7\n",
    "        ),\n",
    "        row=1, col=2\n",
    "    )\n",
    "    \n",
    "    # Update layout\n",
    "    fig.update_layout(\n",
    "        title_text=f\"Binning: {column}\",\n",
    "        title_font_size=16,\n",
    "        height=400,\n",
    "        width=900,\n",
    "        showlegend=False,\n",
    "        plot_bgcolor='white'\n",
    "    )\n",
    "    \n",
    "    # Menyimpan dan menampilkan\n",
    "    save_plotly(fig, f\"binning_{column}\")\n",
    "    fig.show()\n",
    "\n",
    "# Visualisasi binning\n",
    "visualize_binning(df_transformed, 'YearsSinceLastPromotion_Original', 'YearsSinceLastPromotion_Binned')"
   ]
  },
  {
   "cell_type": "markdown",
   "id": "66bfa446",
   "metadata": {},
   "source": [
    "### TotalWorkingYears"
   ]
  },
  {
   "cell_type": "code",
   "execution_count": 77,
   "id": "f44aea1f",
   "metadata": {},
   "outputs": [],
   "source": [
    "df_transformed['TotalWorkingYears_Original'] = df_transformed['TotalWorkingYears']"
   ]
  },
  {
   "cell_type": "code",
   "execution_count": 78,
   "id": "9547c9d1",
   "metadata": {},
   "outputs": [],
   "source": [
    "df_transformed['TotalWorkingYears_Rank'] = df_transformed['TotalWorkingYears'].rank(pct=True)"
   ]
  },
  {
   "cell_type": "code",
   "execution_count": 79,
   "id": "9e32d9a0",
   "metadata": {},
   "outputs": [
    {
     "data": {
      "application/vnd.plotly.v1+json": {
       "config": {
        "plotlyServerURL": "https://plot.ly"
       },
       "data": [
        {
         "marker": {
          "color": "royalblue"
         },
         "name": "Original",
         "opacity": 0.7,
         "type": "histogram",
         "x": {
          "bdata": "Bw8SFxQBBhgICgUBCxAKERQYBxcGFhANBgoCFQcbEQoHBQMHCQgFDAQTBgoBCwoGCgMRGwkGBwYICg4MFAEHCREVEAIHCRgKCQcdBAsJCAsBBQcQChgIFw4ODxAYBAoGDQ8HBAIDCAcZBxcTDwAHBAgHCgkKCgkLIQoBAQgGChkECQ4MCAgGCQkEDQoZCg4ECQwIBgoSCgwKBBQRDQgGAw8RFAYMCgAWCwoVBAoKBAQGBAcCGQ0GCgsKCAgJCgwKCgMKFwUOARkJBggcEwcTByAgCgUFBwYBBg4MBgkbDgwNFAEKASMMDAIWBgYWBAcKBRAQBwgGCgYIIQcGCAkKFQ0IBwYIBgoMICQBBAwSBx0FChoIHxMlBgIPDAQKBQkGAgcTAxYFFgwBJAohBgYGAwYGBgoBESEDCgUKEw4KCRYGBwoFCgsFFgoKFgkGJAYKCQoMChAKAwgKCgUJGQUMAQ8ICQEiEAcIBAMVIQ4HBwwIEAgOBQsADwgJEBMNDAcGBhMKCQMUChcKBAEVBQgGCAoLCgoFDhMMAQoWDAQICQ8IChQKBAccJQQPFQkHBh0FBggKCgoDCAoJERUPBg0SCgoFHwYECxMJCRsHDAURCwEKAhIKBQEJChQXBggRDwURCgoJBgcGBxIGBQ8PHggdDQEIARIaBQ8BABgFAwoYCAcVERQOCgcLDQoiCQ8EFwkGCgEWKAkVCgwGEAYKCgUMFA4FChQGBwkUBBwKDxwFEAQIByAKHwQFAw4FDQ4VCw4YBQoOAwECAQYJChYECAkDCggFFAEGGRAKAQIGAxAEBhUHCgUBHxAKCAgSBQMQEgYHBQsGAQcKCgcDCAsDCgUIDwEMBREQBgEIBgoBBwEIFxIMCQEBCgkGAQYFBgQGCgYKBw0iEAoJFwQFBiAgDxAFFQkGDSEGBhcICgAKHAQaBAsECAYcAQobCg0BCwoKCgoQIQoUBSgICQoYBhAJAwIKBQcEEwgfGQEECQkIBAUJBgUJCgQIHAUAHAoUBhUGCwYPChIRDxgBBggWBAwBBQERDAUKEQoTDxQCDA4JDRUHCAERCAoLFAYKEwoXCAoMDAIWAQMICAgKBQwXFQcQEgUSEgoPCgYJFxUYGhkJCQsJBBgDBgQFARYKDREeBgcKBBYFAwogHCUICAoFCgQGAgoHBwkKDwoQCgIRChUFDwANEQIDCxUEFQQDJAUKFwoNDxQHEgsTFA8EDAULARgKDAwKCAQBAgEJExIaBAUJCgUCBgUBCiATBA4CDAEUDQoKCgoHDwgNCQQGBwkOBQUDFwcKAQoKBRMQAg4VFQkHCh0HCAoQCwkfHQcQByMLARIJAQ0IAgYDChQJBBsREQcHAAoKEgwaHBYmCBUBAwkNCQgCBQkFFgYJEgoPGRMHBgIKCRUkCgUUCgECBAoGAAISCgoeBwoKFRcJBgQQDgMRBxQVBQwRChoFCQYjEgEKCAgEDAYBCAgHBgUIChUKBgkaAAgFBg8JCgkIBAgGCQYLBwYPCggKBQoHIhcGFh8FCQgKCQcIBhQCBg4MBAgDCgoIChkKEAwUAQAKDRUJBQMGChYXAwIKBwENCwodAQ0KGQUFCA8YEQwEAQoJAwYcCQERCQEBGgEJDh8BCxkSFQcGDAYiEAgGEQkKJA0SAgofCQcKDwIBAQYVCgENDAcVGgkWBgYOCAoLDwgLEQgKGiASBhodDRgJGBcIBQgJCAoUFQcKBwEHCQYIEg0HDxwcAx4KBQwKAQMFCg0eBhkPEBAUChQCCBEJARceDAYGBQ0KBBgOBAsTHAQGFw8JCgMQAwoEBg8BBAcFCAcLFAkNCBIFJQoeCg4DCAsBEQYJBQUFEQ0ICA8GHREQDgUFDggEBgMIDgkHCwgGCwwHAR0QCgkKAQkGBg0VGg0PAgoDCRAKCAMMCgEBBgYRBhoJBxgICQgICBMKCQUEBRAbBhUSCgoTAQYB",
          "dtype": "i1"
         },
         "xaxis": "x",
         "yaxis": "y"
        },
        {
         "marker": {
          "color": "green"
         },
         "name": "Rank Transform",
         "opacity": 0.7,
         "type": "histogram",
         "x": {
          "bdata": "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",
          "dtype": "f8"
         },
         "xaxis": "x2",
         "yaxis": "y2"
        }
       ],
       "layout": {
        "annotations": [
         {
          "font": {
           "size": 16
          },
          "showarrow": false,
          "text": "Distribusi Original",
          "x": 0.225,
          "xanchor": "center",
          "xref": "paper",
          "y": 1,
          "yanchor": "bottom",
          "yref": "paper"
         },
         {
          "font": {
           "size": 16
          },
          "showarrow": false,
          "text": "Distribusi setelah Rank Transform",
          "x": 0.775,
          "xanchor": "center",
          "xref": "paper",
          "y": 1,
          "yanchor": "bottom",
          "yref": "paper"
         }
        ],
        "height": 400,
        "plot_bgcolor": "white",
        "showlegend": false,
        "template": {
         "data": {
          "bar": [
           {
            "error_x": {
             "color": "#2a3f5f"
            },
            "error_y": {
             "color": "#2a3f5f"
            },
            "marker": {
             "line": {
              "color": "#E5ECF6",
              "width": 0.5
             },
             "pattern": {
              "fillmode": "overlay",
              "size": 10,
              "solidity": 0.2
             }
            },
            "type": "bar"
           }
          ],
          "barpolar": [
           {
            "marker": {
             "line": {
              "color": "#E5ECF6",
              "width": 0.5
             },
             "pattern": {
              "fillmode": "overlay",
              "size": 10,
              "solidity": 0.2
             }
            },
            "type": "barpolar"
           }
          ],
          "carpet": [
           {
            "aaxis": {
             "endlinecolor": "#2a3f5f",
             "gridcolor": "white",
             "linecolor": "white",
             "minorgridcolor": "white",
             "startlinecolor": "#2a3f5f"
            },
            "baxis": {
             "endlinecolor": "#2a3f5f",
             "gridcolor": "white",
             "linecolor": "white",
             "minorgridcolor": "white",
             "startlinecolor": "#2a3f5f"
            },
            "type": "carpet"
           }
          ],
          "choropleth": [
           {
            "colorbar": {
             "outlinewidth": 0,
             "ticks": ""
            },
            "type": "choropleth"
           }
          ],
          "contour": [
           {
            "colorbar": {
             "outlinewidth": 0,
             "ticks": ""
            },
            "colorscale": [
             [
              0,
              "#0d0887"
             ],
             [
              0.1111111111111111,
              "#46039f"
             ],
             [
              0.2222222222222222,
              "#7201a8"
             ],
             [
              0.3333333333333333,
              "#9c179e"
             ],
             [
              0.4444444444444444,
              "#bd3786"
             ],
             [
              0.5555555555555556,
              "#d8576b"
             ],
             [
              0.6666666666666666,
              "#ed7953"
             ],
             [
              0.7777777777777778,
              "#fb9f3a"
             ],
             [
              0.8888888888888888,
              "#fdca26"
             ],
             [
              1,
              "#f0f921"
             ]
            ],
            "type": "contour"
           }
          ],
          "contourcarpet": [
           {
            "colorbar": {
             "outlinewidth": 0,
             "ticks": ""
            },
            "type": "contourcarpet"
           }
          ],
          "heatmap": [
           {
            "colorbar": {
             "outlinewidth": 0,
             "ticks": ""
            },
            "colorscale": [
             [
              0,
              "#0d0887"
             ],
             [
              0.1111111111111111,
              "#46039f"
             ],
             [
              0.2222222222222222,
              "#7201a8"
             ],
             [
              0.3333333333333333,
              "#9c179e"
             ],
             [
              0.4444444444444444,
              "#bd3786"
             ],
             [
              0.5555555555555556,
              "#d8576b"
             ],
             [
              0.6666666666666666,
              "#ed7953"
             ],
             [
              0.7777777777777778,
              "#fb9f3a"
             ],
             [
              0.8888888888888888,
              "#fdca26"
             ],
             [
              1,
              "#f0f921"
             ]
            ],
            "type": "heatmap"
           }
          ],
          "histogram": [
           {
            "marker": {
             "pattern": {
              "fillmode": "overlay",
              "size": 10,
              "solidity": 0.2
             }
            },
            "type": "histogram"
           }
          ],
          "histogram2d": [
           {
            "colorbar": {
             "outlinewidth": 0,
             "ticks": ""
            },
            "colorscale": [
             [
              0,
              "#0d0887"
             ],
             [
              0.1111111111111111,
              "#46039f"
             ],
             [
              0.2222222222222222,
              "#7201a8"
             ],
             [
              0.3333333333333333,
              "#9c179e"
             ],
             [
              0.4444444444444444,
              "#bd3786"
             ],
             [
              0.5555555555555556,
              "#d8576b"
             ],
             [
              0.6666666666666666,
              "#ed7953"
             ],
             [
              0.7777777777777778,
              "#fb9f3a"
             ],
             [
              0.8888888888888888,
              "#fdca26"
             ],
             [
              1,
              "#f0f921"
             ]
            ],
            "type": "histogram2d"
           }
          ],
          "histogram2dcontour": [
           {
            "colorbar": {
             "outlinewidth": 0,
             "ticks": ""
            },
            "colorscale": [
             [
              0,
              "#0d0887"
             ],
             [
              0.1111111111111111,
              "#46039f"
             ],
             [
              0.2222222222222222,
              "#7201a8"
             ],
             [
              0.3333333333333333,
              "#9c179e"
             ],
             [
              0.4444444444444444,
              "#bd3786"
             ],
             [
              0.5555555555555556,
              "#d8576b"
             ],
             [
              0.6666666666666666,
              "#ed7953"
             ],
             [
              0.7777777777777778,
              "#fb9f3a"
             ],
             [
              0.8888888888888888,
              "#fdca26"
             ],
             [
              1,
              "#f0f921"
             ]
            ],
            "type": "histogram2dcontour"
           }
          ],
          "mesh3d": [
           {
            "colorbar": {
             "outlinewidth": 0,
             "ticks": ""
            },
            "type": "mesh3d"
           }
          ],
          "parcoords": [
           {
            "line": {
             "colorbar": {
              "outlinewidth": 0,
              "ticks": ""
             }
            },
            "type": "parcoords"
           }
          ],
          "pie": [
           {
            "automargin": true,
            "type": "pie"
           }
          ],
          "scatter": [
           {
            "fillpattern": {
             "fillmode": "overlay",
             "size": 10,
             "solidity": 0.2
            },
            "type": "scatter"
           }
          ],
          "scatter3d": [
           {
            "line": {
             "colorbar": {
              "outlinewidth": 0,
              "ticks": ""
             }
            },
            "marker": {
             "colorbar": {
              "outlinewidth": 0,
              "ticks": ""
             }
            },
            "type": "scatter3d"
           }
          ],
          "scattercarpet": [
           {
            "marker": {
             "colorbar": {
              "outlinewidth": 0,
              "ticks": ""
             }
            },
            "type": "scattercarpet"
           }
          ],
          "scattergeo": [
           {
            "marker": {
             "colorbar": {
              "outlinewidth": 0,
              "ticks": ""
             }
            },
            "type": "scattergeo"
           }
          ],
          "scattergl": [
           {
            "marker": {
             "colorbar": {
              "outlinewidth": 0,
              "ticks": ""
             }
            },
            "type": "scattergl"
           }
          ],
          "scattermap": [
           {
            "marker": {
             "colorbar": {
              "outlinewidth": 0,
              "ticks": ""
             }
            },
            "type": "scattermap"
           }
          ],
          "scattermapbox": [
           {
            "marker": {
             "colorbar": {
              "outlinewidth": 0,
              "ticks": ""
             }
            },
            "type": "scattermapbox"
           }
          ],
          "scatterpolar": [
           {
            "marker": {
             "colorbar": {
              "outlinewidth": 0,
              "ticks": ""
             }
            },
            "type": "scatterpolar"
           }
          ],
          "scatterpolargl": [
           {
            "marker": {
             "colorbar": {
              "outlinewidth": 0,
              "ticks": ""
             }
            },
            "type": "scatterpolargl"
           }
          ],
          "scatterternary": [
           {
            "marker": {
             "colorbar": {
              "outlinewidth": 0,
              "ticks": ""
             }
            },
            "type": "scatterternary"
           }
          ],
          "surface": [
           {
            "colorbar": {
             "outlinewidth": 0,
             "ticks": ""
            },
            "colorscale": [
             [
              0,
              "#0d0887"
             ],
             [
              0.1111111111111111,
              "#46039f"
             ],
             [
              0.2222222222222222,
              "#7201a8"
             ],
             [
              0.3333333333333333,
              "#9c179e"
             ],
             [
              0.4444444444444444,
              "#bd3786"
             ],
             [
              0.5555555555555556,
              "#d8576b"
             ],
             [
              0.6666666666666666,
              "#ed7953"
             ],
             [
              0.7777777777777778,
              "#fb9f3a"
             ],
             [
              0.8888888888888888,
              "#fdca26"
             ],
             [
              1,
              "#f0f921"
             ]
            ],
            "type": "surface"
           }
          ],
          "table": [
           {
            "cells": {
             "fill": {
              "color": "#EBF0F8"
             },
             "line": {
              "color": "white"
             }
            },
            "header": {
             "fill": {
              "color": "#C8D4E3"
             },
             "line": {
              "color": "white"
             }
            },
            "type": "table"
           }
          ]
         },
         "layout": {
          "annotationdefaults": {
           "arrowcolor": "#2a3f5f",
           "arrowhead": 0,
           "arrowwidth": 1
          },
          "autotypenumbers": "strict",
          "coloraxis": {
           "colorbar": {
            "outlinewidth": 0,
            "ticks": ""
           }
          },
          "colorscale": {
           "diverging": [
            [
             0,
             "#8e0152"
            ],
            [
             0.1,
             "#c51b7d"
            ],
            [
             0.2,
             "#de77ae"
            ],
            [
             0.3,
             "#f1b6da"
            ],
            [
             0.4,
             "#fde0ef"
            ],
            [
             0.5,
             "#f7f7f7"
            ],
            [
             0.6,
             "#e6f5d0"
            ],
            [
             0.7,
             "#b8e186"
            ],
            [
             0.8,
             "#7fbc41"
            ],
            [
             0.9,
             "#4d9221"
            ],
            [
             1,
             "#276419"
            ]
           ],
           "sequential": [
            [
             0,
             "#0d0887"
            ],
            [
             0.1111111111111111,
             "#46039f"
            ],
            [
             0.2222222222222222,
             "#7201a8"
            ],
            [
             0.3333333333333333,
             "#9c179e"
            ],
            [
             0.4444444444444444,
             "#bd3786"
            ],
            [
             0.5555555555555556,
             "#d8576b"
            ],
            [
             0.6666666666666666,
             "#ed7953"
            ],
            [
             0.7777777777777778,
             "#fb9f3a"
            ],
            [
             0.8888888888888888,
             "#fdca26"
            ],
            [
             1,
             "#f0f921"
            ]
           ],
           "sequentialminus": [
            [
             0,
             "#0d0887"
            ],
            [
             0.1111111111111111,
             "#46039f"
            ],
            [
             0.2222222222222222,
             "#7201a8"
            ],
            [
             0.3333333333333333,
             "#9c179e"
            ],
            [
             0.4444444444444444,
             "#bd3786"
            ],
            [
             0.5555555555555556,
             "#d8576b"
            ],
            [
             0.6666666666666666,
             "#ed7953"
            ],
            [
             0.7777777777777778,
             "#fb9f3a"
            ],
            [
             0.8888888888888888,
             "#fdca26"
            ],
            [
             1,
             "#f0f921"
            ]
           ]
          },
          "colorway": [
           "#636efa",
           "#EF553B",
           "#00cc96",
           "#ab63fa",
           "#FFA15A",
           "#19d3f3",
           "#FF6692",
           "#B6E880",
           "#FF97FF",
           "#FECB52"
          ],
          "font": {
           "color": "#2a3f5f"
          },
          "geo": {
           "bgcolor": "white",
           "lakecolor": "white",
           "landcolor": "#E5ECF6",
           "showlakes": true,
           "showland": true,
           "subunitcolor": "white"
          },
          "hoverlabel": {
           "align": "left"
          },
          "hovermode": "closest",
          "mapbox": {
           "style": "light"
          },
          "paper_bgcolor": "white",
          "plot_bgcolor": "#E5ECF6",
          "polar": {
           "angularaxis": {
            "gridcolor": "white",
            "linecolor": "white",
            "ticks": ""
           },
           "bgcolor": "#E5ECF6",
           "radialaxis": {
            "gridcolor": "white",
            "linecolor": "white",
            "ticks": ""
           }
          },
          "scene": {
           "xaxis": {
            "backgroundcolor": "#E5ECF6",
            "gridcolor": "white",
            "gridwidth": 2,
            "linecolor": "white",
            "showbackground": true,
            "ticks": "",
            "zerolinecolor": "white"
           },
           "yaxis": {
            "backgroundcolor": "#E5ECF6",
            "gridcolor": "white",
            "gridwidth": 2,
            "linecolor": "white",
            "showbackground": true,
            "ticks": "",
            "zerolinecolor": "white"
           },
           "zaxis": {
            "backgroundcolor": "#E5ECF6",
            "gridcolor": "white",
            "gridwidth": 2,
            "linecolor": "white",
            "showbackground": true,
            "ticks": "",
            "zerolinecolor": "white"
           }
          },
          "shapedefaults": {
           "line": {
            "color": "#2a3f5f"
           }
          },
          "ternary": {
           "aaxis": {
            "gridcolor": "white",
            "linecolor": "white",
            "ticks": ""
           },
           "baxis": {
            "gridcolor": "white",
            "linecolor": "white",
            "ticks": ""
           },
           "bgcolor": "#E5ECF6",
           "caxis": {
            "gridcolor": "white",
            "linecolor": "white",
            "ticks": ""
           }
          },
          "title": {
           "x": 0.05
          },
          "xaxis": {
           "automargin": true,
           "gridcolor": "white",
           "linecolor": "white",
           "ticks": "",
           "title": {
            "standoff": 15
           },
           "zerolinecolor": "white",
           "zerolinewidth": 2
          },
          "yaxis": {
           "automargin": true,
           "gridcolor": "white",
           "linecolor": "white",
           "ticks": "",
           "title": {
            "standoff": 15
           },
           "zerolinecolor": "white",
           "zerolinewidth": 2
          }
         }
        },
        "title": {
         "font": {
          "size": 16
         },
         "text": "Rank Transform: TotalWorkingYears_Original"
        },
        "width": 900,
        "xaxis": {
         "anchor": "y",
         "domain": [
          0,
          0.45
         ]
        },
        "xaxis2": {
         "anchor": "y2",
         "domain": [
          0.55,
          1
         ]
        },
        "yaxis": {
         "anchor": "x",
         "domain": [
          0,
          1
         ]
        },
        "yaxis2": {
         "anchor": "x2",
         "domain": [
          0,
          1
         ]
        }
       }
      }
     },
     "metadata": {},
     "output_type": "display_data"
    }
   ],
   "source": [
    "def visualize_rank_transform(df, column, transformed_column):\n",
    "    # Visualisasi dengan plotly\n",
    "    fig = make_subplots(rows=1, cols=2, \n",
    "                        subplot_titles=[\"Distribusi Original\", \"Distribusi setelah Rank Transform\"])\n",
    "    \n",
    "    # Original distribution\n",
    "    fig.add_trace(\n",
    "        go.Histogram(\n",
    "            x=df[column],\n",
    "            name=\"Original\",\n",
    "            marker_color='royalblue',\n",
    "            opacity=0.7\n",
    "        ),\n",
    "        row=1, col=1\n",
    "    )\n",
    "    \n",
    "    # Transformed distribution\n",
    "    fig.add_trace(\n",
    "        go.Histogram(\n",
    "            x=df[transformed_column],\n",
    "            name=\"Rank Transform\",\n",
    "            marker_color='green',\n",
    "            opacity=0.7\n",
    "        ),\n",
    "        row=1, col=2\n",
    "    )\n",
    "    \n",
    "    # Update layout\n",
    "    fig.update_layout(\n",
    "        title_text=f\"Rank Transform: {column}\",\n",
    "        title_font_size=16,\n",
    "        height=400,\n",
    "        width=900,\n",
    "        showlegend=False,\n",
    "        plot_bgcolor='white'\n",
    "    )\n",
    "    \n",
    "    # Menyimpan dan menampilkan\n",
    "    save_plotly(fig, f\"rank_transform_{column}\")\n",
    "    fig.show()\n",
    "\n",
    "# Visualisasi rank transform\n",
    "visualize_rank_transform(df_transformed, 'TotalWorkingYears_Original', 'TotalWorkingYears_Rank')"
   ]
  },
  {
   "cell_type": "markdown",
   "id": "33097416",
   "metadata": {},
   "source": [
    "### NumCompaniesWorked"
   ]
  },
  {
   "cell_type": "code",
   "execution_count": 83,
   "id": "4ceaf87c",
   "metadata": {},
   "outputs": [],
   "source": [
    "df_transformed['NumCompaniesWorked_Original'] = df_transformed['NumCompaniesWorked']"
   ]
  },
  {
   "cell_type": "code",
   "execution_count": 84,
   "id": "b9de9070",
   "metadata": {},
   "outputs": [],
   "source": [
    "median = df_transformed['NumCompaniesWorked'].median()\n",
    "q1 = df_transformed['NumCompaniesWorked'].quantile(0.25)\n",
    "q3 = df_transformed['NumCompaniesWorked'].quantile(0.75)\n",
    "iqr = q3 - q1\n",
    "df_transformed['NumCompaniesWorked_Robust'] = (df_transformed['NumCompaniesWorked'] - median) / iqr"
   ]
  },
  {
   "cell_type": "code",
   "execution_count": 85,
   "id": "c31fe11a",
   "metadata": {},
   "outputs": [
    {
     "data": {
      "application/vnd.plotly.v1+json": {
       "config": {
        "plotlyServerURL": "https://plot.ly"
       },
       "data": [
        {
         "boxmean": true,
         "marker": {
          "color": "royalblue"
         },
         "name": "Original",
         "type": "box",
         "xaxis": "x",
         "y": {
          "bdata": "AAUJBQIBAgUBAwEBAwIABwEEAQIBBwcBAgEABggDAAEBAwAEAQUBBAcAAAEBAQEAAAEDBAEBBgEBAQMGBQEDBAUBAgEIAQIEBQMECAIAAgEBAgQCAQIEBgUDAQUDAQEAAAYGAAEABQECAQEHAwEBBgUAAQEAAwEAAQQBAQAIAgMAAQIEAgEAAQQBBAEGAAEAAQQCAwMEAQABBAMGAQAAAAMEAQAEAQEBBwADAAMJAQAEAQABBgMBAQkEBQEBCAAAAAAHAwEFAQMABgMEAgIICAIDAAEEAAABAAEEAQcDCQACAQEBAQQEAwEAAQEFBwQEAQEIAQEFCQcCBQQDAgQJAAQCCAEJAAEDCQMBAwQCAwUAAQECAggDAQEAAwgBAgQBAAQGAQkABwABCAEHAQEAAAUGAwEBBQQBAQEAAwMBBAgAAQEAAwMCBgEFAQkCCQIHAQEDAgUGAQMFAQEDAAcDAQcAAQEBAQAHAAMCBgAEAAEDCAQABQcBAQEGAQMICQEEAAgBCQECAAAAAAEAAQgAAQEFAQQBAgMCAQQDAgEJAQQIAwABAQQIAAMJAgkFAAIGAQACCAEABAQEBgEABQUBAQIBAQEAAwIAAQcCAQkEAQEBAAIBAQEACAEDCAYGCQEDAQUDAQEFBwEABgMBAgMCBAEDAQMIAQEBAQcAAAABAQEBAgYAAwEBAwcABgMAAAcBAQEABwQBAwIFAQAHBgEEAwIBAwQFAAEDCQMABwUEBAIFBgMABwEBCQgABAMAAQECAQEEAQEBAQkAAQQABwAAAQcBAgEBAQcDAQEAAQEBAQEEBAABAgQABwECAQAABwEEAQEAAQMEAQMAAQEBCQEHBgEDBwQEAgEIAQEBBgEEAwYBAAEBAAEBAQUBCQkCAAIHAwIAAAUCCAAAAAECAgEAAAEBBAEBAAAABAEDAwACAQEBCAQIAQEBAQQBAwEGAQEEAQEIAAEFBAIDAQACAAEAAAIAAwEHBwEJAAIBAQYBAQAEAQEBBwEBAgIAAAcAAQMCAQgCAgUBAAUBCAEBAQEABAEHBAECAgIBCQQIAAABAQEHBAkEAQEBAgcEBAEACQEDAQEBAwcBAQEDAQcEBgIBBAEFAQUCAgABBAQBAQEBAAMBBgMFAQYCBAEDAQQBAQYDAQADBQQEAQEBAQEGAQQDBAEDAQQDAAEHAQQGAwEGAAEBAwcEAQABAwEDAwEBAwQGBwMEBwEBBgAGAQgDAwYBAAEBAQEFAAIHAAMBAQIBAQEBAQMDAgYBAgEDBQQBAQcCAgQHAAUGAQgEAQEBAgMBAQEBAgIEAQQHAQUJAQQGCAECCAIDBgECAQQEAQMBAQECAQEBAwMJAAQHBgIFAQcBCQIDAwEABwEBAAEEBAEBAQQCAgEEBQkDAgcGAAEBAwIGBgEBAQEAAAEJAQEBAAICAwABBgkBAwEFAQEBCAYBAQEDAQMAAwkHBwECAwgAAAgBBAMBBgEAAQMABQEGAQEBAwQHAgMGBwYBBAEABAAHAQEBAgMEAQMAAwIIAwEHAwADAAIBAQEEAAEBAAIAAQcBAAIFAQEBAwQDAQEABgQEAQEBBwEEAgEDAQEBAQMABAMGAgcAAQYHCAEABQECAwEBAQEBBAEBBAIDAgEBAgAIAgAAAQkJAQYCAQYEAQUBAgEBAQkDCAEFAwkEAgEJAQUCAgECAgECAgQBAwEIAQMDBgkDAQIDBgcFCQIBAAEGAQEEAgEGCQIDAQkEAAkHAwUBAQEBAwEHAQUICAAJCQEBBAIAAQcCAwEAAQYCAAMBAQIBAwQACQQIBAEDAQUEBgMBAQUBAwcEAQkBAwQBBAIFAAEGBgIAAgEAAAMHBAgBAQIABgQBAgEBAQEAAQADAQMBAgMBAQAEAQQDAQQBAQECAQQBBAMBAQIHAAUAAAkBAQEBAAcBAQIACAICAgABAQIAAgEBAQkCAQMHAQQFAQkA",
          "dtype": "i1"
         },
         "yaxis": "y"
        },
        {
         "boxmean": true,
         "marker": {
          "color": "green"
         },
         "name": "Robust Scaled",
         "type": "box",
         "xaxis": "x2",
         "y": {
          "bdata": "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",
          "dtype": "f8"
         },
         "yaxis": "y2"
        }
       ],
       "layout": {
        "annotations": [
         {
          "font": {
           "size": 16
          },
          "showarrow": false,
          "text": "Distribusi Original",
          "x": 0.225,
          "xanchor": "center",
          "xref": "paper",
          "y": 1,
          "yanchor": "bottom",
          "yref": "paper"
         },
         {
          "font": {
           "size": 16
          },
          "showarrow": false,
          "text": "Distribusi setelah Robust Scaling",
          "x": 0.775,
          "xanchor": "center",
          "xref": "paper",
          "y": 1,
          "yanchor": "bottom",
          "yref": "paper"
         }
        ],
        "height": 400,
        "plot_bgcolor": "white",
        "showlegend": false,
        "template": {
         "data": {
          "bar": [
           {
            "error_x": {
             "color": "#2a3f5f"
            },
            "error_y": {
             "color": "#2a3f5f"
            },
            "marker": {
             "line": {
              "color": "#E5ECF6",
              "width": 0.5
             },
             "pattern": {
              "fillmode": "overlay",
              "size": 10,
              "solidity": 0.2
             }
            },
            "type": "bar"
           }
          ],
          "barpolar": [
           {
            "marker": {
             "line": {
              "color": "#E5ECF6",
              "width": 0.5
             },
             "pattern": {
              "fillmode": "overlay",
              "size": 10,
              "solidity": 0.2
             }
            },
            "type": "barpolar"
           }
          ],
          "carpet": [
           {
            "aaxis": {
             "endlinecolor": "#2a3f5f",
             "gridcolor": "white",
             "linecolor": "white",
             "minorgridcolor": "white",
             "startlinecolor": "#2a3f5f"
            },
            "baxis": {
             "endlinecolor": "#2a3f5f",
             "gridcolor": "white",
             "linecolor": "white",
             "minorgridcolor": "white",
             "startlinecolor": "#2a3f5f"
            },
            "type": "carpet"
           }
          ],
          "choropleth": [
           {
            "colorbar": {
             "outlinewidth": 0,
             "ticks": ""
            },
            "type": "choropleth"
           }
          ],
          "contour": [
           {
            "colorbar": {
             "outlinewidth": 0,
             "ticks": ""
            },
            "colorscale": [
             [
              0,
              "#0d0887"
             ],
             [
              0.1111111111111111,
              "#46039f"
             ],
             [
              0.2222222222222222,
              "#7201a8"
             ],
             [
              0.3333333333333333,
              "#9c179e"
             ],
             [
              0.4444444444444444,
              "#bd3786"
             ],
             [
              0.5555555555555556,
              "#d8576b"
             ],
             [
              0.6666666666666666,
              "#ed7953"
             ],
             [
              0.7777777777777778,
              "#fb9f3a"
             ],
             [
              0.8888888888888888,
              "#fdca26"
             ],
             [
              1,
              "#f0f921"
             ]
            ],
            "type": "contour"
           }
          ],
          "contourcarpet": [
           {
            "colorbar": {
             "outlinewidth": 0,
             "ticks": ""
            },
            "type": "contourcarpet"
           }
          ],
          "heatmap": [
           {
            "colorbar": {
             "outlinewidth": 0,
             "ticks": ""
            },
            "colorscale": [
             [
              0,
              "#0d0887"
             ],
             [
              0.1111111111111111,
              "#46039f"
             ],
             [
              0.2222222222222222,
              "#7201a8"
             ],
             [
              0.3333333333333333,
              "#9c179e"
             ],
             [
              0.4444444444444444,
              "#bd3786"
             ],
             [
              0.5555555555555556,
              "#d8576b"
             ],
             [
              0.6666666666666666,
              "#ed7953"
             ],
             [
              0.7777777777777778,
              "#fb9f3a"
             ],
             [
              0.8888888888888888,
              "#fdca26"
             ],
             [
              1,
              "#f0f921"
             ]
            ],
            "type": "heatmap"
           }
          ],
          "histogram": [
           {
            "marker": {
             "pattern": {
              "fillmode": "overlay",
              "size": 10,
              "solidity": 0.2
             }
            },
            "type": "histogram"
           }
          ],
          "histogram2d": [
           {
            "colorbar": {
             "outlinewidth": 0,
             "ticks": ""
            },
            "colorscale": [
             [
              0,
              "#0d0887"
             ],
             [
              0.1111111111111111,
              "#46039f"
             ],
             [
              0.2222222222222222,
              "#7201a8"
             ],
             [
              0.3333333333333333,
              "#9c179e"
             ],
             [
              0.4444444444444444,
              "#bd3786"
             ],
             [
              0.5555555555555556,
              "#d8576b"
             ],
             [
              0.6666666666666666,
              "#ed7953"
             ],
             [
              0.7777777777777778,
              "#fb9f3a"
             ],
             [
              0.8888888888888888,
              "#fdca26"
             ],
             [
              1,
              "#f0f921"
             ]
            ],
            "type": "histogram2d"
           }
          ],
          "histogram2dcontour": [
           {
            "colorbar": {
             "outlinewidth": 0,
             "ticks": ""
            },
            "colorscale": [
             [
              0,
              "#0d0887"
             ],
             [
              0.1111111111111111,
              "#46039f"
             ],
             [
              0.2222222222222222,
              "#7201a8"
             ],
             [
              0.3333333333333333,
              "#9c179e"
             ],
             [
              0.4444444444444444,
              "#bd3786"
             ],
             [
              0.5555555555555556,
              "#d8576b"
             ],
             [
              0.6666666666666666,
              "#ed7953"
             ],
             [
              0.7777777777777778,
              "#fb9f3a"
             ],
             [
              0.8888888888888888,
              "#fdca26"
             ],
             [
              1,
              "#f0f921"
             ]
            ],
            "type": "histogram2dcontour"
           }
          ],
          "mesh3d": [
           {
            "colorbar": {
             "outlinewidth": 0,
             "ticks": ""
            },
            "type": "mesh3d"
           }
          ],
          "parcoords": [
           {
            "line": {
             "colorbar": {
              "outlinewidth": 0,
              "ticks": ""
             }
            },
            "type": "parcoords"
           }
          ],
          "pie": [
           {
            "automargin": true,
            "type": "pie"
           }
          ],
          "scatter": [
           {
            "fillpattern": {
             "fillmode": "overlay",
             "size": 10,
             "solidity": 0.2
            },
            "type": "scatter"
           }
          ],
          "scatter3d": [
           {
            "line": {
             "colorbar": {
              "outlinewidth": 0,
              "ticks": ""
             }
            },
            "marker": {
             "colorbar": {
              "outlinewidth": 0,
              "ticks": ""
             }
            },
            "type": "scatter3d"
           }
          ],
          "scattercarpet": [
           {
            "marker": {
             "colorbar": {
              "outlinewidth": 0,
              "ticks": ""
             }
            },
            "type": "scattercarpet"
           }
          ],
          "scattergeo": [
           {
            "marker": {
             "colorbar": {
              "outlinewidth": 0,
              "ticks": ""
             }
            },
            "type": "scattergeo"
           }
          ],
          "scattergl": [
           {
            "marker": {
             "colorbar": {
              "outlinewidth": 0,
              "ticks": ""
             }
            },
            "type": "scattergl"
           }
          ],
          "scattermap": [
           {
            "marker": {
             "colorbar": {
              "outlinewidth": 0,
              "ticks": ""
             }
            },
            "type": "scattermap"
           }
          ],
          "scattermapbox": [
           {
            "marker": {
             "colorbar": {
              "outlinewidth": 0,
              "ticks": ""
             }
            },
            "type": "scattermapbox"
           }
          ],
          "scatterpolar": [
           {
            "marker": {
             "colorbar": {
              "outlinewidth": 0,
              "ticks": ""
             }
            },
            "type": "scatterpolar"
           }
          ],
          "scatterpolargl": [
           {
            "marker": {
             "colorbar": {
              "outlinewidth": 0,
              "ticks": ""
             }
            },
            "type": "scatterpolargl"
           }
          ],
          "scatterternary": [
           {
            "marker": {
             "colorbar": {
              "outlinewidth": 0,
              "ticks": ""
             }
            },
            "type": "scatterternary"
           }
          ],
          "surface": [
           {
            "colorbar": {
             "outlinewidth": 0,
             "ticks": ""
            },
            "colorscale": [
             [
              0,
              "#0d0887"
             ],
             [
              0.1111111111111111,
              "#46039f"
             ],
             [
              0.2222222222222222,
              "#7201a8"
             ],
             [
              0.3333333333333333,
              "#9c179e"
             ],
             [
              0.4444444444444444,
              "#bd3786"
             ],
             [
              0.5555555555555556,
              "#d8576b"
             ],
             [
              0.6666666666666666,
              "#ed7953"
             ],
             [
              0.7777777777777778,
              "#fb9f3a"
             ],
             [
              0.8888888888888888,
              "#fdca26"
             ],
             [
              1,
              "#f0f921"
             ]
            ],
            "type": "surface"
           }
          ],
          "table": [
           {
            "cells": {
             "fill": {
              "color": "#EBF0F8"
             },
             "line": {
              "color": "white"
             }
            },
            "header": {
             "fill": {
              "color": "#C8D4E3"
             },
             "line": {
              "color": "white"
             }
            },
            "type": "table"
           }
          ]
         },
         "layout": {
          "annotationdefaults": {
           "arrowcolor": "#2a3f5f",
           "arrowhead": 0,
           "arrowwidth": 1
          },
          "autotypenumbers": "strict",
          "coloraxis": {
           "colorbar": {
            "outlinewidth": 0,
            "ticks": ""
           }
          },
          "colorscale": {
           "diverging": [
            [
             0,
             "#8e0152"
            ],
            [
             0.1,
             "#c51b7d"
            ],
            [
             0.2,
             "#de77ae"
            ],
            [
             0.3,
             "#f1b6da"
            ],
            [
             0.4,
             "#fde0ef"
            ],
            [
             0.5,
             "#f7f7f7"
            ],
            [
             0.6,
             "#e6f5d0"
            ],
            [
             0.7,
             "#b8e186"
            ],
            [
             0.8,
             "#7fbc41"
            ],
            [
             0.9,
             "#4d9221"
            ],
            [
             1,
             "#276419"
            ]
           ],
           "sequential": [
            [
             0,
             "#0d0887"
            ],
            [
             0.1111111111111111,
             "#46039f"
            ],
            [
             0.2222222222222222,
             "#7201a8"
            ],
            [
             0.3333333333333333,
             "#9c179e"
            ],
            [
             0.4444444444444444,
             "#bd3786"
            ],
            [
             0.5555555555555556,
             "#d8576b"
            ],
            [
             0.6666666666666666,
             "#ed7953"
            ],
            [
             0.7777777777777778,
             "#fb9f3a"
            ],
            [
             0.8888888888888888,
             "#fdca26"
            ],
            [
             1,
             "#f0f921"
            ]
           ],
           "sequentialminus": [
            [
             0,
             "#0d0887"
            ],
            [
             0.1111111111111111,
             "#46039f"
            ],
            [
             0.2222222222222222,
             "#7201a8"
            ],
            [
             0.3333333333333333,
             "#9c179e"
            ],
            [
             0.4444444444444444,
             "#bd3786"
            ],
            [
             0.5555555555555556,
             "#d8576b"
            ],
            [
             0.6666666666666666,
             "#ed7953"
            ],
            [
             0.7777777777777778,
             "#fb9f3a"
            ],
            [
             0.8888888888888888,
             "#fdca26"
            ],
            [
             1,
             "#f0f921"
            ]
           ]
          },
          "colorway": [
           "#636efa",
           "#EF553B",
           "#00cc96",
           "#ab63fa",
           "#FFA15A",
           "#19d3f3",
           "#FF6692",
           "#B6E880",
           "#FF97FF",
           "#FECB52"
          ],
          "font": {
           "color": "#2a3f5f"
          },
          "geo": {
           "bgcolor": "white",
           "lakecolor": "white",
           "landcolor": "#E5ECF6",
           "showlakes": true,
           "showland": true,
           "subunitcolor": "white"
          },
          "hoverlabel": {
           "align": "left"
          },
          "hovermode": "closest",
          "mapbox": {
           "style": "light"
          },
          "paper_bgcolor": "white",
          "plot_bgcolor": "#E5ECF6",
          "polar": {
           "angularaxis": {
            "gridcolor": "white",
            "linecolor": "white",
            "ticks": ""
           },
           "bgcolor": "#E5ECF6",
           "radialaxis": {
            "gridcolor": "white",
            "linecolor": "white",
            "ticks": ""
           }
          },
          "scene": {
           "xaxis": {
            "backgroundcolor": "#E5ECF6",
            "gridcolor": "white",
            "gridwidth": 2,
            "linecolor": "white",
            "showbackground": true,
            "ticks": "",
            "zerolinecolor": "white"
           },
           "yaxis": {
            "backgroundcolor": "#E5ECF6",
            "gridcolor": "white",
            "gridwidth": 2,
            "linecolor": "white",
            "showbackground": true,
            "ticks": "",
            "zerolinecolor": "white"
           },
           "zaxis": {
            "backgroundcolor": "#E5ECF6",
            "gridcolor": "white",
            "gridwidth": 2,
            "linecolor": "white",
            "showbackground": true,
            "ticks": "",
            "zerolinecolor": "white"
           }
          },
          "shapedefaults": {
           "line": {
            "color": "#2a3f5f"
           }
          },
          "ternary": {
           "aaxis": {
            "gridcolor": "white",
            "linecolor": "white",
            "ticks": ""
           },
           "baxis": {
            "gridcolor": "white",
            "linecolor": "white",
            "ticks": ""
           },
           "bgcolor": "#E5ECF6",
           "caxis": {
            "gridcolor": "white",
            "linecolor": "white",
            "ticks": ""
           }
          },
          "title": {
           "x": 0.05
          },
          "xaxis": {
           "automargin": true,
           "gridcolor": "white",
           "linecolor": "white",
           "ticks": "",
           "title": {
            "standoff": 15
           },
           "zerolinecolor": "white",
           "zerolinewidth": 2
          },
          "yaxis": {
           "automargin": true,
           "gridcolor": "white",
           "linecolor": "white",
           "ticks": "",
           "title": {
            "standoff": 15
           },
           "zerolinecolor": "white",
           "zerolinewidth": 2
          }
         }
        },
        "title": {
         "font": {
          "size": 16
         },
         "text": "Robust Scaling: NumCompaniesWorked_Original"
        },
        "width": 900,
        "xaxis": {
         "anchor": "y",
         "domain": [
          0,
          0.45
         ]
        },
        "xaxis2": {
         "anchor": "y2",
         "domain": [
          0.55,
          1
         ]
        },
        "yaxis": {
         "anchor": "x",
         "domain": [
          0,
          1
         ]
        },
        "yaxis2": {
         "anchor": "x2",
         "domain": [
          0,
          1
         ]
        }
       }
      }
     },
     "metadata": {},
     "output_type": "display_data"
    }
   ],
   "source": [
    "def visualize_robust_scaling(df, column, transformed_column):\n",
    "    # Visualisasi dengan plotly\n",
    "    fig = make_subplots(rows=1, cols=2, \n",
    "                        subplot_titles=[\"Distribusi Original\", \"Distribusi setelah Robust Scaling\"])\n",
    "    \n",
    "    # Original distribution\n",
    "    fig.add_trace(\n",
    "        go.Box(\n",
    "            y=df[column],\n",
    "            name=\"Original\",\n",
    "            marker_color='royalblue',\n",
    "            boxmean=True\n",
    "        ),\n",
    "        row=1, col=1\n",
    "    )\n",
    "    \n",
    "    # Transformed distribution\n",
    "    fig.add_trace(\n",
    "        go.Box(\n",
    "            y=df[transformed_column],\n",
    "            name=\"Robust Scaled\",\n",
    "            marker_color='green',\n",
    "            boxmean=True\n",
    "        ),\n",
    "        row=1, col=2\n",
    "    )\n",
    "    \n",
    "    # Update layout\n",
    "    fig.update_layout(\n",
    "        title_text=f\"Robust Scaling: {column}\",\n",
    "        title_font_size=16,\n",
    "        height=400,\n",
    "        width=900,\n",
    "        showlegend=False,\n",
    "        plot_bgcolor='white'\n",
    "    )\n",
    "    \n",
    "    # Menyimpan dan menampilkan\n",
    "    save_plotly(fig, f\"robust_scaling_{column}\")\n",
    "    fig.show()\n",
    "\n",
    "# Visualisasi robust scaling\n",
    "visualize_robust_scaling(df_transformed, 'NumCompaniesWorked_Original', 'NumCompaniesWorked_Robust')"
   ]
  },
  {
   "cell_type": "markdown",
   "id": "bf1bc8b3",
   "metadata": {},
   "source": [
    "# Feature Engineering"
   ]
  },
  {
   "cell_type": "code",
   "execution_count": 86,
   "id": "42866fff",
   "metadata": {},
   "outputs": [],
   "source": [
    "df_fe = df_transformed.copy()"
   ]
  },
  {
   "cell_type": "markdown",
   "id": "4cf92ffb",
   "metadata": {},
   "source": [
    "## Income per Year Worked Ratio"
   ]
  },
  {
   "cell_type": "code",
   "execution_count": 87,
   "id": "273e26bb",
   "metadata": {},
   "outputs": [],
   "source": [
    "df_fe['IncomePerYearWorked'] = df_fe['MonthlyIncome'] / df_fe['TotalWorkingYears'].apply(lambda x: x if x > 0 else 1)"
   ]
  },
  {
   "cell_type": "markdown",
   "id": "bf900a27",
   "metadata": {},
   "source": [
    "## Work life balance score"
   ]
  },
  {
   "cell_type": "code",
   "execution_count": 88,
   "id": "b8946953",
   "metadata": {},
   "outputs": [],
   "source": [
    "df_fe['OverTime_Numeric'] = df_fe['OverTime'].map({'Yes': 1, 'No': 0})"
   ]
  },
  {
   "cell_type": "code",
   "execution_count": 89,
   "id": "4508c1ca",
   "metadata": {},
   "outputs": [],
   "source": [
    "df_fe['WorkLifeBalanceScore'] = df_fe['WorkLifeBalance'] - df_fe['OverTime_Numeric']"
   ]
  },
  {
   "cell_type": "markdown",
   "id": "03a4f1a3",
   "metadata": {},
   "source": [
    "## Level Role Gap"
   ]
  },
  {
   "cell_type": "code",
   "execution_count": 90,
   "id": "4013207b",
   "metadata": {},
   "outputs": [],
   "source": [
    "df_fe['LevelRoleGap'] = df_fe['JobLevel'] - df_fe['YearsInCurrentRole'] / 5  # Normalisasi tahun"
   ]
  },
  {
   "cell_type": "markdown",
   "id": "b1a9fd0d",
   "metadata": {},
   "source": [
    "## Salary Band (kategori gaji)"
   ]
  },
  {
   "cell_type": "code",
   "execution_count": 91,
   "id": "cc54d8fd",
   "metadata": {},
   "outputs": [],
   "source": [
    "salary_bands = [0, df_fe['MonthlyIncome'].quantile(0.25),\n",
    "                df_fe['MonthlyIncome'].quantile(0.5),\n",
    "                df_fe['MonthlyIncome'].quantile(0.75), float('inf')]\n",
    "salary_labels = ['Low', 'Medium', 'High', 'Very High']\n",
    "\n",
    "df_fe['SalaryBand'] = pd.cut(df_fe['MonthlyIncome'], bins=salary_bands, labels=salary_labels)"
   ]
  },
  {
   "cell_type": "markdown",
   "id": "22105f63",
   "metadata": {},
   "source": [
    "## Promotion Rate"
   ]
  },
  {
   "cell_type": "code",
   "execution_count": 92,
   "id": "b68d6529",
   "metadata": {},
   "outputs": [],
   "source": [
    "df_fe['PromotionRate'] = df_fe['YearsSinceLastPromotion'] / df_fe['YearsAtCompany'].apply(lambda x: x if x > 0 else 1)"
   ]
  },
  {
   "cell_type": "markdown",
   "id": "6c6924a1",
   "metadata": {},
   "source": [
    "## Employee Retention Score"
   ]
  },
  {
   "cell_type": "code",
   "execution_count": 93,
   "id": "6533e3ce",
   "metadata": {},
   "outputs": [],
   "source": [
    "df_fe['RetentionScore'] = df_fe['YearsAtCompany'] / df_fe['TotalWorkingYears'].apply(lambda x: x if x > 0 else 1)"
   ]
  },
  {
   "cell_type": "markdown",
   "id": "495e631e",
   "metadata": {},
   "source": [
    "## Job Satisfaction Consistency"
   ]
  },
  {
   "cell_type": "code",
   "execution_count": 94,
   "id": "dbe6e790",
   "metadata": {},
   "outputs": [],
   "source": [
    "df_fe['SatisfactionConsistency'] = df_fe['JobSatisfaction'] - df_fe['RelationshipSatisfaction']\n",
    "df_fe['SatisfactionConsistency'] = df_fe['SatisfactionConsistency'].abs()  # Mengambil nilai absolut"
   ]
  },
  {
   "cell_type": "markdown",
   "id": "044fb813",
   "metadata": {},
   "source": [
    "## Travel Intensity"
   ]
  },
  {
   "cell_type": "code",
   "execution_count": 95,
   "id": "e5c38c56",
   "metadata": {},
   "outputs": [],
   "source": [
    "df_fe['TravelIntensity'] = df_fe['BusinessTravel'].map({\n",
    "    'Non-Travel': 0,\n",
    "    'Travel_Rarely': 1,\n",
    "    'Travel_Frequently': 2\n",
    "})"
   ]
  },
  {
   "cell_type": "markdown",
   "id": "76e16bfb",
   "metadata": {},
   "source": [
    "## Performance Pay Ratio"
   ]
  },
  {
   "cell_type": "code",
   "execution_count": 96,
   "id": "b85d9d7b",
   "metadata": {},
   "outputs": [],
   "source": [
    "df_fe['PerformancePayRatio'] = df_fe['PerformanceRating'] / df_fe['PercentSalaryHike']"
   ]
  },
  {
   "cell_type": "markdown",
   "id": "5fb237d2",
   "metadata": {},
   "source": [
    "## Risk Score"
   ]
  },
  {
   "cell_type": "code",
   "execution_count": 97,
   "id": "33d84e4b",
   "metadata": {},
   "outputs": [],
   "source": [
    "df_fe['RiskScore'] = (\n",
    "    (df_fe['JobSatisfaction'] < 2).astype(int) + \n",
    "    (df_fe['WorkLifeBalance'] < 2).astype(int) + \n",
    "    (df_fe['OverTime_Numeric'] == 1).astype(int) +\n",
    "    (df_fe['EnvironmentSatisfaction'] < 2).astype(int) +\n",
    "    (df_fe['RelationshipSatisfaction'] < 2).astype(int)\n",
    ")"
   ]
  },
  {
   "cell_type": "markdown",
   "id": "698ba0ad",
   "metadata": {},
   "source": [
    "## Visualisasi Fitur Baru"
   ]
  },
  {
   "cell_type": "code",
   "execution_count": 99,
   "id": "ae57e62a",
   "metadata": {},
   "outputs": [
    {
     "name": "stdout",
     "output_type": "stream",
     "text": [
      "\n",
      "Visualisasi hasil feature engineering...\n"
     ]
    },
    {
     "data": {
      "image/png": "[encoded data removed]",
      "text/plain": [
       "<Figure size 1400x1000 with 1 Axes>"
      ]
     },
     "metadata": {},
     "output_type": "display_data"
    },
    {
     "data": {
      "application/vnd.plotly.v1+json": {
       "config": {
        "plotlyServerURL": "https://plot.ly"
       },
       "data": [
        {
         "marker": {
          "color": "royalblue"
         },
         "name": "Tetap",
         "opacity": 0.7,
         "showlegend": true,
         "type": "histogram",
         "x": {
          "bdata": "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",
          "dtype": "f8"
         },
         "xaxis": "x",
         "yaxis": "y"
        },
        {
         "marker": {
          "color": "tomato"
         },
         "name": "Keluar",
         "opacity": 0.7,
         "showlegend": true,
         "type": "histogram",
         "x": {
          "bdata": "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",
          "dtype": "f8"
         },
         "xaxis": "x",
         "yaxis": "y"
        },
        {
         "marker": {
          "color": "royalblue"
         },
         "name": "Tetap",
         "opacity": 0.7,
         "showlegend": false,
         "type": "histogram",
         "x": {
          "bdata": "AgQDAQMDBAEDAAIDAgMEAgMDAgMCAgMBAgQAAwIDBAMCAwMDAwMDBAIDAQIDAgMDAwMDAQMCAwMBAwEDAQIDBAIDBAMDAwICAwMCBAIDAQICAgEDAwMDAwMEAQIBBAMCAwMDAwIDAgIDBAIDAwIBAgMDAwMEAwICAwQCAwQDAwIDBAIDAgIDAgEDAgQDAwIDAwICAwMCAgMCAwICAwMDAgICAwEDAgIEAwIEAgIDAwICAgIDAwIBAwIDAgQDAwMAAAMDAwIDAwMDAwIBBAQDAgQDAgMCAgECAgMEAwMBAwMDAAMCAwMDAQMCAwMEAwICAAQCAwIDAwMDAwIDAwEBAQIBAgQCAwMCAwMDAwMDAwIDAgEDAwQCAwQCAgQDAwIDAQMDAwMCAgIDAQIDAgMEAwQCAQMEAwIDAwIDAwQDAQMDAwICAQMEAwMDAwICAwIBAwMCAgMCAwMCAwMCAgMCAQICAwIDBAMDAQICAwMBAwMCAQMDAwMCAwIDAgMCAgMDAwECAwMCAgMDAgMDAwIBAQMBAgQDAwMDAwIDAwMBAgECAwQCAgMCAwICAgIDAgMCAgECAgMDAgIEAgIDBAIBAwMCAQMDAgMDAwIEAwMDAwIDAwECAwMCAgMDAQICBAMDAQIDAwMBAwQAAgMCAQMCAwEDAwQCAgMDAgICAwMCAgIDAQICAgIEAwEBAwICAwMDAwMDAwIEAQMEAwMDAwEDAgIDAwIDAwMDAwECAwMCAgMEAwICBAMDAwMCAgMCAwMDAwQBAwMDAgMCAgQDAwMBBAMDAgMDAgMBAwMDAgIBAwMDBAMDAQIDAgMBAwMDAwMCAgMDAwQDAwQBAwMCBAIEAQMCAgECAgECAwIDAwEDAwMDAgICAgMCAwMDAgMEAgICAgECAwMCAQMDAgMCAgMDAwIDAgEDAgMDAgMCAwMEAwMBAQMCAwMEAwMCAwMDAgICAwMCAwQAAgIEAwIDAgMCAgMDAwMDAwICAQIDAwMDAgQBAgMAAwMBAgEDAwMCAQMBAgMCAwIDAgQDAgMDAwICAgEDAwEDAwICAwMDAwIDAwMDAwEBAgIBAwMCAQMCAwMDAwECAwMCAwMCAgMDAwMBAgEEAwMCAgMDBAMDAwMCAwIDAwMDAgQDAgIDAwMBAQMCAwMCAgECAgECAgQDAwMDAgICAwMCAwMDAwECAwIDAwIDAwEBAwIEAwICAwMCAgEDAwQCAgMCAgMDBAICAwICAgMCAwMDAwIDAwMDAwIDAwMDAgMCAwICAgICAQMDAQQDAwEEBAMCAwIAAQQCAwIEAAMCAwIDBAMBAgMCAgEDAwQEAwMDAgQDAgICAgMCAgICAwMBAgICBAMBBAMEAwQDAwQCAgMDAwMBAwMDAwQCAwMCAgICAQEDAgMCAwIDAgIBAwQCAwICAwMDAQIDAQIBAwMCAwMDAwECAgIDAgICAwQDAgMCAwIEAwQCAwQCAwIDAwIDAgIDAQMCAwEDAgICAgMDAQMDAwEDAgICAwIDAwIDAgMAAgMCAwEDAwIEAwMDAgQDAwEDAQMDAwIBAgMCAwMDAgMCAwMCAgIDAwIBAgMDAgMDAwIDAwMEAgMCBAMDAQMDAgECAwIDAwIDBAMBAgMDAwMDAwMCAwMCAgIEAwMEAwEDAgIDAgMCAwEABAMCAgIDAgMDAQICAgQDAwM=",
          "dtype": "i1"
         },
         "xaxis": "x2",
         "yaxis": "y2"
        },
        {
         "marker": {
          "color": "tomato"
         },
         "name": "Keluar",
         "opacity": 0.7,
         "showlegend": false,
         "type": "histogram",
         "x": {
          "bdata": "AQMDAgMBAgQBAgQAAQICAQIDAwADAgMCAgIAAwICBAICAQMCAgIBAwMDAQICAwICAQMDAwMEAgQCBAACAgICAQMBAwECAQEDAwICAwMCAwMCAQIEAwQBAAMCAQEDAQMCAgICBAMDAgEDAgIDAAIBAgMDAAMDBAIBAgEDAgECAwICAwIEAgECBAIEAgQDAAICAwICAQIBAwEDAgMCAgMDAgMCAwICAQMDAQMEAgICAwIDAwICAQICAAEDAgIBAwICAgMDAgMEAQMCAgMCAQIBBA==",
          "dtype": "i1"
         },
         "xaxis": "x2",
         "yaxis": "y2"
        },
        {
         "marker": {
          "color": "royalblue"
         },
         "name": "Tetap",
         "opacity": 0.7,
         "showlegend": false,
         "type": "histogram",
         "x": {
          "bdata": "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",
          "dtype": "f8"
         },
         "xaxis": "x3",
         "yaxis": "y3"
        },
        {
         "marker": {
          "color": "tomato"
         },
         "name": "Keluar",
         "opacity": 0.7,
         "showlegend": false,
         "type": "histogram",
         "x": {
          "bdata": "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",
          "dtype": "f8"
         },
         "xaxis": "x3",
         "yaxis": "y3"
        },
        {
         "marker": {
          "color": "royalblue"
         },
         "name": "Tetap",
         "opacity": 0.7,
         "showlegend": false,
         "type": "histogram",
         "x": {
          "bdata": "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",
          "dtype": "f8"
         },
         "xaxis": "x4",
         "yaxis": "y4"
        },
        {
         "marker": {
          "color": "tomato"
         },
         "name": "Keluar",
         "opacity": 0.7,
         "showlegend": false,
         "type": "histogram",
         "x": {
          "bdata": "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",
          "dtype": "f8"
         },
         "xaxis": "x4",
         "yaxis": "y4"
        },
        {
         "marker": {
          "color": "royalblue"
         },
         "name": "Tetap",
         "opacity": 0.7,
         "showlegend": false,
         "type": "histogram",
         "x": {
          "bdata": "27Zt27Zt6z+96U1vetPrPwAAAAAAANA/VVVVVVVV5T8AAAAAAADwP2ZmZmZmZuY/AAAAAAAA8D8XXXTRRRfdPwAAAAAAALA/zczMzMzM7D94eHh4eHjoPwAAAAAAAPA/VVVVVVVVxT8AAAAAAADwP2QhC1nIQqY/AAAAAAAA8D8XXXTRRRftPwAAAAAAAOw/AAAAAAAA8D8AAAAAAADgPz3P8zzP8+w/kiRJkiRJ0j9CewntJbTHPx4eHh4eHu4/AAAAAAAA8D8AAAAAAADwP1VVVVVVVeU/kiRJkiRJwj8AAAAAAADwPwAAAAAAAOg/AAAAAAAA8D8AAAAAAADgPw3lNZTXUO4/q6qqqqqq6j8AAAAAAADwPwAAAAAAAPA/AAAAAAAA8D/NzMzMzMzsPwAAAAAAAPA/Hh4eHh4e3j9oL6G9hPaiPwAAAAAAAPA/AAAAAAAA8D8AAAAAAADwPwAAAAAAAPA/AAAAAAAA8D8AAAAAAADgP6uqqqqqquo/AAAAAAAA0D8AAAAAAADwP5IkSZIkSdI/HMdxHMdxvD8AAAAAAADwPwAAAAAAAOI/AAAAAAAA8D8AAAAAAADwP6uqqqqqqso/MzMzMzMz0z8cx3Ecx3HcP5IkSZIkScI/lnsaYbmnoT8AAAAAAADgPxdddNFFF90/HMdxHMdx7D8AAAAAAADkPwAAAAAAAPA/MzMzMzMz4z+SJEmSJEnSPwAAAAAAANg/AAAAAAAA8D+rqqqqqqrSPwAAAAAAAOg/pze96U1v6j+SJEmSJEniPwAAAAAAAAAAAAAAAAAA8D8AAAAAAADUP1VVVVVVVaU/AAAAAAAA8D8AAAAAAADwP6uqqqqqquo/ntiJndiJ7T8RERERERHBP9u2bdu2bds/AAAAAAAA6D8AAAAAAADgPwAAAAAAAPA/UrgehetR6D8AAAAAAADwP1FeQ3kN5eU/vLu7u7u76z8AAAAAAADwPwAAAAAAAOA/27Zt27Zt6z8AAAAAAADwPwAAAAAAAPA/zczMzMzM7D9mZmZmZmbmPwAAAAAAAPA/F1100UUX7T+amZmZmZnpPwAAAAAAAPA/AAAAAAAA7D+amZmZmZnZP3sUrkfhetQ/AAAAAAAA6D8cx3Ecx3HsP7dt27Zt29Y/VVVVVVVV1T8AAAAAAADAP6uqqqqqquo/AAAAAAAA8D8cx3Ecx3G8PwAAAAAAAPA/dmIndmIn5j8AAAAAAADwP3sUrkfheqQ/zczMzMzM7D8AAAAAAADwPwAAAAAAAOg/AAAAAAAA8D9VVVVVVVXlPwAAAAAAAOQ/AAAAAAAA4D+amZmZmZnpP1VVVVVVVcU/AAAAAAAA8D9VVVVVVVXtPwAAAAAAAPA/AAAAAAAA0D+amZmZmZmpP9PS0tLS0tI/AAAAAAAA8D8AAAAAAADsP1VVVVVVVeU/vLu7u7u76z+XlpaWlpbGPwAAAAAAAPA/q6qqqqqq6j8AAAAAAADwPwAAAAAAAAAAAAAAAAAA8D9GF1100UW3P83MzMzMzOw/VVVVVVVV1T8zMzMzMzPjPwAAAAAAAOA/AAAAAAAA8D9VVVVVVVXVPwAAAAAAAPA/27Zt27Zt6z8AAAAAAADwPwrXo3A9Ctc/ntiJndiJ3T8AAAAAAADwPwAAAAAAAPA/mpmZmZmZ6T8AAAAAAADYPwAAAAAAAPA/AAAAAAAA8D+amZmZmZm5P1VVVVVVVe0/zczMzMzM7D/NzMzMzMzsP1VVVVVVVeU/mpmZmZmZ6T8LWchCFrLgP5qZmZmZmek/t23btm3b1j9xPQrXo3DtPxzHcRzHcew/VVVVVVVV5T8AAAAAAADoPyivobyG8ro/kiRJkiRJ4j8or6G8hvLqP5IkSZIkSeI/AAAAAAAA7j8AAAAAAADSP83MzMzMzOw/AAAAAAAA8D8zMzMzMzPjP9u2bdu2bes/q6qqqqqq6j8AAAAAAADwP6uqqqqqquo/q6qqqqqq2j8AAAAAAADwP1VVVVVVVeU/aC+hvYT2wj+SJEmSJEmyP1VVVVVVVe0/sRM7sRM74T8AAAAAAADwPwAAAAAAAPA/AAAAAAAA8D9QB3VQB3XQP6uqqqqqqto/q6qqqqqq4j8AAAAAAADwP6uqqqqqquo/q6qqqqqq6j+66KKLLrroPwAAAAAAANA/t23btm3b5j+amZmZmZnJPwAAAAAAAPA/AAAAAAAA7j8AAAAAAADgPwAAAAAAAPA/AAAAAAAA7D8AAAAAAADgPwAAAAAAAOA/VVVVVVVV5T8ffPDBBx/sP5IkSZIkSeI/VVVVVVVV1T8AAAAAAADoP3Icx3Ecx+E/mpmZmZmZ6T+e53me53nuP9mJndiJneg/kiRJkiRJ0j8AAAAAAADkP6uqqqqqquo/AAAAAAAA8D9VVVVVVVXFPwAAAAAAAMQ/chzHcRzH0T8AAAAAAADwP7dt27Zt2+Y/jbDc0wjL7T8AAAAAAADwP0/sxE7sxO4/AAAAAAAA0D/OOeecc87pP3kN5TWU19A/whT5rBtM0T+rqqqqqqrqP97d3d3d3e0/q6qqqqqq2j8AAAAAAAAAAAAAAAAAAPA/VVVVVVVV1T8AAAAAAADwPwAAAAAAAOA/eQ3lNZTX4D8XXXTRRRftP5qZmZmZmek/L7rooosu6j9VVVVVVVXtPwAAAAAAAPA/VVVVVVVV5T9lk0022WTDPwAAAAAAAPA/q6qqqqqq6j9VVVVVVVXlP1VVVVVVVdU/AAAAAAAA4D8eHh4eHh6uP22yySabbOI/AAAAAAAA8D8AAAAAAADwP83MzMzMzOw/eQ3lNZTX4D+SJEmSJEmyPwAAAAAAAPA/VVVVVVVV1T8XXXTRRRfdP6uqqqqqquo/AAAAAAAA8D8AAAAAAADwP5qZmZmZmek/ZmZmZmZm5j900UUXXXTRP0YXXXTRRcc/AAAAAAAA8D+amZmZmZnpPwAAAAAAAPA/OY7jOI7j6D9VVVVVVVXlPzmO4ziO48g/AAAAAAAA4D+amZmZmZnZPwAAAAAAAPA/AAAAAAAA8D+rqqqqqqrqP2ZmZmZmZuY/AAAAAAAAwD8zMzMzMzPTPwAAAAAAAPA/AAAAAAAA0D8AAAAAAADgPwAAAAAAAPA/AAAAAAAA8D8cx3Ecx3HcP7gehetRuO4/mpmZmZmZ2T8AAAAAAADoPwAAAAAAAPA/mpmZmZmZ6T8AAAAAAADsPwAAAAAAAPA/AAAAAAAA8D8AAAAAAADwPwAAAAAAAO4/27Zt27Zt6z8AAAAAAADYPwAAAAAAAOg/AAAAAAAAAACe53me53nOP0YXXXTRRdc/btu2bdu27T/btm3btm3rP1VVVVVVVe0/AAAAAAAA5D8AAAAAAADqPwAAAAAAAAAAbtu2bdu27T8AAAAAAAAAAC+66KKLLuo/AAAAAAAAAAAAAAAAAADwPwAAAAAAAPA/HMdxHMdx3D8AAAAAAADwPyivobyG8qo/2Ymd2Imd2D+rqqqqqqrqPwAAAAAAAPA/AAAAAAAAAAAor6G8hvKqPwAAAAAAAPA/HMdxHMdxzD8AAAAAAADwP5qZmZmZmck/zczMzMzM7D/qTW9605vuP83MzMzMzOw/AAAAAAAA6D8AAAAAAADwP57neZ7nee4/mpmZmZmZ6T8AAAAAAADAP6uqqqqqquo/AAAAAAAA8D8AAAAAAADwPy+66KKLLuo/AAAAAAAA8D8lSZIkSZLkP15DeQ3lNcQ/VVVVVVVV1T+amZmZmZnZP3TRRRdddOE/q6qqqqqq2j8AAAAAAADwPwAAAAAAANg/d3d3d3d35z8AAAAAAADgP2ZmZmZmZu4/AAAAAAAA8D9JkiRJkiTpPyryWTeYIu8/AAAAAAAA0D93d3d3d3fnP57neZ7ned4/chzHcRzH4T+SJEmSJEnCP6uqqqqqquo/lnsaYbmn0T8zMzMzMzPjPwAAAAAAAPA/AAAAAAAA7D8AAAAAAADgP5qZmZmZmek/AAAAAAAA8D9VVVVVVVXlPwAAAAAAANg/mpmZmZmZ6T9VVVVVVVXlPzw8PDw8POw/AAAAAAAA8D/e3d3d3d3tP1VVVVVVVdU/ntiJndiJ3T8AAAAAAADwPwAAAAAAAPA/mpmZmZmZuT8AAAAAAADwPwAAAAAAAPA/AAAAAAAA8D8AAAAAAADoP0YXXXTRRdc/DeU1lNdQ3j8AAAAAAADwP3Icx3Ecx+E/t23btm3b5j9VVVVVVVXtPzMzMzMzM+M/Hh4eHh4evj8AAAAAAADwPwAAAAAAAPA/HMdxHMdxrD8AAAAAAADwP5qZmZmZmek/AAAAAAAA8D8cx3Ecx3HsP5qZmZmZmck/ZmZmZmZm7j/Tm970pjftP1VVVVVVVeU/AAAAAAAA4D+8u7u7u7vrPwAAAAAAAPA/Hh4eHh4e3j8AAAAAAADwPwAAAAAAAAAAOY7jOI7j6D+rqqqqqqrqPwAAAAAAAAAAAAAAAAAA8D+rqqqqqqrqP1VVVVVVVdU/AAAAAAAA8D8AAAAAAADgPwAAAAAAAAAAfBphuacR5j+xEzuxEzvhPwAAAAAAAOQ/chzHcRzH4T/ZiZ3YiZ3IPwAAAAAAAPA/AAAAAAAA8D8AAAAAAADwP1VVVVVVVbU/mpmZmZmZ6T9VVVVVVVXlP83MzMzMzOw/AAAAAAAA8D8AAAAAAADwPwAAAAAAAPA/AAAAAAAA8D88PDw8PDzsP5qZmZmZmck/btu2bdu27T+amZmZmZnpPwAAAAAAAPA/F1100UUX7T87sRM7sRPrP3Icx3Ecx+E/VVVVVVVV1T8AAAAAAADoP+pNb3rTm+4/AAAAAAAA8D8AAAAAAADwPwAAAAAAAPA/jC666KKL7j9VVVVVVVXlP57neZ7nee4/AAAAAAAA4D+rqqqqqqrqPwAAAAAAAPA/q6qqqqqq6j+amZmZmZnpPwAAAAAAAAAAAAAAAAAA8D9VVVVVVVW1PwAAAAAAAAAAAAAAAAAA8D9mZmZmZmbmPzMzMzMzM8M/AAAAAAAA8D+amZmZmZmpPwAAAAAAAOA/kiRJkiRJ0j/NzMzMzMzsP5IkSZIkSbI/AAAAAAAA1D8AAAAAAADgPwAAAAAAAAAAkiRJkiRJ0j8AAAAAAADMP83MzMzMzOw/AAAAAAAA8D8AAAAAAADwP7dt27Zt2+Y/mpmZmZmZ6T92Yid2YifmP9u2bdu2bds/nud5nud57j8AAAAAAADwPwAAAAAAANA/AAAAAAAA8D8AAAAAAADwPyVJkiRJkuQ/AAAAAAAA8D8AAAAAAADwP1VVVVVVVcU/HMdxHMdx7D8vuuiiiy7qPwAAAAAAAOg/HMdxHMdx7D9VVVVVVVXlPwAAAAAAAPA/AAAAAAAA8D8zMzMzMzPDPwAAAAAAAPA/AAAAAAAA8D8AAAAAAADwPwAAAAAAAOw/AAAAAAAA4D8AAAAAAADwPwAAAAAAAPA/q6qqqqqq6j8AAAAAAADwPwAAAAAAAPA/AAAAAAAA8D8AAAAAAADwP7dt27Zt2+Y/mpmZmZmZ6T8AAAAAAADwP6WUUkoppcQ/AAAAAAAA6j/NzMzMzMzsPwAAAAAAAAAAAAAAAAAA8D9yHMdxHMfRPwAAAAAAAPA/VVVVVVVV5T8AAAAAAADuPzmO4ziO49g/q6qqqqqq6j/btm3btm3bPwAAAAAAAPA/q6qqqqqq6j+SJEmSJEnSP5qZmZmZmek/AAAAAAAA8D+SJEmSJEniP1VVVVVVVeU/AAAAAAAA8D8AAAAAAADwPwAAAAAAAPA/AAAAAAAA8D8AAAAAAADoPxEREREREbE/q6qqqqqq2j+amZmZmZnZP9PS0tLS0tI/AAAAAAAAsD8AAAAAAAAAAAAAAAAAAPA/AAAAAAAA5D8AAAAAAADwPwAAAAAAAPA/AAAAAAAA8D8AAAAAAADAPyELWchCFuI/HMdxHMdxrD9VVVVVVVXtPxzHcRzHcew/AAAAAAAA8D/NzMzMzMzsPwAAAAAAAPA/q6qqqqqq6j8AAAAAAADwPwAAAAAAAOA/VVVVVVVV5T/NzMzMzMzsP1VVVVVVVeU/ZmZmZmZm5j8AAAAAAAAAAJ7YiZ3Yic0/Dw8PDw8P7z8AAAAAAADuPzMzMzMzM+M/HMdxHMdx3D8hC1nIQhbiP5qZmZmZmek/AAAAAAAA8D8AAAAAAACwP5qZmZmZmck/AAAAAAAA8D+e53me53nuPwAAAAAAAPA/AAAAAAAA8D+xEzuxEzvhPwAAAAAAAPA/q6qqqqqq6j+rqqqqqqrqP+pNb3rTm+4/AAAAAAAA7D+amZmZmZnpP5qZmZmZmdk/t23btm3b1j8AAAAAAADoPzuxEzuxE9s/AAAAAAAA8D8AAAAAAADwPwAAAAAAAPA/AAAAAAAA5D9VVVVVVVXVP27btm3btu0/AAAAAAAA8D8AAAAAAADwPwntJbSX0O4/AAAAAAAA8D92Yid2YifmPwAAAAAAAPA/RhdddNFF5z8AAAAAAADwPzMzMzMzM9M/AAAAAAAA8D8AAAAAAADwPwAAAAAAAMA/AAAAAAAA8D8AAAAAAADwPzMzMzMzM+s/mpmZmZmZ6T8cx3Ecx3HMPwAAAAAAAAAAVVVVVVVV7T8AAAAAAADwP3Icx3Ecx+E/VVVVVVVV5T8AAAAAAADwP83MzMzMzOw/mpmZmZmZ6T+SJEmSJEnCPwAAAAAAAOg/AAAAAAAA8D+VUkoppZTSP3E9CtejcO0/AAAAAAAA8D8AAAAAAADgP3Icx3Ecx+E/AAAAAAAA8D8AAAAAAADwPwAAAAAAAPA/mpmZmZmZ6T9VVVVVVVXVP83MzMzMzOw/AAAAAAAA8D8AAAAAAADwPwAAAAAAAOg/AAAAAAAA8D8AAAAAAAAAALdt27Zt28Y/mpmZmZmZyT9mZmZmZmbuP6uqqqqqquo/q6qqqqqq6j8AAAAAAADwPwAAAAAAAAAA3t3d3d3d3T8AAAAAAADwPxzHcRzHcdw/Hh4eHh4erj9VVVVVVVXtP6uqqqqqquo/AAAAAAAA0D8AAAAAAADwPwAAAAAAAOA/AAAAAAAA8D8AAAAAAADwPwAAAAAAAPA/Hh4eHh4e7j+rqqqqqqriPzw8PDw8POw/eQ3lNZTX4D+amZmZmZnJP83MzMzMzOw/AAAAAAAA8D9VVVVVVVXlP7dt27Zt2+Y/ntiJndiJ7T+e53me53nuPwAAAAAAAPA/AAAAAAAA8D8AAAAAAADwPx4eHh4eHs4/AAAAAAAA4D9ddNFFF13kPwAAAAAAAPA/AAAAAAAA8D8or6G8hvK6PwAAAAAAAOA/ZCELWchC1j8AAAAAAADkPwAAAAAAAPA/VVVVVVVV7T+rqqqqqqraPwAAAAAAAPA/RhdddNFFtz8AAAAAAADwPwAAAAAAAPA/AAAAAAAA0D8AAAAAAADYPwAAAAAAAPA/AAAAAAAA8D8AAAAAAADwP9Ob3vSmN+0/AAAAAAAA8D/btm3btm3bPwAAAAAAAOo/HMdxHMdxzD8AAAAAAADwPzmO4ziO49g/AAAAAAAA8D+amZmZmZnpPwAAAAAAAPA/VVVVVVVV1T9VVVVVVVXVP2QhC1nIQrY/nud5nud57j8AAAAAAADwPxQ7sRM7sbM/uB6F61G4vj8AAAAAAADwPwAAAAAAAPA/F1100UUX7T8AAAAAAADwPwAAAAAAAOg/VVVVVVVV7T8AAAAAAADwP1VVVVVVVcU/AAAAAAAA4D8AAAAAAADwP7rooosuuug/mpmZmZmZyT8UO7ETO7HjPwAAAAAAAPA/VVVVVVVVxT8AAAAAAADwP5IkSZIkSeI/AAAAAAAA8D8AAAAAAADwPy+66KKLLto/mpmZmZmZyT/NzMzMzMzsPwAAAAAAAMQ/kiRJkiRJsj/QusEU+azbPwAAAAAAANA/AAAAAAAA8D8AAAAAAADwPwAAAAAAAPA/AAAAAAAA8D8zMzMzMzPjP5IkSZIkSeI/27Zt27Zt2z8cx3Ecx3HsP5qZmZmZmdk/AAAAAAAA8D8zMzMzMzPTPwAAAAAAALA/AAAAAAAA8D8AAAAAAADwPxiGYRiGYag/mpmZmZmZyT8AAAAAAAAAAAAAAAAAAAAA2Ymd2Imd2D8eHh4eHh7uPwAAAAAAAPA/AAAAAAAA8D900UUXXXTRP5IkSZIkScI/AAAAAAAA4D+e53me53nuPwAAAAAAAOg/chzHcRzH0T8AAAAAAADwPwtZyEIWssA/AAAAAAAA8D8AAAAAAADwP3d3d3d3d+c/mpmZmZmZqT/btm3btm3bPxzHcRzHccw/XXTRRRdd5D8or6G8hvK6P5qZmZmZmck/AAAAAAAA8D8AAAAAAADwP6uqqqqqquo/mpmZmZmZ6T8vuuiiiy7qPwAAAAAAAPA/VVVVVVVVpT8zMzMzMzPTPwAAAAAAAOg/VVVVVVVVtT8AAAAAAADwPwAAAAAAAPA/AAAAAAAA8D9yHMdxHMfhPw3lNZTXUO4/5DiO4ziO4z87sRM7sRPrPwAAAAAAAOg/MzMzMzMz4z8AAAAAAADwPwAAAAAAAPA/MzMzMzMz4z8AAAAAAADwP6uqqqqqquo/AAAAAAAA8D8AAAAAAADwPwAAAAAAAKA/AAAAAAAAAAC3bdu2bdvmP6uqqqqqqto/AAAAAAAA8D/NzMzMzMzsPxQ7sRM7sdM/MzMzMzMz4z8AAAAAAADwPwAAAAAAAPA/mpmZmZmZuT+SJEmSJEnSP1VVVVVVVdU/AAAAAAAAwD8cx3Ecx3HsP1VVVVVVVeU/AAAAAAAA8D9yHMdxHMfhP0mSJEmSJOk/AAAAAAAA8D8AAAAAAADwPwAAAAAAAPA/velNb3rTyz/btm3btm3bPwAAAAAAAPA/AAAAAAAA8D8AAAAAAADwPzMzMzMzM+M/eQ3lNZTX4D8AAAAAAADmPwAAAAAAAPA/t23btm3b5j8YhmEYhmHoPwAAAAAAAPA/chzHcRzH4T8AAAAAAADwP9QIyz2NsOw/AAAAAAAA4D8AAAAAAADwPwAAAAAAAOI/XXTRRRdd5D9yHMdxHMfhP5VSSimllNI/fBphuacR5j8AAAAAAACwPwAAAAAAAPA/kiRJkiRJ0j9GF1100UXnPwAAAAAAAAAAHMdxHMdxrD8AAAAAAADwPwAAAAAAAPA/AAAAAAAA0D8AAAAAAADwPwAAAAAAAPA/AAAAAAAA8D8zMzMzMzPjP5qZmZmZmck/chzHcRzH4T8cx3Ecx3G8P5eWlpaWltY/WlpaWlpa2j+SJEmSJEniP2ZmZmZmZuY/AAAAAAAA8D/HcRzHcRznP6uqqqqqquI/sRM7sRM74T+3bdu2bdvGPwAAAAAAAPA/h/Iaymso7z8AAAAAAADoPwAAAAAAAPA/AAAAAAAA8D9VVVVVVVXlPxzHcRzHcew/sRM7sRM74T9yHMdxHMfhPwAAAAAAAPA/AAAAAAAA8D9yHMdxHMfhPzMzMzMzM+M/o4suuuii6z+rqqqqqqrqPxzHcRzHcaw/mpmZmZmZuT/e3d3d3d3dP8P1KFyPwuU/KK+hvIbyqj+SJEmSJEnSP6uqqqqqquo/AAAAAAAA8D9VVVVVVVXVP9u2bdu2bes/OY7jOI7jyD8zMzMzMzPTPwAAAAAAAPA/AAAAAAAA8D8AAAAAAADwPwAAAAAAAPA/AAAAAAAA4D8AAAAAAADoPwAAAAAAAPA/AAAAAAAA4D8AAAAAAAAAAAAAAAAAAPA/zczMzMzM7D+amZmZmZnZP1VVVVVVVcU/27Zt27Zt2z/NzMzMzMzsPwAAAAAAAPA/GIZhGIZhqD8AAAAAAADwP1VVVVVVVcU/AAAAAAAA8D8AAAAAAADAPwAAAAAAAPA/AAAAAAAA8D8AAAAAAADwP7dt27Zt2+Y/mpmZmZmZqT8AAAAAAADwPwAAAAAAAPA/AAAAAAAA8D94eHh4eHjoPwAAAAAAAPA/sRM7sRM70T+amZmZmZnpPxzHcRzHcdw/VVVVVVVV1T+SJEmSJEnCPxzHcRzHcdw/AAAAAAAA8D8zMzMzMzPTPwAAAAAAAOQ/AAAAAAAAwD8AAAAAAADoP1VVVVVVVe0/VVVVVVVV1T8AAAAAAADwPwAAAAAAAPA/AAAAAAAA8D8AAAAAAADsPwAAAAAAAPA/nud5nud5zj/NzMzMzMzsP1VVVVVVVdU/ntiJndiJvT8AAAAAAADwPxEREREREcE/HMdxHMdx3D8zMzMzMzPTP1VVVVVVVdU/AAAAAAAA5D8AAAAAAADgPwAAAAAAAOg/AAAAAAAA8D9VVVVVVVXlPxdddNFFF+0/27Zt27Zt2z+rqqqqqqrqP5qZmZmZmek/AAAAAAAA8D8AAAAAAADwPzMzMzMzM+M/mpmZmZmZ2T+SJEmSJEnCPw8PDw8PD+8/C1nIQhay4D+rqqqqqqrqPwAAAAAAAAAA55xzzjnnzD+amZmZmZnJPxzHcRzHcdw/AAAAAAAA8D8AAAAAAADgPxzHcRzHcdw/AAAAAAAA4D+rqqqqqqrqP2ZmZmZmZtY/AAAAAAAA8D8AAAAAAADwPwAAAAAAAOA/AAAAAAAA6D8AAAAAAADwPwAAAAAAAPA/zczMzMzM7D8AAAAAAADgPwAAAAAAAOw/AAAAAAAA8D/sUbgehevRPwAAAAAAAPA/AAAAAAAA7j+rqqqqqqriP83MzMzMzOw/AAAAAAAA8D8AAAAAAAAAAAAAAAAAAPA/FDuxEzux4z+SJEmSJEnCPzmO4ziO4+g/AAAAAAAA8D8AAAAAAADwP6uqqqqqquo/ZmZmZmZm5j+nN73pTW/qPwAAAAAAAPA/AAAAAAAA8D8AAAAAAADwP7dt27Zt2+Y/AAAAAAAA8D87sRM7sRPrPwAAAAAAAPA/lnsaYbmn0T8AAAAAAADwPwAAAAAAAPA/AAAAAAAA8D8AAAAAAADwP5qZmZmZmdk/AAAAAAAA0D+8u7u7u7vrP9PS0tLS0tI/AAAAAAAA4D8AAAAAAADoPwAAAAAAAPA/mpmZmZmZ6T9VVVVVVVXlP1VVVVVVVdU/AAAAAAAA8D+3bdu2bdvuP1VVVVVVVeU/l5aWlpaWxj85juM4juPoPwAAAAAAAPA/AAAAAAAA8D8AAAAAAADwPwAAAAAAAPA/AAAAAAAA4D8AAAAAAADwP3TRRRdddNE/exSuR+F6pD+SJEmSJEnSPwAAAAAAAPA/AAAAAAAA8D8AAAAAAADgP6uqqqqqquo/Hh4eHh4enj8AAAAAAADiPwAAAAAAAOw/q6qqqqqq6j8AAAAAAADwP3Icx3Ecx+E/mpmZmZmZyT8AAAAAAADwP3ZiJ3ZiJ+Y/HMdxHMdxrD8AAAAAAADwP5qZmZmZmbk/77333nvv7T+3bdu2bdvmPwAAAAAAAPA/3t3d3d3d3T8AAAAAAADwPwAAAAAAAPA/nud5nud5zj8zMzMzMzPTPwAAAAAAAPA/O7ETO7ET6z8AAAAAAADgP9u2bdu2bds/VVVVVVVV1T92Yid2YifWPwAAAAAAAPA/dNFFF110wT8AAAAAAADwPwAAAAAAAOA/kiRJkiRJ0j8AAAAAAADYPwAAAAAAAPA/RhdddNFFtz8RERERERHBPwAAAAAAAPA/F1100UUX3T/x8PDw8PDgPwAAAAAAANg/AAAAAAAA8D92Yid2YifWPwAAAAAAAPA/HMdxHMdx3D/ZiZ3YiZ3oP3waYbmnEcY/FDuxEzux4z85juM4juPoPwAAAAAAAPA/ZCELWchCtj8AAAAAAADQPwAAAAAAAOQ/AAAAAAAA4D+amZmZmZnpPwAAAAAAAPA/nud5nud57j8AAAAAAADwPwAAAAAAAOA/AAAAAAAA8D8AAAAAAADwP7dt27Zt2+Y/AAAAAAAA8D8AAAAAAADkPxzHcRzHcew/FDuxEzux0z+SJEmSJEnSPwAAAAAAAPA/SZIkSZIk6T+3bdu2bdvGP1VVVVVVVeU/mpmZmZmZuT8AAAAAAAAAAAAAAAAAAPA/AAAAAAAA8D8AAAAAAADwP2ZmZmZmZuY/ntiJndiJ7T9VVVVVVVXVP3sUrkfhesQ/3t3d3d3d3T8AAAAAAADQPwAAAAAAAO4/zczMzMzM7D+amZmZmZnpPwAAAAAAAPA/AAAAAAAA8D8AAAAAAADkP1paWlpaWto/HMdxHMdx7D8AAAAAAADwP73pTW960+s/AAAAAAAA4D8AAAAAAADwP6uqqqqqquo/AAAAAAAA8D87sRM7sRPrP5qZmZmZmek/AAAAAAAA6D+rqqqqqqrqPwAAAAAAAPA/AAAAAAAA8D8AAAAAAAAAAAAAAAAAAPA/AAAAAAAA0D8AAAAAAADQP6uqqqqqquo/ZCELWchCtj8RERERERGxPzmO4ziO4+g/mpmZmZmZ6T9VVVVVVVXlPwAAAAAAALA/mpmZmZmZ2T8AAAAAAADQP1VVVVVVVeU/ERERERERsT8AAAAAAADwP5IkSZIkScI/mpmZmZmZ6T8AAAAAAADkP1100UUXXeQ/AAAAAAAA8D8cx3Ecx3HMPwAAAAAAAPA/AAAAAAAA6D9yHMdxHMfRPwAAAAAAAPA/HEyRz7rBxD+amZmZmZm5PxEREREREcE/zczMzMzM7D8AAAAAAADQP1paWlpaWto/AAAAAAAA8D8cx3Ecx3HsP5qZmZmZmek/AAAAAAAAAAAzMzMzMzPjP5eWlpaWlsY/O7ETO7ET6z8AAAAAAADwPwAAAAAAAPA/3t3d3d3d3T9huacRlnu6PwAAAAAAAAAAAAAAAAAA8D9JkiRJkiTpPwAAAAAAAPA/AAAAAAAA8D8AAAAAAADoP6uqqqqqquo/VVVVVVVV5T8AAAAAAADgPwAAAAAAAPA/HMdxHMdxzD/btm3btm3rP1100UUXXeQ/AAAAAAAA5D8AAAAAAADwPwAAAAAAAPA/VVVVVVVV7T+3bdu2bdvmP+5phOWeRug/AAAAAAAA6j8AAAAAAADwP1VVVVVVVdU/AAAAAAAA8D8AAAAAAADwPwAAAAAAAPA/VVVVVVVV1T8AAAAAAADwPwAAAAAAAAAAAAAAAAAA8D+xEzuxEzvhP7ETO7ETO+E/3t3d3d3d7T8AAAAAAADwPwAAAAAAAOA/HMdxHMdx7D8AAAAAAADkP83MzMzMzOw/AAAAAAAA7D8AAAAAAADwPwAAAAAAAPA/AAAAAAAA8D8AAAAAAADwP1VVVVVVVdU/AAAAAAAA8D8cx3Ecx3HsP6uqqqqqquo/AAAAAAAA2D9VVVVVVVXVPwAAAAAAAOw/AAAAAAAA8D8AAAAAAADwP3kN5TWU19A/zczMzMzM7D8AAAAAAADwPwAAAAAAAPA/AAAAAAAA0D9CewntJbTHP6uqqqqqquo/GIZhGIZhuD85juM4juPoP5qZmZmZmbk/Q3kN5TWU5z9VVVVVVVXlPw==",
          "dtype": "f8"
         },
         "xaxis": "x5",
         "yaxis": "y5"
        },
        {
         "marker": {
          "color": "tomato"
         },
         "name": "Keluar",
         "opacity": 0.7,
         "showlegend": false,
         "type": "histogram",
         "x": {
          "bdata": "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",
          "dtype": "f8"
         },
         "xaxis": "x5",
         "yaxis": "y5"
        },
        {
         "marker": {
          "color": "royalblue"
         },
         "name": "Tetap",
         "opacity": 0.7,
         "showlegend": false,
         "type": "histogram",
         "x": {
          "bdata": "AQAAAQEAAgEBAgEBAgABAQAAAQEBAAACAQACAAIAAAABAQABAQAAAAEBAgAAAAAAAQEAAQABAAABAgIBAQEAAAEAAwABAAIBAAABAAIBAQADAQMAAAEAAgAAAQACAAABAAABAAAAAQIAAQEAAAEDAQAAAQEAAQABAAEAAAAAAAIAAQMBAQEAAgEBAgEBAAEAAAAAAQABAQEAAAABAAEAAQIBAQIBAAEBAAACAQEAAQMBAQIAAQECAAEBAAEAAQACAgAAAQAAAQAAAAEBAAEBAQAAAQEAAgMAAQAAAAEBAAAAAgAAAQEAAQABAAEAAQEAAgABAQEBAAEAAQABAAICAgABAgACAAEBAQECAQAAAQIAAAIBAAEAAQEBAQIAAQEBAQABAQAAAwEAAQEBAQEAAAIBAgEAAQEAAQEAAQAAAgAAAAEBAgEAAAEAAQEAAQECAgEAAQEBAQABAQAAAAEBAQIBAQAAAAAAAQECAQACAAIBAQABAQIBAQACAQEDAgEBAAEBAgABAQAAAQAAAQABAgACAgEAAAECAQAAAQECAQEBAQEAAQICAQEBAQMAAgACAQIBAQEAAAEBAQIAAAECAAICAgEBAQABAQABAQABAAEBAQMCAQECAAEAAwABAgACAQAAAQEBAgACAQABAQECAQECAQECAQEBAQEAAQEBAgEBAgEAAAAAAAIBAgABAAEBAAACAwEAAQAAAgAAAQEAAAEBAQEAAQAAAQICAAECAQEAAQEBAAAAAQEAAAEBAQEAAQABAQEAAgECAAECAQEBAQEAAgAAAgACAAACAAICAAICAAIBAgEAAQEBAQABAQAAAQEAAQAAAAEBAAIBAQEBAQEAAQECAQEBAQEAAgEAAQEAAgIBAQAAAQAAAQEAAAECAgECAQICAwABAAEBAQEBAQEAAQIAAQACAQEBAAEAAAABAQEAAgAAAAICAAMCAgIBAAIBAAECAgIAAAAAAgABAwEAAAEAAQACAgIBAAEBAQABAgECAQABAQIAAgABAQEDAwABAAIAAQAAAwAAAQIBAQEAAQMAAAIAAAECAAABAgAAAQMBAAABAQIBAgEBAAEAAQIAAAADAQIAAQABAAACAQEBAQABAAABAAEBAAEBAQIAAAEAAAICAgEAAAMCAwIBAAAAAgIBAAIBAAECAQAAAAACAgEAAAMAAQEAAwAAAAIBAAICAAMBAQECAAECAAEDAQAAAgABAAEBAAECAQICAQAAAAABAAAAAAEAAQIAAQABAQEAAAICAAABAQABAgACAAIBAQEAAQECAgACAAACBAABAQEAAAABAgEBAwIBAAAAAQEBAgABAQECAAACAQACAAACAQEBAQACAAAAAAABAAAAAAECAAEBAAAAAAEBAAAAAgABAQEBAAICAQABAgABAQACAAEAAAAAAQIBAgECAAEAAAEAAQIBAQAAAgEBAAABAQEAAAAAAQABAQEAAAABAAEAAQMAAQACAQEBAQEBAgAAAQEAAAEBAAEBAgABAQEBAAMEAAACAQEBAQEBAAEBAgEBAAMBAQAAAAEDAQABAQAAAQAAAQIBAQACAAIBAQAAAAAAAQEBAQEAAAAAAAACAQEBAQIAAAEAAgEBAAEBAQAAAQAAAAAAAQEBAQAAAAEAAQEBAAAAAAAAAAICAAAAAwIBAAEBAwEAAQEBAQA=",
          "dtype": "i1"
         },
         "xaxis": "x6",
         "yaxis": "y6"
        },
        {
         "marker": {
          "color": "tomato"
         },
         "name": "Keluar",
         "opacity": 0.7,
         "showlegend": false,
         "type": "histogram",
         "x": {
          "bdata": "AwIAAgICAQEBAQECAgEBAgAAAAIBAQABAQACAQICAgABAgECAQECAQEBAgICAQEBAgIBAgEAAAICAQMCAgMBAgECAgQBAgEBAAEBAgMBAQECAgEAAgECAwICAQMAAQAAAQMDAAICBAEBAAICAgIBAAEBAgEAAwQCAQEBAgIBAQMAAQIAAgEAAQEAAQMAAwIBAQEDAwEBAgEBAgACAQAAAgMCAQACAQMBAgABAgICAAEAAQEBAgIBAgECAgEBAQIBAQEAAQIAAQICAwEBAQIBAg==",
          "dtype": "i1"
         },
         "xaxis": "x6",
         "yaxis": "y6"
        }
       ],
       "layout": {
        "annotations": [
         {
          "font": {
           "size": 16
          },
          "showarrow": false,
          "text": "IncomePerYearWorked",
          "x": 0.225,
          "xanchor": "center",
          "xref": "paper",
          "y": 1,
          "yanchor": "bottom",
          "yref": "paper"
         },
         {
          "font": {
           "size": 16
          },
          "showarrow": false,
          "text": "WorkLifeBalanceScore",
          "x": 0.775,
          "xanchor": "center",
          "xref": "paper",
          "y": 1,
          "yanchor": "bottom",
          "yref": "paper"
         },
         {
          "font": {
           "size": 16
          },
          "showarrow": false,
          "text": "LevelRoleGap",
          "x": 0.225,
          "xanchor": "center",
          "xref": "paper",
          "y": 0.6111111111111112,
          "yanchor": "bottom",
          "yref": "paper"
         },
         {
          "font": {
           "size": 16
          },
          "showarrow": false,
          "text": "PromotionRate",
          "x": 0.775,
          "xanchor": "center",
          "xref": "paper",
          "y": 0.6111111111111112,
          "yanchor": "bottom",
          "yref": "paper"
         },
         {
          "font": {
           "size": 16
          },
          "showarrow": false,
          "text": "RetentionScore",
          "x": 0.225,
          "xanchor": "center",
          "xref": "paper",
          "y": 0.22222222222222224,
          "yanchor": "bottom",
          "yref": "paper"
         },
         {
          "font": {
           "size": 16
          },
          "showarrow": false,
          "text": "RiskScore",
          "x": 0.775,
          "xanchor": "center",
          "xref": "paper",
          "y": 0.22222222222222224,
          "yanchor": "bottom",
          "yref": "paper"
         }
        ],
        "barmode": "overlay",
        "height": 800,
        "plot_bgcolor": "white",
        "template": {
         "data": {
          "bar": [
           {
            "error_x": {
             "color": "#2a3f5f"
            },
            "error_y": {
             "color": "#2a3f5f"
            },
            "marker": {
             "line": {
              "color": "#E5ECF6",
              "width": 0.5
             },
             "pattern": {
              "fillmode": "overlay",
              "size": 10,
              "solidity": 0.2
             }
            },
            "type": "bar"
           }
          ],
          "barpolar": [
           {
            "marker": {
             "line": {
              "color": "#E5ECF6",
              "width": 0.5
             },
             "pattern": {
              "fillmode": "overlay",
              "size": 10,
              "solidity": 0.2
             }
            },
            "type": "barpolar"
           }
          ],
          "carpet": [
           {
            "aaxis": {
             "endlinecolor": "#2a3f5f",
             "gridcolor": "white",
             "linecolor": "white",
             "minorgridcolor": "white",
             "startlinecolor": "#2a3f5f"
            },
            "baxis": {
             "endlinecolor": "#2a3f5f",
             "gridcolor": "white",
             "linecolor": "white",
             "minorgridcolor": "white",
             "startlinecolor": "#2a3f5f"
            },
            "type": "carpet"
           }
          ],
          "choropleth": [
           {
            "colorbar": {
             "outlinewidth": 0,
             "ticks": ""
            },
            "type": "choropleth"
           }
          ],
          "contour": [
           {
            "colorbar": {
             "outlinewidth": 0,
             "ticks": ""
            },
            "colorscale": [
             [
              0,
              "#0d0887"
             ],
             [
              0.1111111111111111,
              "#46039f"
             ],
             [
              0.2222222222222222,
              "#7201a8"
             ],
             [
              0.3333333333333333,
              "#9c179e"
             ],
             [
              0.4444444444444444,
              "#bd3786"
             ],
             [
              0.5555555555555556,
              "#d8576b"
             ],
             [
              0.6666666666666666,
              "#ed7953"
             ],
             [
              0.7777777777777778,
              "#fb9f3a"
             ],
             [
              0.8888888888888888,
              "#fdca26"
             ],
             [
              1,
              "#f0f921"
             ]
            ],
            "type": "contour"
           }
          ],
          "contourcarpet": [
           {
            "colorbar": {
             "outlinewidth": 0,
             "ticks": ""
            },
            "type": "contourcarpet"
           }
          ],
          "heatmap": [
           {
            "colorbar": {
             "outlinewidth": 0,
             "ticks": ""
            },
            "colorscale": [
             [
              0,
              "#0d0887"
             ],
             [
              0.1111111111111111,
              "#46039f"
             ],
             [
              0.2222222222222222,
              "#7201a8"
             ],
             [
              0.3333333333333333,
              "#9c179e"
             ],
             [
              0.4444444444444444,
              "#bd3786"
             ],
             [
              0.5555555555555556,
              "#d8576b"
             ],
             [
              0.6666666666666666,
              "#ed7953"
             ],
             [
              0.7777777777777778,
              "#fb9f3a"
             ],
             [
              0.8888888888888888,
              "#fdca26"
             ],
             [
              1,
              "#f0f921"
             ]
            ],
            "type": "heatmap"
           }
          ],
          "histogram": [
           {
            "marker": {
             "pattern": {
              "fillmode": "overlay",
              "size": 10,
              "solidity": 0.2
             }
            },
            "type": "histogram"
           }
          ],
          "histogram2d": [
           {
            "colorbar": {
             "outlinewidth": 0,
             "ticks": ""
            },
            "colorscale": [
             [
              0,
              "#0d0887"
             ],
             [
              0.1111111111111111,
              "#46039f"
             ],
             [
              0.2222222222222222,
              "#7201a8"
             ],
             [
              0.3333333333333333,
              "#9c179e"
             ],
             [
              0.4444444444444444,
              "#bd3786"
             ],
             [
              0.5555555555555556,
              "#d8576b"
             ],
             [
              0.6666666666666666,
              "#ed7953"
             ],
             [
              0.7777777777777778,
              "#fb9f3a"
             ],
             [
              0.8888888888888888,
              "#fdca26"
             ],
             [
              1,
              "#f0f921"
             ]
            ],
            "type": "histogram2d"
           }
          ],
          "histogram2dcontour": [
           {
            "colorbar": {
             "outlinewidth": 0,
             "ticks": ""
            },
            "colorscale": [
             [
              0,
              "#0d0887"
             ],
             [
              0.1111111111111111,
              "#46039f"
             ],
             [
              0.2222222222222222,
              "#7201a8"
             ],
             [
              0.3333333333333333,
              "#9c179e"
             ],
             [
              0.4444444444444444,
              "#bd3786"
             ],
             [
              0.5555555555555556,
              "#d8576b"
             ],
             [
              0.6666666666666666,
              "#ed7953"
             ],
             [
              0.7777777777777778,
              "#fb9f3a"
             ],
             [
              0.8888888888888888,
              "#fdca26"
             ],
             [
              1,
              "#f0f921"
             ]
            ],
            "type": "histogram2dcontour"
           }
          ],
          "mesh3d": [
           {
            "colorbar": {
             "outlinewidth": 0,
             "ticks": ""
            },
            "type": "mesh3d"
           }
          ],
          "parcoords": [
           {
            "line": {
             "colorbar": {
              "outlinewidth": 0,
              "ticks": ""
             }
            },
            "type": "parcoords"
           }
          ],
          "pie": [
           {
            "automargin": true,
            "type": "pie"
           }
          ],
          "scatter": [
           {
            "fillpattern": {
             "fillmode": "overlay",
             "size": 10,
             "solidity": 0.2
            },
            "type": "scatter"
           }
          ],
          "scatter3d": [
           {
            "line": {
             "colorbar": {
              "outlinewidth": 0,
              "ticks": ""
             }
            },
            "marker": {
             "colorbar": {
              "outlinewidth": 0,
              "ticks": ""
             }
            },
            "type": "scatter3d"
           }
          ],
          "scattercarpet": [
           {
            "marker": {
             "colorbar": {
              "outlinewidth": 0,
              "ticks": ""
             }
            },
            "type": "scattercarpet"
           }
          ],
          "scattergeo": [
           {
            "marker": {
             "colorbar": {
              "outlinewidth": 0,
              "ticks": ""
             }
            },
            "type": "scattergeo"
           }
          ],
          "scattergl": [
           {
            "marker": {
             "colorbar": {
              "outlinewidth": 0,
              "ticks": ""
             }
            },
            "type": "scattergl"
           }
          ],
          "scattermap": [
           {
            "marker": {
             "colorbar": {
              "outlinewidth": 0,
              "ticks": ""
             }
            },
            "type": "scattermap"
           }
          ],
          "scattermapbox": [
           {
            "marker": {
             "colorbar": {
              "outlinewidth": 0,
              "ticks": ""
             }
            },
            "type": "scattermapbox"
           }
          ],
          "scatterpolar": [
           {
            "marker": {
             "colorbar": {
              "outlinewidth": 0,
              "ticks": ""
             }
            },
            "type": "scatterpolar"
           }
          ],
          "scatterpolargl": [
           {
            "marker": {
             "colorbar": {
              "outlinewidth": 0,
              "ticks": ""
             }
            },
            "type": "scatterpolargl"
           }
          ],
          "scatterternary": [
           {
            "marker": {
             "colorbar": {
              "outlinewidth": 0,
              "ticks": ""
             }
            },
            "type": "scatterternary"
           }
          ],
          "surface": [
           {
            "colorbar": {
             "outlinewidth": 0,
             "ticks": ""
            },
            "colorscale": [
             [
              0,
              "#0d0887"
             ],
             [
              0.1111111111111111,
              "#46039f"
             ],
             [
              0.2222222222222222,
              "#7201a8"
             ],
             [
              0.3333333333333333,
              "#9c179e"
             ],
             [
              0.4444444444444444,
              "#bd3786"
             ],
             [
              0.5555555555555556,
              "#d8576b"
             ],
             [
              0.6666666666666666,
              "#ed7953"
             ],
             [
              0.7777777777777778,
              "#fb9f3a"
             ],
             [
              0.8888888888888888,
              "#fdca26"
             ],
             [
              1,
              "#f0f921"
             ]
            ],
            "type": "surface"
           }
          ],
          "table": [
           {
            "cells": {
             "fill": {
              "color": "#EBF0F8"
             },
             "line": {
              "color": "white"
             }
            },
            "header": {
             "fill": {
              "color": "#C8D4E3"
             },
             "line": {
              "color": "white"
             }
            },
            "type": "table"
           }
          ]
         },
         "layout": {
          "annotationdefaults": {
           "arrowcolor": "#2a3f5f",
           "arrowhead": 0,
           "arrowwidth": 1
          },
          "autotypenumbers": "strict",
          "coloraxis": {
           "colorbar": {
            "outlinewidth": 0,
            "ticks": ""
           }
          },
          "colorscale": {
           "diverging": [
            [
             0,
             "#8e0152"
            ],
            [
             0.1,
             "#c51b7d"
            ],
            [
             0.2,
             "#de77ae"
            ],
            [
             0.3,
             "#f1b6da"
            ],
            [
             0.4,
             "#fde0ef"
            ],
            [
             0.5,
             "#f7f7f7"
            ],
            [
             0.6,
             "#e6f5d0"
            ],
            [
             0.7,
             "#b8e186"
            ],
            [
             0.8,
             "#7fbc41"
            ],
            [
             0.9,
             "#4d9221"
            ],
            [
             1,
             "#276419"
            ]
           ],
           "sequential": [
            [
             0,
             "#0d0887"
            ],
            [
             0.1111111111111111,
             "#46039f"
            ],
            [
             0.2222222222222222,
             "#7201a8"
            ],
            [
             0.3333333333333333,
             "#9c179e"
            ],
            [
             0.4444444444444444,
             "#bd3786"
            ],
            [
             0.5555555555555556,
             "#d8576b"
            ],
            [
             0.6666666666666666,
             "#ed7953"
            ],
            [
             0.7777777777777778,
             "#fb9f3a"
            ],
            [
             0.8888888888888888,
             "#fdca26"
            ],
            [
             1,
             "#f0f921"
            ]
           ],
           "sequentialminus": [
            [
             0,
             "#0d0887"
            ],
            [
             0.1111111111111111,
             "#46039f"
            ],
            [
             0.2222222222222222,
             "#7201a8"
            ],
            [
             0.3333333333333333,
             "#9c179e"
            ],
            [
             0.4444444444444444,
             "#bd3786"
            ],
            [
             0.5555555555555556,
             "#d8576b"
            ],
            [
             0.6666666666666666,
             "#ed7953"
            ],
            [
             0.7777777777777778,
             "#fb9f3a"
            ],
            [
             0.8888888888888888,
             "#fdca26"
            ],
            [
             1,
             "#f0f921"
            ]
           ]
          },
          "colorway": [
           "#636efa",
           "#EF553B",
           "#00cc96",
           "#ab63fa",
           "#FFA15A",
           "#19d3f3",
           "#FF6692",
           "#B6E880",
           "#FF97FF",
           "#FECB52"
          ],
          "font": {
           "color": "#2a3f5f"
          },
          "geo": {
           "bgcolor": "white",
           "lakecolor": "white",
           "landcolor": "#E5ECF6",
           "showlakes": true,
           "showland": true,
           "subunitcolor": "white"
          },
          "hoverlabel": {
           "align": "left"
          },
          "hovermode": "closest",
          "mapbox": {
           "style": "light"
          },
          "paper_bgcolor": "white",
          "plot_bgcolor": "#E5ECF6",
          "polar": {
           "angularaxis": {
            "gridcolor": "white",
            "linecolor": "white",
            "ticks": ""
           },
           "bgcolor": "#E5ECF6",
           "radialaxis": {
            "gridcolor": "white",
            "linecolor": "white",
            "ticks": ""
           }
          },
          "scene": {
           "xaxis": {
            "backgroundcolor": "#E5ECF6",
            "gridcolor": "white",
            "gridwidth": 2,
            "linecolor": "white",
            "showbackground": true,
            "ticks": "",
            "zerolinecolor": "white"
           },
           "yaxis": {
            "backgroundcolor": "#E5ECF6",
            "gridcolor": "white",
            "gridwidth": 2,
            "linecolor": "white",
            "showbackground": true,
            "ticks": "",
            "zerolinecolor": "white"
           },
           "zaxis": {
            "backgroundcolor": "#E5ECF6",
            "gridcolor": "white",
            "gridwidth": 2,
            "linecolor": "white",
            "showbackground": true,
            "ticks": "",
            "zerolinecolor": "white"
           }
          },
          "shapedefaults": {
           "line": {
            "color": "#2a3f5f"
           }
          },
          "ternary": {
           "aaxis": {
            "gridcolor": "white",
            "linecolor": "white",
            "ticks": ""
           },
           "baxis": {
            "gridcolor": "white",
            "linecolor": "white",
            "ticks": ""
           },
           "bgcolor": "#E5ECF6",
           "caxis": {
            "gridcolor": "white",
            "linecolor": "white",
            "ticks": ""
           }
          },
          "title": {
           "x": 0.05
          },
          "xaxis": {
           "automargin": true,
           "gridcolor": "white",
           "linecolor": "white",
           "ticks": "",
           "title": {
            "standoff": 15
           },
           "zerolinecolor": "white",
           "zerolinewidth": 2
          },
          "yaxis": {
           "automargin": true,
           "gridcolor": "white",
           "linecolor": "white",
           "ticks": "",
           "title": {
            "standoff": 15
           },
           "zerolinecolor": "white",
           "zerolinewidth": 2
          }
         }
        },
        "title": {
         "font": {
          "size": 16
         },
         "text": "Distribusi Fitur Baru Berdasarkan Status Attrition"
        },
        "width": 900,
        "xaxis": {
         "anchor": "y",
         "domain": [
          0,
          0.45
         ]
        },
        "xaxis2": {
         "anchor": "y2",
         "domain": [
          0.55,
          1
         ]
        },
        "xaxis3": {
         "anchor": "y3",
         "domain": [
          0,
          0.45
         ]
        },
        "xaxis4": {
         "anchor": "y4",
         "domain": [
          0.55,
          1
         ]
        },
        "xaxis5": {
         "anchor": "y5",
         "domain": [
          0,
          0.45
         ]
        },
        "xaxis6": {
         "anchor": "y6",
         "domain": [
          0.55,
          1
         ]
        },
        "yaxis": {
         "anchor": "x",
         "domain": [
          0.7777777777777778,
          1
         ]
        },
        "yaxis2": {
         "anchor": "x2",
         "domain": [
          0.7777777777777778,
          1
         ]
        },
        "yaxis3": {
         "anchor": "x3",
         "domain": [
          0.3888888888888889,
          0.6111111111111112
         ]
        },
        "yaxis4": {
         "anchor": "x4",
         "domain": [
          0.3888888888888889,
          0.6111111111111112
         ]
        },
        "yaxis5": {
         "anchor": "x5",
         "domain": [
          0,
          0.22222222222222224
         ]
        },
        "yaxis6": {
         "anchor": "x6",
         "domain": [
          0,
          0.22222222222222224
         ]
        }
       }
      }
     },
     "metadata": {},
     "output_type": "display_data"
    },
    {
     "name": "stdout",
     "output_type": "stream",
     "text": [
      "\n",
      "Feature dengan korelasi tertinggi dengan Attrition:\n",
      "RiskScore               0.230518\n",
      "Age                     0.159259\n",
      "MonthlyIncome           0.155460\n",
      "IncomePerYearWorked     0.146698\n",
      "YearsInCurrentRole      0.135631\n",
      "WorkLifeBalanceScore    0.132299\n",
      "YearsAtCompany          0.114314\n",
      "TravelIntensity         0.095501\n",
      "LevelRoleGap            0.080906\n",
      "DistanceFromHome        0.076096\n",
      "Name: Attrition, dtype: float64\n"
     ]
    }
   ],
   "source": [
    "def plot_feature_importance():\n",
    "    # Membuat fitur dummy/kategorikal (untuk korelasi)\n",
    "    df_corr = df_fe.copy()\n",
    "    \n",
    "    # One-hot encoding untuk fitur kategorikal\n",
    "    categorical_features = ['BusinessTravel', 'Department', 'EducationField', \n",
    "                            'Gender', 'JobRole', 'MaritalStatus', 'OverTime', 'SalaryBand']\n",
    "    \n",
    "    # Hitung korelasi dengan target\n",
    "    numeric_df = df_corr.select_dtypes(include=[np.number])\n",
    "    \n",
    "    # Hanya ambil kolom asli dan fitur baru\n",
    "    important_features = [\n",
    "        'Age', 'DailyRate', 'DistanceFromHome', 'MonthlyIncome', 'NumCompaniesWorked',\n",
    "        'YearsAtCompany', 'YearsInCurrentRole', 'YearsSinceLastPromotion',\n",
    "        'IncomePerYearWorked', 'WorkLifeBalanceScore', 'LevelRoleGap', 'PromotionRate',\n",
    "        'RetentionScore', 'SatisfactionConsistency', 'TravelIntensity', 'PerformancePayRatio',\n",
    "        'RiskScore', 'Attrition'\n",
    "    ]\n",
    "    \n",
    "    feature_correlations = numeric_df[important_features].corr()['Attrition'].sort_values(ascending=False)\n",
    "    \n",
    "    # Plot fitur baru dan korelasinya dengan Attrition\n",
    "    plt.figure(figsize=(14, 10))\n",
    "    \n",
    "    # Hanya ambil fitur baru dan fitur asli penting\n",
    "    feature_to_plot = feature_correlations.drop('Attrition').abs().sort_values(ascending=False)\n",
    "    \n",
    "    ax = sns.barplot(x=feature_to_plot.values, y=feature_to_plot.index, palette='Blues_r')\n",
    "    \n",
    "    styling_ax(ax, 'Korelasi Absolut Fitur dengan Attrition', \n",
    "               'Nilai Korelasi Absolut', 'Fitur')\n",
    "    \n",
    "    # Menambahkan nilai pada bar\n",
    "    for i, v in enumerate(feature_to_plot.values):\n",
    "        ax.text(v + 0.01, i, f'{v:.3f}', va='center')\n",
    "    \n",
    "    plt.tight_layout()\n",
    "    plt.savefig('visualisasi/feature_correlation.png', bbox_inches='tight', dpi=300)\n",
    "    plt.show()\n",
    "    \n",
    "    # Visualisasi distribusi dari fitur baru dengan plotly\n",
    "    new_features = [\n",
    "        'IncomePerYearWorked', 'WorkLifeBalanceScore', 'LevelRoleGap', \n",
    "        'PromotionRate', 'RetentionScore', 'RiskScore'\n",
    "    ]\n",
    "    \n",
    "    fig = make_subplots(rows=3, cols=2, subplot_titles=new_features)\n",
    "    \n",
    "    for i, feature in enumerate(new_features):\n",
    "        row = i // 2 + 1\n",
    "        col = i % 2 + 1\n",
    "        \n",
    "        # Histogram berdasarkan attrition\n",
    "        df_temp = df_fe.copy()\n",
    "        df_temp['Attrition'] = df_temp['Attrition'].map({0: 'Tetap', 1: 'Keluar'})\n",
    "        \n",
    "        for attrition_val, color in zip(['Tetap', 'Keluar'], ['royalblue', 'tomato']):\n",
    "            fig.add_trace(\n",
    "                go.Histogram(\n",
    "                    x=df_temp[df_temp['Attrition'] == attrition_val][feature],\n",
    "                    name=attrition_val,\n",
    "                    marker_color=color,\n",
    "                    opacity=0.7,\n",
    "                    showlegend=True if (i == 0) else False\n",
    "                ),\n",
    "                row=row, col=col\n",
    "            )\n",
    "    \n",
    "    # Update layout\n",
    "    fig.update_layout(\n",
    "        title_text=\"Distribusi Fitur Baru Berdasarkan Status Attrition\",\n",
    "        title_font_size=16,\n",
    "        height=800,\n",
    "        width=900,\n",
    "        barmode='overlay',\n",
    "        plot_bgcolor='white'\n",
    "    )\n",
    "    \n",
    "    save_plotly(fig, \"new_features_distribution\")\n",
    "    fig.show()\n",
    "    \n",
    "    return feature_correlations\n",
    "\n",
    "# Jalankan visualisasi feature engineering\n",
    "print(\"\\nVisualisasi hasil feature engineering...\")\n",
    "feature_correlations = plot_feature_importance()\n",
    "\n",
    "print(\"\\nFeature dengan korelasi tertinggi dengan Attrition:\")\n",
    "print(feature_correlations.drop('Attrition').abs().sort_values(ascending=False).head(10))\n",
    "\n"
   ]
  }
 ],
 "metadata": {
  "kernelspec": {
   "display_name": "belajarAI",
   "language": "python",
   "name": "python3"
  },
  "language_info": {
   "codemirror_mode": {
    "name": "ipython",
    "version": 3
   },
   "file_extension": ".py",
   "mimetype": "text/x-python",
   "name": "python",
   "nbconvert_exporter": "python",
   "pygments_lexer": "ipython3",
   "version": "3.12.8"
  }
 },
 "nbformat": 4,
 "nbformat_minor": 5
}
